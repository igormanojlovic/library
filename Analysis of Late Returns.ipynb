{
 "cells": [
  {
   "metadata": {},
   "cell_type": "markdown",
   "source": [
    "# Analysis Sample Instructions\n",
    "\n",
    "## Data Scientist\n",
    "\n",
    "### Data Science and Storytelling\n",
    "\n",
    "#### Overview\n",
    "\n",
    "**The Background Story**\n",
    "\n",
    "We are being hired by a local library with a problem: their books are being checked out and then returned late way too often. They would love to understand the cause of the issue and what they can learn from the data to proactively monitor the situation going forward.\n",
    "\n",
    "**The Mission**\n",
    "\n",
    "(Should you choose to accept)\n",
    "\n",
    "We'd like you to analyze the library data located [here](https://drive.google.com/drive/folders/12Rx8fqey6TSvBhg-CsgB0mDq6mQStSo5?usp=sharing) and help us build a model to predict the likelihood of a late return of any book at checkout time. Are there any factors you can find that are connected with late returns? What would you recommend the library do to mitigate the risks you find? How would you present your findings to them to get buy-in? The data has the following schema, with each table represented by one CSV file with the matching name.\n",
    "\n",
    "Good luck and happy analyzing!\n",
    "\n",
    "## Data Analyst\n",
    "\n",
    "### Requirements\n",
    "\n",
    "**Before Starting...**\n",
    "\n",
    "- Take a moment to think about how long you think this will take to get done.\n",
    "- Send an email to the address in the footer of this document with your estimated completion time.\n",
    "\n",
    "**Submitting Your Work**\n",
    "\n",
    "- Post your full source code/notebook to a public repo on GitHub or your preferred source control website.\n",
    "- Send an email to the address in the footer of this document with a link to the repository.\n",
    "\n",
    "**General**\n",
    "\n",
    "- Use R or Python for the analysis.\n",
    "- Include credits in your source for any resources pulled from the internet (if applicable).\n",
    "- Books are considered late if they are not returned within 28 days of checkout.\n",
    "- Please don’t share the data or include it in your repo.\n",
    "\n",
    "**Hints**\n",
    "\n",
    "- Ask questions to clarify as needed.\n",
    "- Answer the business questions posed above.\n",
    "- Ensure that your notebook is a good representation of your style.\n",
    "- Clearly document your thought process and any conclusions you reach.\n",
    "\n",
    "**Bonus**\n",
    "\n",
    "- Do something fun or creative with your analysis!\n",
    "- What other stories can you tell with this data?\n",
    "- Compare multiple models and showcase their strengths and weaknesses.\n"
   ],
   "id": "affb9ecae01e7e5a"
  },
  {
   "metadata": {},
   "cell_type": "markdown",
   "source": [
    "# Proposed Solution\n",
    "\n",
    "This section provides the proposed solution to the presented problem. \n",
    "\n",
    "IMPORTANT: Please export the folder with CSV files to the parent directory."
   ],
   "id": "83e1c97c837e8852"
  },
  {
   "metadata": {},
   "cell_type": "markdown",
   "source": [
    "## Setup\n",
    "\n",
    "Installing and importing necessary packages."
   ],
   "id": "87dc63dd87c69d6c"
  },
  {
   "metadata": {
    "ExecuteTime": {
     "end_time": "2024-09-04T08:30:35.219148Z",
     "start_time": "2024-09-04T08:30:29.166955Z"
    }
   },
   "cell_type": "code",
   "source": "!pip install numpy pandas plotly scikit-learn xgboost kneed",
   "id": "3d9b21908122684c",
   "outputs": [
    {
     "name": "stdout",
     "output_type": "stream",
     "text": [
      "Requirement already satisfied: numpy in c:\\users\\igorm\\documents\\github\\library\\.venv\\lib\\site-packages (2.1.0)\n",
      "Requirement already satisfied: pandas in c:\\users\\igorm\\documents\\github\\library\\.venv\\lib\\site-packages (2.2.2)\n",
      "Requirement already satisfied: plotly in c:\\users\\igorm\\documents\\github\\library\\.venv\\lib\\site-packages (5.23.0)\n",
      "Requirement already satisfied: scikit-learn in c:\\users\\igorm\\documents\\github\\library\\.venv\\lib\\site-packages (1.5.1)\n",
      "Requirement already satisfied: xgboost in c:\\users\\igorm\\documents\\github\\library\\.venv\\lib\\site-packages (2.1.1)\n",
      "Requirement already satisfied: kneed in c:\\users\\igorm\\documents\\github\\library\\.venv\\lib\\site-packages (0.8.5)\n",
      "Requirement already satisfied: python-dateutil>=2.8.2 in c:\\users\\igorm\\documents\\github\\library\\.venv\\lib\\site-packages (from pandas) (2.9.0.post0)\n",
      "Requirement already satisfied: pytz>=2020.1 in c:\\users\\igorm\\documents\\github\\library\\.venv\\lib\\site-packages (from pandas) (2024.1)\n",
      "Requirement already satisfied: tzdata>=2022.7 in c:\\users\\igorm\\documents\\github\\library\\.venv\\lib\\site-packages (from pandas) (2024.1)\n",
      "Requirement already satisfied: tenacity>=6.2.0 in c:\\users\\igorm\\documents\\github\\library\\.venv\\lib\\site-packages (from plotly) (9.0.0)\n",
      "Requirement already satisfied: packaging in c:\\users\\igorm\\documents\\github\\library\\.venv\\lib\\site-packages (from plotly) (24.1)\n",
      "Requirement already satisfied: scipy>=1.6.0 in c:\\users\\igorm\\documents\\github\\library\\.venv\\lib\\site-packages (from scikit-learn) (1.14.1)\n",
      "Requirement already satisfied: joblib>=1.2.0 in c:\\users\\igorm\\documents\\github\\library\\.venv\\lib\\site-packages (from scikit-learn) (1.4.2)\n",
      "Requirement already satisfied: threadpoolctl>=3.1.0 in c:\\users\\igorm\\documents\\github\\library\\.venv\\lib\\site-packages (from scikit-learn) (3.5.0)\n",
      "Requirement already satisfied: six>=1.5 in c:\\users\\igorm\\documents\\github\\library\\.venv\\lib\\site-packages (from python-dateutil>=2.8.2->pandas) (1.16.0)\n"
     ]
    },
    {
     "name": "stderr",
     "output_type": "stream",
     "text": [
      "\n",
      "[notice] A new release of pip is available: 23.2.1 -> 24.2\n",
      "[notice] To update, run: python.exe -m pip install --upgrade pip\n"
     ]
    }
   ],
   "execution_count": 52
  },
  {
   "metadata": {
    "ExecuteTime": {
     "end_time": "2024-09-04T08:30:35.376Z",
     "start_time": "2024-09-04T08:30:35.343370Z"
    }
   },
   "cell_type": "code",
   "source": [
    "import ast\n",
    "import numpy as np\n",
    "import pandas as pd\n",
    "import plotly.express as px\n",
    "\n",
    "from datetime import datetime\n",
    "from itertools import chain\n",
    "from kneed import KneeLocator\n",
    "from sklearn.ensemble import RandomForestClassifier\n",
    "from sklearn.linear_model import LogisticRegression\n",
    "from sklearn.model_selection import cross_validate, train_test_split\n",
    "from sklearn.preprocessing import MinMaxScaler\n",
    "from sklearn.svm import SVC\n",
    "from sklearn.tree import DecisionTreeClassifier\n",
    "from xgboost import XGBClassifier"
   ],
   "id": "fd87a91d671f274b",
   "outputs": [],
   "execution_count": 53
  },
  {
   "metadata": {
    "ExecuteTime": {
     "end_time": "2024-09-04T08:30:35.518861Z",
     "start_time": "2024-09-04T08:30:35.505867Z"
    }
   },
   "cell_type": "code",
   "source": "max_checkout_days = 28",
   "id": "9859fb3f87924bd1",
   "outputs": [],
   "execution_count": 54
  },
  {
   "metadata": {},
   "cell_type": "markdown",
   "source": [
    "## Data Exploration\n",
    "\n",
    "Loading data from CSVs to pandas data frames."
   ],
   "id": "2c36992f1d0f801"
  },
  {
   "metadata": {},
   "cell_type": "markdown",
   "source": "### Books\n",
   "id": "e1fd37402cd75bb3"
  },
  {
   "metadata": {
    "ExecuteTime": {
     "end_time": "2024-09-04T08:30:35.785018Z",
     "start_time": "2024-09-04T08:30:35.666436Z"
    }
   },
   "cell_type": "code",
   "source": [
    "df_books = pd.read_csv('Data Challenge/books.csv')\n",
    "df_books"
   ],
   "id": "9ff84d63029aeb69",
   "outputs": [
    {
     "data": {
      "text/plain": [
       "               id                                              title  \\\n",
       "0    hVFwAAAAQBAJ                              Ogilvy on Advertising   \n",
       "1    bRY9AAAAYAAJ  Foreign Publications for Advertising American ...   \n",
       "2    ZapAAAAAIAAJ                Advertising and the Public Interest   \n",
       "3    A-HthMfF5moC                             Profitable Advertising   \n",
       "4    4Z9JAAAAMAAJ  Report of the Federal Trade Commission on Dist...   \n",
       "..            ...                                                ...   \n",
       "235  W58mAQAAIAAJ  Political and Commercial Control of the Minera...   \n",
       "236  frzDCQAAQBAJ                      Water Resources Management IV   \n",
       "237  mQTxAAAAMAAJ  Department Publications - State of California,...   \n",
       "238  lMkmAQAAMAAJ  Technical Report - South Carolina Marine Resou...   \n",
       "239  jPs8AAAAYAAJ    Water Resources Activities in the United States   \n",
       "\n",
       "                                               authors  publisher  \\\n",
       "0                                     ['David Ogilvy']    Vintage   \n",
       "1    ['United States. Bureau of Foreign and Domesti...        NaN   \n",
       "2                  ['John A. Howard', 'James Hulbert']        NaN   \n",
       "3                                                  NaN        NaN   \n",
       "4          ['United States. Federal Trade Commission']        NaN   \n",
       "..                                                 ...        ...   \n",
       "235           ['United States. Dept. of the Interior']        NaN   \n",
       "236                    ['C.A. Brebbia', 'A. Kungolos']  WIT Press   \n",
       "237           ['California. Dept. of Water Resources']        NaN   \n",
       "238      ['South Carolina. Marine Resources Division']        NaN   \n",
       "239  ['U.S. Congress. Senate. Select Committee on N...        NaN   \n",
       "\n",
       "    publishedDate                       categories      price pages  \n",
       "0      2013-09-11               ['Social Science']      72.99   320  \n",
       "1            1913                  ['Advertising']     469.99   654  \n",
       "2            1973                  ['Advertising']      372.0   784  \n",
       "3            1894                  ['Advertising']  240.99USD   559  \n",
       "4            1944      ['Government publications']      539.0   757  \n",
       "..            ...                              ...        ...   ...  \n",
       "235          1918                              NaN      153.0   503  \n",
       "236    2007-05-08                       ['Nature']      563.5   780  \n",
       "237          1995                    ['Hydrology']     216.5|   748  \n",
       "238          1979             ['Marine resources']       11.5   236  \n",
       "239          1960  ['Water resources development']       94.5   544  \n",
       "\n",
       "[240 rows x 8 columns]"
      ],
      "text/html": [
       "<div>\n",
       "<style scoped>\n",
       "    .dataframe tbody tr th:only-of-type {\n",
       "        vertical-align: middle;\n",
       "    }\n",
       "\n",
       "    .dataframe tbody tr th {\n",
       "        vertical-align: top;\n",
       "    }\n",
       "\n",
       "    .dataframe thead th {\n",
       "        text-align: right;\n",
       "    }\n",
       "</style>\n",
       "<table border=\"1\" class=\"dataframe\">\n",
       "  <thead>\n",
       "    <tr style=\"text-align: right;\">\n",
       "      <th></th>\n",
       "      <th>id</th>\n",
       "      <th>title</th>\n",
       "      <th>authors</th>\n",
       "      <th>publisher</th>\n",
       "      <th>publishedDate</th>\n",
       "      <th>categories</th>\n",
       "      <th>price</th>\n",
       "      <th>pages</th>\n",
       "    </tr>\n",
       "  </thead>\n",
       "  <tbody>\n",
       "    <tr>\n",
       "      <th>0</th>\n",
       "      <td>hVFwAAAAQBAJ</td>\n",
       "      <td>Ogilvy on Advertising</td>\n",
       "      <td>['David Ogilvy']</td>\n",
       "      <td>Vintage</td>\n",
       "      <td>2013-09-11</td>\n",
       "      <td>['Social Science']</td>\n",
       "      <td>72.99</td>\n",
       "      <td>320</td>\n",
       "    </tr>\n",
       "    <tr>\n",
       "      <th>1</th>\n",
       "      <td>bRY9AAAAYAAJ</td>\n",
       "      <td>Foreign Publications for Advertising American ...</td>\n",
       "      <td>['United States. Bureau of Foreign and Domesti...</td>\n",
       "      <td>NaN</td>\n",
       "      <td>1913</td>\n",
       "      <td>['Advertising']</td>\n",
       "      <td>469.99</td>\n",
       "      <td>654</td>\n",
       "    </tr>\n",
       "    <tr>\n",
       "      <th>2</th>\n",
       "      <td>ZapAAAAAIAAJ</td>\n",
       "      <td>Advertising and the Public Interest</td>\n",
       "      <td>['John A. Howard', 'James Hulbert']</td>\n",
       "      <td>NaN</td>\n",
       "      <td>1973</td>\n",
       "      <td>['Advertising']</td>\n",
       "      <td>372.0</td>\n",
       "      <td>784</td>\n",
       "    </tr>\n",
       "    <tr>\n",
       "      <th>3</th>\n",
       "      <td>A-HthMfF5moC</td>\n",
       "      <td>Profitable Advertising</td>\n",
       "      <td>NaN</td>\n",
       "      <td>NaN</td>\n",
       "      <td>1894</td>\n",
       "      <td>['Advertising']</td>\n",
       "      <td>240.99USD</td>\n",
       "      <td>559</td>\n",
       "    </tr>\n",
       "    <tr>\n",
       "      <th>4</th>\n",
       "      <td>4Z9JAAAAMAAJ</td>\n",
       "      <td>Report of the Federal Trade Commission on Dist...</td>\n",
       "      <td>['United States. Federal Trade Commission']</td>\n",
       "      <td>NaN</td>\n",
       "      <td>1944</td>\n",
       "      <td>['Government publications']</td>\n",
       "      <td>539.0</td>\n",
       "      <td>757</td>\n",
       "    </tr>\n",
       "    <tr>\n",
       "      <th>...</th>\n",
       "      <td>...</td>\n",
       "      <td>...</td>\n",
       "      <td>...</td>\n",
       "      <td>...</td>\n",
       "      <td>...</td>\n",
       "      <td>...</td>\n",
       "      <td>...</td>\n",
       "      <td>...</td>\n",
       "    </tr>\n",
       "    <tr>\n",
       "      <th>235</th>\n",
       "      <td>W58mAQAAIAAJ</td>\n",
       "      <td>Political and Commercial Control of the Minera...</td>\n",
       "      <td>['United States. Dept. of the Interior']</td>\n",
       "      <td>NaN</td>\n",
       "      <td>1918</td>\n",
       "      <td>NaN</td>\n",
       "      <td>153.0</td>\n",
       "      <td>503</td>\n",
       "    </tr>\n",
       "    <tr>\n",
       "      <th>236</th>\n",
       "      <td>frzDCQAAQBAJ</td>\n",
       "      <td>Water Resources Management IV</td>\n",
       "      <td>['C.A. Brebbia', 'A. Kungolos']</td>\n",
       "      <td>WIT Press</td>\n",
       "      <td>2007-05-08</td>\n",
       "      <td>['Nature']</td>\n",
       "      <td>563.5</td>\n",
       "      <td>780</td>\n",
       "    </tr>\n",
       "    <tr>\n",
       "      <th>237</th>\n",
       "      <td>mQTxAAAAMAAJ</td>\n",
       "      <td>Department Publications - State of California,...</td>\n",
       "      <td>['California. Dept. of Water Resources']</td>\n",
       "      <td>NaN</td>\n",
       "      <td>1995</td>\n",
       "      <td>['Hydrology']</td>\n",
       "      <td>216.5|</td>\n",
       "      <td>748</td>\n",
       "    </tr>\n",
       "    <tr>\n",
       "      <th>238</th>\n",
       "      <td>lMkmAQAAMAAJ</td>\n",
       "      <td>Technical Report - South Carolina Marine Resou...</td>\n",
       "      <td>['South Carolina. Marine Resources Division']</td>\n",
       "      <td>NaN</td>\n",
       "      <td>1979</td>\n",
       "      <td>['Marine resources']</td>\n",
       "      <td>11.5</td>\n",
       "      <td>236</td>\n",
       "    </tr>\n",
       "    <tr>\n",
       "      <th>239</th>\n",
       "      <td>jPs8AAAAYAAJ</td>\n",
       "      <td>Water Resources Activities in the United States</td>\n",
       "      <td>['U.S. Congress. Senate. Select Committee on N...</td>\n",
       "      <td>NaN</td>\n",
       "      <td>1960</td>\n",
       "      <td>['Water resources development']</td>\n",
       "      <td>94.5</td>\n",
       "      <td>544</td>\n",
       "    </tr>\n",
       "  </tbody>\n",
       "</table>\n",
       "<p>240 rows × 8 columns</p>\n",
       "</div>"
      ]
     },
     "execution_count": 55,
     "metadata": {},
     "output_type": "execute_result"
    }
   ],
   "execution_count": 55
  },
  {
   "metadata": {},
   "cell_type": "markdown",
   "source": "### Customers",
   "id": "f3ec8a4310633bc8"
  },
  {
   "metadata": {
    "ExecuteTime": {
     "end_time": "2024-09-04T08:30:36.072641Z",
     "start_time": "2024-09-04T08:30:36.026373Z"
    }
   },
   "cell_type": "code",
   "source": [
    "df_customers = pd.read_csv('Data Challenge/customers.csv')\n",
    "df_customers"
   ],
   "id": "4249d14246ea9d75",
   "outputs": [
    {
     "data": {
      "text/plain": [
       "                                    id               name  \\\n",
       "0     df83ec2d0d409395c0d8c2690cfa8b67  Cynthia Barnfield   \n",
       "1     6aec7ab2ea0d67161dac39e5dcabd857    Elizabeth Smith   \n",
       "2     0c54340672f510fdb9d2f30595c1ab53      Richard Pabla   \n",
       "3     f0d9ce833ddc1f73c1e0b55bdebf012e      Charles Baker   \n",
       "4     3720379163f6b46944db6c98c0485bfd       Ronald Lydon   \n",
       "...                                ...                ...   \n",
       "1995  ae55f0b71b8b8e91945cd9a91b6e45ee        JOE Roberts   \n",
       "1996  07fe407cc889ea21a8bdc04c305960b1   Matthew Coniglio   \n",
       "1997  9a2194fcd4f0f326f0ca334450e16a93         Earl Grier   \n",
       "1998  01a598a05c48fdd18461d6411f51a109   Rogelio Richmann   \n",
       "1999  2d1d65505400e568a045c828c9ebe365         Paul Groat   \n",
       "\n",
       "                street_address       city       state   zipcode  birth_date  \\\n",
       "0              44 NE Meikle Pl  Portland       Oregon   97213.0  2009-09-10   \n",
       "1          7511 SE Harrison St   Portland      Oregon   97215.0  1956-12-15   \n",
       "2              1404 SE Pine St   Portland      Oregon   97214.0  1960-12-18   \n",
       "3         12271 N Westshore Dr   Portland      Oregon   97217.0  2105-07-19   \n",
       "4          5321 NE Skyport Way        NaN      Oregon   97218.0  1961-03-14   \n",
       "...                        ...        ...         ...       ...         ...   \n",
       "1995  7331 NE Killingsworth St   Portland         NaN   97218.0  1955-05-23   \n",
       "1996     1908 NW Harborside Dr  Vancouver  washington   98660.0  1975-11-10   \n",
       "1997           22 NE graham ST   Portland      OREGON   97212.0  2007-10-02   \n",
       "1998       7000 NE Airport Way   Portland      OREGON   97218.0  2001-02-19   \n",
       "1999           8993 SE 78th Pl   Portland      Oregon   97206.0         NaN   \n",
       "\n",
       "       gender        education            occupation  \n",
       "0      female      High School                   NaN  \n",
       "1      female          College           Blue Collar  \n",
       "2        male          College    Education & Health  \n",
       "3        male  Graduate Degree                 SALES  \n",
       "4        male  Graduate Degree           Blue Collar  \n",
       "...       ...              ...                   ...  \n",
       "1995     male           Others    Business & Finance  \n",
       "1996     male           Others  Business &  Finance   \n",
       "1997     male           Others    Education & Health  \n",
       "1998     male          College    Business & Finance  \n",
       "1999     male           Others                 Sales  \n",
       "\n",
       "[2000 rows x 10 columns]"
      ],
      "text/html": [
       "<div>\n",
       "<style scoped>\n",
       "    .dataframe tbody tr th:only-of-type {\n",
       "        vertical-align: middle;\n",
       "    }\n",
       "\n",
       "    .dataframe tbody tr th {\n",
       "        vertical-align: top;\n",
       "    }\n",
       "\n",
       "    .dataframe thead th {\n",
       "        text-align: right;\n",
       "    }\n",
       "</style>\n",
       "<table border=\"1\" class=\"dataframe\">\n",
       "  <thead>\n",
       "    <tr style=\"text-align: right;\">\n",
       "      <th></th>\n",
       "      <th>id</th>\n",
       "      <th>name</th>\n",
       "      <th>street_address</th>\n",
       "      <th>city</th>\n",
       "      <th>state</th>\n",
       "      <th>zipcode</th>\n",
       "      <th>birth_date</th>\n",
       "      <th>gender</th>\n",
       "      <th>education</th>\n",
       "      <th>occupation</th>\n",
       "    </tr>\n",
       "  </thead>\n",
       "  <tbody>\n",
       "    <tr>\n",
       "      <th>0</th>\n",
       "      <td>df83ec2d0d409395c0d8c2690cfa8b67</td>\n",
       "      <td>Cynthia Barnfield</td>\n",
       "      <td>44 NE Meikle Pl</td>\n",
       "      <td>Portland</td>\n",
       "      <td>Oregon</td>\n",
       "      <td>97213.0</td>\n",
       "      <td>2009-09-10</td>\n",
       "      <td>female</td>\n",
       "      <td>High School</td>\n",
       "      <td>NaN</td>\n",
       "    </tr>\n",
       "    <tr>\n",
       "      <th>1</th>\n",
       "      <td>6aec7ab2ea0d67161dac39e5dcabd857</td>\n",
       "      <td>Elizabeth Smith</td>\n",
       "      <td>7511 SE Harrison St</td>\n",
       "      <td>Portland</td>\n",
       "      <td>Oregon</td>\n",
       "      <td>97215.0</td>\n",
       "      <td>1956-12-15</td>\n",
       "      <td>female</td>\n",
       "      <td>College</td>\n",
       "      <td>Blue Collar</td>\n",
       "    </tr>\n",
       "    <tr>\n",
       "      <th>2</th>\n",
       "      <td>0c54340672f510fdb9d2f30595c1ab53</td>\n",
       "      <td>Richard Pabla</td>\n",
       "      <td>1404 SE Pine St</td>\n",
       "      <td>Portland</td>\n",
       "      <td>Oregon</td>\n",
       "      <td>97214.0</td>\n",
       "      <td>1960-12-18</td>\n",
       "      <td>male</td>\n",
       "      <td>College</td>\n",
       "      <td>Education &amp; Health</td>\n",
       "    </tr>\n",
       "    <tr>\n",
       "      <th>3</th>\n",
       "      <td>f0d9ce833ddc1f73c1e0b55bdebf012e</td>\n",
       "      <td>Charles Baker</td>\n",
       "      <td>12271 N Westshore Dr</td>\n",
       "      <td>Portland</td>\n",
       "      <td>Oregon</td>\n",
       "      <td>97217.0</td>\n",
       "      <td>2105-07-19</td>\n",
       "      <td>male</td>\n",
       "      <td>Graduate Degree</td>\n",
       "      <td>SALES</td>\n",
       "    </tr>\n",
       "    <tr>\n",
       "      <th>4</th>\n",
       "      <td>3720379163f6b46944db6c98c0485bfd</td>\n",
       "      <td>Ronald Lydon</td>\n",
       "      <td>5321 NE Skyport Way</td>\n",
       "      <td>NaN</td>\n",
       "      <td>Oregon</td>\n",
       "      <td>97218.0</td>\n",
       "      <td>1961-03-14</td>\n",
       "      <td>male</td>\n",
       "      <td>Graduate Degree</td>\n",
       "      <td>Blue Collar</td>\n",
       "    </tr>\n",
       "    <tr>\n",
       "      <th>...</th>\n",
       "      <td>...</td>\n",
       "      <td>...</td>\n",
       "      <td>...</td>\n",
       "      <td>...</td>\n",
       "      <td>...</td>\n",
       "      <td>...</td>\n",
       "      <td>...</td>\n",
       "      <td>...</td>\n",
       "      <td>...</td>\n",
       "      <td>...</td>\n",
       "    </tr>\n",
       "    <tr>\n",
       "      <th>1995</th>\n",
       "      <td>ae55f0b71b8b8e91945cd9a91b6e45ee</td>\n",
       "      <td>JOE Roberts</td>\n",
       "      <td>7331 NE Killingsworth St</td>\n",
       "      <td>Portland</td>\n",
       "      <td>NaN</td>\n",
       "      <td>97218.0</td>\n",
       "      <td>1955-05-23</td>\n",
       "      <td>male</td>\n",
       "      <td>Others</td>\n",
       "      <td>Business &amp; Finance</td>\n",
       "    </tr>\n",
       "    <tr>\n",
       "      <th>1996</th>\n",
       "      <td>07fe407cc889ea21a8bdc04c305960b1</td>\n",
       "      <td>Matthew Coniglio</td>\n",
       "      <td>1908 NW Harborside Dr</td>\n",
       "      <td>Vancouver</td>\n",
       "      <td>washington</td>\n",
       "      <td>98660.0</td>\n",
       "      <td>1975-11-10</td>\n",
       "      <td>male</td>\n",
       "      <td>Others</td>\n",
       "      <td>Business &amp;  Finance</td>\n",
       "    </tr>\n",
       "    <tr>\n",
       "      <th>1997</th>\n",
       "      <td>9a2194fcd4f0f326f0ca334450e16a93</td>\n",
       "      <td>Earl Grier</td>\n",
       "      <td>22 NE graham ST</td>\n",
       "      <td>Portland</td>\n",
       "      <td>OREGON</td>\n",
       "      <td>97212.0</td>\n",
       "      <td>2007-10-02</td>\n",
       "      <td>male</td>\n",
       "      <td>Others</td>\n",
       "      <td>Education &amp; Health</td>\n",
       "    </tr>\n",
       "    <tr>\n",
       "      <th>1998</th>\n",
       "      <td>01a598a05c48fdd18461d6411f51a109</td>\n",
       "      <td>Rogelio Richmann</td>\n",
       "      <td>7000 NE Airport Way</td>\n",
       "      <td>Portland</td>\n",
       "      <td>OREGON</td>\n",
       "      <td>97218.0</td>\n",
       "      <td>2001-02-19</td>\n",
       "      <td>male</td>\n",
       "      <td>College</td>\n",
       "      <td>Business &amp; Finance</td>\n",
       "    </tr>\n",
       "    <tr>\n",
       "      <th>1999</th>\n",
       "      <td>2d1d65505400e568a045c828c9ebe365</td>\n",
       "      <td>Paul Groat</td>\n",
       "      <td>8993 SE 78th Pl</td>\n",
       "      <td>Portland</td>\n",
       "      <td>Oregon</td>\n",
       "      <td>97206.0</td>\n",
       "      <td>NaN</td>\n",
       "      <td>male</td>\n",
       "      <td>Others</td>\n",
       "      <td>Sales</td>\n",
       "    </tr>\n",
       "  </tbody>\n",
       "</table>\n",
       "<p>2000 rows × 10 columns</p>\n",
       "</div>"
      ]
     },
     "execution_count": 56,
     "metadata": {},
     "output_type": "execute_result"
    }
   ],
   "execution_count": 56
  },
  {
   "metadata": {},
   "cell_type": "markdown",
   "source": "### Libraries\n",
   "id": "7048540e8170b9c4"
  },
  {
   "metadata": {
    "ExecuteTime": {
     "end_time": "2024-09-04T08:30:36.333870Z",
     "start_time": "2024-09-04T08:30:36.297375Z"
    }
   },
   "cell_type": "code",
   "source": [
    "df_libraries = pd.read_csv('Data Challenge/libraries.csv')\n",
    "df_libraries"
   ],
   "id": "dfefe1c5b70bde2e",
   "outputs": [
    {
     "data": {
      "text/plain": [
       "                     id                                             name  \\\n",
       "0   226-222@5xc-kc4-fpv        Multnomah   County   Library Capitol Hill   \n",
       "1   23v-222@5xc-jv7-v4v               Multnomah County Library Northwest   \n",
       "2   222-222@5xc-jvf-skf                Multnomah County Library St Johns   \n",
       "3   227-222@5xc-jww-btv            Multnomah   County Library Hillsdale    \n",
       "4   22d-222@5xc-kcy-8sq   Multnomah County  Library   Sellwood  Moreland   \n",
       "5   223-222@5xc-jxr-tgk               MULTNOMAH County Library Woodstock   \n",
       "6   zzw-224@5xc-jwv-2rk                Multnomah  County Library Central   \n",
       "7   zzw-223@5xc-jv7-ct9          Friends OF the multnomah COUNTY Library   \n",
       "8   226-222@5xc-jxj-7yv                 Multnomah County Library Belmont   \n",
       "9   zzw-222@5xc-knn-c5z                 Multnomah County Library Holgate   \n",
       "10  222-222@5xc-kkw-bzf                 MULTNOMAH County Library MIDLAND   \n",
       "11  228-222@5xc-jtz-hwk                        Multnomah  County Library   \n",
       "12  225-222@5xc-jtz-hkf                         MULTNOMAH County Library   \n",
       "13  222-222@5xc-jv5-nt9       Multnomah  County  Library  North Portland   \n",
       "14  zzw-222@5xc-jv4-789                 Multnomah  County Library Albina   \n",
       "15  222-222@5xc-jxp-rp9     Multnomah  County  Library Hollywood Library   \n",
       "16  22c-222@5xc-jwj-pvz                  MULTNOMAH County Library KENTON   \n",
       "17  224-222@5xc-jw2-t9z         Multnomah COUNTY library Gregory Heights   \n",
       "\n",
       "                 street_address       city region postal_code  \n",
       "0          10723 SW capitol Hwy  Portland     OR        97219  \n",
       "1           2300 NW Thurman  St        NaN     or         NaN  \n",
       "2         7510 N Charleston Ave   portland     or       97203  \n",
       "3           1525 SW Sunset blvd  Portland      or      -97239  \n",
       "4              7860 SE 13th AVE   Portland     OR       97202  \n",
       "5              6008 se 49TH AVE  Portland      OR      -97206  \n",
       "6           801  SW 10th  Ave     Portland    NaN      97205   \n",
       "7              522  SW 5th  Ave        NaN     OR       97204  \n",
       "8   1038 SE CESAR E CHAVEZ blvd   Portland     OR       97214  \n",
       "9         7905  SE Holgate Blvd   Portland     OR         NaN  \n",
       "10             805 SE 122nd Ave   PORTLAND     or      #97233  \n",
       "11        205 NE   Russell  St         NaN    NaN      97212-  \n",
       "12              216 ne Knott st        NaN     OR         NaN  \n",
       "13   512    N Killingsworth St   Portland     OR       #97217  \n",
       "14             3605 NE 15th Ave   Portland     OR      97212   \n",
       "15     4040 NE   Tillamook   St  Portland      OR      97212_  \n",
       "16            8226 N DENVER Ave   portland     OR      #97217  \n",
       "17           7921 NE sandy BLVD   Portland     OR      _97213  "
      ],
      "text/html": [
       "<div>\n",
       "<style scoped>\n",
       "    .dataframe tbody tr th:only-of-type {\n",
       "        vertical-align: middle;\n",
       "    }\n",
       "\n",
       "    .dataframe tbody tr th {\n",
       "        vertical-align: top;\n",
       "    }\n",
       "\n",
       "    .dataframe thead th {\n",
       "        text-align: right;\n",
       "    }\n",
       "</style>\n",
       "<table border=\"1\" class=\"dataframe\">\n",
       "  <thead>\n",
       "    <tr style=\"text-align: right;\">\n",
       "      <th></th>\n",
       "      <th>id</th>\n",
       "      <th>name</th>\n",
       "      <th>street_address</th>\n",
       "      <th>city</th>\n",
       "      <th>region</th>\n",
       "      <th>postal_code</th>\n",
       "    </tr>\n",
       "  </thead>\n",
       "  <tbody>\n",
       "    <tr>\n",
       "      <th>0</th>\n",
       "      <td>226-222@5xc-kc4-fpv</td>\n",
       "      <td>Multnomah   County   Library Capitol Hill</td>\n",
       "      <td>10723 SW capitol Hwy</td>\n",
       "      <td>Portland</td>\n",
       "      <td>OR</td>\n",
       "      <td>97219</td>\n",
       "    </tr>\n",
       "    <tr>\n",
       "      <th>1</th>\n",
       "      <td>23v-222@5xc-jv7-v4v</td>\n",
       "      <td>Multnomah County Library Northwest</td>\n",
       "      <td>2300 NW Thurman  St</td>\n",
       "      <td>NaN</td>\n",
       "      <td>or</td>\n",
       "      <td>NaN</td>\n",
       "    </tr>\n",
       "    <tr>\n",
       "      <th>2</th>\n",
       "      <td>222-222@5xc-jvf-skf</td>\n",
       "      <td>Multnomah County Library St Johns</td>\n",
       "      <td>7510 N Charleston Ave</td>\n",
       "      <td>portland</td>\n",
       "      <td>or</td>\n",
       "      <td>97203</td>\n",
       "    </tr>\n",
       "    <tr>\n",
       "      <th>3</th>\n",
       "      <td>227-222@5xc-jww-btv</td>\n",
       "      <td>Multnomah   County Library Hillsdale</td>\n",
       "      <td>1525 SW Sunset blvd</td>\n",
       "      <td>Portland</td>\n",
       "      <td>or</td>\n",
       "      <td>-97239</td>\n",
       "    </tr>\n",
       "    <tr>\n",
       "      <th>4</th>\n",
       "      <td>22d-222@5xc-kcy-8sq</td>\n",
       "      <td>Multnomah County  Library   Sellwood  Moreland</td>\n",
       "      <td>7860 SE 13th AVE</td>\n",
       "      <td>Portland</td>\n",
       "      <td>OR</td>\n",
       "      <td>97202</td>\n",
       "    </tr>\n",
       "    <tr>\n",
       "      <th>5</th>\n",
       "      <td>223-222@5xc-jxr-tgk</td>\n",
       "      <td>MULTNOMAH County Library Woodstock</td>\n",
       "      <td>6008 se 49TH AVE</td>\n",
       "      <td>Portland</td>\n",
       "      <td>OR</td>\n",
       "      <td>-97206</td>\n",
       "    </tr>\n",
       "    <tr>\n",
       "      <th>6</th>\n",
       "      <td>zzw-224@5xc-jwv-2rk</td>\n",
       "      <td>Multnomah  County Library Central</td>\n",
       "      <td>801  SW 10th  Ave</td>\n",
       "      <td>Portland</td>\n",
       "      <td>NaN</td>\n",
       "      <td>97205</td>\n",
       "    </tr>\n",
       "    <tr>\n",
       "      <th>7</th>\n",
       "      <td>zzw-223@5xc-jv7-ct9</td>\n",
       "      <td>Friends OF the multnomah COUNTY Library</td>\n",
       "      <td>522  SW 5th  Ave</td>\n",
       "      <td>NaN</td>\n",
       "      <td>OR</td>\n",
       "      <td>97204</td>\n",
       "    </tr>\n",
       "    <tr>\n",
       "      <th>8</th>\n",
       "      <td>226-222@5xc-jxj-7yv</td>\n",
       "      <td>Multnomah County Library Belmont</td>\n",
       "      <td>1038 SE CESAR E CHAVEZ blvd</td>\n",
       "      <td>Portland</td>\n",
       "      <td>OR</td>\n",
       "      <td>97214</td>\n",
       "    </tr>\n",
       "    <tr>\n",
       "      <th>9</th>\n",
       "      <td>zzw-222@5xc-knn-c5z</td>\n",
       "      <td>Multnomah County Library Holgate</td>\n",
       "      <td>7905  SE Holgate Blvd</td>\n",
       "      <td>Portland</td>\n",
       "      <td>OR</td>\n",
       "      <td>NaN</td>\n",
       "    </tr>\n",
       "    <tr>\n",
       "      <th>10</th>\n",
       "      <td>222-222@5xc-kkw-bzf</td>\n",
       "      <td>MULTNOMAH County Library MIDLAND</td>\n",
       "      <td>805 SE 122nd Ave</td>\n",
       "      <td>PORTLAND</td>\n",
       "      <td>or</td>\n",
       "      <td>#97233</td>\n",
       "    </tr>\n",
       "    <tr>\n",
       "      <th>11</th>\n",
       "      <td>228-222@5xc-jtz-hwk</td>\n",
       "      <td>Multnomah  County Library</td>\n",
       "      <td>205 NE   Russell  St</td>\n",
       "      <td>NaN</td>\n",
       "      <td>NaN</td>\n",
       "      <td>97212-</td>\n",
       "    </tr>\n",
       "    <tr>\n",
       "      <th>12</th>\n",
       "      <td>225-222@5xc-jtz-hkf</td>\n",
       "      <td>MULTNOMAH County Library</td>\n",
       "      <td>216 ne Knott st</td>\n",
       "      <td>NaN</td>\n",
       "      <td>OR</td>\n",
       "      <td>NaN</td>\n",
       "    </tr>\n",
       "    <tr>\n",
       "      <th>13</th>\n",
       "      <td>222-222@5xc-jv5-nt9</td>\n",
       "      <td>Multnomah  County  Library  North Portland</td>\n",
       "      <td>512    N Killingsworth St</td>\n",
       "      <td>Portland</td>\n",
       "      <td>OR</td>\n",
       "      <td>#97217</td>\n",
       "    </tr>\n",
       "    <tr>\n",
       "      <th>14</th>\n",
       "      <td>zzw-222@5xc-jv4-789</td>\n",
       "      <td>Multnomah  County Library Albina</td>\n",
       "      <td>3605 NE 15th Ave</td>\n",
       "      <td>Portland</td>\n",
       "      <td>OR</td>\n",
       "      <td>97212</td>\n",
       "    </tr>\n",
       "    <tr>\n",
       "      <th>15</th>\n",
       "      <td>222-222@5xc-jxp-rp9</td>\n",
       "      <td>Multnomah  County  Library Hollywood Library</td>\n",
       "      <td>4040 NE   Tillamook   St</td>\n",
       "      <td>Portland</td>\n",
       "      <td>OR</td>\n",
       "      <td>97212_</td>\n",
       "    </tr>\n",
       "    <tr>\n",
       "      <th>16</th>\n",
       "      <td>22c-222@5xc-jwj-pvz</td>\n",
       "      <td>MULTNOMAH County Library KENTON</td>\n",
       "      <td>8226 N DENVER Ave</td>\n",
       "      <td>portland</td>\n",
       "      <td>OR</td>\n",
       "      <td>#97217</td>\n",
       "    </tr>\n",
       "    <tr>\n",
       "      <th>17</th>\n",
       "      <td>224-222@5xc-jw2-t9z</td>\n",
       "      <td>Multnomah COUNTY library Gregory Heights</td>\n",
       "      <td>7921 NE sandy BLVD</td>\n",
       "      <td>Portland</td>\n",
       "      <td>OR</td>\n",
       "      <td>_97213</td>\n",
       "    </tr>\n",
       "  </tbody>\n",
       "</table>\n",
       "</div>"
      ]
     },
     "execution_count": 57,
     "metadata": {},
     "output_type": "execute_result"
    }
   ],
   "execution_count": 57
  },
  {
   "metadata": {},
   "cell_type": "markdown",
   "source": "### Checkouts\n",
   "id": "7786dccffee9fb5b"
  },
  {
   "metadata": {
    "ExecuteTime": {
     "end_time": "2024-09-04T08:30:37.068161Z",
     "start_time": "2024-09-04T08:30:37.034250Z"
    }
   },
   "cell_type": "code",
   "source": [
    "df_checkouts = pd.read_csv('Data Challenge/checkouts.csv')\n",
    "df_checkouts"
   ],
   "id": "ccdc1ccacbd1d2ae",
   "outputs": [
    {
     "data": {
      "text/plain": [
       "                id                         patron_id           library_id  \\\n",
       "0     -xFj0vTLbRIC  b071c9c68228a2b1d00e6f53677e16da  225-222@5xc-jtz-hkf   \n",
       "1     HUX-y4oXl04C  8d3f63e1deed89d7ba1bf6a4eb101373  223-222@5xc-jxr-tgk   \n",
       "2     TQpFnkku2poC  4ae202f8de762591734705e0079d76df  228-222@5xc-jtz-hwk   \n",
       "3     OQ6sDwAAQBAJ  f9372de3c8ea501601aa3fb59ec0f524  23v-222@5xc-jv7-v4v   \n",
       "4     7T9-BAAAQBAJ  2cf3cc3b9e9f6c608767da8d350f77c9  225-222@5xc-jtz-hkf   \n",
       "...            ...                               ...                  ...   \n",
       "1995  rNbuDwAAQBAJ  91871955f3641857832766ac3f5a0b95  222-222@5xc-jv5-nt9   \n",
       "1996  rcrCAgAAQBAJ  ad08956eb20efb746af650f906d439cf  22d-222@5xc-kcy-8sq   \n",
       "1997  F44fAQAAMAAJ  026262cc3454149303074c4113b5f118  226-222@5xc-jxj-7yv   \n",
       "1998  Ci1HAQAAMAAJ  08b29865e58e9b2aabff9684a703acf0  223-222@5xc-jxr-tgk   \n",
       "1999  TUAyAQAAMAAJ  ac0bb7b22b4df999a0b1216ded727f8e  228-222@5xc-jtz-hwk   \n",
       "\n",
       "     date_checkout date_returned  \n",
       "0       2019-01-28    2018-11-13  \n",
       "1       2018-05-29    2018-06-12  \n",
       "2       2018-11-23    2019-01-24  \n",
       "3       2018-01-15    2018-04-25  \n",
       "4       2018-12-31    1804-01-23  \n",
       "...            ...           ...  \n",
       "1995    2018-07-19    2018-08-12  \n",
       "1996    2018-03-07    2018-03-13  \n",
       "1997    2018-06-17    2018-06-27  \n",
       "1998    2018-12-10    2018-12-29  \n",
       "1999    2018-10-10    2018-11-01  \n",
       "\n",
       "[2000 rows x 5 columns]"
      ],
      "text/html": [
       "<div>\n",
       "<style scoped>\n",
       "    .dataframe tbody tr th:only-of-type {\n",
       "        vertical-align: middle;\n",
       "    }\n",
       "\n",
       "    .dataframe tbody tr th {\n",
       "        vertical-align: top;\n",
       "    }\n",
       "\n",
       "    .dataframe thead th {\n",
       "        text-align: right;\n",
       "    }\n",
       "</style>\n",
       "<table border=\"1\" class=\"dataframe\">\n",
       "  <thead>\n",
       "    <tr style=\"text-align: right;\">\n",
       "      <th></th>\n",
       "      <th>id</th>\n",
       "      <th>patron_id</th>\n",
       "      <th>library_id</th>\n",
       "      <th>date_checkout</th>\n",
       "      <th>date_returned</th>\n",
       "    </tr>\n",
       "  </thead>\n",
       "  <tbody>\n",
       "    <tr>\n",
       "      <th>0</th>\n",
       "      <td>-xFj0vTLbRIC</td>\n",
       "      <td>b071c9c68228a2b1d00e6f53677e16da</td>\n",
       "      <td>225-222@5xc-jtz-hkf</td>\n",
       "      <td>2019-01-28</td>\n",
       "      <td>2018-11-13</td>\n",
       "    </tr>\n",
       "    <tr>\n",
       "      <th>1</th>\n",
       "      <td>HUX-y4oXl04C</td>\n",
       "      <td>8d3f63e1deed89d7ba1bf6a4eb101373</td>\n",
       "      <td>223-222@5xc-jxr-tgk</td>\n",
       "      <td>2018-05-29</td>\n",
       "      <td>2018-06-12</td>\n",
       "    </tr>\n",
       "    <tr>\n",
       "      <th>2</th>\n",
       "      <td>TQpFnkku2poC</td>\n",
       "      <td>4ae202f8de762591734705e0079d76df</td>\n",
       "      <td>228-222@5xc-jtz-hwk</td>\n",
       "      <td>2018-11-23</td>\n",
       "      <td>2019-01-24</td>\n",
       "    </tr>\n",
       "    <tr>\n",
       "      <th>3</th>\n",
       "      <td>OQ6sDwAAQBAJ</td>\n",
       "      <td>f9372de3c8ea501601aa3fb59ec0f524</td>\n",
       "      <td>23v-222@5xc-jv7-v4v</td>\n",
       "      <td>2018-01-15</td>\n",
       "      <td>2018-04-25</td>\n",
       "    </tr>\n",
       "    <tr>\n",
       "      <th>4</th>\n",
       "      <td>7T9-BAAAQBAJ</td>\n",
       "      <td>2cf3cc3b9e9f6c608767da8d350f77c9</td>\n",
       "      <td>225-222@5xc-jtz-hkf</td>\n",
       "      <td>2018-12-31</td>\n",
       "      <td>1804-01-23</td>\n",
       "    </tr>\n",
       "    <tr>\n",
       "      <th>...</th>\n",
       "      <td>...</td>\n",
       "      <td>...</td>\n",
       "      <td>...</td>\n",
       "      <td>...</td>\n",
       "      <td>...</td>\n",
       "    </tr>\n",
       "    <tr>\n",
       "      <th>1995</th>\n",
       "      <td>rNbuDwAAQBAJ</td>\n",
       "      <td>91871955f3641857832766ac3f5a0b95</td>\n",
       "      <td>222-222@5xc-jv5-nt9</td>\n",
       "      <td>2018-07-19</td>\n",
       "      <td>2018-08-12</td>\n",
       "    </tr>\n",
       "    <tr>\n",
       "      <th>1996</th>\n",
       "      <td>rcrCAgAAQBAJ</td>\n",
       "      <td>ad08956eb20efb746af650f906d439cf</td>\n",
       "      <td>22d-222@5xc-kcy-8sq</td>\n",
       "      <td>2018-03-07</td>\n",
       "      <td>2018-03-13</td>\n",
       "    </tr>\n",
       "    <tr>\n",
       "      <th>1997</th>\n",
       "      <td>F44fAQAAMAAJ</td>\n",
       "      <td>026262cc3454149303074c4113b5f118</td>\n",
       "      <td>226-222@5xc-jxj-7yv</td>\n",
       "      <td>2018-06-17</td>\n",
       "      <td>2018-06-27</td>\n",
       "    </tr>\n",
       "    <tr>\n",
       "      <th>1998</th>\n",
       "      <td>Ci1HAQAAMAAJ</td>\n",
       "      <td>08b29865e58e9b2aabff9684a703acf0</td>\n",
       "      <td>223-222@5xc-jxr-tgk</td>\n",
       "      <td>2018-12-10</td>\n",
       "      <td>2018-12-29</td>\n",
       "    </tr>\n",
       "    <tr>\n",
       "      <th>1999</th>\n",
       "      <td>TUAyAQAAMAAJ</td>\n",
       "      <td>ac0bb7b22b4df999a0b1216ded727f8e</td>\n",
       "      <td>228-222@5xc-jtz-hwk</td>\n",
       "      <td>2018-10-10</td>\n",
       "      <td>2018-11-01</td>\n",
       "    </tr>\n",
       "  </tbody>\n",
       "</table>\n",
       "<p>2000 rows × 5 columns</p>\n",
       "</div>"
      ]
     },
     "execution_count": 58,
     "metadata": {},
     "output_type": "execute_result"
    }
   ],
   "execution_count": 58
  },
  {
   "metadata": {},
   "cell_type": "markdown",
   "source": [
    "## Feature Engineering\n",
    "\n",
    "Preparing features for building ML models."
   ],
   "id": "e120e1dcc8301ecf"
  },
  {
   "metadata": {},
   "cell_type": "markdown",
   "source": [
    "### Parsing\n",
    "\n",
    "Parsing dates and floats. The formats were obtained by analyzing values with ChatGPT. "
   ],
   "id": "c01106f8851b578d"
  },
  {
   "metadata": {
    "ExecuteTime": {
     "end_time": "2024-09-04T08:30:38.598794Z",
     "start_time": "2024-09-04T08:30:37.984683Z"
    }
   },
   "cell_type": "code",
   "source": [
    "def parse_date(date):\n",
    "    formats = [\n",
    "        '%Y',            # Year only\n",
    "        '%Y-%m-%d',      # Standard ISO format\n",
    "        '%Y/%m/%d',      # ISO format with slashes\n",
    "        '%Y.%m.%d',      # ISO format with dots\n",
    "        '%Y%m%d',        # Compact format without separators\n",
    "        '%d%m%Y',        # Compact format with day first\n",
    "        '%d%m%y',        # Compact format with short year\n",
    "        '%d-%m-%Y',      # Day first with dashes\n",
    "        '%d/%m/%Y',      # Day first with slashes\n",
    "        '%d.%m.%Y',      # Day first with dots\n",
    "        '%d %m %Y',      # Day with spaces\n",
    "        '%Y %b %d',      # Year with abbreviated month\n",
    "        '%d %B %Y',      # Day with full month name\n",
    "        '%d %b %Y',      # Day with abbreviated month\n",
    "        '%Y|%m|%d',      # Custom format with pipes\n",
    "        '%Y-%m-%d%',     # ISO format with trailing percent sign\n",
    "        '%y-%m-%d',      # Short year format\n",
    "        '%y%m%d'         # Short year compact format\n",
    "    ]\n",
    "    \n",
    "    for fmt in formats:\n",
    "        try:\n",
    "            return datetime.strptime(str(date), fmt)\n",
    "        except ValueError:\n",
    "            continue\n",
    "    return pd.NaT\n",
    "\n",
    "\n",
    "df_books['price'] = df_books['price'].replace({'[*,$,USD,|]': ''}, regex=True).astype(float)\n",
    "df_books['pages'] = df_books['pages'].replace({'[*,|,^,#]': ''}, regex=True).astype(float)\n",
    "df_books['publishedDate'] = df_books['publishedDate'].apply(parse_date)\n",
    "df_customers['birth_date'] = df_customers['birth_date'].apply(parse_date)\n",
    "df_checkouts['date_checkout'] = df_checkouts['date_checkout'].apply(parse_date)\n",
    "df_checkouts['date_returned'] = df_checkouts['date_returned'].apply(parse_date)"
   ],
   "id": "5d66f66d8dbaca8",
   "outputs": [],
   "execution_count": 59
  },
  {
   "metadata": {},
   "cell_type": "markdown",
   "source": [
    "### Merging\n",
    "\n",
    "Merging books, customers, libraries, and checkouts into one data frame for further analysis."
   ],
   "id": "f428bf54d2cb1d61"
  },
  {
   "metadata": {
    "ExecuteTime": {
     "end_time": "2024-09-04T08:30:39.874022Z",
     "start_time": "2024-09-04T08:30:39.763713Z"
    }
   },
   "cell_type": "code",
   "source": [
    "df_merged = pd.merge(df_checkouts, df_books.rename(columns={c: f'book_{c}' for c in df_books.columns}), left_on='id', right_on='book_id')\n",
    "df_merged = pd.merge(df_merged, df_customers.rename(columns={c: f'customer_{c}' for c in df_customers.columns}), left_on='patron_id', right_on='customer_id')\n",
    "df_merged = pd.merge(df_merged, df_libraries.rename(columns={c: f'library_{c}' for c in df_libraries.columns}), left_on='library_id', right_on='library_id')\n",
    "df_merged"
   ],
   "id": "643c3c8b56e558a6",
   "outputs": [
    {
     "data": {
      "text/plain": [
       "                id                         patron_id           library_id  \\\n",
       "0     -xFj0vTLbRIC  b071c9c68228a2b1d00e6f53677e16da  225-222@5xc-jtz-hkf   \n",
       "1     HUX-y4oXl04C  8d3f63e1deed89d7ba1bf6a4eb101373  223-222@5xc-jxr-tgk   \n",
       "2     TQpFnkku2poC  4ae202f8de762591734705e0079d76df  228-222@5xc-jtz-hwk   \n",
       "3     OQ6sDwAAQBAJ  f9372de3c8ea501601aa3fb59ec0f524  23v-222@5xc-jv7-v4v   \n",
       "4     7T9-BAAAQBAJ  2cf3cc3b9e9f6c608767da8d350f77c9  225-222@5xc-jtz-hkf   \n",
       "...            ...                               ...                  ...   \n",
       "1995  rNbuDwAAQBAJ  91871955f3641857832766ac3f5a0b95  222-222@5xc-jv5-nt9   \n",
       "1996  rcrCAgAAQBAJ  ad08956eb20efb746af650f906d439cf  22d-222@5xc-kcy-8sq   \n",
       "1997  F44fAQAAMAAJ  026262cc3454149303074c4113b5f118  226-222@5xc-jxj-7yv   \n",
       "1998  Ci1HAQAAMAAJ  08b29865e58e9b2aabff9684a703acf0  223-222@5xc-jxr-tgk   \n",
       "1999  TUAyAQAAMAAJ  ac0bb7b22b4df999a0b1216ded727f8e  228-222@5xc-jtz-hwk   \n",
       "\n",
       "     date_checkout date_returned       book_id  \\\n",
       "0       2019-01-28    2018-11-13  -xFj0vTLbRIC   \n",
       "1       2018-05-29    2018-06-12  HUX-y4oXl04C   \n",
       "2       2018-11-23    2019-01-24  TQpFnkku2poC   \n",
       "3       2018-01-15    2018-04-25  OQ6sDwAAQBAJ   \n",
       "4       2018-12-31    1804-01-23  7T9-BAAAQBAJ   \n",
       "...            ...           ...           ...   \n",
       "1995    2018-07-19    2018-08-12  rNbuDwAAQBAJ   \n",
       "1996    2018-03-07    2018-03-13  rcrCAgAAQBAJ   \n",
       "1997    2018-06-17    2018-06-27  F44fAQAAMAAJ   \n",
       "1998    2018-12-10    2018-12-29  Ci1HAQAAMAAJ   \n",
       "1999    2018-10-10    2018-11-01  TUAyAQAAMAAJ   \n",
       "\n",
       "                                             book_title  \\\n",
       "0                                         Blood Engines   \n",
       "1                            Indian Financial System 5E   \n",
       "2                                Advertising Management   \n",
       "3     New Technologies for Emission Control in Marin...   \n",
       "4                  Fundamentals of Financial Management   \n",
       "...                                                 ...   \n",
       "1995                             American Folk Medicine   \n",
       "1996                                          Mechanics   \n",
       "1997           Michigan Manufacturer & Financial Record   \n",
       "1998  Modern Electric Railway Practice: Power statio...   \n",
       "1999                                 Minnesota Medicine   \n",
       "\n",
       "                                  book_authors              book_publisher  \\\n",
       "0                               ['T.A. Pratt']                     Spectra   \n",
       "1                                     ['Khan']  Tata McGraw-Hill Education   \n",
       "2                ['C. L. Tyagi', 'Arun Kumar']  Atlantic Publishers & Dist   \n",
       "3         ['Masaaki Okubo', 'Takuya Kuwahara']       Butterworth-Heinemann   \n",
       "4     ['Eugene F. Brigham', 'Joel F. Houston']            Cengage Learning   \n",
       "...                                        ...                         ...   \n",
       "1995                       ['Wayland D. Hand']                         NaN   \n",
       "1996                      ['J. P. Den Hartog']         Courier Corporation   \n",
       "1997                                       NaN                         NaN   \n",
       "1998                                       NaN                         NaN   \n",
       "1999                                       NaN                         NaN   \n",
       "\n",
       "     book_publishedDate  ... customer_zipcode  customer_birth_date  \\\n",
       "0            2007-09-25  ...          97212.0                  NaT   \n",
       "1            2006-06-01  ...          97202.0           1965-01-24   \n",
       "2            2004-01-01  ...          97212.0           1963-11-04   \n",
       "3            2019-08-29  ...          97227.0           2119-02-10   \n",
       "4            2015-01-01  ...          97218.0           2103-05-19   \n",
       "...                 ...  ...              ...                  ...   \n",
       "1995         2021-01-08  ...         97214.0_           2120-08-25   \n",
       "1996         2013-03-13  ...          97267.0           1967-10-17   \n",
       "1997         1916-01-01  ...          97218.0           1812-03-13   \n",
       "1998         1909-01-01  ...          97266.0           1980-08-23   \n",
       "1999         1921-01-01  ...          97232.0           1962-12-28   \n",
       "\n",
       "      customer_gender customer_education customer_occupation  \\\n",
       "0              female                NaN                Tech   \n",
       "1              female    graduate DEGREE                Tech   \n",
       "2                male    Graduate Degree  Education & Health   \n",
       "3                male    Graduate DEGREE               Sales   \n",
       "4              female             Others  Business & Finance   \n",
       "...               ...                ...                 ...   \n",
       "1995             male    Graduate Degree  Education & Health   \n",
       "1996           female        High School  Education & Health   \n",
       "1997           female        High School  Education & Health   \n",
       "1998             male    Graduate Degree                 NaN   \n",
       "1999             male             Others     Admin & Support   \n",
       "\n",
       "                                         library_name  \\\n",
       "0                            MULTNOMAH County Library   \n",
       "1                  MULTNOMAH County Library Woodstock   \n",
       "2                           Multnomah  County Library   \n",
       "3                  Multnomah County Library Northwest   \n",
       "4                            MULTNOMAH County Library   \n",
       "...                                               ...   \n",
       "1995       Multnomah  County  Library  North Portland   \n",
       "1996   Multnomah County  Library   Sellwood  Moreland   \n",
       "1997                 Multnomah County Library Belmont   \n",
       "1998               MULTNOMAH County Library Woodstock   \n",
       "1999                        Multnomah  County Library   \n",
       "\n",
       "           library_street_address library_city library_region  \\\n",
       "0                 216 ne Knott st          NaN             OR   \n",
       "1                6008 se 49TH AVE    Portland              OR   \n",
       "2           205 NE   Russell  St           NaN            NaN   \n",
       "3             2300 NW Thurman  St          NaN             or   \n",
       "4                 216 ne Knott st          NaN             OR   \n",
       "...                           ...          ...            ...   \n",
       "1995   512    N Killingsworth St     Portland             OR    \n",
       "1996             7860 SE 13th AVE     Portland             OR   \n",
       "1997  1038 SE CESAR E CHAVEZ blvd     Portland             OR   \n",
       "1998             6008 se 49TH AVE    Portland              OR   \n",
       "1999        205 NE   Russell  St           NaN            NaN   \n",
       "\n",
       "     library_postal_code  \n",
       "0                    NaN  \n",
       "1                 -97206  \n",
       "2                 97212-  \n",
       "3                    NaN  \n",
       "4                    NaN  \n",
       "...                  ...  \n",
       "1995              #97217  \n",
       "1996               97202  \n",
       "1997               97214  \n",
       "1998              -97206  \n",
       "1999              97212-  \n",
       "\n",
       "[2000 rows x 28 columns]"
      ],
      "text/html": [
       "<div>\n",
       "<style scoped>\n",
       "    .dataframe tbody tr th:only-of-type {\n",
       "        vertical-align: middle;\n",
       "    }\n",
       "\n",
       "    .dataframe tbody tr th {\n",
       "        vertical-align: top;\n",
       "    }\n",
       "\n",
       "    .dataframe thead th {\n",
       "        text-align: right;\n",
       "    }\n",
       "</style>\n",
       "<table border=\"1\" class=\"dataframe\">\n",
       "  <thead>\n",
       "    <tr style=\"text-align: right;\">\n",
       "      <th></th>\n",
       "      <th>id</th>\n",
       "      <th>patron_id</th>\n",
       "      <th>library_id</th>\n",
       "      <th>date_checkout</th>\n",
       "      <th>date_returned</th>\n",
       "      <th>book_id</th>\n",
       "      <th>book_title</th>\n",
       "      <th>book_authors</th>\n",
       "      <th>book_publisher</th>\n",
       "      <th>book_publishedDate</th>\n",
       "      <th>...</th>\n",
       "      <th>customer_zipcode</th>\n",
       "      <th>customer_birth_date</th>\n",
       "      <th>customer_gender</th>\n",
       "      <th>customer_education</th>\n",
       "      <th>customer_occupation</th>\n",
       "      <th>library_name</th>\n",
       "      <th>library_street_address</th>\n",
       "      <th>library_city</th>\n",
       "      <th>library_region</th>\n",
       "      <th>library_postal_code</th>\n",
       "    </tr>\n",
       "  </thead>\n",
       "  <tbody>\n",
       "    <tr>\n",
       "      <th>0</th>\n",
       "      <td>-xFj0vTLbRIC</td>\n",
       "      <td>b071c9c68228a2b1d00e6f53677e16da</td>\n",
       "      <td>225-222@5xc-jtz-hkf</td>\n",
       "      <td>2019-01-28</td>\n",
       "      <td>2018-11-13</td>\n",
       "      <td>-xFj0vTLbRIC</td>\n",
       "      <td>Blood Engines</td>\n",
       "      <td>['T.A. Pratt']</td>\n",
       "      <td>Spectra</td>\n",
       "      <td>2007-09-25</td>\n",
       "      <td>...</td>\n",
       "      <td>97212.0</td>\n",
       "      <td>NaT</td>\n",
       "      <td>female</td>\n",
       "      <td>NaN</td>\n",
       "      <td>Tech</td>\n",
       "      <td>MULTNOMAH County Library</td>\n",
       "      <td>216 ne Knott st</td>\n",
       "      <td>NaN</td>\n",
       "      <td>OR</td>\n",
       "      <td>NaN</td>\n",
       "    </tr>\n",
       "    <tr>\n",
       "      <th>1</th>\n",
       "      <td>HUX-y4oXl04C</td>\n",
       "      <td>8d3f63e1deed89d7ba1bf6a4eb101373</td>\n",
       "      <td>223-222@5xc-jxr-tgk</td>\n",
       "      <td>2018-05-29</td>\n",
       "      <td>2018-06-12</td>\n",
       "      <td>HUX-y4oXl04C</td>\n",
       "      <td>Indian Financial System 5E</td>\n",
       "      <td>['Khan']</td>\n",
       "      <td>Tata McGraw-Hill Education</td>\n",
       "      <td>2006-06-01</td>\n",
       "      <td>...</td>\n",
       "      <td>97202.0</td>\n",
       "      <td>1965-01-24</td>\n",
       "      <td>female</td>\n",
       "      <td>graduate DEGREE</td>\n",
       "      <td>Tech</td>\n",
       "      <td>MULTNOMAH County Library Woodstock</td>\n",
       "      <td>6008 se 49TH AVE</td>\n",
       "      <td>Portland</td>\n",
       "      <td>OR</td>\n",
       "      <td>-97206</td>\n",
       "    </tr>\n",
       "    <tr>\n",
       "      <th>2</th>\n",
       "      <td>TQpFnkku2poC</td>\n",
       "      <td>4ae202f8de762591734705e0079d76df</td>\n",
       "      <td>228-222@5xc-jtz-hwk</td>\n",
       "      <td>2018-11-23</td>\n",
       "      <td>2019-01-24</td>\n",
       "      <td>TQpFnkku2poC</td>\n",
       "      <td>Advertising Management</td>\n",
       "      <td>['C. L. Tyagi', 'Arun Kumar']</td>\n",
       "      <td>Atlantic Publishers &amp; Dist</td>\n",
       "      <td>2004-01-01</td>\n",
       "      <td>...</td>\n",
       "      <td>97212.0</td>\n",
       "      <td>1963-11-04</td>\n",
       "      <td>male</td>\n",
       "      <td>Graduate Degree</td>\n",
       "      <td>Education &amp; Health</td>\n",
       "      <td>Multnomah  County Library</td>\n",
       "      <td>205 NE   Russell  St</td>\n",
       "      <td>NaN</td>\n",
       "      <td>NaN</td>\n",
       "      <td>97212-</td>\n",
       "    </tr>\n",
       "    <tr>\n",
       "      <th>3</th>\n",
       "      <td>OQ6sDwAAQBAJ</td>\n",
       "      <td>f9372de3c8ea501601aa3fb59ec0f524</td>\n",
       "      <td>23v-222@5xc-jv7-v4v</td>\n",
       "      <td>2018-01-15</td>\n",
       "      <td>2018-04-25</td>\n",
       "      <td>OQ6sDwAAQBAJ</td>\n",
       "      <td>New Technologies for Emission Control in Marin...</td>\n",
       "      <td>['Masaaki Okubo', 'Takuya Kuwahara']</td>\n",
       "      <td>Butterworth-Heinemann</td>\n",
       "      <td>2019-08-29</td>\n",
       "      <td>...</td>\n",
       "      <td>97227.0</td>\n",
       "      <td>2119-02-10</td>\n",
       "      <td>male</td>\n",
       "      <td>Graduate DEGREE</td>\n",
       "      <td>Sales</td>\n",
       "      <td>Multnomah County Library Northwest</td>\n",
       "      <td>2300 NW Thurman  St</td>\n",
       "      <td>NaN</td>\n",
       "      <td>or</td>\n",
       "      <td>NaN</td>\n",
       "    </tr>\n",
       "    <tr>\n",
       "      <th>4</th>\n",
       "      <td>7T9-BAAAQBAJ</td>\n",
       "      <td>2cf3cc3b9e9f6c608767da8d350f77c9</td>\n",
       "      <td>225-222@5xc-jtz-hkf</td>\n",
       "      <td>2018-12-31</td>\n",
       "      <td>1804-01-23</td>\n",
       "      <td>7T9-BAAAQBAJ</td>\n",
       "      <td>Fundamentals of Financial Management</td>\n",
       "      <td>['Eugene F. Brigham', 'Joel F. Houston']</td>\n",
       "      <td>Cengage Learning</td>\n",
       "      <td>2015-01-01</td>\n",
       "      <td>...</td>\n",
       "      <td>97218.0</td>\n",
       "      <td>2103-05-19</td>\n",
       "      <td>female</td>\n",
       "      <td>Others</td>\n",
       "      <td>Business &amp; Finance</td>\n",
       "      <td>MULTNOMAH County Library</td>\n",
       "      <td>216 ne Knott st</td>\n",
       "      <td>NaN</td>\n",
       "      <td>OR</td>\n",
       "      <td>NaN</td>\n",
       "    </tr>\n",
       "    <tr>\n",
       "      <th>...</th>\n",
       "      <td>...</td>\n",
       "      <td>...</td>\n",
       "      <td>...</td>\n",
       "      <td>...</td>\n",
       "      <td>...</td>\n",
       "      <td>...</td>\n",
       "      <td>...</td>\n",
       "      <td>...</td>\n",
       "      <td>...</td>\n",
       "      <td>...</td>\n",
       "      <td>...</td>\n",
       "      <td>...</td>\n",
       "      <td>...</td>\n",
       "      <td>...</td>\n",
       "      <td>...</td>\n",
       "      <td>...</td>\n",
       "      <td>...</td>\n",
       "      <td>...</td>\n",
       "      <td>...</td>\n",
       "      <td>...</td>\n",
       "      <td>...</td>\n",
       "    </tr>\n",
       "    <tr>\n",
       "      <th>1995</th>\n",
       "      <td>rNbuDwAAQBAJ</td>\n",
       "      <td>91871955f3641857832766ac3f5a0b95</td>\n",
       "      <td>222-222@5xc-jv5-nt9</td>\n",
       "      <td>2018-07-19</td>\n",
       "      <td>2018-08-12</td>\n",
       "      <td>rNbuDwAAQBAJ</td>\n",
       "      <td>American Folk Medicine</td>\n",
       "      <td>['Wayland D. Hand']</td>\n",
       "      <td>NaN</td>\n",
       "      <td>2021-01-08</td>\n",
       "      <td>...</td>\n",
       "      <td>97214.0_</td>\n",
       "      <td>2120-08-25</td>\n",
       "      <td>male</td>\n",
       "      <td>Graduate Degree</td>\n",
       "      <td>Education &amp; Health</td>\n",
       "      <td>Multnomah  County  Library  North Portland</td>\n",
       "      <td>512    N Killingsworth St</td>\n",
       "      <td>Portland</td>\n",
       "      <td>OR</td>\n",
       "      <td>#97217</td>\n",
       "    </tr>\n",
       "    <tr>\n",
       "      <th>1996</th>\n",
       "      <td>rcrCAgAAQBAJ</td>\n",
       "      <td>ad08956eb20efb746af650f906d439cf</td>\n",
       "      <td>22d-222@5xc-kcy-8sq</td>\n",
       "      <td>2018-03-07</td>\n",
       "      <td>2018-03-13</td>\n",
       "      <td>rcrCAgAAQBAJ</td>\n",
       "      <td>Mechanics</td>\n",
       "      <td>['J. P. Den Hartog']</td>\n",
       "      <td>Courier Corporation</td>\n",
       "      <td>2013-03-13</td>\n",
       "      <td>...</td>\n",
       "      <td>97267.0</td>\n",
       "      <td>1967-10-17</td>\n",
       "      <td>female</td>\n",
       "      <td>High School</td>\n",
       "      <td>Education &amp; Health</td>\n",
       "      <td>Multnomah County  Library   Sellwood  Moreland</td>\n",
       "      <td>7860 SE 13th AVE</td>\n",
       "      <td>Portland</td>\n",
       "      <td>OR</td>\n",
       "      <td>97202</td>\n",
       "    </tr>\n",
       "    <tr>\n",
       "      <th>1997</th>\n",
       "      <td>F44fAQAAMAAJ</td>\n",
       "      <td>026262cc3454149303074c4113b5f118</td>\n",
       "      <td>226-222@5xc-jxj-7yv</td>\n",
       "      <td>2018-06-17</td>\n",
       "      <td>2018-06-27</td>\n",
       "      <td>F44fAQAAMAAJ</td>\n",
       "      <td>Michigan Manufacturer &amp; Financial Record</td>\n",
       "      <td>NaN</td>\n",
       "      <td>NaN</td>\n",
       "      <td>1916-01-01</td>\n",
       "      <td>...</td>\n",
       "      <td>97218.0</td>\n",
       "      <td>1812-03-13</td>\n",
       "      <td>female</td>\n",
       "      <td>High School</td>\n",
       "      <td>Education &amp; Health</td>\n",
       "      <td>Multnomah County Library Belmont</td>\n",
       "      <td>1038 SE CESAR E CHAVEZ blvd</td>\n",
       "      <td>Portland</td>\n",
       "      <td>OR</td>\n",
       "      <td>97214</td>\n",
       "    </tr>\n",
       "    <tr>\n",
       "      <th>1998</th>\n",
       "      <td>Ci1HAQAAMAAJ</td>\n",
       "      <td>08b29865e58e9b2aabff9684a703acf0</td>\n",
       "      <td>223-222@5xc-jxr-tgk</td>\n",
       "      <td>2018-12-10</td>\n",
       "      <td>2018-12-29</td>\n",
       "      <td>Ci1HAQAAMAAJ</td>\n",
       "      <td>Modern Electric Railway Practice: Power statio...</td>\n",
       "      <td>NaN</td>\n",
       "      <td>NaN</td>\n",
       "      <td>1909-01-01</td>\n",
       "      <td>...</td>\n",
       "      <td>97266.0</td>\n",
       "      <td>1980-08-23</td>\n",
       "      <td>male</td>\n",
       "      <td>Graduate Degree</td>\n",
       "      <td>NaN</td>\n",
       "      <td>MULTNOMAH County Library Woodstock</td>\n",
       "      <td>6008 se 49TH AVE</td>\n",
       "      <td>Portland</td>\n",
       "      <td>OR</td>\n",
       "      <td>-97206</td>\n",
       "    </tr>\n",
       "    <tr>\n",
       "      <th>1999</th>\n",
       "      <td>TUAyAQAAMAAJ</td>\n",
       "      <td>ac0bb7b22b4df999a0b1216ded727f8e</td>\n",
       "      <td>228-222@5xc-jtz-hwk</td>\n",
       "      <td>2018-10-10</td>\n",
       "      <td>2018-11-01</td>\n",
       "      <td>TUAyAQAAMAAJ</td>\n",
       "      <td>Minnesota Medicine</td>\n",
       "      <td>NaN</td>\n",
       "      <td>NaN</td>\n",
       "      <td>1921-01-01</td>\n",
       "      <td>...</td>\n",
       "      <td>97232.0</td>\n",
       "      <td>1962-12-28</td>\n",
       "      <td>male</td>\n",
       "      <td>Others</td>\n",
       "      <td>Admin &amp; Support</td>\n",
       "      <td>Multnomah  County Library</td>\n",
       "      <td>205 NE   Russell  St</td>\n",
       "      <td>NaN</td>\n",
       "      <td>NaN</td>\n",
       "      <td>97212-</td>\n",
       "    </tr>\n",
       "  </tbody>\n",
       "</table>\n",
       "<p>2000 rows × 28 columns</p>\n",
       "</div>"
      ]
     },
     "execution_count": 60,
     "metadata": {},
     "output_type": "execute_result"
    }
   ],
   "execution_count": 60
  },
  {
   "metadata": {},
   "cell_type": "markdown",
   "source": [
    "### Featurization\n",
    "\n",
    "Preparing features that an ML model can learn from as follows:\n",
    "1. Selecting float values, such as book price and pages.\n",
    "2. Selecting categorical features with not too high and not too low cardinality of distinct values, and transforming them into binary choices. \n",
    "3. Extending the feature set with date differences, such as the age of customers and books. \n",
    "4. Marking the late returns by calculating the difference between the checkout and returned date. "
   ],
   "id": "52906d99fca19031"
  },
  {
   "metadata": {
    "ExecuteTime": {
     "end_time": "2024-09-04T08:30:41.858138Z",
     "start_time": "2024-09-04T08:30:40.673800Z"
    }
   },
   "cell_type": "code",
   "source": [
    "def unique_category(category):\n",
    "    return str(category).lower().strip().replace(\"  \", \"\")\n",
    "    \n",
    "    \n",
    "def one_hot_encode(df, column):\n",
    "    if column not in df.columns:\n",
    "        return df\n",
    "    \n",
    "    df_encoded = pd.get_dummies(df[column].apply(unique_category)).astype(int)\n",
    "    df_encoded.columns = [f'{column} - {_}' for _ in df_encoded.columns]\n",
    "    df = pd.merge(df, df_encoded, left_index=True, right_index=True)\n",
    "    df.drop(columns=[column], inplace=True)\n",
    "    return df\n",
    "\n",
    "\n",
    "def multi_hot_encode(df, column):\n",
    "    if column not in df.columns:\n",
    "        return df\n",
    "    \n",
    "    df_exploded = df[column].apply(lambda _: ast.literal_eval(_) if pd.notna(_) else _).explode()\n",
    "    df_encoded = pd.get_dummies(df_exploded.apply(unique_category))\n",
    "    df_encoded = df_encoded.groupby(df_encoded.index).sum()\n",
    "    df_encoded.columns = [f'{column} - {_}' for _ in df_encoded.columns]\n",
    "    df_result = pd.merge(df, df_encoded, left_index=True, right_index=True)\n",
    "    df_result.drop(columns=[column], inplace=True)\n",
    "    return df_result\n",
    "\n",
    "\n",
    "df_xy = pd.DataFrame(df_merged[[\n",
    "    'date_checkout',\n",
    "    'date_returned',\n",
    "    'book_authors', \n",
    "    'book_categories',\n",
    "    'book_publishedDate',\n",
    "    'book_price',\n",
    "    'book_pages',\n",
    "    'customer_birth_date',\n",
    "    'customer_gender',\n",
    "    'customer_education',\n",
    "    'customer_occupation',\n",
    "    'library_name',\n",
    "]])\n",
    "\n",
    "df_xy = df_xy[(datetime(2000, 1, 1) < df_xy['date_checkout']) & (df_xy['date_checkout'] < datetime.now())] # Selecting valid dates.\n",
    "df_xy['checkout_days'] = (df_xy['date_returned'] - df_xy['date_checkout']).dt.days # For returned books.\n",
    "df_xy.loc[df_xy['date_returned'].isna(), 'checkout_days'] = (datetime.now() - df_xy['date_checkout']).dt.days # For not yet returned books.\n",
    "df_xy = df_xy[~((df_xy['date_returned'].isna()) & (df_xy['checkout_days'] <= 28))] # Removing rows where the book can be returned on time.\n",
    "df_xy = df_xy[df_xy['checkout_days']>0] # Removing rows where the number of checkout days is negative.\n",
    "df_xy['late_return'] = (df_xy['checkout_days'] > max_checkout_days).astype(int) # Whether the book was not returned on time.\n",
    "df_xy['customer_age'] = (datetime.now() - df_xy['customer_birth_date']).dt.days / 365 # Transforming birth date to age.\n",
    "df_xy['book_age'] = (datetime.now() - df_xy['book_publishedDate']).dt.days / 365 # Transforming published date to age.\n",
    "df_xy.drop(columns=['date_returned', 'customer_birth_date', 'book_publishedDate'], inplace=True)\n",
    "df_xy = multi_hot_encode(df_xy, 'book_authors')\n",
    "df_xy = multi_hot_encode(df_xy, 'book_categories')\n",
    "df_xy = one_hot_encode(df_xy, 'customer_gender')\n",
    "df_xy = one_hot_encode(df_xy, 'customer_education')\n",
    "df_xy = one_hot_encode(df_xy, 'customer_occupation')\n",
    "df_xy = one_hot_encode(df_xy, 'library_name')\n",
    "df_xy.drop(columns=[_ for _ in df_xy.columns if _.endswith(' - nan') or _.endswith(' - others')], inplace=True) # Drop undefined categories.\n",
    "df_xy.drop(columns=[_ for _ in df_xy.columns if len(df_xy[_].unique()) == 1], inplace=True) # Drop constants.\n",
    "df_xy.dropna(inplace=True)\n",
    "df_xy"
   ],
   "id": "949b686f6721b6c",
   "outputs": [
    {
     "data": {
      "text/plain": [
       "     date_checkout  book_price  book_pages  checkout_days  late_return  \\\n",
       "1       2018-05-29      416.99       752.0           14.0            0   \n",
       "2       2018-11-23      217.00       790.0           62.0            1   \n",
       "3       2018-01-15      190.50       597.0          100.0            1   \n",
       "6       2018-01-10      414.50       561.0           25.0            0   \n",
       "8       2018-06-23      149.00       530.0           21.0            0   \n",
       "...            ...         ...         ...            ...          ...   \n",
       "1995    2018-07-19      302.00       668.0           24.0            0   \n",
       "1996    2018-03-07      506.99       493.0            6.0            0   \n",
       "1997    2018-06-17      371.00       751.0           10.0            0   \n",
       "1998    2018-12-10      484.00       635.0           19.0            0   \n",
       "1999    2018-10-10      267.99       507.0           22.0            0   \n",
       "\n",
       "      customer_age    book_age  book_authors - a. kungolos  \\\n",
       "1        59.652055   18.273973                           0   \n",
       "2        60.876712   20.690411                           0   \n",
       "3       -94.495890    5.021918                           0   \n",
       "6        40.134247   27.693151                           0   \n",
       "8        47.978082   30.695890                           0   \n",
       "...            ...         ...                         ...   \n",
       "1995    -96.035616    3.657534                           0   \n",
       "1996     56.923288   11.487671                           0   \n",
       "1997    212.621918  108.750685                           0   \n",
       "1998     44.063014  115.753425                           0   \n",
       "1999     61.728767  103.745205                           0   \n",
       "\n",
       "      book_authors - ahmed f. el-sayed  book_authors - akira ohata  ...  \\\n",
       "1                                    0                           0  ...   \n",
       "2                                    0                           0  ...   \n",
       "3                                    0                           0  ...   \n",
       "6                                    0                           0  ...   \n",
       "8                                    0                           0  ...   \n",
       "...                                ...                         ...  ...   \n",
       "1995                                 0                           0  ...   \n",
       "1996                                 0                           0  ...   \n",
       "1997                                 0                           0  ...   \n",
       "1998                                 0                           0  ...   \n",
       "1999                                 0                           0  ...   \n",
       "\n",
       "      library_name - multnomah county library midland  \\\n",
       "1                                                   0   \n",
       "2                                                   0   \n",
       "3                                                   0   \n",
       "6                                                   0   \n",
       "8                                                   0   \n",
       "...                                               ...   \n",
       "1995                                                0   \n",
       "1996                                                0   \n",
       "1997                                                0   \n",
       "1998                                                0   \n",
       "1999                                                0   \n",
       "\n",
       "      library_name - multnomah county library northwest  \\\n",
       "1                                                     0   \n",
       "2                                                     0   \n",
       "3                                                     1   \n",
       "6                                                     0   \n",
       "8                                                     0   \n",
       "...                                                 ...   \n",
       "1995                                                  0   \n",
       "1996                                                  0   \n",
       "1997                                                  0   \n",
       "1998                                                  0   \n",
       "1999                                                  0   \n",
       "\n",
       "      library_name - multnomah county library st johns  \\\n",
       "1                                                    0   \n",
       "2                                                    0   \n",
       "3                                                    0   \n",
       "6                                                    0   \n",
       "8                                                    0   \n",
       "...                                                ...   \n",
       "1995                                                 0   \n",
       "1996                                                 0   \n",
       "1997                                                 0   \n",
       "1998                                                 0   \n",
       "1999                                                 0   \n",
       "\n",
       "      library_name - multnomah county library woodstock  \\\n",
       "1                                                     1   \n",
       "2                                                     0   \n",
       "3                                                     0   \n",
       "6                                                     0   \n",
       "8                                                     0   \n",
       "...                                                 ...   \n",
       "1995                                                  0   \n",
       "1996                                                  0   \n",
       "1997                                                  0   \n",
       "1998                                                  1   \n",
       "1999                                                  0   \n",
       "\n",
       "      library_name - multnomah countylibrary sellwoodmoreland  \\\n",
       "1                                                     0         \n",
       "2                                                     0         \n",
       "3                                                     0         \n",
       "6                                                     0         \n",
       "8                                                     0         \n",
       "...                                                 ...         \n",
       "1995                                                  0         \n",
       "1996                                                  1         \n",
       "1997                                                  0         \n",
       "1998                                                  0         \n",
       "1999                                                  0         \n",
       "\n",
       "      library_name - multnomahcounty library  \\\n",
       "1                                          0   \n",
       "2                                          1   \n",
       "3                                          0   \n",
       "6                                          0   \n",
       "8                                          0   \n",
       "...                                      ...   \n",
       "1995                                       0   \n",
       "1996                                       0   \n",
       "1997                                       0   \n",
       "1998                                       0   \n",
       "1999                                       1   \n",
       "\n",
       "      library_name - multnomahcounty library albina  \\\n",
       "1                                                 0   \n",
       "2                                                 0   \n",
       "3                                                 0   \n",
       "6                                                 0   \n",
       "8                                                 0   \n",
       "...                                             ...   \n",
       "1995                                              0   \n",
       "1996                                              0   \n",
       "1997                                              0   \n",
       "1998                                              0   \n",
       "1999                                              0   \n",
       "\n",
       "      library_name - multnomahcounty library central  \\\n",
       "1                                                  0   \n",
       "2                                                  0   \n",
       "3                                                  0   \n",
       "6                                                  0   \n",
       "8                                                  0   \n",
       "...                                              ...   \n",
       "1995                                               0   \n",
       "1996                                               0   \n",
       "1997                                               0   \n",
       "1998                                               0   \n",
       "1999                                               0   \n",
       "\n",
       "      library_name - multnomahcountylibrary hollywood library  \\\n",
       "1                                                     0         \n",
       "2                                                     0         \n",
       "3                                                     0         \n",
       "6                                                     0         \n",
       "8                                                     0         \n",
       "...                                                 ...         \n",
       "1995                                                  0         \n",
       "1996                                                  0         \n",
       "1997                                                  0         \n",
       "1998                                                  0         \n",
       "1999                                                  0         \n",
       "\n",
       "      library_name - multnomahcountylibrarynorth portland  \n",
       "1                                                     0    \n",
       "2                                                     0    \n",
       "3                                                     0    \n",
       "6                                                     0    \n",
       "8                                                     1    \n",
       "...                                                 ...    \n",
       "1995                                                  1    \n",
       "1996                                                  0    \n",
       "1997                                                  0    \n",
       "1998                                                  0    \n",
       "1999                                                  0    \n",
       "\n",
       "[1398 rows x 381 columns]"
      ],
      "text/html": [
       "<div>\n",
       "<style scoped>\n",
       "    .dataframe tbody tr th:only-of-type {\n",
       "        vertical-align: middle;\n",
       "    }\n",
       "\n",
       "    .dataframe tbody tr th {\n",
       "        vertical-align: top;\n",
       "    }\n",
       "\n",
       "    .dataframe thead th {\n",
       "        text-align: right;\n",
       "    }\n",
       "</style>\n",
       "<table border=\"1\" class=\"dataframe\">\n",
       "  <thead>\n",
       "    <tr style=\"text-align: right;\">\n",
       "      <th></th>\n",
       "      <th>date_checkout</th>\n",
       "      <th>book_price</th>\n",
       "      <th>book_pages</th>\n",
       "      <th>checkout_days</th>\n",
       "      <th>late_return</th>\n",
       "      <th>customer_age</th>\n",
       "      <th>book_age</th>\n",
       "      <th>book_authors - a. kungolos</th>\n",
       "      <th>book_authors - ahmed f. el-sayed</th>\n",
       "      <th>book_authors - akira ohata</th>\n",
       "      <th>...</th>\n",
       "      <th>library_name - multnomah county library midland</th>\n",
       "      <th>library_name - multnomah county library northwest</th>\n",
       "      <th>library_name - multnomah county library st johns</th>\n",
       "      <th>library_name - multnomah county library woodstock</th>\n",
       "      <th>library_name - multnomah countylibrary sellwoodmoreland</th>\n",
       "      <th>library_name - multnomahcounty library</th>\n",
       "      <th>library_name - multnomahcounty library albina</th>\n",
       "      <th>library_name - multnomahcounty library central</th>\n",
       "      <th>library_name - multnomahcountylibrary hollywood library</th>\n",
       "      <th>library_name - multnomahcountylibrarynorth portland</th>\n",
       "    </tr>\n",
       "  </thead>\n",
       "  <tbody>\n",
       "    <tr>\n",
       "      <th>1</th>\n",
       "      <td>2018-05-29</td>\n",
       "      <td>416.99</td>\n",
       "      <td>752.0</td>\n",
       "      <td>14.0</td>\n",
       "      <td>0</td>\n",
       "      <td>59.652055</td>\n",
       "      <td>18.273973</td>\n",
       "      <td>0</td>\n",
       "      <td>0</td>\n",
       "      <td>0</td>\n",
       "      <td>...</td>\n",
       "      <td>0</td>\n",
       "      <td>0</td>\n",
       "      <td>0</td>\n",
       "      <td>1</td>\n",
       "      <td>0</td>\n",
       "      <td>0</td>\n",
       "      <td>0</td>\n",
       "      <td>0</td>\n",
       "      <td>0</td>\n",
       "      <td>0</td>\n",
       "    </tr>\n",
       "    <tr>\n",
       "      <th>2</th>\n",
       "      <td>2018-11-23</td>\n",
       "      <td>217.00</td>\n",
       "      <td>790.0</td>\n",
       "      <td>62.0</td>\n",
       "      <td>1</td>\n",
       "      <td>60.876712</td>\n",
       "      <td>20.690411</td>\n",
       "      <td>0</td>\n",
       "      <td>0</td>\n",
       "      <td>0</td>\n",
       "      <td>...</td>\n",
       "      <td>0</td>\n",
       "      <td>0</td>\n",
       "      <td>0</td>\n",
       "      <td>0</td>\n",
       "      <td>0</td>\n",
       "      <td>1</td>\n",
       "      <td>0</td>\n",
       "      <td>0</td>\n",
       "      <td>0</td>\n",
       "      <td>0</td>\n",
       "    </tr>\n",
       "    <tr>\n",
       "      <th>3</th>\n",
       "      <td>2018-01-15</td>\n",
       "      <td>190.50</td>\n",
       "      <td>597.0</td>\n",
       "      <td>100.0</td>\n",
       "      <td>1</td>\n",
       "      <td>-94.495890</td>\n",
       "      <td>5.021918</td>\n",
       "      <td>0</td>\n",
       "      <td>0</td>\n",
       "      <td>0</td>\n",
       "      <td>...</td>\n",
       "      <td>0</td>\n",
       "      <td>1</td>\n",
       "      <td>0</td>\n",
       "      <td>0</td>\n",
       "      <td>0</td>\n",
       "      <td>0</td>\n",
       "      <td>0</td>\n",
       "      <td>0</td>\n",
       "      <td>0</td>\n",
       "      <td>0</td>\n",
       "    </tr>\n",
       "    <tr>\n",
       "      <th>6</th>\n",
       "      <td>2018-01-10</td>\n",
       "      <td>414.50</td>\n",
       "      <td>561.0</td>\n",
       "      <td>25.0</td>\n",
       "      <td>0</td>\n",
       "      <td>40.134247</td>\n",
       "      <td>27.693151</td>\n",
       "      <td>0</td>\n",
       "      <td>0</td>\n",
       "      <td>0</td>\n",
       "      <td>...</td>\n",
       "      <td>0</td>\n",
       "      <td>0</td>\n",
       "      <td>0</td>\n",
       "      <td>0</td>\n",
       "      <td>0</td>\n",
       "      <td>0</td>\n",
       "      <td>0</td>\n",
       "      <td>0</td>\n",
       "      <td>0</td>\n",
       "      <td>0</td>\n",
       "    </tr>\n",
       "    <tr>\n",
       "      <th>8</th>\n",
       "      <td>2018-06-23</td>\n",
       "      <td>149.00</td>\n",
       "      <td>530.0</td>\n",
       "      <td>21.0</td>\n",
       "      <td>0</td>\n",
       "      <td>47.978082</td>\n",
       "      <td>30.695890</td>\n",
       "      <td>0</td>\n",
       "      <td>0</td>\n",
       "      <td>0</td>\n",
       "      <td>...</td>\n",
       "      <td>0</td>\n",
       "      <td>0</td>\n",
       "      <td>0</td>\n",
       "      <td>0</td>\n",
       "      <td>0</td>\n",
       "      <td>0</td>\n",
       "      <td>0</td>\n",
       "      <td>0</td>\n",
       "      <td>0</td>\n",
       "      <td>1</td>\n",
       "    </tr>\n",
       "    <tr>\n",
       "      <th>...</th>\n",
       "      <td>...</td>\n",
       "      <td>...</td>\n",
       "      <td>...</td>\n",
       "      <td>...</td>\n",
       "      <td>...</td>\n",
       "      <td>...</td>\n",
       "      <td>...</td>\n",
       "      <td>...</td>\n",
       "      <td>...</td>\n",
       "      <td>...</td>\n",
       "      <td>...</td>\n",
       "      <td>...</td>\n",
       "      <td>...</td>\n",
       "      <td>...</td>\n",
       "      <td>...</td>\n",
       "      <td>...</td>\n",
       "      <td>...</td>\n",
       "      <td>...</td>\n",
       "      <td>...</td>\n",
       "      <td>...</td>\n",
       "      <td>...</td>\n",
       "    </tr>\n",
       "    <tr>\n",
       "      <th>1995</th>\n",
       "      <td>2018-07-19</td>\n",
       "      <td>302.00</td>\n",
       "      <td>668.0</td>\n",
       "      <td>24.0</td>\n",
       "      <td>0</td>\n",
       "      <td>-96.035616</td>\n",
       "      <td>3.657534</td>\n",
       "      <td>0</td>\n",
       "      <td>0</td>\n",
       "      <td>0</td>\n",
       "      <td>...</td>\n",
       "      <td>0</td>\n",
       "      <td>0</td>\n",
       "      <td>0</td>\n",
       "      <td>0</td>\n",
       "      <td>0</td>\n",
       "      <td>0</td>\n",
       "      <td>0</td>\n",
       "      <td>0</td>\n",
       "      <td>0</td>\n",
       "      <td>1</td>\n",
       "    </tr>\n",
       "    <tr>\n",
       "      <th>1996</th>\n",
       "      <td>2018-03-07</td>\n",
       "      <td>506.99</td>\n",
       "      <td>493.0</td>\n",
       "      <td>6.0</td>\n",
       "      <td>0</td>\n",
       "      <td>56.923288</td>\n",
       "      <td>11.487671</td>\n",
       "      <td>0</td>\n",
       "      <td>0</td>\n",
       "      <td>0</td>\n",
       "      <td>...</td>\n",
       "      <td>0</td>\n",
       "      <td>0</td>\n",
       "      <td>0</td>\n",
       "      <td>0</td>\n",
       "      <td>1</td>\n",
       "      <td>0</td>\n",
       "      <td>0</td>\n",
       "      <td>0</td>\n",
       "      <td>0</td>\n",
       "      <td>0</td>\n",
       "    </tr>\n",
       "    <tr>\n",
       "      <th>1997</th>\n",
       "      <td>2018-06-17</td>\n",
       "      <td>371.00</td>\n",
       "      <td>751.0</td>\n",
       "      <td>10.0</td>\n",
       "      <td>0</td>\n",
       "      <td>212.621918</td>\n",
       "      <td>108.750685</td>\n",
       "      <td>0</td>\n",
       "      <td>0</td>\n",
       "      <td>0</td>\n",
       "      <td>...</td>\n",
       "      <td>0</td>\n",
       "      <td>0</td>\n",
       "      <td>0</td>\n",
       "      <td>0</td>\n",
       "      <td>0</td>\n",
       "      <td>0</td>\n",
       "      <td>0</td>\n",
       "      <td>0</td>\n",
       "      <td>0</td>\n",
       "      <td>0</td>\n",
       "    </tr>\n",
       "    <tr>\n",
       "      <th>1998</th>\n",
       "      <td>2018-12-10</td>\n",
       "      <td>484.00</td>\n",
       "      <td>635.0</td>\n",
       "      <td>19.0</td>\n",
       "      <td>0</td>\n",
       "      <td>44.063014</td>\n",
       "      <td>115.753425</td>\n",
       "      <td>0</td>\n",
       "      <td>0</td>\n",
       "      <td>0</td>\n",
       "      <td>...</td>\n",
       "      <td>0</td>\n",
       "      <td>0</td>\n",
       "      <td>0</td>\n",
       "      <td>1</td>\n",
       "      <td>0</td>\n",
       "      <td>0</td>\n",
       "      <td>0</td>\n",
       "      <td>0</td>\n",
       "      <td>0</td>\n",
       "      <td>0</td>\n",
       "    </tr>\n",
       "    <tr>\n",
       "      <th>1999</th>\n",
       "      <td>2018-10-10</td>\n",
       "      <td>267.99</td>\n",
       "      <td>507.0</td>\n",
       "      <td>22.0</td>\n",
       "      <td>0</td>\n",
       "      <td>61.728767</td>\n",
       "      <td>103.745205</td>\n",
       "      <td>0</td>\n",
       "      <td>0</td>\n",
       "      <td>0</td>\n",
       "      <td>...</td>\n",
       "      <td>0</td>\n",
       "      <td>0</td>\n",
       "      <td>0</td>\n",
       "      <td>0</td>\n",
       "      <td>0</td>\n",
       "      <td>1</td>\n",
       "      <td>0</td>\n",
       "      <td>0</td>\n",
       "      <td>0</td>\n",
       "      <td>0</td>\n",
       "    </tr>\n",
       "  </tbody>\n",
       "</table>\n",
       "<p>1398 rows × 381 columns</p>\n",
       "</div>"
      ]
     },
     "execution_count": 61,
     "metadata": {},
     "output_type": "execute_result"
    }
   ],
   "execution_count": 61
  },
  {
   "metadata": {},
   "cell_type": "markdown",
   "source": "## Feature Analysis",
   "id": "72bb67f71fc6d666"
  },
  {
   "metadata": {},
   "cell_type": "markdown",
   "source": [
    "### Correlation Analysis\n",
    "\n",
    "The following plot shows Spearman correlation of the feature values with the late returns. For simplicity, the categorical feature values that were previously transformed into binary choices are grouped by category names so that the plot shows only the minimum and maximum for each group. For the features that were not transformed in this way the plot shows the same minimum and maximum. \n",
    "\n",
    "The results show that the correlation is weak in all the cases, indicating that there is a need for exploring alternatives, such as incorporating features like holidays, weather, or local events that might influence book returns."
   ],
   "id": "36d2d6575bd20d24"
  },
  {
   "metadata": {
    "ExecuteTime": {
     "end_time": "2024-09-04T08:35:38.846Z",
     "start_time": "2024-09-04T08:35:35.629236Z"
    }
   },
   "cell_type": "code",
   "source": [
    "def plot_features(df, name_col, value_col):\n",
    "    df_result = pd.DataFrame(df[[name_col, value_col]])\n",
    "    df_result.columns=['feature', 'value']\n",
    "    df_result['feature'] = df_result['feature'].apply(lambda _: _.split(' - ')[0])\n",
    "    df_result = df_result.groupby('feature', sort=False).aggregate(['min', 'max']).reset_index()\n",
    "    df_result.columns = ['feature', 'min', 'max']\n",
    "    return px.bar(df_result, x='feature', y=['min', 'max'], barmode='group')\n",
    "    \n",
    "    \n",
    "def plot_corr(df, target, method='spearman'):\n",
    "    df_corr = df.corr(method)[target].reset_index()\n",
    "    df_corr = df_corr[df_corr['index'] != target]\n",
    "    df_corr.sort_values(target, ascending=False, inplace=True)\n",
    "    return plot_features(df_corr, 'index', target)\n",
    "\n",
    "\n",
    "plot_corr(df_xy.drop(columns=['date_checkout', 'checkout_days']), 'late_return').write_html('correlation_analysis.html')"
   ],
   "id": "c46ba7fde603960",
   "outputs": [],
   "execution_count": 82
  },
  {
   "metadata": {},
   "cell_type": "markdown",
   "source": [
    "### Trend Analysis\n",
    "\n",
    "The following plot shows the number of late returns for different checkout dates. The periodic fluctuations of the presented values over time imply that the calendar features, such as day of the week, month of the year, etc., could be useful for predicting the late returns.\n",
    "\n"
   ],
   "id": "992991410bfcf9ca"
  },
  {
   "metadata": {
    "ExecuteTime": {
     "end_time": "2024-09-04T08:30:45.521098Z",
     "start_time": "2024-09-04T08:30:45.392068Z"
    }
   },
   "cell_type": "code",
   "source": "px.line(df_xy.groupby('date_checkout').sum('late_return').reset_index(), x='date_checkout', y='late_return')",
   "id": "a2bb0bd50ed4bb30",
   "outputs": [
    {
     "data": {
      "application/vnd.plotly.v1+json": {
       "data": [
        {
         "hovertemplate": "date_checkout=%{x}<br>late_return=%{y}<extra></extra>",
         "legendgroup": "",
         "line": {
          "color": "#636efa",
          "dash": "solid"
         },
         "marker": {
          "symbol": "circle"
         },
         "mode": "lines",
         "name": "",
         "orientation": "v",
         "showlegend": false,
         "x": [
          "2018-01-01T00:00:00",
          "2018-01-02T00:00:00",
          "2018-01-03T00:00:00",
          "2018-01-04T00:00:00",
          "2018-01-05T00:00:00",
          "2018-01-06T00:00:00",
          "2018-01-07T00:00:00",
          "2018-01-08T00:00:00",
          "2018-01-09T00:00:00",
          "2018-01-10T00:00:00",
          "2018-01-11T00:00:00",
          "2018-01-12T00:00:00",
          "2018-01-13T00:00:00",
          "2018-01-14T00:00:00",
          "2018-01-15T00:00:00",
          "2018-01-16T00:00:00",
          "2018-01-17T00:00:00",
          "2018-01-18T00:00:00",
          "2018-01-19T00:00:00",
          "2018-01-20T00:00:00",
          "2018-01-21T00:00:00",
          "2018-01-22T00:00:00",
          "2018-01-23T00:00:00",
          "2018-01-24T00:00:00",
          "2018-01-25T00:00:00",
          "2018-01-26T00:00:00",
          "2018-01-27T00:00:00",
          "2018-01-28T00:00:00",
          "2018-01-29T00:00:00",
          "2018-01-30T00:00:00",
          "2018-01-31T00:00:00",
          "2018-02-01T00:00:00",
          "2018-02-02T00:00:00",
          "2018-02-03T00:00:00",
          "2018-02-04T00:00:00",
          "2018-02-05T00:00:00",
          "2018-02-06T00:00:00",
          "2018-02-07T00:00:00",
          "2018-02-08T00:00:00",
          "2018-02-09T00:00:00",
          "2018-02-10T00:00:00",
          "2018-02-11T00:00:00",
          "2018-02-12T00:00:00",
          "2018-02-13T00:00:00",
          "2018-02-14T00:00:00",
          "2018-02-15T00:00:00",
          "2018-02-16T00:00:00",
          "2018-02-17T00:00:00",
          "2018-02-18T00:00:00",
          "2018-02-19T00:00:00",
          "2018-02-20T00:00:00",
          "2018-02-21T00:00:00",
          "2018-02-22T00:00:00",
          "2018-02-23T00:00:00",
          "2018-02-24T00:00:00",
          "2018-02-25T00:00:00",
          "2018-02-26T00:00:00",
          "2018-02-27T00:00:00",
          "2018-02-28T00:00:00",
          "2018-03-01T00:00:00",
          "2018-03-02T00:00:00",
          "2018-03-03T00:00:00",
          "2018-03-04T00:00:00",
          "2018-03-05T00:00:00",
          "2018-03-06T00:00:00",
          "2018-03-07T00:00:00",
          "2018-03-08T00:00:00",
          "2018-03-09T00:00:00",
          "2018-03-10T00:00:00",
          "2018-03-12T00:00:00",
          "2018-03-13T00:00:00",
          "2018-03-14T00:00:00",
          "2018-03-15T00:00:00",
          "2018-03-16T00:00:00",
          "2018-03-17T00:00:00",
          "2018-03-18T00:00:00",
          "2018-03-19T00:00:00",
          "2018-03-20T00:00:00",
          "2018-03-21T00:00:00",
          "2018-03-22T00:00:00",
          "2018-03-23T00:00:00",
          "2018-03-24T00:00:00",
          "2018-03-25T00:00:00",
          "2018-03-26T00:00:00",
          "2018-03-27T00:00:00",
          "2018-03-28T00:00:00",
          "2018-03-29T00:00:00",
          "2018-03-30T00:00:00",
          "2018-03-31T00:00:00",
          "2018-04-01T00:00:00",
          "2018-04-02T00:00:00",
          "2018-04-03T00:00:00",
          "2018-04-04T00:00:00",
          "2018-04-05T00:00:00",
          "2018-04-07T00:00:00",
          "2018-04-08T00:00:00",
          "2018-04-09T00:00:00",
          "2018-04-10T00:00:00",
          "2018-04-11T00:00:00",
          "2018-04-12T00:00:00",
          "2018-04-13T00:00:00",
          "2018-04-15T00:00:00",
          "2018-04-16T00:00:00",
          "2018-04-17T00:00:00",
          "2018-04-18T00:00:00",
          "2018-04-19T00:00:00",
          "2018-04-20T00:00:00",
          "2018-04-21T00:00:00",
          "2018-04-22T00:00:00",
          "2018-04-23T00:00:00",
          "2018-04-24T00:00:00",
          "2018-04-25T00:00:00",
          "2018-04-26T00:00:00",
          "2018-04-27T00:00:00",
          "2018-04-28T00:00:00",
          "2018-04-29T00:00:00",
          "2018-04-30T00:00:00",
          "2018-05-01T00:00:00",
          "2018-05-02T00:00:00",
          "2018-05-03T00:00:00",
          "2018-05-04T00:00:00",
          "2018-05-05T00:00:00",
          "2018-05-06T00:00:00",
          "2018-05-07T00:00:00",
          "2018-05-08T00:00:00",
          "2018-05-09T00:00:00",
          "2018-05-10T00:00:00",
          "2018-05-11T00:00:00",
          "2018-05-12T00:00:00",
          "2018-05-13T00:00:00",
          "2018-05-14T00:00:00",
          "2018-05-15T00:00:00",
          "2018-05-16T00:00:00",
          "2018-05-17T00:00:00",
          "2018-05-18T00:00:00",
          "2018-05-19T00:00:00",
          "2018-05-20T00:00:00",
          "2018-05-21T00:00:00",
          "2018-05-22T00:00:00",
          "2018-05-23T00:00:00",
          "2018-05-24T00:00:00",
          "2018-05-25T00:00:00",
          "2018-05-26T00:00:00",
          "2018-05-27T00:00:00",
          "2018-05-28T00:00:00",
          "2018-05-29T00:00:00",
          "2018-05-30T00:00:00",
          "2018-05-31T00:00:00",
          "2018-06-01T00:00:00",
          "2018-06-02T00:00:00",
          "2018-06-03T00:00:00",
          "2018-06-04T00:00:00",
          "2018-06-05T00:00:00",
          "2018-06-06T00:00:00",
          "2018-06-07T00:00:00",
          "2018-06-08T00:00:00",
          "2018-06-09T00:00:00",
          "2018-06-10T00:00:00",
          "2018-06-11T00:00:00",
          "2018-06-13T00:00:00",
          "2018-06-14T00:00:00",
          "2018-06-15T00:00:00",
          "2018-06-16T00:00:00",
          "2018-06-17T00:00:00",
          "2018-06-18T00:00:00",
          "2018-06-19T00:00:00",
          "2018-06-20T00:00:00",
          "2018-06-21T00:00:00",
          "2018-06-22T00:00:00",
          "2018-06-23T00:00:00",
          "2018-06-24T00:00:00",
          "2018-06-25T00:00:00",
          "2018-06-26T00:00:00",
          "2018-06-27T00:00:00",
          "2018-06-28T00:00:00",
          "2018-06-29T00:00:00",
          "2018-06-30T00:00:00",
          "2018-07-01T00:00:00",
          "2018-07-02T00:00:00",
          "2018-07-03T00:00:00",
          "2018-07-04T00:00:00",
          "2018-07-05T00:00:00",
          "2018-07-06T00:00:00",
          "2018-07-07T00:00:00",
          "2018-07-08T00:00:00",
          "2018-07-09T00:00:00",
          "2018-07-10T00:00:00",
          "2018-07-11T00:00:00",
          "2018-07-12T00:00:00",
          "2018-07-13T00:00:00",
          "2018-07-14T00:00:00",
          "2018-07-15T00:00:00",
          "2018-07-16T00:00:00",
          "2018-07-17T00:00:00",
          "2018-07-18T00:00:00",
          "2018-07-19T00:00:00",
          "2018-07-20T00:00:00",
          "2018-07-21T00:00:00",
          "2018-07-22T00:00:00",
          "2018-07-23T00:00:00",
          "2018-07-24T00:00:00",
          "2018-07-25T00:00:00",
          "2018-07-26T00:00:00",
          "2018-07-27T00:00:00",
          "2018-07-28T00:00:00",
          "2018-07-29T00:00:00",
          "2018-07-30T00:00:00",
          "2018-08-01T00:00:00",
          "2018-08-02T00:00:00",
          "2018-08-03T00:00:00",
          "2018-08-05T00:00:00",
          "2018-08-06T00:00:00",
          "2018-08-07T00:00:00",
          "2018-08-08T00:00:00",
          "2018-08-09T00:00:00",
          "2018-08-10T00:00:00",
          "2018-08-11T00:00:00",
          "2018-08-12T00:00:00",
          "2018-08-13T00:00:00",
          "2018-08-14T00:00:00",
          "2018-08-15T00:00:00",
          "2018-08-16T00:00:00",
          "2018-08-17T00:00:00",
          "2018-08-18T00:00:00",
          "2018-08-19T00:00:00",
          "2018-08-20T00:00:00",
          "2018-08-21T00:00:00",
          "2018-08-22T00:00:00",
          "2018-08-23T00:00:00",
          "2018-08-24T00:00:00",
          "2018-08-25T00:00:00",
          "2018-08-26T00:00:00",
          "2018-08-27T00:00:00",
          "2018-08-28T00:00:00",
          "2018-08-29T00:00:00",
          "2018-08-30T00:00:00",
          "2018-08-31T00:00:00",
          "2018-09-01T00:00:00",
          "2018-09-02T00:00:00",
          "2018-09-03T00:00:00",
          "2018-09-04T00:00:00",
          "2018-09-05T00:00:00",
          "2018-09-06T00:00:00",
          "2018-09-07T00:00:00",
          "2018-09-08T00:00:00",
          "2018-09-09T00:00:00",
          "2018-09-10T00:00:00",
          "2018-09-11T00:00:00",
          "2018-09-12T00:00:00",
          "2018-09-13T00:00:00",
          "2018-09-14T00:00:00",
          "2018-09-15T00:00:00",
          "2018-09-16T00:00:00",
          "2018-09-17T00:00:00",
          "2018-09-18T00:00:00",
          "2018-09-19T00:00:00",
          "2018-09-20T00:00:00",
          "2018-09-21T00:00:00",
          "2018-09-22T00:00:00",
          "2018-09-23T00:00:00",
          "2018-09-24T00:00:00",
          "2018-09-25T00:00:00",
          "2018-09-26T00:00:00",
          "2018-09-27T00:00:00",
          "2018-09-28T00:00:00",
          "2018-09-29T00:00:00",
          "2018-09-30T00:00:00",
          "2018-10-01T00:00:00",
          "2018-10-02T00:00:00",
          "2018-10-03T00:00:00",
          "2018-10-04T00:00:00",
          "2018-10-05T00:00:00",
          "2018-10-06T00:00:00",
          "2018-10-07T00:00:00",
          "2018-10-08T00:00:00",
          "2018-10-09T00:00:00",
          "2018-10-10T00:00:00",
          "2018-10-11T00:00:00",
          "2018-10-13T00:00:00",
          "2018-10-14T00:00:00",
          "2018-10-15T00:00:00",
          "2018-10-16T00:00:00",
          "2018-10-17T00:00:00",
          "2018-10-18T00:00:00",
          "2018-10-19T00:00:00",
          "2018-10-20T00:00:00",
          "2018-10-21T00:00:00",
          "2018-10-22T00:00:00",
          "2018-10-23T00:00:00",
          "2018-10-24T00:00:00",
          "2018-10-25T00:00:00",
          "2018-10-26T00:00:00",
          "2018-10-27T00:00:00",
          "2018-10-28T00:00:00",
          "2018-10-29T00:00:00",
          "2018-10-30T00:00:00",
          "2018-10-31T00:00:00",
          "2018-11-01T00:00:00",
          "2018-11-03T00:00:00",
          "2018-11-04T00:00:00",
          "2018-11-05T00:00:00",
          "2018-11-06T00:00:00",
          "2018-11-07T00:00:00",
          "2018-11-08T00:00:00",
          "2018-11-09T00:00:00",
          "2018-11-10T00:00:00",
          "2018-11-11T00:00:00",
          "2018-11-12T00:00:00",
          "2018-11-13T00:00:00",
          "2018-11-14T00:00:00",
          "2018-11-15T00:00:00",
          "2018-11-16T00:00:00",
          "2018-11-17T00:00:00",
          "2018-11-18T00:00:00",
          "2018-11-19T00:00:00",
          "2018-11-20T00:00:00",
          "2018-11-21T00:00:00",
          "2018-11-22T00:00:00",
          "2018-11-23T00:00:00",
          "2018-11-27T00:00:00",
          "2018-11-28T00:00:00",
          "2018-11-29T00:00:00",
          "2018-11-30T00:00:00",
          "2018-12-01T00:00:00",
          "2018-12-02T00:00:00",
          "2018-12-03T00:00:00",
          "2018-12-04T00:00:00",
          "2018-12-05T00:00:00",
          "2018-12-06T00:00:00",
          "2018-12-07T00:00:00",
          "2018-12-08T00:00:00",
          "2018-12-09T00:00:00",
          "2018-12-10T00:00:00",
          "2018-12-11T00:00:00",
          "2018-12-12T00:00:00",
          "2018-12-13T00:00:00",
          "2018-12-14T00:00:00",
          "2018-12-15T00:00:00",
          "2018-12-16T00:00:00",
          "2018-12-17T00:00:00",
          "2018-12-18T00:00:00",
          "2018-12-19T00:00:00",
          "2018-12-20T00:00:00",
          "2018-12-21T00:00:00",
          "2018-12-22T00:00:00",
          "2018-12-23T00:00:00",
          "2018-12-24T00:00:00",
          "2018-12-25T00:00:00",
          "2018-12-26T00:00:00",
          "2018-12-27T00:00:00",
          "2018-12-28T00:00:00",
          "2018-12-29T00:00:00",
          "2018-12-30T00:00:00",
          "2018-12-31T00:00:00"
         ],
         "xaxis": "x",
         "y": [
          1,
          0,
          2,
          3,
          2,
          0,
          0,
          1,
          2,
          0,
          0,
          0,
          0,
          0,
          1,
          1,
          0,
          0,
          2,
          0,
          0,
          1,
          2,
          1,
          1,
          1,
          2,
          0,
          0,
          3,
          0,
          0,
          0,
          3,
          1,
          3,
          1,
          0,
          0,
          1,
          0,
          0,
          0,
          0,
          0,
          0,
          2,
          1,
          1,
          1,
          0,
          1,
          2,
          2,
          1,
          1,
          0,
          0,
          0,
          0,
          0,
          0,
          0,
          2,
          0,
          1,
          0,
          2,
          0,
          1,
          1,
          1,
          1,
          0,
          2,
          1,
          1,
          3,
          2,
          1,
          0,
          0,
          1,
          1,
          1,
          1,
          0,
          2,
          0,
          0,
          1,
          1,
          0,
          1,
          0,
          1,
          3,
          2,
          1,
          1,
          0,
          0,
          2,
          1,
          1,
          0,
          0,
          1,
          1,
          0,
          1,
          0,
          0,
          0,
          0,
          0,
          1,
          0,
          0,
          1,
          0,
          1,
          0,
          0,
          1,
          0,
          0,
          0,
          1,
          0,
          0,
          0,
          0,
          0,
          0,
          0,
          0,
          1,
          2,
          2,
          0,
          0,
          0,
          1,
          0,
          0,
          0,
          2,
          0,
          0,
          1,
          0,
          2,
          2,
          1,
          2,
          1,
          0,
          0,
          1,
          2,
          3,
          2,
          1,
          0,
          0,
          0,
          0,
          0,
          0,
          0,
          1,
          0,
          1,
          1,
          1,
          1,
          0,
          0,
          2,
          2,
          1,
          3,
          1,
          2,
          0,
          0,
          2,
          3,
          0,
          0,
          0,
          0,
          0,
          2,
          0,
          1,
          0,
          0,
          0,
          0,
          0,
          1,
          0,
          1,
          0,
          0,
          2,
          0,
          0,
          1,
          1,
          2,
          2,
          2,
          1,
          1,
          1,
          1,
          1,
          1,
          0,
          0,
          2,
          1,
          1,
          1,
          1,
          0,
          0,
          0,
          0,
          0,
          1,
          0,
          0,
          1,
          0,
          0,
          1,
          0,
          0,
          2,
          0,
          1,
          3,
          1,
          1,
          0,
          1,
          1,
          0,
          0,
          1,
          0,
          0,
          0,
          0,
          0,
          0,
          1,
          3,
          2,
          0,
          2,
          2,
          0,
          1,
          0,
          1,
          1,
          0,
          0,
          2,
          0,
          0,
          0,
          0,
          1,
          0,
          1,
          1,
          1,
          0,
          2,
          1,
          0,
          1,
          0,
          0,
          1,
          0,
          1,
          0,
          0,
          2,
          1,
          1,
          0,
          1,
          1,
          0,
          0,
          0,
          1,
          0,
          0,
          2,
          3,
          0,
          2,
          1,
          1,
          0,
          1,
          1,
          1,
          1,
          1,
          2,
          2,
          2,
          2,
          2,
          0,
          1,
          1,
          2,
          1,
          1,
          1,
          1,
          0,
          1,
          1,
          0,
          1,
          1,
          0,
          0,
          2,
          0,
          0,
          0,
          1,
          0,
          3,
          2,
          1,
          1,
          0,
          2,
          0,
          1
         ],
         "yaxis": "y",
         "type": "scatter"
        }
       ],
       "layout": {
        "template": {
         "data": {
          "histogram2dcontour": [
           {
            "type": "histogram2dcontour",
            "colorbar": {
             "outlinewidth": 0,
             "ticks": ""
            },
            "colorscale": [
             [
              0.0,
              "#0d0887"
             ],
             [
              0.1111111111111111,
              "#46039f"
             ],
             [
              0.2222222222222222,
              "#7201a8"
             ],
             [
              0.3333333333333333,
              "#9c179e"
             ],
             [
              0.4444444444444444,
              "#bd3786"
             ],
             [
              0.5555555555555556,
              "#d8576b"
             ],
             [
              0.6666666666666666,
              "#ed7953"
             ],
             [
              0.7777777777777778,
              "#fb9f3a"
             ],
             [
              0.8888888888888888,
              "#fdca26"
             ],
             [
              1.0,
              "#f0f921"
             ]
            ]
           }
          ],
          "choropleth": [
           {
            "type": "choropleth",
            "colorbar": {
             "outlinewidth": 0,
             "ticks": ""
            }
           }
          ],
          "histogram2d": [
           {
            "type": "histogram2d",
            "colorbar": {
             "outlinewidth": 0,
             "ticks": ""
            },
            "colorscale": [
             [
              0.0,
              "#0d0887"
             ],
             [
              0.1111111111111111,
              "#46039f"
             ],
             [
              0.2222222222222222,
              "#7201a8"
             ],
             [
              0.3333333333333333,
              "#9c179e"
             ],
             [
              0.4444444444444444,
              "#bd3786"
             ],
             [
              0.5555555555555556,
              "#d8576b"
             ],
             [
              0.6666666666666666,
              "#ed7953"
             ],
             [
              0.7777777777777778,
              "#fb9f3a"
             ],
             [
              0.8888888888888888,
              "#fdca26"
             ],
             [
              1.0,
              "#f0f921"
             ]
            ]
           }
          ],
          "heatmap": [
           {
            "type": "heatmap",
            "colorbar": {
             "outlinewidth": 0,
             "ticks": ""
            },
            "colorscale": [
             [
              0.0,
              "#0d0887"
             ],
             [
              0.1111111111111111,
              "#46039f"
             ],
             [
              0.2222222222222222,
              "#7201a8"
             ],
             [
              0.3333333333333333,
              "#9c179e"
             ],
             [
              0.4444444444444444,
              "#bd3786"
             ],
             [
              0.5555555555555556,
              "#d8576b"
             ],
             [
              0.6666666666666666,
              "#ed7953"
             ],
             [
              0.7777777777777778,
              "#fb9f3a"
             ],
             [
              0.8888888888888888,
              "#fdca26"
             ],
             [
              1.0,
              "#f0f921"
             ]
            ]
           }
          ],
          "heatmapgl": [
           {
            "type": "heatmapgl",
            "colorbar": {
             "outlinewidth": 0,
             "ticks": ""
            },
            "colorscale": [
             [
              0.0,
              "#0d0887"
             ],
             [
              0.1111111111111111,
              "#46039f"
             ],
             [
              0.2222222222222222,
              "#7201a8"
             ],
             [
              0.3333333333333333,
              "#9c179e"
             ],
             [
              0.4444444444444444,
              "#bd3786"
             ],
             [
              0.5555555555555556,
              "#d8576b"
             ],
             [
              0.6666666666666666,
              "#ed7953"
             ],
             [
              0.7777777777777778,
              "#fb9f3a"
             ],
             [
              0.8888888888888888,
              "#fdca26"
             ],
             [
              1.0,
              "#f0f921"
             ]
            ]
           }
          ],
          "contourcarpet": [
           {
            "type": "contourcarpet",
            "colorbar": {
             "outlinewidth": 0,
             "ticks": ""
            }
           }
          ],
          "contour": [
           {
            "type": "contour",
            "colorbar": {
             "outlinewidth": 0,
             "ticks": ""
            },
            "colorscale": [
             [
              0.0,
              "#0d0887"
             ],
             [
              0.1111111111111111,
              "#46039f"
             ],
             [
              0.2222222222222222,
              "#7201a8"
             ],
             [
              0.3333333333333333,
              "#9c179e"
             ],
             [
              0.4444444444444444,
              "#bd3786"
             ],
             [
              0.5555555555555556,
              "#d8576b"
             ],
             [
              0.6666666666666666,
              "#ed7953"
             ],
             [
              0.7777777777777778,
              "#fb9f3a"
             ],
             [
              0.8888888888888888,
              "#fdca26"
             ],
             [
              1.0,
              "#f0f921"
             ]
            ]
           }
          ],
          "surface": [
           {
            "type": "surface",
            "colorbar": {
             "outlinewidth": 0,
             "ticks": ""
            },
            "colorscale": [
             [
              0.0,
              "#0d0887"
             ],
             [
              0.1111111111111111,
              "#46039f"
             ],
             [
              0.2222222222222222,
              "#7201a8"
             ],
             [
              0.3333333333333333,
              "#9c179e"
             ],
             [
              0.4444444444444444,
              "#bd3786"
             ],
             [
              0.5555555555555556,
              "#d8576b"
             ],
             [
              0.6666666666666666,
              "#ed7953"
             ],
             [
              0.7777777777777778,
              "#fb9f3a"
             ],
             [
              0.8888888888888888,
              "#fdca26"
             ],
             [
              1.0,
              "#f0f921"
             ]
            ]
           }
          ],
          "mesh3d": [
           {
            "type": "mesh3d",
            "colorbar": {
             "outlinewidth": 0,
             "ticks": ""
            }
           }
          ],
          "scatter": [
           {
            "marker": {
             "line": {
              "color": "#283442"
             }
            },
            "type": "scatter"
           }
          ],
          "parcoords": [
           {
            "type": "parcoords",
            "line": {
             "colorbar": {
              "outlinewidth": 0,
              "ticks": ""
             }
            }
           }
          ],
          "scatterpolargl": [
           {
            "type": "scatterpolargl",
            "marker": {
             "colorbar": {
              "outlinewidth": 0,
              "ticks": ""
             }
            }
           }
          ],
          "bar": [
           {
            "error_x": {
             "color": "#f2f5fa"
            },
            "error_y": {
             "color": "#f2f5fa"
            },
            "marker": {
             "line": {
              "color": "rgb(17,17,17)",
              "width": 0.5
             },
             "pattern": {
              "fillmode": "overlay",
              "size": 10,
              "solidity": 0.2
             }
            },
            "type": "bar"
           }
          ],
          "scattergeo": [
           {
            "type": "scattergeo",
            "marker": {
             "colorbar": {
              "outlinewidth": 0,
              "ticks": ""
             }
            }
           }
          ],
          "scatterpolar": [
           {
            "type": "scatterpolar",
            "marker": {
             "colorbar": {
              "outlinewidth": 0,
              "ticks": ""
             }
            }
           }
          ],
          "histogram": [
           {
            "marker": {
             "pattern": {
              "fillmode": "overlay",
              "size": 10,
              "solidity": 0.2
             }
            },
            "type": "histogram"
           }
          ],
          "scattergl": [
           {
            "marker": {
             "line": {
              "color": "#283442"
             }
            },
            "type": "scattergl"
           }
          ],
          "scatter3d": [
           {
            "type": "scatter3d",
            "line": {
             "colorbar": {
              "outlinewidth": 0,
              "ticks": ""
             }
            },
            "marker": {
             "colorbar": {
              "outlinewidth": 0,
              "ticks": ""
             }
            }
           }
          ],
          "scattermapbox": [
           {
            "type": "scattermapbox",
            "marker": {
             "colorbar": {
              "outlinewidth": 0,
              "ticks": ""
             }
            }
           }
          ],
          "scatterternary": [
           {
            "type": "scatterternary",
            "marker": {
             "colorbar": {
              "outlinewidth": 0,
              "ticks": ""
             }
            }
           }
          ],
          "scattercarpet": [
           {
            "type": "scattercarpet",
            "marker": {
             "colorbar": {
              "outlinewidth": 0,
              "ticks": ""
             }
            }
           }
          ],
          "carpet": [
           {
            "aaxis": {
             "endlinecolor": "#A2B1C6",
             "gridcolor": "#506784",
             "linecolor": "#506784",
             "minorgridcolor": "#506784",
             "startlinecolor": "#A2B1C6"
            },
            "baxis": {
             "endlinecolor": "#A2B1C6",
             "gridcolor": "#506784",
             "linecolor": "#506784",
             "minorgridcolor": "#506784",
             "startlinecolor": "#A2B1C6"
            },
            "type": "carpet"
           }
          ],
          "table": [
           {
            "cells": {
             "fill": {
              "color": "#506784"
             },
             "line": {
              "color": "rgb(17,17,17)"
             }
            },
            "header": {
             "fill": {
              "color": "#2a3f5f"
             },
             "line": {
              "color": "rgb(17,17,17)"
             }
            },
            "type": "table"
           }
          ],
          "barpolar": [
           {
            "marker": {
             "line": {
              "color": "rgb(17,17,17)",
              "width": 0.5
             },
             "pattern": {
              "fillmode": "overlay",
              "size": 10,
              "solidity": 0.2
             }
            },
            "type": "barpolar"
           }
          ],
          "pie": [
           {
            "automargin": true,
            "type": "pie"
           }
          ]
         },
         "layout": {
          "autotypenumbers": "strict",
          "colorway": [
           "#636efa",
           "#EF553B",
           "#00cc96",
           "#ab63fa",
           "#FFA15A",
           "#19d3f3",
           "#FF6692",
           "#B6E880",
           "#FF97FF",
           "#FECB52"
          ],
          "font": {
           "color": "#f2f5fa"
          },
          "hovermode": "closest",
          "hoverlabel": {
           "align": "left"
          },
          "paper_bgcolor": "rgb(17,17,17)",
          "plot_bgcolor": "rgb(17,17,17)",
          "polar": {
           "bgcolor": "rgb(17,17,17)",
           "angularaxis": {
            "gridcolor": "#506784",
            "linecolor": "#506784",
            "ticks": ""
           },
           "radialaxis": {
            "gridcolor": "#506784",
            "linecolor": "#506784",
            "ticks": ""
           }
          },
          "ternary": {
           "bgcolor": "rgb(17,17,17)",
           "aaxis": {
            "gridcolor": "#506784",
            "linecolor": "#506784",
            "ticks": ""
           },
           "baxis": {
            "gridcolor": "#506784",
            "linecolor": "#506784",
            "ticks": ""
           },
           "caxis": {
            "gridcolor": "#506784",
            "linecolor": "#506784",
            "ticks": ""
           }
          },
          "coloraxis": {
           "colorbar": {
            "outlinewidth": 0,
            "ticks": ""
           }
          },
          "colorscale": {
           "sequential": [
            [
             0.0,
             "#0d0887"
            ],
            [
             0.1111111111111111,
             "#46039f"
            ],
            [
             0.2222222222222222,
             "#7201a8"
            ],
            [
             0.3333333333333333,
             "#9c179e"
            ],
            [
             0.4444444444444444,
             "#bd3786"
            ],
            [
             0.5555555555555556,
             "#d8576b"
            ],
            [
             0.6666666666666666,
             "#ed7953"
            ],
            [
             0.7777777777777778,
             "#fb9f3a"
            ],
            [
             0.8888888888888888,
             "#fdca26"
            ],
            [
             1.0,
             "#f0f921"
            ]
           ],
           "sequentialminus": [
            [
             0.0,
             "#0d0887"
            ],
            [
             0.1111111111111111,
             "#46039f"
            ],
            [
             0.2222222222222222,
             "#7201a8"
            ],
            [
             0.3333333333333333,
             "#9c179e"
            ],
            [
             0.4444444444444444,
             "#bd3786"
            ],
            [
             0.5555555555555556,
             "#d8576b"
            ],
            [
             0.6666666666666666,
             "#ed7953"
            ],
            [
             0.7777777777777778,
             "#fb9f3a"
            ],
            [
             0.8888888888888888,
             "#fdca26"
            ],
            [
             1.0,
             "#f0f921"
            ]
           ],
           "diverging": [
            [
             0,
             "#8e0152"
            ],
            [
             0.1,
             "#c51b7d"
            ],
            [
             0.2,
             "#de77ae"
            ],
            [
             0.3,
             "#f1b6da"
            ],
            [
             0.4,
             "#fde0ef"
            ],
            [
             0.5,
             "#f7f7f7"
            ],
            [
             0.6,
             "#e6f5d0"
            ],
            [
             0.7,
             "#b8e186"
            ],
            [
             0.8,
             "#7fbc41"
            ],
            [
             0.9,
             "#4d9221"
            ],
            [
             1,
             "#276419"
            ]
           ]
          },
          "xaxis": {
           "gridcolor": "#283442",
           "linecolor": "#506784",
           "ticks": "",
           "title": {
            "standoff": 15
           },
           "zerolinecolor": "#283442",
           "automargin": true,
           "zerolinewidth": 2
          },
          "yaxis": {
           "gridcolor": "#283442",
           "linecolor": "#506784",
           "ticks": "",
           "title": {
            "standoff": 15
           },
           "zerolinecolor": "#283442",
           "automargin": true,
           "zerolinewidth": 2
          },
          "scene": {
           "xaxis": {
            "backgroundcolor": "rgb(17,17,17)",
            "gridcolor": "#506784",
            "linecolor": "#506784",
            "showbackground": true,
            "ticks": "",
            "zerolinecolor": "#C8D4E3",
            "gridwidth": 2
           },
           "yaxis": {
            "backgroundcolor": "rgb(17,17,17)",
            "gridcolor": "#506784",
            "linecolor": "#506784",
            "showbackground": true,
            "ticks": "",
            "zerolinecolor": "#C8D4E3",
            "gridwidth": 2
           },
           "zaxis": {
            "backgroundcolor": "rgb(17,17,17)",
            "gridcolor": "#506784",
            "linecolor": "#506784",
            "showbackground": true,
            "ticks": "",
            "zerolinecolor": "#C8D4E3",
            "gridwidth": 2
           }
          },
          "shapedefaults": {
           "line": {
            "color": "#f2f5fa"
           }
          },
          "annotationdefaults": {
           "arrowcolor": "#f2f5fa",
           "arrowhead": 0,
           "arrowwidth": 1
          },
          "geo": {
           "bgcolor": "rgb(17,17,17)",
           "landcolor": "rgb(17,17,17)",
           "subunitcolor": "#506784",
           "showland": true,
           "showlakes": true,
           "lakecolor": "rgb(17,17,17)"
          },
          "title": {
           "x": 0.05
          },
          "updatemenudefaults": {
           "bgcolor": "#506784",
           "borderwidth": 0
          },
          "sliderdefaults": {
           "bgcolor": "#C8D4E3",
           "borderwidth": 1,
           "bordercolor": "rgb(17,17,17)",
           "tickwidth": 0
          },
          "mapbox": {
           "style": "dark"
          }
         }
        },
        "xaxis": {
         "anchor": "y",
         "domain": [
          0.0,
          1.0
         ],
         "title": {
          "text": "date_checkout"
         }
        },
        "yaxis": {
         "anchor": "x",
         "domain": [
          0.0,
          1.0
         ],
         "title": {
          "text": "late_return"
         }
        },
        "legend": {
         "tracegroupgap": 0
        },
        "margin": {
         "t": 60
        }
       },
       "config": {
        "plotlyServerURL": "https://plot.ly"
       }
      },
      "text/html": [
       "<div>                            <div id=\"60272293-49c6-40c2-a414-042ad4f1780a\" class=\"plotly-graph-div\" style=\"height:525px; width:100%;\"></div>            <script type=\"text/javascript\">                require([\"plotly\"], function(Plotly) {                    window.PLOTLYENV=window.PLOTLYENV || {};                                    if (document.getElementById(\"60272293-49c6-40c2-a414-042ad4f1780a\")) {                    Plotly.newPlot(                        \"60272293-49c6-40c2-a414-042ad4f1780a\",                        [{\"hovertemplate\":\"date_checkout=%{x}\\u003cbr\\u003elate_return=%{y}\\u003cextra\\u003e\\u003c\\u002fextra\\u003e\",\"legendgroup\":\"\",\"line\":{\"color\":\"#636efa\",\"dash\":\"solid\"},\"marker\":{\"symbol\":\"circle\"},\"mode\":\"lines\",\"name\":\"\",\"orientation\":\"v\",\"showlegend\":false,\"x\":[\"2018-01-01T00:00:00\",\"2018-01-02T00:00:00\",\"2018-01-03T00:00:00\",\"2018-01-04T00:00:00\",\"2018-01-05T00:00:00\",\"2018-01-06T00:00:00\",\"2018-01-07T00:00:00\",\"2018-01-08T00:00:00\",\"2018-01-09T00:00:00\",\"2018-01-10T00:00:00\",\"2018-01-11T00:00:00\",\"2018-01-12T00:00:00\",\"2018-01-13T00:00:00\",\"2018-01-14T00:00:00\",\"2018-01-15T00:00:00\",\"2018-01-16T00:00:00\",\"2018-01-17T00:00:00\",\"2018-01-18T00:00:00\",\"2018-01-19T00:00:00\",\"2018-01-20T00:00:00\",\"2018-01-21T00:00:00\",\"2018-01-22T00:00:00\",\"2018-01-23T00:00:00\",\"2018-01-24T00:00:00\",\"2018-01-25T00:00:00\",\"2018-01-26T00:00:00\",\"2018-01-27T00:00:00\",\"2018-01-28T00:00:00\",\"2018-01-29T00:00:00\",\"2018-01-30T00:00:00\",\"2018-01-31T00:00:00\",\"2018-02-01T00:00:00\",\"2018-02-02T00:00:00\",\"2018-02-03T00:00:00\",\"2018-02-04T00:00:00\",\"2018-02-05T00:00:00\",\"2018-02-06T00:00:00\",\"2018-02-07T00:00:00\",\"2018-02-08T00:00:00\",\"2018-02-09T00:00:00\",\"2018-02-10T00:00:00\",\"2018-02-11T00:00:00\",\"2018-02-12T00:00:00\",\"2018-02-13T00:00:00\",\"2018-02-14T00:00:00\",\"2018-02-15T00:00:00\",\"2018-02-16T00:00:00\",\"2018-02-17T00:00:00\",\"2018-02-18T00:00:00\",\"2018-02-19T00:00:00\",\"2018-02-20T00:00:00\",\"2018-02-21T00:00:00\",\"2018-02-22T00:00:00\",\"2018-02-23T00:00:00\",\"2018-02-24T00:00:00\",\"2018-02-25T00:00:00\",\"2018-02-26T00:00:00\",\"2018-02-27T00:00:00\",\"2018-02-28T00:00:00\",\"2018-03-01T00:00:00\",\"2018-03-02T00:00:00\",\"2018-03-03T00:00:00\",\"2018-03-04T00:00:00\",\"2018-03-05T00:00:00\",\"2018-03-06T00:00:00\",\"2018-03-07T00:00:00\",\"2018-03-08T00:00:00\",\"2018-03-09T00:00:00\",\"2018-03-10T00:00:00\",\"2018-03-12T00:00:00\",\"2018-03-13T00:00:00\",\"2018-03-14T00:00:00\",\"2018-03-15T00:00:00\",\"2018-03-16T00:00:00\",\"2018-03-17T00:00:00\",\"2018-03-18T00:00:00\",\"2018-03-19T00:00:00\",\"2018-03-20T00:00:00\",\"2018-03-21T00:00:00\",\"2018-03-22T00:00:00\",\"2018-03-23T00:00:00\",\"2018-03-24T00:00:00\",\"2018-03-25T00:00:00\",\"2018-03-26T00:00:00\",\"2018-03-27T00:00:00\",\"2018-03-28T00:00:00\",\"2018-03-29T00:00:00\",\"2018-03-30T00:00:00\",\"2018-03-31T00:00:00\",\"2018-04-01T00:00:00\",\"2018-04-02T00:00:00\",\"2018-04-03T00:00:00\",\"2018-04-04T00:00:00\",\"2018-04-05T00:00:00\",\"2018-04-07T00:00:00\",\"2018-04-08T00:00:00\",\"2018-04-09T00:00:00\",\"2018-04-10T00:00:00\",\"2018-04-11T00:00:00\",\"2018-04-12T00:00:00\",\"2018-04-13T00:00:00\",\"2018-04-15T00:00:00\",\"2018-04-16T00:00:00\",\"2018-04-17T00:00:00\",\"2018-04-18T00:00:00\",\"2018-04-19T00:00:00\",\"2018-04-20T00:00:00\",\"2018-04-21T00:00:00\",\"2018-04-22T00:00:00\",\"2018-04-23T00:00:00\",\"2018-04-24T00:00:00\",\"2018-04-25T00:00:00\",\"2018-04-26T00:00:00\",\"2018-04-27T00:00:00\",\"2018-04-28T00:00:00\",\"2018-04-29T00:00:00\",\"2018-04-30T00:00:00\",\"2018-05-01T00:00:00\",\"2018-05-02T00:00:00\",\"2018-05-03T00:00:00\",\"2018-05-04T00:00:00\",\"2018-05-05T00:00:00\",\"2018-05-06T00:00:00\",\"2018-05-07T00:00:00\",\"2018-05-08T00:00:00\",\"2018-05-09T00:00:00\",\"2018-05-10T00:00:00\",\"2018-05-11T00:00:00\",\"2018-05-12T00:00:00\",\"2018-05-13T00:00:00\",\"2018-05-14T00:00:00\",\"2018-05-15T00:00:00\",\"2018-05-16T00:00:00\",\"2018-05-17T00:00:00\",\"2018-05-18T00:00:00\",\"2018-05-19T00:00:00\",\"2018-05-20T00:00:00\",\"2018-05-21T00:00:00\",\"2018-05-22T00:00:00\",\"2018-05-23T00:00:00\",\"2018-05-24T00:00:00\",\"2018-05-25T00:00:00\",\"2018-05-26T00:00:00\",\"2018-05-27T00:00:00\",\"2018-05-28T00:00:00\",\"2018-05-29T00:00:00\",\"2018-05-30T00:00:00\",\"2018-05-31T00:00:00\",\"2018-06-01T00:00:00\",\"2018-06-02T00:00:00\",\"2018-06-03T00:00:00\",\"2018-06-04T00:00:00\",\"2018-06-05T00:00:00\",\"2018-06-06T00:00:00\",\"2018-06-07T00:00:00\",\"2018-06-08T00:00:00\",\"2018-06-09T00:00:00\",\"2018-06-10T00:00:00\",\"2018-06-11T00:00:00\",\"2018-06-13T00:00:00\",\"2018-06-14T00:00:00\",\"2018-06-15T00:00:00\",\"2018-06-16T00:00:00\",\"2018-06-17T00:00:00\",\"2018-06-18T00:00:00\",\"2018-06-19T00:00:00\",\"2018-06-20T00:00:00\",\"2018-06-21T00:00:00\",\"2018-06-22T00:00:00\",\"2018-06-23T00:00:00\",\"2018-06-24T00:00:00\",\"2018-06-25T00:00:00\",\"2018-06-26T00:00:00\",\"2018-06-27T00:00:00\",\"2018-06-28T00:00:00\",\"2018-06-29T00:00:00\",\"2018-06-30T00:00:00\",\"2018-07-01T00:00:00\",\"2018-07-02T00:00:00\",\"2018-07-03T00:00:00\",\"2018-07-04T00:00:00\",\"2018-07-05T00:00:00\",\"2018-07-06T00:00:00\",\"2018-07-07T00:00:00\",\"2018-07-08T00:00:00\",\"2018-07-09T00:00:00\",\"2018-07-10T00:00:00\",\"2018-07-11T00:00:00\",\"2018-07-12T00:00:00\",\"2018-07-13T00:00:00\",\"2018-07-14T00:00:00\",\"2018-07-15T00:00:00\",\"2018-07-16T00:00:00\",\"2018-07-17T00:00:00\",\"2018-07-18T00:00:00\",\"2018-07-19T00:00:00\",\"2018-07-20T00:00:00\",\"2018-07-21T00:00:00\",\"2018-07-22T00:00:00\",\"2018-07-23T00:00:00\",\"2018-07-24T00:00:00\",\"2018-07-25T00:00:00\",\"2018-07-26T00:00:00\",\"2018-07-27T00:00:00\",\"2018-07-28T00:00:00\",\"2018-07-29T00:00:00\",\"2018-07-30T00:00:00\",\"2018-08-01T00:00:00\",\"2018-08-02T00:00:00\",\"2018-08-03T00:00:00\",\"2018-08-05T00:00:00\",\"2018-08-06T00:00:00\",\"2018-08-07T00:00:00\",\"2018-08-08T00:00:00\",\"2018-08-09T00:00:00\",\"2018-08-10T00:00:00\",\"2018-08-11T00:00:00\",\"2018-08-12T00:00:00\",\"2018-08-13T00:00:00\",\"2018-08-14T00:00:00\",\"2018-08-15T00:00:00\",\"2018-08-16T00:00:00\",\"2018-08-17T00:00:00\",\"2018-08-18T00:00:00\",\"2018-08-19T00:00:00\",\"2018-08-20T00:00:00\",\"2018-08-21T00:00:00\",\"2018-08-22T00:00:00\",\"2018-08-23T00:00:00\",\"2018-08-24T00:00:00\",\"2018-08-25T00:00:00\",\"2018-08-26T00:00:00\",\"2018-08-27T00:00:00\",\"2018-08-28T00:00:00\",\"2018-08-29T00:00:00\",\"2018-08-30T00:00:00\",\"2018-08-31T00:00:00\",\"2018-09-01T00:00:00\",\"2018-09-02T00:00:00\",\"2018-09-03T00:00:00\",\"2018-09-04T00:00:00\",\"2018-09-05T00:00:00\",\"2018-09-06T00:00:00\",\"2018-09-07T00:00:00\",\"2018-09-08T00:00:00\",\"2018-09-09T00:00:00\",\"2018-09-10T00:00:00\",\"2018-09-11T00:00:00\",\"2018-09-12T00:00:00\",\"2018-09-13T00:00:00\",\"2018-09-14T00:00:00\",\"2018-09-15T00:00:00\",\"2018-09-16T00:00:00\",\"2018-09-17T00:00:00\",\"2018-09-18T00:00:00\",\"2018-09-19T00:00:00\",\"2018-09-20T00:00:00\",\"2018-09-21T00:00:00\",\"2018-09-22T00:00:00\",\"2018-09-23T00:00:00\",\"2018-09-24T00:00:00\",\"2018-09-25T00:00:00\",\"2018-09-26T00:00:00\",\"2018-09-27T00:00:00\",\"2018-09-28T00:00:00\",\"2018-09-29T00:00:00\",\"2018-09-30T00:00:00\",\"2018-10-01T00:00:00\",\"2018-10-02T00:00:00\",\"2018-10-03T00:00:00\",\"2018-10-04T00:00:00\",\"2018-10-05T00:00:00\",\"2018-10-06T00:00:00\",\"2018-10-07T00:00:00\",\"2018-10-08T00:00:00\",\"2018-10-09T00:00:00\",\"2018-10-10T00:00:00\",\"2018-10-11T00:00:00\",\"2018-10-13T00:00:00\",\"2018-10-14T00:00:00\",\"2018-10-15T00:00:00\",\"2018-10-16T00:00:00\",\"2018-10-17T00:00:00\",\"2018-10-18T00:00:00\",\"2018-10-19T00:00:00\",\"2018-10-20T00:00:00\",\"2018-10-21T00:00:00\",\"2018-10-22T00:00:00\",\"2018-10-23T00:00:00\",\"2018-10-24T00:00:00\",\"2018-10-25T00:00:00\",\"2018-10-26T00:00:00\",\"2018-10-27T00:00:00\",\"2018-10-28T00:00:00\",\"2018-10-29T00:00:00\",\"2018-10-30T00:00:00\",\"2018-10-31T00:00:00\",\"2018-11-01T00:00:00\",\"2018-11-03T00:00:00\",\"2018-11-04T00:00:00\",\"2018-11-05T00:00:00\",\"2018-11-06T00:00:00\",\"2018-11-07T00:00:00\",\"2018-11-08T00:00:00\",\"2018-11-09T00:00:00\",\"2018-11-10T00:00:00\",\"2018-11-11T00:00:00\",\"2018-11-12T00:00:00\",\"2018-11-13T00:00:00\",\"2018-11-14T00:00:00\",\"2018-11-15T00:00:00\",\"2018-11-16T00:00:00\",\"2018-11-17T00:00:00\",\"2018-11-18T00:00:00\",\"2018-11-19T00:00:00\",\"2018-11-20T00:00:00\",\"2018-11-21T00:00:00\",\"2018-11-22T00:00:00\",\"2018-11-23T00:00:00\",\"2018-11-27T00:00:00\",\"2018-11-28T00:00:00\",\"2018-11-29T00:00:00\",\"2018-11-30T00:00:00\",\"2018-12-01T00:00:00\",\"2018-12-02T00:00:00\",\"2018-12-03T00:00:00\",\"2018-12-04T00:00:00\",\"2018-12-05T00:00:00\",\"2018-12-06T00:00:00\",\"2018-12-07T00:00:00\",\"2018-12-08T00:00:00\",\"2018-12-09T00:00:00\",\"2018-12-10T00:00:00\",\"2018-12-11T00:00:00\",\"2018-12-12T00:00:00\",\"2018-12-13T00:00:00\",\"2018-12-14T00:00:00\",\"2018-12-15T00:00:00\",\"2018-12-16T00:00:00\",\"2018-12-17T00:00:00\",\"2018-12-18T00:00:00\",\"2018-12-19T00:00:00\",\"2018-12-20T00:00:00\",\"2018-12-21T00:00:00\",\"2018-12-22T00:00:00\",\"2018-12-23T00:00:00\",\"2018-12-24T00:00:00\",\"2018-12-25T00:00:00\",\"2018-12-26T00:00:00\",\"2018-12-27T00:00:00\",\"2018-12-28T00:00:00\",\"2018-12-29T00:00:00\",\"2018-12-30T00:00:00\",\"2018-12-31T00:00:00\"],\"xaxis\":\"x\",\"y\":[1,0,2,3,2,0,0,1,2,0,0,0,0,0,1,1,0,0,2,0,0,1,2,1,1,1,2,0,0,3,0,0,0,3,1,3,1,0,0,1,0,0,0,0,0,0,2,1,1,1,0,1,2,2,1,1,0,0,0,0,0,0,0,2,0,1,0,2,0,1,1,1,1,0,2,1,1,3,2,1,0,0,1,1,1,1,0,2,0,0,1,1,0,1,0,1,3,2,1,1,0,0,2,1,1,0,0,1,1,0,1,0,0,0,0,0,1,0,0,1,0,1,0,0,1,0,0,0,1,0,0,0,0,0,0,0,0,1,2,2,0,0,0,1,0,0,0,2,0,0,1,0,2,2,1,2,1,0,0,1,2,3,2,1,0,0,0,0,0,0,0,1,0,1,1,1,1,0,0,2,2,1,3,1,2,0,0,2,3,0,0,0,0,0,2,0,1,0,0,0,0,0,1,0,1,0,0,2,0,0,1,1,2,2,2,1,1,1,1,1,1,0,0,2,1,1,1,1,0,0,0,0,0,1,0,0,1,0,0,1,0,0,2,0,1,3,1,1,0,1,1,0,0,1,0,0,0,0,0,0,1,3,2,0,2,2,0,1,0,1,1,0,0,2,0,0,0,0,1,0,1,1,1,0,2,1,0,1,0,0,1,0,1,0,0,2,1,1,0,1,1,0,0,0,1,0,0,2,3,0,2,1,1,0,1,1,1,1,1,2,2,2,2,2,0,1,1,2,1,1,1,1,0,1,1,0,1,1,0,0,2,0,0,0,1,0,3,2,1,1,0,2,0,1],\"yaxis\":\"y\",\"type\":\"scatter\"}],                        {\"template\":{\"data\":{\"histogram2dcontour\":[{\"type\":\"histogram2dcontour\",\"colorbar\":{\"outlinewidth\":0,\"ticks\":\"\"},\"colorscale\":[[0.0,\"#0d0887\"],[0.1111111111111111,\"#46039f\"],[0.2222222222222222,\"#7201a8\"],[0.3333333333333333,\"#9c179e\"],[0.4444444444444444,\"#bd3786\"],[0.5555555555555556,\"#d8576b\"],[0.6666666666666666,\"#ed7953\"],[0.7777777777777778,\"#fb9f3a\"],[0.8888888888888888,\"#fdca26\"],[1.0,\"#f0f921\"]]}],\"choropleth\":[{\"type\":\"choropleth\",\"colorbar\":{\"outlinewidth\":0,\"ticks\":\"\"}}],\"histogram2d\":[{\"type\":\"histogram2d\",\"colorbar\":{\"outlinewidth\":0,\"ticks\":\"\"},\"colorscale\":[[0.0,\"#0d0887\"],[0.1111111111111111,\"#46039f\"],[0.2222222222222222,\"#7201a8\"],[0.3333333333333333,\"#9c179e\"],[0.4444444444444444,\"#bd3786\"],[0.5555555555555556,\"#d8576b\"],[0.6666666666666666,\"#ed7953\"],[0.7777777777777778,\"#fb9f3a\"],[0.8888888888888888,\"#fdca26\"],[1.0,\"#f0f921\"]]}],\"heatmap\":[{\"type\":\"heatmap\",\"colorbar\":{\"outlinewidth\":0,\"ticks\":\"\"},\"colorscale\":[[0.0,\"#0d0887\"],[0.1111111111111111,\"#46039f\"],[0.2222222222222222,\"#7201a8\"],[0.3333333333333333,\"#9c179e\"],[0.4444444444444444,\"#bd3786\"],[0.5555555555555556,\"#d8576b\"],[0.6666666666666666,\"#ed7953\"],[0.7777777777777778,\"#fb9f3a\"],[0.8888888888888888,\"#fdca26\"],[1.0,\"#f0f921\"]]}],\"heatmapgl\":[{\"type\":\"heatmapgl\",\"colorbar\":{\"outlinewidth\":0,\"ticks\":\"\"},\"colorscale\":[[0.0,\"#0d0887\"],[0.1111111111111111,\"#46039f\"],[0.2222222222222222,\"#7201a8\"],[0.3333333333333333,\"#9c179e\"],[0.4444444444444444,\"#bd3786\"],[0.5555555555555556,\"#d8576b\"],[0.6666666666666666,\"#ed7953\"],[0.7777777777777778,\"#fb9f3a\"],[0.8888888888888888,\"#fdca26\"],[1.0,\"#f0f921\"]]}],\"contourcarpet\":[{\"type\":\"contourcarpet\",\"colorbar\":{\"outlinewidth\":0,\"ticks\":\"\"}}],\"contour\":[{\"type\":\"contour\",\"colorbar\":{\"outlinewidth\":0,\"ticks\":\"\"},\"colorscale\":[[0.0,\"#0d0887\"],[0.1111111111111111,\"#46039f\"],[0.2222222222222222,\"#7201a8\"],[0.3333333333333333,\"#9c179e\"],[0.4444444444444444,\"#bd3786\"],[0.5555555555555556,\"#d8576b\"],[0.6666666666666666,\"#ed7953\"],[0.7777777777777778,\"#fb9f3a\"],[0.8888888888888888,\"#fdca26\"],[1.0,\"#f0f921\"]]}],\"surface\":[{\"type\":\"surface\",\"colorbar\":{\"outlinewidth\":0,\"ticks\":\"\"},\"colorscale\":[[0.0,\"#0d0887\"],[0.1111111111111111,\"#46039f\"],[0.2222222222222222,\"#7201a8\"],[0.3333333333333333,\"#9c179e\"],[0.4444444444444444,\"#bd3786\"],[0.5555555555555556,\"#d8576b\"],[0.6666666666666666,\"#ed7953\"],[0.7777777777777778,\"#fb9f3a\"],[0.8888888888888888,\"#fdca26\"],[1.0,\"#f0f921\"]]}],\"mesh3d\":[{\"type\":\"mesh3d\",\"colorbar\":{\"outlinewidth\":0,\"ticks\":\"\"}}],\"scatter\":[{\"marker\":{\"line\":{\"color\":\"#283442\"}},\"type\":\"scatter\"}],\"parcoords\":[{\"type\":\"parcoords\",\"line\":{\"colorbar\":{\"outlinewidth\":0,\"ticks\":\"\"}}}],\"scatterpolargl\":[{\"type\":\"scatterpolargl\",\"marker\":{\"colorbar\":{\"outlinewidth\":0,\"ticks\":\"\"}}}],\"bar\":[{\"error_x\":{\"color\":\"#f2f5fa\"},\"error_y\":{\"color\":\"#f2f5fa\"},\"marker\":{\"line\":{\"color\":\"rgb(17,17,17)\",\"width\":0.5},\"pattern\":{\"fillmode\":\"overlay\",\"size\":10,\"solidity\":0.2}},\"type\":\"bar\"}],\"scattergeo\":[{\"type\":\"scattergeo\",\"marker\":{\"colorbar\":{\"outlinewidth\":0,\"ticks\":\"\"}}}],\"scatterpolar\":[{\"type\":\"scatterpolar\",\"marker\":{\"colorbar\":{\"outlinewidth\":0,\"ticks\":\"\"}}}],\"histogram\":[{\"marker\":{\"pattern\":{\"fillmode\":\"overlay\",\"size\":10,\"solidity\":0.2}},\"type\":\"histogram\"}],\"scattergl\":[{\"marker\":{\"line\":{\"color\":\"#283442\"}},\"type\":\"scattergl\"}],\"scatter3d\":[{\"type\":\"scatter3d\",\"line\":{\"colorbar\":{\"outlinewidth\":0,\"ticks\":\"\"}},\"marker\":{\"colorbar\":{\"outlinewidth\":0,\"ticks\":\"\"}}}],\"scattermapbox\":[{\"type\":\"scattermapbox\",\"marker\":{\"colorbar\":{\"outlinewidth\":0,\"ticks\":\"\"}}}],\"scatterternary\":[{\"type\":\"scatterternary\",\"marker\":{\"colorbar\":{\"outlinewidth\":0,\"ticks\":\"\"}}}],\"scattercarpet\":[{\"type\":\"scattercarpet\",\"marker\":{\"colorbar\":{\"outlinewidth\":0,\"ticks\":\"\"}}}],\"carpet\":[{\"aaxis\":{\"endlinecolor\":\"#A2B1C6\",\"gridcolor\":\"#506784\",\"linecolor\":\"#506784\",\"minorgridcolor\":\"#506784\",\"startlinecolor\":\"#A2B1C6\"},\"baxis\":{\"endlinecolor\":\"#A2B1C6\",\"gridcolor\":\"#506784\",\"linecolor\":\"#506784\",\"minorgridcolor\":\"#506784\",\"startlinecolor\":\"#A2B1C6\"},\"type\":\"carpet\"}],\"table\":[{\"cells\":{\"fill\":{\"color\":\"#506784\"},\"line\":{\"color\":\"rgb(17,17,17)\"}},\"header\":{\"fill\":{\"color\":\"#2a3f5f\"},\"line\":{\"color\":\"rgb(17,17,17)\"}},\"type\":\"table\"}],\"barpolar\":[{\"marker\":{\"line\":{\"color\":\"rgb(17,17,17)\",\"width\":0.5},\"pattern\":{\"fillmode\":\"overlay\",\"size\":10,\"solidity\":0.2}},\"type\":\"barpolar\"}],\"pie\":[{\"automargin\":true,\"type\":\"pie\"}]},\"layout\":{\"autotypenumbers\":\"strict\",\"colorway\":[\"#636efa\",\"#EF553B\",\"#00cc96\",\"#ab63fa\",\"#FFA15A\",\"#19d3f3\",\"#FF6692\",\"#B6E880\",\"#FF97FF\",\"#FECB52\"],\"font\":{\"color\":\"#f2f5fa\"},\"hovermode\":\"closest\",\"hoverlabel\":{\"align\":\"left\"},\"paper_bgcolor\":\"rgb(17,17,17)\",\"plot_bgcolor\":\"rgb(17,17,17)\",\"polar\":{\"bgcolor\":\"rgb(17,17,17)\",\"angularaxis\":{\"gridcolor\":\"#506784\",\"linecolor\":\"#506784\",\"ticks\":\"\"},\"radialaxis\":{\"gridcolor\":\"#506784\",\"linecolor\":\"#506784\",\"ticks\":\"\"}},\"ternary\":{\"bgcolor\":\"rgb(17,17,17)\",\"aaxis\":{\"gridcolor\":\"#506784\",\"linecolor\":\"#506784\",\"ticks\":\"\"},\"baxis\":{\"gridcolor\":\"#506784\",\"linecolor\":\"#506784\",\"ticks\":\"\"},\"caxis\":{\"gridcolor\":\"#506784\",\"linecolor\":\"#506784\",\"ticks\":\"\"}},\"coloraxis\":{\"colorbar\":{\"outlinewidth\":0,\"ticks\":\"\"}},\"colorscale\":{\"sequential\":[[0.0,\"#0d0887\"],[0.1111111111111111,\"#46039f\"],[0.2222222222222222,\"#7201a8\"],[0.3333333333333333,\"#9c179e\"],[0.4444444444444444,\"#bd3786\"],[0.5555555555555556,\"#d8576b\"],[0.6666666666666666,\"#ed7953\"],[0.7777777777777778,\"#fb9f3a\"],[0.8888888888888888,\"#fdca26\"],[1.0,\"#f0f921\"]],\"sequentialminus\":[[0.0,\"#0d0887\"],[0.1111111111111111,\"#46039f\"],[0.2222222222222222,\"#7201a8\"],[0.3333333333333333,\"#9c179e\"],[0.4444444444444444,\"#bd3786\"],[0.5555555555555556,\"#d8576b\"],[0.6666666666666666,\"#ed7953\"],[0.7777777777777778,\"#fb9f3a\"],[0.8888888888888888,\"#fdca26\"],[1.0,\"#f0f921\"]],\"diverging\":[[0,\"#8e0152\"],[0.1,\"#c51b7d\"],[0.2,\"#de77ae\"],[0.3,\"#f1b6da\"],[0.4,\"#fde0ef\"],[0.5,\"#f7f7f7\"],[0.6,\"#e6f5d0\"],[0.7,\"#b8e186\"],[0.8,\"#7fbc41\"],[0.9,\"#4d9221\"],[1,\"#276419\"]]},\"xaxis\":{\"gridcolor\":\"#283442\",\"linecolor\":\"#506784\",\"ticks\":\"\",\"title\":{\"standoff\":15},\"zerolinecolor\":\"#283442\",\"automargin\":true,\"zerolinewidth\":2},\"yaxis\":{\"gridcolor\":\"#283442\",\"linecolor\":\"#506784\",\"ticks\":\"\",\"title\":{\"standoff\":15},\"zerolinecolor\":\"#283442\",\"automargin\":true,\"zerolinewidth\":2},\"scene\":{\"xaxis\":{\"backgroundcolor\":\"rgb(17,17,17)\",\"gridcolor\":\"#506784\",\"linecolor\":\"#506784\",\"showbackground\":true,\"ticks\":\"\",\"zerolinecolor\":\"#C8D4E3\",\"gridwidth\":2},\"yaxis\":{\"backgroundcolor\":\"rgb(17,17,17)\",\"gridcolor\":\"#506784\",\"linecolor\":\"#506784\",\"showbackground\":true,\"ticks\":\"\",\"zerolinecolor\":\"#C8D4E3\",\"gridwidth\":2},\"zaxis\":{\"backgroundcolor\":\"rgb(17,17,17)\",\"gridcolor\":\"#506784\",\"linecolor\":\"#506784\",\"showbackground\":true,\"ticks\":\"\",\"zerolinecolor\":\"#C8D4E3\",\"gridwidth\":2}},\"shapedefaults\":{\"line\":{\"color\":\"#f2f5fa\"}},\"annotationdefaults\":{\"arrowcolor\":\"#f2f5fa\",\"arrowhead\":0,\"arrowwidth\":1},\"geo\":{\"bgcolor\":\"rgb(17,17,17)\",\"landcolor\":\"rgb(17,17,17)\",\"subunitcolor\":\"#506784\",\"showland\":true,\"showlakes\":true,\"lakecolor\":\"rgb(17,17,17)\"},\"title\":{\"x\":0.05},\"updatemenudefaults\":{\"bgcolor\":\"#506784\",\"borderwidth\":0},\"sliderdefaults\":{\"bgcolor\":\"#C8D4E3\",\"borderwidth\":1,\"bordercolor\":\"rgb(17,17,17)\",\"tickwidth\":0},\"mapbox\":{\"style\":\"dark\"}}},\"xaxis\":{\"anchor\":\"y\",\"domain\":[0.0,1.0],\"title\":{\"text\":\"date_checkout\"}},\"yaxis\":{\"anchor\":\"x\",\"domain\":[0.0,1.0],\"title\":{\"text\":\"late_return\"}},\"legend\":{\"tracegroupgap\":0},\"margin\":{\"t\":60}},                        {\"responsive\": true}                    ).then(function(){\n",
       "                            \n",
       "var gd = document.getElementById('60272293-49c6-40c2-a414-042ad4f1780a');\n",
       "var x = new MutationObserver(function (mutations, observer) {{\n",
       "        var display = window.getComputedStyle(gd).display;\n",
       "        if (!display || display === 'none') {{\n",
       "            console.log([gd, 'removed!']);\n",
       "            Plotly.purge(gd);\n",
       "            observer.disconnect();\n",
       "        }}\n",
       "}});\n",
       "\n",
       "// Listen for the removal of the full notebook cells\n",
       "var notebookContainer = gd.closest('#notebook-container');\n",
       "if (notebookContainer) {{\n",
       "    x.observe(notebookContainer, {childList: true});\n",
       "}}\n",
       "\n",
       "// Listen for the clearing of the current output cell\n",
       "var outputEl = gd.closest('.output');\n",
       "if (outputEl) {{\n",
       "    x.observe(outputEl, {childList: true});\n",
       "}}\n",
       "\n",
       "                        })                };                });            </script>        </div>"
      ]
     },
     "metadata": {},
     "output_type": "display_data"
    }
   ],
   "execution_count": 63
  },
  {
   "metadata": {},
   "cell_type": "markdown",
   "source": "## Feature Augmentation",
   "id": "6359523f2009f588"
  },
  {
   "metadata": {},
   "cell_type": "markdown",
   "source": [
    "### Time Encoders\n",
    "\n",
    "Preparing classes for encoding calendar features like clock positions (2D Cartesian coordinates on a unit circle). This kind of encoding preserves both the distance and periodicity of the feature values in Euclidean space, in contrast to one-hot encoding for example."
   ],
   "id": "46d622585b353693"
  },
  {
   "metadata": {
    "ExecuteTime": {
     "end_time": "2024-09-04T08:30:46.640655Z",
     "start_time": "2024-09-04T08:30:46.616166Z"
    }
   },
   "cell_type": "code",
   "source": [
    "class TimeEncoder:\n",
    "    def __init__(self, *features: str):\n",
    "        \"\"\"\n",
    "        Abstract time feature encoder.\n",
    "\n",
    "        :param features: Feature names that will be used to create named tuples.\n",
    "        \"\"\"\n",
    "        self.features = features\n",
    "\n",
    "    def encode(self, t: pd.Timestamp) -> pd.DataFrame:\n",
    "        pass\n",
    "\n",
    "    def __call__(self, t: pd.Timestamp):\n",
    "        \"\"\"Transforms the specified timestamp into numeric values.\"\"\"\n",
    "        return self.encode(t)\n",
    "\n",
    "\n",
    "class PeriodicTimeEncoder(TimeEncoder):\n",
    "    def __init__(self):\n",
    "        t = type(self).__name__\n",
    "        super().__init__(f'{t}X', f'{t}Y')\n",
    "\n",
    "    def length(self) -> int:\n",
    "        \"\"\"Returns the cycle length.\"\"\"\n",
    "        pass\n",
    "\n",
    "    def index(self, t: pd.Series) -> pd.Series:\n",
    "        \"\"\"Extracts the index of the timestamp position on the cycle.\"\"\"\n",
    "        pass\n",
    "\n",
    "    def encode(self, t: pd.Series) -> pd.DataFrame:\n",
    "        clock_position = 2 * np.pi * self.index(t) / self.length()\n",
    "        return pd.DataFrame({\n",
    "            f'{type(self).__name__} - X': (np.sin(clock_position)+1)/2, \n",
    "            f'{type(self).__name__} - Y': (np.cos(clock_position)+1)/2\n",
    "        })\n",
    "\n",
    "\n",
    "class MonthOfYear(PeriodicTimeEncoder):\n",
    "    \"\"\"Encodes month of year as 2D Cartesian coordinates on a unit circle (clock positions).\"\"\"\n",
    "\n",
    "    def length(self) -> int:\n",
    "        return 12\n",
    "\n",
    "    def index(self, t: pd.Series) -> pd.Series:\n",
    "        return t.dt.month - 1\n",
    "\n",
    "\n",
    "class DayOfMonth(PeriodicTimeEncoder):\n",
    "    \"\"\"Encodes week of year as 2D Cartesian coordinates on a unit circle (clock positions).\"\"\"\n",
    "\n",
    "    def length(self) -> int:\n",
    "        return 31\n",
    "\n",
    "    def index(self, t: pd.Series) -> pd.Series:\n",
    "        return t.dt.day - 1\n",
    "\n",
    "\n",
    "class DayOfWeek(PeriodicTimeEncoder):\n",
    "    \"\"\"Encodes day of week as 2D Cartesian coordinates on a unit circle (clock positions).\"\"\"\n",
    "\n",
    "    def length(self) -> int:\n",
    "        return 7\n",
    "\n",
    "    def index(self, t: pd.Series) -> pd.Series:\n",
    "        return t.dt.dayofweek - 1\n",
    "\n",
    "  \n",
    "class TimeEncoders(TimeEncoder):\n",
    "    def __init__(self, *encoders: TimeEncoder):\n",
    "        \"\"\"Encodes multiple time features using the specified time encoders.\"\"\"\n",
    "        super().__init__(*list(chain.from_iterable([_.features for _ in encoders])))\n",
    "        self.encoders = encoders\n",
    "\n",
    "    def encode(self, t: pd.Timestamp) -> pd.DataFrame:\n",
    "        return pd.concat([_.encode(t) for _ in self.encoders], axis=1)"
   ],
   "id": "5305965245e5779",
   "outputs": [],
   "execution_count": 64
  },
  {
   "metadata": {},
   "cell_type": "markdown",
   "source": [
    "### Time Encoding\n",
    "Encoding month of year, day of month, and day of week like clock positions."
   ],
   "id": "d89ff3796fe819ba"
  },
  {
   "metadata": {
    "ExecuteTime": {
     "end_time": "2024-09-04T08:30:46.865797Z",
     "start_time": "2024-09-04T08:30:46.794365Z"
    }
   },
   "cell_type": "code",
   "source": [
    "time_encoders = TimeEncoders(MonthOfYear(), DayOfMonth(), DayOfWeek())#%% md\n",
    "df_encoded_time = time_encoders(df_xy['date_checkout'])\n",
    "df_xy = pd.concat((df_xy, df_encoded_time), axis=1)\n",
    "df_xy"
   ],
   "id": "b6209f526a5f100b",
   "outputs": [
    {
     "data": {
      "text/plain": [
       "     date_checkout  book_price  book_pages  checkout_days  late_return  \\\n",
       "1       2018-05-29      416.99       752.0           14.0            0   \n",
       "2       2018-11-23      217.00       790.0           62.0            1   \n",
       "3       2018-01-15      190.50       597.0          100.0            1   \n",
       "6       2018-01-10      414.50       561.0           25.0            0   \n",
       "8       2018-06-23      149.00       530.0           21.0            0   \n",
       "...            ...         ...         ...            ...          ...   \n",
       "1995    2018-07-19      302.00       668.0           24.0            0   \n",
       "1996    2018-03-07      506.99       493.0            6.0            0   \n",
       "1997    2018-06-17      371.00       751.0           10.0            0   \n",
       "1998    2018-12-10      484.00       635.0           19.0            0   \n",
       "1999    2018-10-10      267.99       507.0           22.0            0   \n",
       "\n",
       "      customer_age    book_age  book_authors - a. kungolos  \\\n",
       "1        59.652055   18.273973                           0   \n",
       "2        60.876712   20.690411                           0   \n",
       "3       -94.495890    5.021918                           0   \n",
       "6        40.134247   27.693151                           0   \n",
       "8        47.978082   30.695890                           0   \n",
       "...            ...         ...                         ...   \n",
       "1995    -96.035616    3.657534                           0   \n",
       "1996     56.923288   11.487671                           0   \n",
       "1997    212.621918  108.750685                           0   \n",
       "1998     44.063014  115.753425                           0   \n",
       "1999     61.728767  103.745205                           0   \n",
       "\n",
       "      book_authors - ahmed f. el-sayed  book_authors - akira ohata  ...  \\\n",
       "1                                    0                           0  ...   \n",
       "2                                    0                           0  ...   \n",
       "3                                    0                           0  ...   \n",
       "6                                    0                           0  ...   \n",
       "8                                    0                           0  ...   \n",
       "...                                ...                         ...  ...   \n",
       "1995                                 0                           0  ...   \n",
       "1996                                 0                           0  ...   \n",
       "1997                                 0                           0  ...   \n",
       "1998                                 0                           0  ...   \n",
       "1999                                 0                           0  ...   \n",
       "\n",
       "      library_name - multnomahcounty library albina  \\\n",
       "1                                                 0   \n",
       "2                                                 0   \n",
       "3                                                 0   \n",
       "6                                                 0   \n",
       "8                                                 0   \n",
       "...                                             ...   \n",
       "1995                                              0   \n",
       "1996                                              0   \n",
       "1997                                              0   \n",
       "1998                                              0   \n",
       "1999                                              0   \n",
       "\n",
       "      library_name - multnomahcounty library central  \\\n",
       "1                                                  0   \n",
       "2                                                  0   \n",
       "3                                                  0   \n",
       "6                                                  0   \n",
       "8                                                  0   \n",
       "...                                              ...   \n",
       "1995                                               0   \n",
       "1996                                               0   \n",
       "1997                                               0   \n",
       "1998                                               0   \n",
       "1999                                               0   \n",
       "\n",
       "      library_name - multnomahcountylibrary hollywood library  \\\n",
       "1                                                     0         \n",
       "2                                                     0         \n",
       "3                                                     0         \n",
       "6                                                     0         \n",
       "8                                                     0         \n",
       "...                                                 ...         \n",
       "1995                                                  0         \n",
       "1996                                                  0         \n",
       "1997                                                  0         \n",
       "1998                                                  0         \n",
       "1999                                                  0         \n",
       "\n",
       "      library_name - multnomahcountylibrarynorth portland  MonthOfYear - X  \\\n",
       "1                                                     0           0.933013   \n",
       "2                                                     0           0.066987   \n",
       "3                                                     0           0.500000   \n",
       "6                                                     0           0.500000   \n",
       "8                                                     1           0.750000   \n",
       "...                                                 ...                ...   \n",
       "1995                                                  1           0.500000   \n",
       "1996                                                  0           0.933013   \n",
       "1997                                                  0           0.750000   \n",
       "1998                                                  0           0.250000   \n",
       "1999                                                  0           0.000000   \n",
       "\n",
       "      MonthOfYear - Y  DayOfMonth - X  DayOfMonth - Y  DayOfWeek - X  \\\n",
       "1            0.250000        0.214366        0.910382       0.500000   \n",
       "2            0.750000        0.015961        0.374674       0.716942   \n",
       "3            1.000000        0.649682        0.022930       0.109084   \n",
       "6            1.000000        0.984039        0.374674       0.890916   \n",
       "8            0.066987        0.015961        0.374674       0.283058   \n",
       "...               ...             ...             ...            ...   \n",
       "1995         0.000000        0.257349        0.062827       0.987464   \n",
       "1996         0.750000        0.968876        0.673653       0.890916   \n",
       "1997         0.066987        0.449416        0.002565       0.012536   \n",
       "1998         0.933013        0.984039        0.374674       0.109084   \n",
       "1999         0.500000        0.984039        0.374674       0.890916   \n",
       "\n",
       "      DayOfWeek - Y  \n",
       "1          1.000000  \n",
       "2          0.049516  \n",
       "3          0.811745  \n",
       "6          0.811745  \n",
       "8          0.049516  \n",
       "...             ...  \n",
       "1995       0.388740  \n",
       "1996       0.811745  \n",
       "1997       0.388740  \n",
       "1998       0.811745  \n",
       "1999       0.811745  \n",
       "\n",
       "[1398 rows x 387 columns]"
      ],
      "text/html": [
       "<div>\n",
       "<style scoped>\n",
       "    .dataframe tbody tr th:only-of-type {\n",
       "        vertical-align: middle;\n",
       "    }\n",
       "\n",
       "    .dataframe tbody tr th {\n",
       "        vertical-align: top;\n",
       "    }\n",
       "\n",
       "    .dataframe thead th {\n",
       "        text-align: right;\n",
       "    }\n",
       "</style>\n",
       "<table border=\"1\" class=\"dataframe\">\n",
       "  <thead>\n",
       "    <tr style=\"text-align: right;\">\n",
       "      <th></th>\n",
       "      <th>date_checkout</th>\n",
       "      <th>book_price</th>\n",
       "      <th>book_pages</th>\n",
       "      <th>checkout_days</th>\n",
       "      <th>late_return</th>\n",
       "      <th>customer_age</th>\n",
       "      <th>book_age</th>\n",
       "      <th>book_authors - a. kungolos</th>\n",
       "      <th>book_authors - ahmed f. el-sayed</th>\n",
       "      <th>book_authors - akira ohata</th>\n",
       "      <th>...</th>\n",
       "      <th>library_name - multnomahcounty library albina</th>\n",
       "      <th>library_name - multnomahcounty library central</th>\n",
       "      <th>library_name - multnomahcountylibrary hollywood library</th>\n",
       "      <th>library_name - multnomahcountylibrarynorth portland</th>\n",
       "      <th>MonthOfYear - X</th>\n",
       "      <th>MonthOfYear - Y</th>\n",
       "      <th>DayOfMonth - X</th>\n",
       "      <th>DayOfMonth - Y</th>\n",
       "      <th>DayOfWeek - X</th>\n",
       "      <th>DayOfWeek - Y</th>\n",
       "    </tr>\n",
       "  </thead>\n",
       "  <tbody>\n",
       "    <tr>\n",
       "      <th>1</th>\n",
       "      <td>2018-05-29</td>\n",
       "      <td>416.99</td>\n",
       "      <td>752.0</td>\n",
       "      <td>14.0</td>\n",
       "      <td>0</td>\n",
       "      <td>59.652055</td>\n",
       "      <td>18.273973</td>\n",
       "      <td>0</td>\n",
       "      <td>0</td>\n",
       "      <td>0</td>\n",
       "      <td>...</td>\n",
       "      <td>0</td>\n",
       "      <td>0</td>\n",
       "      <td>0</td>\n",
       "      <td>0</td>\n",
       "      <td>0.933013</td>\n",
       "      <td>0.250000</td>\n",
       "      <td>0.214366</td>\n",
       "      <td>0.910382</td>\n",
       "      <td>0.500000</td>\n",
       "      <td>1.000000</td>\n",
       "    </tr>\n",
       "    <tr>\n",
       "      <th>2</th>\n",
       "      <td>2018-11-23</td>\n",
       "      <td>217.00</td>\n",
       "      <td>790.0</td>\n",
       "      <td>62.0</td>\n",
       "      <td>1</td>\n",
       "      <td>60.876712</td>\n",
       "      <td>20.690411</td>\n",
       "      <td>0</td>\n",
       "      <td>0</td>\n",
       "      <td>0</td>\n",
       "      <td>...</td>\n",
       "      <td>0</td>\n",
       "      <td>0</td>\n",
       "      <td>0</td>\n",
       "      <td>0</td>\n",
       "      <td>0.066987</td>\n",
       "      <td>0.750000</td>\n",
       "      <td>0.015961</td>\n",
       "      <td>0.374674</td>\n",
       "      <td>0.716942</td>\n",
       "      <td>0.049516</td>\n",
       "    </tr>\n",
       "    <tr>\n",
       "      <th>3</th>\n",
       "      <td>2018-01-15</td>\n",
       "      <td>190.50</td>\n",
       "      <td>597.0</td>\n",
       "      <td>100.0</td>\n",
       "      <td>1</td>\n",
       "      <td>-94.495890</td>\n",
       "      <td>5.021918</td>\n",
       "      <td>0</td>\n",
       "      <td>0</td>\n",
       "      <td>0</td>\n",
       "      <td>...</td>\n",
       "      <td>0</td>\n",
       "      <td>0</td>\n",
       "      <td>0</td>\n",
       "      <td>0</td>\n",
       "      <td>0.500000</td>\n",
       "      <td>1.000000</td>\n",
       "      <td>0.649682</td>\n",
       "      <td>0.022930</td>\n",
       "      <td>0.109084</td>\n",
       "      <td>0.811745</td>\n",
       "    </tr>\n",
       "    <tr>\n",
       "      <th>6</th>\n",
       "      <td>2018-01-10</td>\n",
       "      <td>414.50</td>\n",
       "      <td>561.0</td>\n",
       "      <td>25.0</td>\n",
       "      <td>0</td>\n",
       "      <td>40.134247</td>\n",
       "      <td>27.693151</td>\n",
       "      <td>0</td>\n",
       "      <td>0</td>\n",
       "      <td>0</td>\n",
       "      <td>...</td>\n",
       "      <td>0</td>\n",
       "      <td>0</td>\n",
       "      <td>0</td>\n",
       "      <td>0</td>\n",
       "      <td>0.500000</td>\n",
       "      <td>1.000000</td>\n",
       "      <td>0.984039</td>\n",
       "      <td>0.374674</td>\n",
       "      <td>0.890916</td>\n",
       "      <td>0.811745</td>\n",
       "    </tr>\n",
       "    <tr>\n",
       "      <th>8</th>\n",
       "      <td>2018-06-23</td>\n",
       "      <td>149.00</td>\n",
       "      <td>530.0</td>\n",
       "      <td>21.0</td>\n",
       "      <td>0</td>\n",
       "      <td>47.978082</td>\n",
       "      <td>30.695890</td>\n",
       "      <td>0</td>\n",
       "      <td>0</td>\n",
       "      <td>0</td>\n",
       "      <td>...</td>\n",
       "      <td>0</td>\n",
       "      <td>0</td>\n",
       "      <td>0</td>\n",
       "      <td>1</td>\n",
       "      <td>0.750000</td>\n",
       "      <td>0.066987</td>\n",
       "      <td>0.015961</td>\n",
       "      <td>0.374674</td>\n",
       "      <td>0.283058</td>\n",
       "      <td>0.049516</td>\n",
       "    </tr>\n",
       "    <tr>\n",
       "      <th>...</th>\n",
       "      <td>...</td>\n",
       "      <td>...</td>\n",
       "      <td>...</td>\n",
       "      <td>...</td>\n",
       "      <td>...</td>\n",
       "      <td>...</td>\n",
       "      <td>...</td>\n",
       "      <td>...</td>\n",
       "      <td>...</td>\n",
       "      <td>...</td>\n",
       "      <td>...</td>\n",
       "      <td>...</td>\n",
       "      <td>...</td>\n",
       "      <td>...</td>\n",
       "      <td>...</td>\n",
       "      <td>...</td>\n",
       "      <td>...</td>\n",
       "      <td>...</td>\n",
       "      <td>...</td>\n",
       "      <td>...</td>\n",
       "      <td>...</td>\n",
       "    </tr>\n",
       "    <tr>\n",
       "      <th>1995</th>\n",
       "      <td>2018-07-19</td>\n",
       "      <td>302.00</td>\n",
       "      <td>668.0</td>\n",
       "      <td>24.0</td>\n",
       "      <td>0</td>\n",
       "      <td>-96.035616</td>\n",
       "      <td>3.657534</td>\n",
       "      <td>0</td>\n",
       "      <td>0</td>\n",
       "      <td>0</td>\n",
       "      <td>...</td>\n",
       "      <td>0</td>\n",
       "      <td>0</td>\n",
       "      <td>0</td>\n",
       "      <td>1</td>\n",
       "      <td>0.500000</td>\n",
       "      <td>0.000000</td>\n",
       "      <td>0.257349</td>\n",
       "      <td>0.062827</td>\n",
       "      <td>0.987464</td>\n",
       "      <td>0.388740</td>\n",
       "    </tr>\n",
       "    <tr>\n",
       "      <th>1996</th>\n",
       "      <td>2018-03-07</td>\n",
       "      <td>506.99</td>\n",
       "      <td>493.0</td>\n",
       "      <td>6.0</td>\n",
       "      <td>0</td>\n",
       "      <td>56.923288</td>\n",
       "      <td>11.487671</td>\n",
       "      <td>0</td>\n",
       "      <td>0</td>\n",
       "      <td>0</td>\n",
       "      <td>...</td>\n",
       "      <td>0</td>\n",
       "      <td>0</td>\n",
       "      <td>0</td>\n",
       "      <td>0</td>\n",
       "      <td>0.933013</td>\n",
       "      <td>0.750000</td>\n",
       "      <td>0.968876</td>\n",
       "      <td>0.673653</td>\n",
       "      <td>0.890916</td>\n",
       "      <td>0.811745</td>\n",
       "    </tr>\n",
       "    <tr>\n",
       "      <th>1997</th>\n",
       "      <td>2018-06-17</td>\n",
       "      <td>371.00</td>\n",
       "      <td>751.0</td>\n",
       "      <td>10.0</td>\n",
       "      <td>0</td>\n",
       "      <td>212.621918</td>\n",
       "      <td>108.750685</td>\n",
       "      <td>0</td>\n",
       "      <td>0</td>\n",
       "      <td>0</td>\n",
       "      <td>...</td>\n",
       "      <td>0</td>\n",
       "      <td>0</td>\n",
       "      <td>0</td>\n",
       "      <td>0</td>\n",
       "      <td>0.750000</td>\n",
       "      <td>0.066987</td>\n",
       "      <td>0.449416</td>\n",
       "      <td>0.002565</td>\n",
       "      <td>0.012536</td>\n",
       "      <td>0.388740</td>\n",
       "    </tr>\n",
       "    <tr>\n",
       "      <th>1998</th>\n",
       "      <td>2018-12-10</td>\n",
       "      <td>484.00</td>\n",
       "      <td>635.0</td>\n",
       "      <td>19.0</td>\n",
       "      <td>0</td>\n",
       "      <td>44.063014</td>\n",
       "      <td>115.753425</td>\n",
       "      <td>0</td>\n",
       "      <td>0</td>\n",
       "      <td>0</td>\n",
       "      <td>...</td>\n",
       "      <td>0</td>\n",
       "      <td>0</td>\n",
       "      <td>0</td>\n",
       "      <td>0</td>\n",
       "      <td>0.250000</td>\n",
       "      <td>0.933013</td>\n",
       "      <td>0.984039</td>\n",
       "      <td>0.374674</td>\n",
       "      <td>0.109084</td>\n",
       "      <td>0.811745</td>\n",
       "    </tr>\n",
       "    <tr>\n",
       "      <th>1999</th>\n",
       "      <td>2018-10-10</td>\n",
       "      <td>267.99</td>\n",
       "      <td>507.0</td>\n",
       "      <td>22.0</td>\n",
       "      <td>0</td>\n",
       "      <td>61.728767</td>\n",
       "      <td>103.745205</td>\n",
       "      <td>0</td>\n",
       "      <td>0</td>\n",
       "      <td>0</td>\n",
       "      <td>...</td>\n",
       "      <td>0</td>\n",
       "      <td>0</td>\n",
       "      <td>0</td>\n",
       "      <td>0</td>\n",
       "      <td>0.000000</td>\n",
       "      <td>0.500000</td>\n",
       "      <td>0.984039</td>\n",
       "      <td>0.374674</td>\n",
       "      <td>0.890916</td>\n",
       "      <td>0.811745</td>\n",
       "    </tr>\n",
       "  </tbody>\n",
       "</table>\n",
       "<p>1398 rows × 387 columns</p>\n",
       "</div>"
      ]
     },
     "execution_count": 65,
     "metadata": {},
     "output_type": "execute_result"
    }
   ],
   "execution_count": 65
  },
  {
   "metadata": {},
   "cell_type": "markdown",
   "source": [
    "### Correlation Analysis With New Features\n",
    "\n",
    "The following plot shows that the newly added features (month of year, day of month, and day of week) could be useful for predicting the late returns, compared with the other features."
   ],
   "id": "95a4890b241fcf88"
  },
  {
   "metadata": {
    "ExecuteTime": {
     "end_time": "2024-09-04T08:30:48.612671Z",
     "start_time": "2024-09-04T08:30:47.229516Z"
    }
   },
   "cell_type": "code",
   "source": "plot_corr(df_xy.drop(columns=['date_checkout', 'checkout_days']), 'late_return')",
   "id": "6640a9fb6c4c8f70",
   "outputs": [
    {
     "data": {
      "application/vnd.plotly.v1+json": {
       "data": [
        {
         "alignmentgroup": "True",
         "hovertemplate": "variable=min<br>feature=%{x}<br>value=%{y}<extra></extra>",
         "legendgroup": "min",
         "marker": {
          "color": "#636efa",
          "pattern": {
           "shape": ""
          }
         },
         "name": "min",
         "offsetgroup": "min",
         "orientation": "v",
         "showlegend": true,
         "textposition": "auto",
         "x": [
          "book_pages",
          "book_authors",
          "book_price",
          "book_categories",
          "library_name",
          "customer_occupation",
          "DayOfWeek",
          "customer_education",
          "MonthOfYear",
          "book_age",
          "DayOfMonth",
          "customer_age",
          "customer_gender"
         ],
         "xaxis": "x",
         "y": [
          0.14158316046278577,
          -0.05024929530853835,
          0.09501897233232469,
          -0.04852789004460781,
          -0.0487665623636084,
          -0.0360587152004797,
          0.02669045564750671,
          -0.034911874651246504,
          -0.0430412041270528,
          0.019754254927186646,
          0.008259726966239028,
          0.019047779821320818,
          -0.0043984570675616175
         ],
         "yaxis": "y",
         "type": "bar"
        },
        {
         "alignmentgroup": "True",
         "hovertemplate": "variable=max<br>feature=%{x}<br>value=%{y}<extra></extra>",
         "legendgroup": "max",
         "marker": {
          "color": "#EF553B",
          "pattern": {
           "shape": ""
          }
         },
         "name": "max",
         "offsetgroup": "max",
         "orientation": "v",
         "showlegend": true,
         "textposition": "auto",
         "x": [
          "book_pages",
          "book_authors",
          "book_price",
          "book_categories",
          "library_name",
          "customer_occupation",
          "DayOfWeek",
          "customer_education",
          "MonthOfYear",
          "book_age",
          "DayOfMonth",
          "customer_age",
          "customer_gender"
         ],
         "xaxis": "x",
         "y": [
          0.14158316046278577,
          0.09611210463251492,
          0.09501897233232469,
          0.08015377466601288,
          0.0588087229598726,
          0.05661630149428568,
          0.055725701975877506,
          0.026513138536977232,
          0.024049671763797433,
          0.019754254927186646,
          0.01926462869762163,
          0.019047779821320818,
          0.01182619622623105
         ],
         "yaxis": "y",
         "type": "bar"
        }
       ],
       "layout": {
        "template": {
         "data": {
          "histogram2dcontour": [
           {
            "type": "histogram2dcontour",
            "colorbar": {
             "outlinewidth": 0,
             "ticks": ""
            },
            "colorscale": [
             [
              0.0,
              "#0d0887"
             ],
             [
              0.1111111111111111,
              "#46039f"
             ],
             [
              0.2222222222222222,
              "#7201a8"
             ],
             [
              0.3333333333333333,
              "#9c179e"
             ],
             [
              0.4444444444444444,
              "#bd3786"
             ],
             [
              0.5555555555555556,
              "#d8576b"
             ],
             [
              0.6666666666666666,
              "#ed7953"
             ],
             [
              0.7777777777777778,
              "#fb9f3a"
             ],
             [
              0.8888888888888888,
              "#fdca26"
             ],
             [
              1.0,
              "#f0f921"
             ]
            ]
           }
          ],
          "choropleth": [
           {
            "type": "choropleth",
            "colorbar": {
             "outlinewidth": 0,
             "ticks": ""
            }
           }
          ],
          "histogram2d": [
           {
            "type": "histogram2d",
            "colorbar": {
             "outlinewidth": 0,
             "ticks": ""
            },
            "colorscale": [
             [
              0.0,
              "#0d0887"
             ],
             [
              0.1111111111111111,
              "#46039f"
             ],
             [
              0.2222222222222222,
              "#7201a8"
             ],
             [
              0.3333333333333333,
              "#9c179e"
             ],
             [
              0.4444444444444444,
              "#bd3786"
             ],
             [
              0.5555555555555556,
              "#d8576b"
             ],
             [
              0.6666666666666666,
              "#ed7953"
             ],
             [
              0.7777777777777778,
              "#fb9f3a"
             ],
             [
              0.8888888888888888,
              "#fdca26"
             ],
             [
              1.0,
              "#f0f921"
             ]
            ]
           }
          ],
          "heatmap": [
           {
            "type": "heatmap",
            "colorbar": {
             "outlinewidth": 0,
             "ticks": ""
            },
            "colorscale": [
             [
              0.0,
              "#0d0887"
             ],
             [
              0.1111111111111111,
              "#46039f"
             ],
             [
              0.2222222222222222,
              "#7201a8"
             ],
             [
              0.3333333333333333,
              "#9c179e"
             ],
             [
              0.4444444444444444,
              "#bd3786"
             ],
             [
              0.5555555555555556,
              "#d8576b"
             ],
             [
              0.6666666666666666,
              "#ed7953"
             ],
             [
              0.7777777777777778,
              "#fb9f3a"
             ],
             [
              0.8888888888888888,
              "#fdca26"
             ],
             [
              1.0,
              "#f0f921"
             ]
            ]
           }
          ],
          "heatmapgl": [
           {
            "type": "heatmapgl",
            "colorbar": {
             "outlinewidth": 0,
             "ticks": ""
            },
            "colorscale": [
             [
              0.0,
              "#0d0887"
             ],
             [
              0.1111111111111111,
              "#46039f"
             ],
             [
              0.2222222222222222,
              "#7201a8"
             ],
             [
              0.3333333333333333,
              "#9c179e"
             ],
             [
              0.4444444444444444,
              "#bd3786"
             ],
             [
              0.5555555555555556,
              "#d8576b"
             ],
             [
              0.6666666666666666,
              "#ed7953"
             ],
             [
              0.7777777777777778,
              "#fb9f3a"
             ],
             [
              0.8888888888888888,
              "#fdca26"
             ],
             [
              1.0,
              "#f0f921"
             ]
            ]
           }
          ],
          "contourcarpet": [
           {
            "type": "contourcarpet",
            "colorbar": {
             "outlinewidth": 0,
             "ticks": ""
            }
           }
          ],
          "contour": [
           {
            "type": "contour",
            "colorbar": {
             "outlinewidth": 0,
             "ticks": ""
            },
            "colorscale": [
             [
              0.0,
              "#0d0887"
             ],
             [
              0.1111111111111111,
              "#46039f"
             ],
             [
              0.2222222222222222,
              "#7201a8"
             ],
             [
              0.3333333333333333,
              "#9c179e"
             ],
             [
              0.4444444444444444,
              "#bd3786"
             ],
             [
              0.5555555555555556,
              "#d8576b"
             ],
             [
              0.6666666666666666,
              "#ed7953"
             ],
             [
              0.7777777777777778,
              "#fb9f3a"
             ],
             [
              0.8888888888888888,
              "#fdca26"
             ],
             [
              1.0,
              "#f0f921"
             ]
            ]
           }
          ],
          "surface": [
           {
            "type": "surface",
            "colorbar": {
             "outlinewidth": 0,
             "ticks": ""
            },
            "colorscale": [
             [
              0.0,
              "#0d0887"
             ],
             [
              0.1111111111111111,
              "#46039f"
             ],
             [
              0.2222222222222222,
              "#7201a8"
             ],
             [
              0.3333333333333333,
              "#9c179e"
             ],
             [
              0.4444444444444444,
              "#bd3786"
             ],
             [
              0.5555555555555556,
              "#d8576b"
             ],
             [
              0.6666666666666666,
              "#ed7953"
             ],
             [
              0.7777777777777778,
              "#fb9f3a"
             ],
             [
              0.8888888888888888,
              "#fdca26"
             ],
             [
              1.0,
              "#f0f921"
             ]
            ]
           }
          ],
          "mesh3d": [
           {
            "type": "mesh3d",
            "colorbar": {
             "outlinewidth": 0,
             "ticks": ""
            }
           }
          ],
          "scatter": [
           {
            "marker": {
             "line": {
              "color": "#283442"
             }
            },
            "type": "scatter"
           }
          ],
          "parcoords": [
           {
            "type": "parcoords",
            "line": {
             "colorbar": {
              "outlinewidth": 0,
              "ticks": ""
             }
            }
           }
          ],
          "scatterpolargl": [
           {
            "type": "scatterpolargl",
            "marker": {
             "colorbar": {
              "outlinewidth": 0,
              "ticks": ""
             }
            }
           }
          ],
          "bar": [
           {
            "error_x": {
             "color": "#f2f5fa"
            },
            "error_y": {
             "color": "#f2f5fa"
            },
            "marker": {
             "line": {
              "color": "rgb(17,17,17)",
              "width": 0.5
             },
             "pattern": {
              "fillmode": "overlay",
              "size": 10,
              "solidity": 0.2
             }
            },
            "type": "bar"
           }
          ],
          "scattergeo": [
           {
            "type": "scattergeo",
            "marker": {
             "colorbar": {
              "outlinewidth": 0,
              "ticks": ""
             }
            }
           }
          ],
          "scatterpolar": [
           {
            "type": "scatterpolar",
            "marker": {
             "colorbar": {
              "outlinewidth": 0,
              "ticks": ""
             }
            }
           }
          ],
          "histogram": [
           {
            "marker": {
             "pattern": {
              "fillmode": "overlay",
              "size": 10,
              "solidity": 0.2
             }
            },
            "type": "histogram"
           }
          ],
          "scattergl": [
           {
            "marker": {
             "line": {
              "color": "#283442"
             }
            },
            "type": "scattergl"
           }
          ],
          "scatter3d": [
           {
            "type": "scatter3d",
            "line": {
             "colorbar": {
              "outlinewidth": 0,
              "ticks": ""
             }
            },
            "marker": {
             "colorbar": {
              "outlinewidth": 0,
              "ticks": ""
             }
            }
           }
          ],
          "scattermapbox": [
           {
            "type": "scattermapbox",
            "marker": {
             "colorbar": {
              "outlinewidth": 0,
              "ticks": ""
             }
            }
           }
          ],
          "scatterternary": [
           {
            "type": "scatterternary",
            "marker": {
             "colorbar": {
              "outlinewidth": 0,
              "ticks": ""
             }
            }
           }
          ],
          "scattercarpet": [
           {
            "type": "scattercarpet",
            "marker": {
             "colorbar": {
              "outlinewidth": 0,
              "ticks": ""
             }
            }
           }
          ],
          "carpet": [
           {
            "aaxis": {
             "endlinecolor": "#A2B1C6",
             "gridcolor": "#506784",
             "linecolor": "#506784",
             "minorgridcolor": "#506784",
             "startlinecolor": "#A2B1C6"
            },
            "baxis": {
             "endlinecolor": "#A2B1C6",
             "gridcolor": "#506784",
             "linecolor": "#506784",
             "minorgridcolor": "#506784",
             "startlinecolor": "#A2B1C6"
            },
            "type": "carpet"
           }
          ],
          "table": [
           {
            "cells": {
             "fill": {
              "color": "#506784"
             },
             "line": {
              "color": "rgb(17,17,17)"
             }
            },
            "header": {
             "fill": {
              "color": "#2a3f5f"
             },
             "line": {
              "color": "rgb(17,17,17)"
             }
            },
            "type": "table"
           }
          ],
          "barpolar": [
           {
            "marker": {
             "line": {
              "color": "rgb(17,17,17)",
              "width": 0.5
             },
             "pattern": {
              "fillmode": "overlay",
              "size": 10,
              "solidity": 0.2
             }
            },
            "type": "barpolar"
           }
          ],
          "pie": [
           {
            "automargin": true,
            "type": "pie"
           }
          ]
         },
         "layout": {
          "autotypenumbers": "strict",
          "colorway": [
           "#636efa",
           "#EF553B",
           "#00cc96",
           "#ab63fa",
           "#FFA15A",
           "#19d3f3",
           "#FF6692",
           "#B6E880",
           "#FF97FF",
           "#FECB52"
          ],
          "font": {
           "color": "#f2f5fa"
          },
          "hovermode": "closest",
          "hoverlabel": {
           "align": "left"
          },
          "paper_bgcolor": "rgb(17,17,17)",
          "plot_bgcolor": "rgb(17,17,17)",
          "polar": {
           "bgcolor": "rgb(17,17,17)",
           "angularaxis": {
            "gridcolor": "#506784",
            "linecolor": "#506784",
            "ticks": ""
           },
           "radialaxis": {
            "gridcolor": "#506784",
            "linecolor": "#506784",
            "ticks": ""
           }
          },
          "ternary": {
           "bgcolor": "rgb(17,17,17)",
           "aaxis": {
            "gridcolor": "#506784",
            "linecolor": "#506784",
            "ticks": ""
           },
           "baxis": {
            "gridcolor": "#506784",
            "linecolor": "#506784",
            "ticks": ""
           },
           "caxis": {
            "gridcolor": "#506784",
            "linecolor": "#506784",
            "ticks": ""
           }
          },
          "coloraxis": {
           "colorbar": {
            "outlinewidth": 0,
            "ticks": ""
           }
          },
          "colorscale": {
           "sequential": [
            [
             0.0,
             "#0d0887"
            ],
            [
             0.1111111111111111,
             "#46039f"
            ],
            [
             0.2222222222222222,
             "#7201a8"
            ],
            [
             0.3333333333333333,
             "#9c179e"
            ],
            [
             0.4444444444444444,
             "#bd3786"
            ],
            [
             0.5555555555555556,
             "#d8576b"
            ],
            [
             0.6666666666666666,
             "#ed7953"
            ],
            [
             0.7777777777777778,
             "#fb9f3a"
            ],
            [
             0.8888888888888888,
             "#fdca26"
            ],
            [
             1.0,
             "#f0f921"
            ]
           ],
           "sequentialminus": [
            [
             0.0,
             "#0d0887"
            ],
            [
             0.1111111111111111,
             "#46039f"
            ],
            [
             0.2222222222222222,
             "#7201a8"
            ],
            [
             0.3333333333333333,
             "#9c179e"
            ],
            [
             0.4444444444444444,
             "#bd3786"
            ],
            [
             0.5555555555555556,
             "#d8576b"
            ],
            [
             0.6666666666666666,
             "#ed7953"
            ],
            [
             0.7777777777777778,
             "#fb9f3a"
            ],
            [
             0.8888888888888888,
             "#fdca26"
            ],
            [
             1.0,
             "#f0f921"
            ]
           ],
           "diverging": [
            [
             0,
             "#8e0152"
            ],
            [
             0.1,
             "#c51b7d"
            ],
            [
             0.2,
             "#de77ae"
            ],
            [
             0.3,
             "#f1b6da"
            ],
            [
             0.4,
             "#fde0ef"
            ],
            [
             0.5,
             "#f7f7f7"
            ],
            [
             0.6,
             "#e6f5d0"
            ],
            [
             0.7,
             "#b8e186"
            ],
            [
             0.8,
             "#7fbc41"
            ],
            [
             0.9,
             "#4d9221"
            ],
            [
             1,
             "#276419"
            ]
           ]
          },
          "xaxis": {
           "gridcolor": "#283442",
           "linecolor": "#506784",
           "ticks": "",
           "title": {
            "standoff": 15
           },
           "zerolinecolor": "#283442",
           "automargin": true,
           "zerolinewidth": 2
          },
          "yaxis": {
           "gridcolor": "#283442",
           "linecolor": "#506784",
           "ticks": "",
           "title": {
            "standoff": 15
           },
           "zerolinecolor": "#283442",
           "automargin": true,
           "zerolinewidth": 2
          },
          "scene": {
           "xaxis": {
            "backgroundcolor": "rgb(17,17,17)",
            "gridcolor": "#506784",
            "linecolor": "#506784",
            "showbackground": true,
            "ticks": "",
            "zerolinecolor": "#C8D4E3",
            "gridwidth": 2
           },
           "yaxis": {
            "backgroundcolor": "rgb(17,17,17)",
            "gridcolor": "#506784",
            "linecolor": "#506784",
            "showbackground": true,
            "ticks": "",
            "zerolinecolor": "#C8D4E3",
            "gridwidth": 2
           },
           "zaxis": {
            "backgroundcolor": "rgb(17,17,17)",
            "gridcolor": "#506784",
            "linecolor": "#506784",
            "showbackground": true,
            "ticks": "",
            "zerolinecolor": "#C8D4E3",
            "gridwidth": 2
           }
          },
          "shapedefaults": {
           "line": {
            "color": "#f2f5fa"
           }
          },
          "annotationdefaults": {
           "arrowcolor": "#f2f5fa",
           "arrowhead": 0,
           "arrowwidth": 1
          },
          "geo": {
           "bgcolor": "rgb(17,17,17)",
           "landcolor": "rgb(17,17,17)",
           "subunitcolor": "#506784",
           "showland": true,
           "showlakes": true,
           "lakecolor": "rgb(17,17,17)"
          },
          "title": {
           "x": 0.05
          },
          "updatemenudefaults": {
           "bgcolor": "#506784",
           "borderwidth": 0
          },
          "sliderdefaults": {
           "bgcolor": "#C8D4E3",
           "borderwidth": 1,
           "bordercolor": "rgb(17,17,17)",
           "tickwidth": 0
          },
          "mapbox": {
           "style": "dark"
          }
         }
        },
        "xaxis": {
         "anchor": "y",
         "domain": [
          0.0,
          1.0
         ],
         "title": {
          "text": "feature"
         }
        },
        "yaxis": {
         "anchor": "x",
         "domain": [
          0.0,
          1.0
         ],
         "title": {
          "text": "value"
         }
        },
        "legend": {
         "title": {
          "text": "variable"
         },
         "tracegroupgap": 0
        },
        "margin": {
         "t": 60
        },
        "barmode": "group"
       },
       "config": {
        "plotlyServerURL": "https://plot.ly"
       }
      },
      "text/html": [
       "<div>                            <div id=\"5de8905e-00de-4215-94ed-64f2cecf7da4\" class=\"plotly-graph-div\" style=\"height:525px; width:100%;\"></div>            <script type=\"text/javascript\">                require([\"plotly\"], function(Plotly) {                    window.PLOTLYENV=window.PLOTLYENV || {};                                    if (document.getElementById(\"5de8905e-00de-4215-94ed-64f2cecf7da4\")) {                    Plotly.newPlot(                        \"5de8905e-00de-4215-94ed-64f2cecf7da4\",                        [{\"alignmentgroup\":\"True\",\"hovertemplate\":\"variable=min\\u003cbr\\u003efeature=%{x}\\u003cbr\\u003evalue=%{y}\\u003cextra\\u003e\\u003c\\u002fextra\\u003e\",\"legendgroup\":\"min\",\"marker\":{\"color\":\"#636efa\",\"pattern\":{\"shape\":\"\"}},\"name\":\"min\",\"offsetgroup\":\"min\",\"orientation\":\"v\",\"showlegend\":true,\"textposition\":\"auto\",\"x\":[\"book_pages\",\"book_authors\",\"book_price\",\"book_categories\",\"library_name\",\"customer_occupation\",\"DayOfWeek\",\"customer_education\",\"MonthOfYear\",\"book_age\",\"DayOfMonth\",\"customer_age\",\"customer_gender\"],\"xaxis\":\"x\",\"y\":[0.14158316046278577,-0.05024929530853835,0.09501897233232469,-0.04852789004460781,-0.0487665623636084,-0.0360587152004797,0.02669045564750671,-0.034911874651246504,-0.0430412041270528,0.019754254927186646,0.008259726966239028,0.019047779821320818,-0.0043984570675616175],\"yaxis\":\"y\",\"type\":\"bar\"},{\"alignmentgroup\":\"True\",\"hovertemplate\":\"variable=max\\u003cbr\\u003efeature=%{x}\\u003cbr\\u003evalue=%{y}\\u003cextra\\u003e\\u003c\\u002fextra\\u003e\",\"legendgroup\":\"max\",\"marker\":{\"color\":\"#EF553B\",\"pattern\":{\"shape\":\"\"}},\"name\":\"max\",\"offsetgroup\":\"max\",\"orientation\":\"v\",\"showlegend\":true,\"textposition\":\"auto\",\"x\":[\"book_pages\",\"book_authors\",\"book_price\",\"book_categories\",\"library_name\",\"customer_occupation\",\"DayOfWeek\",\"customer_education\",\"MonthOfYear\",\"book_age\",\"DayOfMonth\",\"customer_age\",\"customer_gender\"],\"xaxis\":\"x\",\"y\":[0.14158316046278577,0.09611210463251492,0.09501897233232469,0.08015377466601288,0.0588087229598726,0.05661630149428568,0.055725701975877506,0.026513138536977232,0.024049671763797433,0.019754254927186646,0.01926462869762163,0.019047779821320818,0.01182619622623105],\"yaxis\":\"y\",\"type\":\"bar\"}],                        {\"template\":{\"data\":{\"histogram2dcontour\":[{\"type\":\"histogram2dcontour\",\"colorbar\":{\"outlinewidth\":0,\"ticks\":\"\"},\"colorscale\":[[0.0,\"#0d0887\"],[0.1111111111111111,\"#46039f\"],[0.2222222222222222,\"#7201a8\"],[0.3333333333333333,\"#9c179e\"],[0.4444444444444444,\"#bd3786\"],[0.5555555555555556,\"#d8576b\"],[0.6666666666666666,\"#ed7953\"],[0.7777777777777778,\"#fb9f3a\"],[0.8888888888888888,\"#fdca26\"],[1.0,\"#f0f921\"]]}],\"choropleth\":[{\"type\":\"choropleth\",\"colorbar\":{\"outlinewidth\":0,\"ticks\":\"\"}}],\"histogram2d\":[{\"type\":\"histogram2d\",\"colorbar\":{\"outlinewidth\":0,\"ticks\":\"\"},\"colorscale\":[[0.0,\"#0d0887\"],[0.1111111111111111,\"#46039f\"],[0.2222222222222222,\"#7201a8\"],[0.3333333333333333,\"#9c179e\"],[0.4444444444444444,\"#bd3786\"],[0.5555555555555556,\"#d8576b\"],[0.6666666666666666,\"#ed7953\"],[0.7777777777777778,\"#fb9f3a\"],[0.8888888888888888,\"#fdca26\"],[1.0,\"#f0f921\"]]}],\"heatmap\":[{\"type\":\"heatmap\",\"colorbar\":{\"outlinewidth\":0,\"ticks\":\"\"},\"colorscale\":[[0.0,\"#0d0887\"],[0.1111111111111111,\"#46039f\"],[0.2222222222222222,\"#7201a8\"],[0.3333333333333333,\"#9c179e\"],[0.4444444444444444,\"#bd3786\"],[0.5555555555555556,\"#d8576b\"],[0.6666666666666666,\"#ed7953\"],[0.7777777777777778,\"#fb9f3a\"],[0.8888888888888888,\"#fdca26\"],[1.0,\"#f0f921\"]]}],\"heatmapgl\":[{\"type\":\"heatmapgl\",\"colorbar\":{\"outlinewidth\":0,\"ticks\":\"\"},\"colorscale\":[[0.0,\"#0d0887\"],[0.1111111111111111,\"#46039f\"],[0.2222222222222222,\"#7201a8\"],[0.3333333333333333,\"#9c179e\"],[0.4444444444444444,\"#bd3786\"],[0.5555555555555556,\"#d8576b\"],[0.6666666666666666,\"#ed7953\"],[0.7777777777777778,\"#fb9f3a\"],[0.8888888888888888,\"#fdca26\"],[1.0,\"#f0f921\"]]}],\"contourcarpet\":[{\"type\":\"contourcarpet\",\"colorbar\":{\"outlinewidth\":0,\"ticks\":\"\"}}],\"contour\":[{\"type\":\"contour\",\"colorbar\":{\"outlinewidth\":0,\"ticks\":\"\"},\"colorscale\":[[0.0,\"#0d0887\"],[0.1111111111111111,\"#46039f\"],[0.2222222222222222,\"#7201a8\"],[0.3333333333333333,\"#9c179e\"],[0.4444444444444444,\"#bd3786\"],[0.5555555555555556,\"#d8576b\"],[0.6666666666666666,\"#ed7953\"],[0.7777777777777778,\"#fb9f3a\"],[0.8888888888888888,\"#fdca26\"],[1.0,\"#f0f921\"]]}],\"surface\":[{\"type\":\"surface\",\"colorbar\":{\"outlinewidth\":0,\"ticks\":\"\"},\"colorscale\":[[0.0,\"#0d0887\"],[0.1111111111111111,\"#46039f\"],[0.2222222222222222,\"#7201a8\"],[0.3333333333333333,\"#9c179e\"],[0.4444444444444444,\"#bd3786\"],[0.5555555555555556,\"#d8576b\"],[0.6666666666666666,\"#ed7953\"],[0.7777777777777778,\"#fb9f3a\"],[0.8888888888888888,\"#fdca26\"],[1.0,\"#f0f921\"]]}],\"mesh3d\":[{\"type\":\"mesh3d\",\"colorbar\":{\"outlinewidth\":0,\"ticks\":\"\"}}],\"scatter\":[{\"marker\":{\"line\":{\"color\":\"#283442\"}},\"type\":\"scatter\"}],\"parcoords\":[{\"type\":\"parcoords\",\"line\":{\"colorbar\":{\"outlinewidth\":0,\"ticks\":\"\"}}}],\"scatterpolargl\":[{\"type\":\"scatterpolargl\",\"marker\":{\"colorbar\":{\"outlinewidth\":0,\"ticks\":\"\"}}}],\"bar\":[{\"error_x\":{\"color\":\"#f2f5fa\"},\"error_y\":{\"color\":\"#f2f5fa\"},\"marker\":{\"line\":{\"color\":\"rgb(17,17,17)\",\"width\":0.5},\"pattern\":{\"fillmode\":\"overlay\",\"size\":10,\"solidity\":0.2}},\"type\":\"bar\"}],\"scattergeo\":[{\"type\":\"scattergeo\",\"marker\":{\"colorbar\":{\"outlinewidth\":0,\"ticks\":\"\"}}}],\"scatterpolar\":[{\"type\":\"scatterpolar\",\"marker\":{\"colorbar\":{\"outlinewidth\":0,\"ticks\":\"\"}}}],\"histogram\":[{\"marker\":{\"pattern\":{\"fillmode\":\"overlay\",\"size\":10,\"solidity\":0.2}},\"type\":\"histogram\"}],\"scattergl\":[{\"marker\":{\"line\":{\"color\":\"#283442\"}},\"type\":\"scattergl\"}],\"scatter3d\":[{\"type\":\"scatter3d\",\"line\":{\"colorbar\":{\"outlinewidth\":0,\"ticks\":\"\"}},\"marker\":{\"colorbar\":{\"outlinewidth\":0,\"ticks\":\"\"}}}],\"scattermapbox\":[{\"type\":\"scattermapbox\",\"marker\":{\"colorbar\":{\"outlinewidth\":0,\"ticks\":\"\"}}}],\"scatterternary\":[{\"type\":\"scatterternary\",\"marker\":{\"colorbar\":{\"outlinewidth\":0,\"ticks\":\"\"}}}],\"scattercarpet\":[{\"type\":\"scattercarpet\",\"marker\":{\"colorbar\":{\"outlinewidth\":0,\"ticks\":\"\"}}}],\"carpet\":[{\"aaxis\":{\"endlinecolor\":\"#A2B1C6\",\"gridcolor\":\"#506784\",\"linecolor\":\"#506784\",\"minorgridcolor\":\"#506784\",\"startlinecolor\":\"#A2B1C6\"},\"baxis\":{\"endlinecolor\":\"#A2B1C6\",\"gridcolor\":\"#506784\",\"linecolor\":\"#506784\",\"minorgridcolor\":\"#506784\",\"startlinecolor\":\"#A2B1C6\"},\"type\":\"carpet\"}],\"table\":[{\"cells\":{\"fill\":{\"color\":\"#506784\"},\"line\":{\"color\":\"rgb(17,17,17)\"}},\"header\":{\"fill\":{\"color\":\"#2a3f5f\"},\"line\":{\"color\":\"rgb(17,17,17)\"}},\"type\":\"table\"}],\"barpolar\":[{\"marker\":{\"line\":{\"color\":\"rgb(17,17,17)\",\"width\":0.5},\"pattern\":{\"fillmode\":\"overlay\",\"size\":10,\"solidity\":0.2}},\"type\":\"barpolar\"}],\"pie\":[{\"automargin\":true,\"type\":\"pie\"}]},\"layout\":{\"autotypenumbers\":\"strict\",\"colorway\":[\"#636efa\",\"#EF553B\",\"#00cc96\",\"#ab63fa\",\"#FFA15A\",\"#19d3f3\",\"#FF6692\",\"#B6E880\",\"#FF97FF\",\"#FECB52\"],\"font\":{\"color\":\"#f2f5fa\"},\"hovermode\":\"closest\",\"hoverlabel\":{\"align\":\"left\"},\"paper_bgcolor\":\"rgb(17,17,17)\",\"plot_bgcolor\":\"rgb(17,17,17)\",\"polar\":{\"bgcolor\":\"rgb(17,17,17)\",\"angularaxis\":{\"gridcolor\":\"#506784\",\"linecolor\":\"#506784\",\"ticks\":\"\"},\"radialaxis\":{\"gridcolor\":\"#506784\",\"linecolor\":\"#506784\",\"ticks\":\"\"}},\"ternary\":{\"bgcolor\":\"rgb(17,17,17)\",\"aaxis\":{\"gridcolor\":\"#506784\",\"linecolor\":\"#506784\",\"ticks\":\"\"},\"baxis\":{\"gridcolor\":\"#506784\",\"linecolor\":\"#506784\",\"ticks\":\"\"},\"caxis\":{\"gridcolor\":\"#506784\",\"linecolor\":\"#506784\",\"ticks\":\"\"}},\"coloraxis\":{\"colorbar\":{\"outlinewidth\":0,\"ticks\":\"\"}},\"colorscale\":{\"sequential\":[[0.0,\"#0d0887\"],[0.1111111111111111,\"#46039f\"],[0.2222222222222222,\"#7201a8\"],[0.3333333333333333,\"#9c179e\"],[0.4444444444444444,\"#bd3786\"],[0.5555555555555556,\"#d8576b\"],[0.6666666666666666,\"#ed7953\"],[0.7777777777777778,\"#fb9f3a\"],[0.8888888888888888,\"#fdca26\"],[1.0,\"#f0f921\"]],\"sequentialminus\":[[0.0,\"#0d0887\"],[0.1111111111111111,\"#46039f\"],[0.2222222222222222,\"#7201a8\"],[0.3333333333333333,\"#9c179e\"],[0.4444444444444444,\"#bd3786\"],[0.5555555555555556,\"#d8576b\"],[0.6666666666666666,\"#ed7953\"],[0.7777777777777778,\"#fb9f3a\"],[0.8888888888888888,\"#fdca26\"],[1.0,\"#f0f921\"]],\"diverging\":[[0,\"#8e0152\"],[0.1,\"#c51b7d\"],[0.2,\"#de77ae\"],[0.3,\"#f1b6da\"],[0.4,\"#fde0ef\"],[0.5,\"#f7f7f7\"],[0.6,\"#e6f5d0\"],[0.7,\"#b8e186\"],[0.8,\"#7fbc41\"],[0.9,\"#4d9221\"],[1,\"#276419\"]]},\"xaxis\":{\"gridcolor\":\"#283442\",\"linecolor\":\"#506784\",\"ticks\":\"\",\"title\":{\"standoff\":15},\"zerolinecolor\":\"#283442\",\"automargin\":true,\"zerolinewidth\":2},\"yaxis\":{\"gridcolor\":\"#283442\",\"linecolor\":\"#506784\",\"ticks\":\"\",\"title\":{\"standoff\":15},\"zerolinecolor\":\"#283442\",\"automargin\":true,\"zerolinewidth\":2},\"scene\":{\"xaxis\":{\"backgroundcolor\":\"rgb(17,17,17)\",\"gridcolor\":\"#506784\",\"linecolor\":\"#506784\",\"showbackground\":true,\"ticks\":\"\",\"zerolinecolor\":\"#C8D4E3\",\"gridwidth\":2},\"yaxis\":{\"backgroundcolor\":\"rgb(17,17,17)\",\"gridcolor\":\"#506784\",\"linecolor\":\"#506784\",\"showbackground\":true,\"ticks\":\"\",\"zerolinecolor\":\"#C8D4E3\",\"gridwidth\":2},\"zaxis\":{\"backgroundcolor\":\"rgb(17,17,17)\",\"gridcolor\":\"#506784\",\"linecolor\":\"#506784\",\"showbackground\":true,\"ticks\":\"\",\"zerolinecolor\":\"#C8D4E3\",\"gridwidth\":2}},\"shapedefaults\":{\"line\":{\"color\":\"#f2f5fa\"}},\"annotationdefaults\":{\"arrowcolor\":\"#f2f5fa\",\"arrowhead\":0,\"arrowwidth\":1},\"geo\":{\"bgcolor\":\"rgb(17,17,17)\",\"landcolor\":\"rgb(17,17,17)\",\"subunitcolor\":\"#506784\",\"showland\":true,\"showlakes\":true,\"lakecolor\":\"rgb(17,17,17)\"},\"title\":{\"x\":0.05},\"updatemenudefaults\":{\"bgcolor\":\"#506784\",\"borderwidth\":0},\"sliderdefaults\":{\"bgcolor\":\"#C8D4E3\",\"borderwidth\":1,\"bordercolor\":\"rgb(17,17,17)\",\"tickwidth\":0},\"mapbox\":{\"style\":\"dark\"}}},\"xaxis\":{\"anchor\":\"y\",\"domain\":[0.0,1.0],\"title\":{\"text\":\"feature\"}},\"yaxis\":{\"anchor\":\"x\",\"domain\":[0.0,1.0],\"title\":{\"text\":\"value\"}},\"legend\":{\"title\":{\"text\":\"variable\"},\"tracegroupgap\":0},\"margin\":{\"t\":60},\"barmode\":\"group\"},                        {\"responsive\": true}                    ).then(function(){\n",
       "                            \n",
       "var gd = document.getElementById('5de8905e-00de-4215-94ed-64f2cecf7da4');\n",
       "var x = new MutationObserver(function (mutations, observer) {{\n",
       "        var display = window.getComputedStyle(gd).display;\n",
       "        if (!display || display === 'none') {{\n",
       "            console.log([gd, 'removed!']);\n",
       "            Plotly.purge(gd);\n",
       "            observer.disconnect();\n",
       "        }}\n",
       "}});\n",
       "\n",
       "// Listen for the removal of the full notebook cells\n",
       "var notebookContainer = gd.closest('#notebook-container');\n",
       "if (notebookContainer) {{\n",
       "    x.observe(notebookContainer, {childList: true});\n",
       "}}\n",
       "\n",
       "// Listen for the clearing of the current output cell\n",
       "var outputEl = gd.closest('.output');\n",
       "if (outputEl) {{\n",
       "    x.observe(outputEl, {childList: true});\n",
       "}}\n",
       "\n",
       "                        })                };                });            </script>        </div>"
      ]
     },
     "metadata": {},
     "output_type": "display_data"
    }
   ],
   "execution_count": 66
  },
  {
   "metadata": {},
   "cell_type": "markdown",
   "source": [
    "## Model Selection\n",
    "\n",
    "Evaluating traditional (shallow learning) classifiers: logistic regression, decision tree, random forest, extreme gradient boosting, and support vector machines. For simplicity, the classifiers are used with default hyperparameters and evaluated with commonly used classification metrics utilizing cross validation. \n",
    "\n",
    "NOTE: The evaluation process can be extended to include hyperparameter optimization and other models."
   ],
   "id": "1b8f27a7c4af2030"
  },
  {
   "metadata": {},
   "cell_type": "markdown",
   "source": [
    "### Data Splitting and Scaling\n",
    "\n",
    "Preparing scaled features (x), targets (y), and weights (w)."
   ],
   "id": "e8918063642dd213"
  },
  {
   "metadata": {
    "ExecuteTime": {
     "end_time": "2024-09-04T08:30:49.155452Z",
     "start_time": "2024-09-04T08:30:48.943724Z"
    }
   },
   "cell_type": "code",
   "source": [
    "df_x = df_xy.drop(columns=['date_checkout', 'checkout_days', 'late_return'])\n",
    "x = MinMaxScaler().fit_transform(df_x.values)\n",
    "y = df_xy['late_return'].values\n",
    "w = df_xy['checkout_days'].values / max_checkout_days # Weights for handling imbalance in late returns. "
   ],
   "id": "f405c3d2930ae4e5",
   "outputs": [],
   "execution_count": 67
  },
  {
   "metadata": {},
   "cell_type": "markdown",
   "source": [
    "### Cross Validation\n",
    "\n",
    "Evaluating classification models with 5-fold cross validation using the following metrics:\n",
    "1. Accuracy\n",
    "2. Precision\n",
    "3. Recall\n",
    "4. F1 Score \n",
    "5. ROC AUC (Receiver Operating Characteristic - Area Under the Curve)\n",
    "6. Balanced Accuracy\n",
    "7. Average Precision\n",
    "8. Matthews Correlation Coefficient (MCC)\n",
    "\n",
    "The following descriptions were generated by ChatGPT.\n",
    "\n",
    "#### 1. Accuracy\n",
    "**Definition:** The ratio of correctly predicted instances (both true positives and true negatives) to the total number of instances.  \n",
    "**Formula:**  \n",
    "$$\n",
    "\\text{Accuracy} = \\frac{\\text{True Positives} + \\text{True Negatives}}{\\text{Total Instances}}\n",
    "$$  \n",
    "**Range:** [0, 1]  \n",
    "**Interpretation:**\n",
    "- **0:** No correct predictions (worst case).\n",
    "- **1:** All predictions are correct (best case).\n",
    "- **Usefulness:** Accuracy is a useful general measure, but it can be misleading in cases of imbalanced datasets where the majority class dominates.\n",
    "\n",
    "#### 2. Precision\n",
    "**Definition:** The ratio of correctly predicted positive instances (true positives) to the total predicted positives (true positives + false positives).  \n",
    "**Formula:**  \n",
    "$$\n",
    "\\text{Precision} = \\frac{\\text{True Positives}}{\\text{True Positives} + \\text{False Positives}}\n",
    "$$  \n",
    "**Range:** [0, 1]  \n",
    "**Interpretation:**\n",
    "- **0:** No true positives, only false positives (worst case).\n",
    "- **1:** All predicted positives are true positives, no false positives (best case).\n",
    "- **Usefulness:** Precision is crucial when the cost of false positives is high (e.g., in spam detection).\n",
    "\n",
    "#### 3. Recall\n",
    "**Definition:** The ratio of correctly predicted positive instances to the total actual positives (true positives + false negatives).  \n",
    "**Formula:**  \n",
    "$$\n",
    "\\text{Recall} = \\frac{\\text{True Positives}}{\\text{True Positives} + \\text{False Negatives}}\n",
    "$$  \n",
    "**Range:** [0, 1]  \n",
    "**Interpretation:**\n",
    "- **0:** No true positives are captured; all actual positives are missed (worst case).\n",
    "- **1:** All actual positives are captured by the model (best case).\n",
    "- **Usefulness:** Recall is important when the cost of false negatives is high (e.g., in medical diagnostics).\n",
    "\n",
    "#### 4. F1 Score\n",
    "**Definition:** The harmonic mean of precision and recall.  \n",
    "**Formula:**  \n",
    "$$\n",
    "\\text{F1 Score} = 2 \\times \\frac{\\text{Precision} \\times \\text{Recall}}{\\text{Precision} + \\text{Recall}}\n",
    "$$  \n",
    "**Range:** [0, 1]  \n",
    "**Interpretation:**\n",
    "- **0:** Either precision or recall (or both) is zero (worst case).\n",
    "- **1:** Both precision and recall are perfect (best case).\n",
    "- **Usefulness:** The F1 Score is useful when you need to balance precision and recall, especially in imbalanced datasets.\n",
    "\n",
    "#### 5. ROC AUC (Receiver Operating Characteristic - Area Under the Curve)\n",
    "**Definition:** AUC measures the area under the ROC curve, which plots the true positive rate against the false positive rate at various threshold settings.  \n",
    "**Range:** [0, 1]  \n",
    "**Interpretation:**\n",
    "- **0.5:** The model performs no better than random guessing.\n",
    "- **1:** The model perfectly distinguishes between the classes.\n",
    "- **Usefulness:** ROC AUC is useful to evaluate the model’s ability to distinguish between the positive and negative classes across all threshold values.\n",
    "\n",
    "#### 6. Balanced Accuracy\n",
    "**Definition:** The average of recall obtained on each class, particularly useful for imbalanced datasets.  \n",
    "**Formula:**  \n",
    "$$\n",
    "\\text{Balanced Accuracy} = \\frac{1}{2} \\left( \\frac{\\text{True Positives}}{\\text{Actual Positives}} + \\frac{\\text{True Negatives}}{\\text{Actual Negatives}} \\right)\n",
    "$$  \n",
    "**Range:** [0, 1]  \n",
    "**Interpretation:**\n",
    "- **0:** The model performs as badly as possible on both classes.\n",
    "- **1:** The model perfectly predicts both classes.\n",
    "- **Usefulness:** Balanced accuracy gives a more truthful measure of performance for imbalanced datasets by equally weighing the accuracy of each class.\n",
    "\n",
    "#### 7. Average Precision\n",
    "**Definition:** The average of precision scores calculated at different thresholds, weighted by the increase in recall from the previous threshold.  \n",
    "**Range:** [0, 1]  \n",
    "**Interpretation:**\n",
    "- **0:** No precision; the model predicts only false positives.\n",
    "- **1:** Perfect precision at all thresholds.\n",
    "- **Usefulness:** Average precision provides a single-number summary of the precision-recall curve, useful in cases with imbalanced classes.\n",
    "\n",
    "#### 8. Matthews Correlation Coefficient (MCC)\n",
    "**Definition:** MCC is a measure of the quality of binary classifications, considering all four confusion matrix categories (true positives, false positives, true negatives, and false negatives).  \n",
    "**Formula:**  \n",
    "$$\n",
    "\\text{MCC} = \\frac{(\\text{True Positives} \\times \\text{True Negatives}) - (\\text{False Positives} \\times \\text{False Negatives})}{\\sqrt{(\\text{True Positives} + \\text{False Positives}) \\times (\\text{True Positives} + \\text{False Negatives}) \\times (\\text{True Negatives} + \\text{False Positives}) \\times (\\text{True Negatives} + \\text{False Negatives})}}\n",
    "$$  \n",
    "**Range:** [-1, 1]  \n",
    "**Interpretation:**\n",
    "- **-1:** Total disagreement between predicted and actual values.\n",
    "- **0:** Predictions are no better than random.\n",
    "- **1:** Perfect prediction.\n",
    "- **Usefulness:** MCC is a balanced metric even for imbalanced classes, providing a comprehensive view of prediction performance.\n"
   ],
   "id": "aeda4c41177c6991"
  },
  {
   "metadata": {
    "ExecuteTime": {
     "end_time": "2024-09-04T08:31:14.141726Z",
     "start_time": "2024-09-04T08:30:49.267154Z"
    }
   },
   "cell_type": "code",
   "source": [
    "def evaluate_classifier(c, x_samples, y_samples, w_samples):\n",
    "    scoring = {\n",
    "        'Accuracy': 'accuracy',\n",
    "        'Precision': 'precision',\n",
    "        'Recall': 'recall',\n",
    "        'F1': 'f1',\n",
    "        'ROC_AUC': 'roc_auc',\n",
    "        'Balanced_Accuracy': 'balanced_accuracy',\n",
    "        'Average_Precision': 'average_precision',\n",
    "        'MCC': 'matthews_corrcoef',\n",
    "    }\n",
    "    \n",
    "    scores = cross_validate(c, x_samples, y_samples, params={'sample_weight': w_samples}, cv=5, scoring=scoring, return_train_score=True)\n",
    "    df_result = pd.DataFrame(scores).reset_index()\n",
    "    df_result.rename(columns={'index': 'partition'}, inplace=True)\n",
    "    df_result['classifier'] = type(c).__name__.replace('Classifier', '')\n",
    "    return df_result\n",
    "\n",
    "\n",
    "classifiers = [\n",
    "    LogisticRegression(),\n",
    "    DecisionTreeClassifier(),\n",
    "    RandomForestClassifier(),\n",
    "    XGBClassifier(),\n",
    "    SVC(kernel='linear',probability=True)\n",
    "]\n",
    "  \n",
    "df_scores = pd.concat([evaluate_classifier(_, x, y, w) for _ in classifiers])\n",
    "df_scores.drop(columns=['partition']).groupby('classifier', sort=False).mean().T"
   ],
   "id": "8114ff6339928d77",
   "outputs": [
    {
     "name": "stderr",
     "output_type": "stream",
     "text": [
      "C:\\Users\\igorm\\Documents\\GitHub\\library\\.venv\\Lib\\site-packages\\sklearn\\metrics\\_classification.py:1531: UndefinedMetricWarning:\n",
      "\n",
      "Precision is ill-defined and being set to 0.0 due to no predicted samples. Use `zero_division` parameter to control this behavior.\n",
      "\n",
      "C:\\Users\\igorm\\Documents\\GitHub\\library\\.venv\\Lib\\site-packages\\sklearn\\metrics\\_classification.py:1531: UndefinedMetricWarning:\n",
      "\n",
      "Precision is ill-defined and being set to 0.0 due to no predicted samples. Use `zero_division` parameter to control this behavior.\n",
      "\n"
     ]
    },
    {
     "data": {
      "text/plain": [
       "classifier               LogisticRegression  DecisionTree  RandomForest  \\\n",
       "fit_time                           0.119403      0.897334      1.641470   \n",
       "score_time                         0.126845      0.051540      0.111242   \n",
       "test_Accuracy                      0.298991      0.700264      0.811160   \n",
       "train_Accuracy                     0.348173      1.000000      1.000000   \n",
       "test_Precision                     0.193851      0.185853      0.300000   \n",
       "train_Precision                    0.221399      1.000000      1.000000   \n",
       "test_Recall                        0.859507      0.170537      0.011393   \n",
       "train_Recall                       0.972548      1.000000      1.000000   \n",
       "test_F1                            0.316322      0.176963      0.021953   \n",
       "train_F1                           0.360622      1.000000      1.000000   \n",
       "test_ROC_AUC                       0.509553      0.497091      0.514294   \n",
       "train_ROC_AUC                      0.716126      1.000000      1.000000   \n",
       "test_Balanced_Accuracy             0.513959      0.497091      0.504373   \n",
       "train_Balanced_Accuracy            0.587689      1.000000      1.000000   \n",
       "test_Average_Precision             0.220197      0.189435      0.218805   \n",
       "train_Average_Precision            0.317238      1.000000      1.000000   \n",
       "test_MCC                           0.031436     -0.004988      0.040574   \n",
       "train_MCC                          0.182735      1.000000      1.000000   \n",
       "\n",
       "classifier                    XGB       SVC  \n",
       "fit_time                 0.317706  0.950411  \n",
       "score_time               0.029490  0.065683  \n",
       "test_Accuracy            0.675986  0.457089  \n",
       "train_Accuracy           0.979614  0.552033  \n",
       "test_Precision           0.252408  0.197655  \n",
       "train_Precision          0.903224  0.293010  \n",
       "test_Recall              0.363716  0.605878  \n",
       "train_Recall             1.000000  0.967808  \n",
       "test_F1                  0.297418  0.297875  \n",
       "train_F1                 0.948983  0.449706  \n",
       "test_ROC_AUC             0.555596  0.510968  \n",
       "train_ROC_AUC            0.999273  0.762082  \n",
       "test_Balanced_Accuracy   0.556215  0.514143  \n",
       "train_Balanced_Accuracy  0.987433  0.711528  \n",
       "test_Average_Precision   0.234852  0.213335  \n",
       "train_Average_Precision  0.996369  0.310586  \n",
       "test_MCC                 0.099009  0.021677  \n",
       "train_MCC                0.938317  0.342174  "
      ],
      "text/html": [
       "<div>\n",
       "<style scoped>\n",
       "    .dataframe tbody tr th:only-of-type {\n",
       "        vertical-align: middle;\n",
       "    }\n",
       "\n",
       "    .dataframe tbody tr th {\n",
       "        vertical-align: top;\n",
       "    }\n",
       "\n",
       "    .dataframe thead th {\n",
       "        text-align: right;\n",
       "    }\n",
       "</style>\n",
       "<table border=\"1\" class=\"dataframe\">\n",
       "  <thead>\n",
       "    <tr style=\"text-align: right;\">\n",
       "      <th>classifier</th>\n",
       "      <th>LogisticRegression</th>\n",
       "      <th>DecisionTree</th>\n",
       "      <th>RandomForest</th>\n",
       "      <th>XGB</th>\n",
       "      <th>SVC</th>\n",
       "    </tr>\n",
       "  </thead>\n",
       "  <tbody>\n",
       "    <tr>\n",
       "      <th>fit_time</th>\n",
       "      <td>0.119403</td>\n",
       "      <td>0.897334</td>\n",
       "      <td>1.641470</td>\n",
       "      <td>0.317706</td>\n",
       "      <td>0.950411</td>\n",
       "    </tr>\n",
       "    <tr>\n",
       "      <th>score_time</th>\n",
       "      <td>0.126845</td>\n",
       "      <td>0.051540</td>\n",
       "      <td>0.111242</td>\n",
       "      <td>0.029490</td>\n",
       "      <td>0.065683</td>\n",
       "    </tr>\n",
       "    <tr>\n",
       "      <th>test_Accuracy</th>\n",
       "      <td>0.298991</td>\n",
       "      <td>0.700264</td>\n",
       "      <td>0.811160</td>\n",
       "      <td>0.675986</td>\n",
       "      <td>0.457089</td>\n",
       "    </tr>\n",
       "    <tr>\n",
       "      <th>train_Accuracy</th>\n",
       "      <td>0.348173</td>\n",
       "      <td>1.000000</td>\n",
       "      <td>1.000000</td>\n",
       "      <td>0.979614</td>\n",
       "      <td>0.552033</td>\n",
       "    </tr>\n",
       "    <tr>\n",
       "      <th>test_Precision</th>\n",
       "      <td>0.193851</td>\n",
       "      <td>0.185853</td>\n",
       "      <td>0.300000</td>\n",
       "      <td>0.252408</td>\n",
       "      <td>0.197655</td>\n",
       "    </tr>\n",
       "    <tr>\n",
       "      <th>train_Precision</th>\n",
       "      <td>0.221399</td>\n",
       "      <td>1.000000</td>\n",
       "      <td>1.000000</td>\n",
       "      <td>0.903224</td>\n",
       "      <td>0.293010</td>\n",
       "    </tr>\n",
       "    <tr>\n",
       "      <th>test_Recall</th>\n",
       "      <td>0.859507</td>\n",
       "      <td>0.170537</td>\n",
       "      <td>0.011393</td>\n",
       "      <td>0.363716</td>\n",
       "      <td>0.605878</td>\n",
       "    </tr>\n",
       "    <tr>\n",
       "      <th>train_Recall</th>\n",
       "      <td>0.972548</td>\n",
       "      <td>1.000000</td>\n",
       "      <td>1.000000</td>\n",
       "      <td>1.000000</td>\n",
       "      <td>0.967808</td>\n",
       "    </tr>\n",
       "    <tr>\n",
       "      <th>test_F1</th>\n",
       "      <td>0.316322</td>\n",
       "      <td>0.176963</td>\n",
       "      <td>0.021953</td>\n",
       "      <td>0.297418</td>\n",
       "      <td>0.297875</td>\n",
       "    </tr>\n",
       "    <tr>\n",
       "      <th>train_F1</th>\n",
       "      <td>0.360622</td>\n",
       "      <td>1.000000</td>\n",
       "      <td>1.000000</td>\n",
       "      <td>0.948983</td>\n",
       "      <td>0.449706</td>\n",
       "    </tr>\n",
       "    <tr>\n",
       "      <th>test_ROC_AUC</th>\n",
       "      <td>0.509553</td>\n",
       "      <td>0.497091</td>\n",
       "      <td>0.514294</td>\n",
       "      <td>0.555596</td>\n",
       "      <td>0.510968</td>\n",
       "    </tr>\n",
       "    <tr>\n",
       "      <th>train_ROC_AUC</th>\n",
       "      <td>0.716126</td>\n",
       "      <td>1.000000</td>\n",
       "      <td>1.000000</td>\n",
       "      <td>0.999273</td>\n",
       "      <td>0.762082</td>\n",
       "    </tr>\n",
       "    <tr>\n",
       "      <th>test_Balanced_Accuracy</th>\n",
       "      <td>0.513959</td>\n",
       "      <td>0.497091</td>\n",
       "      <td>0.504373</td>\n",
       "      <td>0.556215</td>\n",
       "      <td>0.514143</td>\n",
       "    </tr>\n",
       "    <tr>\n",
       "      <th>train_Balanced_Accuracy</th>\n",
       "      <td>0.587689</td>\n",
       "      <td>1.000000</td>\n",
       "      <td>1.000000</td>\n",
       "      <td>0.987433</td>\n",
       "      <td>0.711528</td>\n",
       "    </tr>\n",
       "    <tr>\n",
       "      <th>test_Average_Precision</th>\n",
       "      <td>0.220197</td>\n",
       "      <td>0.189435</td>\n",
       "      <td>0.218805</td>\n",
       "      <td>0.234852</td>\n",
       "      <td>0.213335</td>\n",
       "    </tr>\n",
       "    <tr>\n",
       "      <th>train_Average_Precision</th>\n",
       "      <td>0.317238</td>\n",
       "      <td>1.000000</td>\n",
       "      <td>1.000000</td>\n",
       "      <td>0.996369</td>\n",
       "      <td>0.310586</td>\n",
       "    </tr>\n",
       "    <tr>\n",
       "      <th>test_MCC</th>\n",
       "      <td>0.031436</td>\n",
       "      <td>-0.004988</td>\n",
       "      <td>0.040574</td>\n",
       "      <td>0.099009</td>\n",
       "      <td>0.021677</td>\n",
       "    </tr>\n",
       "    <tr>\n",
       "      <th>train_MCC</th>\n",
       "      <td>0.182735</td>\n",
       "      <td>1.000000</td>\n",
       "      <td>1.000000</td>\n",
       "      <td>0.938317</td>\n",
       "      <td>0.342174</td>\n",
       "    </tr>\n",
       "  </tbody>\n",
       "</table>\n",
       "</div>"
      ]
     },
     "execution_count": 68,
     "metadata": {},
     "output_type": "execute_result"
    }
   ],
   "execution_count": 68
  },
  {
   "metadata": {},
   "cell_type": "markdown",
   "source": [
    "### Reducing Overfitting\n",
    "\n",
    "The winner is the XGB model, which has the best balance between the accuracy metrics, especially F1 score and ROC-AUC. However, the significant difference in accuracy on training and test sets implies overfitting. Simple approaches to reducing overfitting include the model simplification (e.g., by reducing max depth) and feature selection (e.g., by selecting the features above the elbow of the curve defined by feature importance). The following table shows that these approaches indeed reduce overfitting but also the accuracy, implying that more data could help the model generalize better."
   ],
   "id": "2a21af53c4310702"
  },
  {
   "metadata": {
    "ExecuteTime": {
     "end_time": "2024-09-04T08:31:16.300896Z",
     "start_time": "2024-09-04T08:31:14.206433Z"
    }
   },
   "cell_type": "code",
   "source": [
    "xgb_importance = XGBClassifier().fit(x, y, sample_weight=w).feature_importances_\n",
    "df_xgb_importance = pd.DataFrame({'feature': df_x.columns, 'importance': xgb_importance})\n",
    "df_xgb_importance.sort_values('importance', ascending=False, inplace=True)\n",
    "elbow = KneeLocator(range(len(df_xgb_importance)), df_xgb_importance.importance, curve='convex', direction='decreasing').knee\n",
    "df_x_reduced = df_xy[df_xgb_importance[:elbow].feature]\n",
    "x_reduced = df_x_reduced.values\n",
    "\n",
    "df_xgb_scores = evaluate_classifier(XGBClassifier(max_depth=4), x_reduced, y, w)\n",
    "df_xgb_scores.drop(columns=['partition', 'classifier']).mean().T"
   ],
   "id": "7f3191f3dc79c659",
   "outputs": [
    {
     "data": {
      "text/plain": [
       "fit_time                   0.184497\n",
       "score_time                 0.051287\n",
       "test_Accuracy              0.206720\n",
       "train_Accuracy             0.214771\n",
       "test_Precision             0.189075\n",
       "train_Precision            0.192765\n",
       "test_Recall                0.973512\n",
       "train_Recall               0.990530\n",
       "test_F1                    0.316640\n",
       "train_F1                   0.322715\n",
       "test_ROC_AUC               0.541976\n",
       "train_ROC_AUC              0.564044\n",
       "test_Balanced_Accuracy     0.500871\n",
       "train_Balanced_Accuracy    0.512349\n",
       "test_Average_Precision     0.210096\n",
       "train_Average_Precision    0.223634\n",
       "test_MCC                   0.012499\n",
       "train_MCC                  0.055645\n",
       "dtype: float64"
      ]
     },
     "execution_count": 69,
     "metadata": {},
     "output_type": "execute_result"
    }
   ],
   "execution_count": 69
  },
  {
   "metadata": {},
   "cell_type": "markdown",
   "source": [
    "### The Winner\n",
    "\n",
    "Retraining the winner model with all the data points and showing the feature importance. "
   ],
   "id": "883cc07abd6b9da"
  },
  {
   "metadata": {
    "ExecuteTime": {
     "end_time": "2024-09-04T08:31:16.617228Z",
     "start_time": "2024-09-04T08:31:16.461763Z"
    }
   },
   "cell_type": "code",
   "source": "winner = XGBClassifier(max_depth=4).fit(x_reduced, y, sample_weight=w)",
   "id": "e8a9ab162e08c4d9",
   "outputs": [],
   "execution_count": 70
  },
  {
   "metadata": {},
   "cell_type": "markdown",
   "source": [
    "#### Feature Importance\n",
    "\n",
    "For simplicity, the categorical feature values that were previously transformed into binary choices are grouped by category names so that the plot shows only the minimum and maximum for each group. For the features that were not transformed in this way the plot shows the same minimum and maximum."
   ],
   "id": "8900e572aff986f9"
  },
  {
   "metadata": {
    "ExecuteTime": {
     "end_time": "2024-09-04T08:31:17.041273Z",
     "start_time": "2024-09-04T08:31:16.922562Z"
    }
   },
   "cell_type": "code",
   "source": [
    "df_winner_importance = pd.DataFrame({'feature': df_x_reduced.columns, 'importance': winner.feature_importances_})\n",
    "df_winner_importance.sort_values('importance', ascending=False, inplace=True)\n",
    "plot_features(df_winner_importance, 'feature', 'importance')"
   ],
   "id": "9a306bc7616dacfa",
   "outputs": [
    {
     "data": {
      "application/vnd.plotly.v1+json": {
       "data": [
        {
         "alignmentgroup": "True",
         "hovertemplate": "variable=min<br>feature=%{x}<br>value=%{y}<extra></extra>",
         "legendgroup": "min",
         "marker": {
          "color": "#636efa",
          "pattern": {
           "shape": ""
          }
         },
         "name": "min",
         "offsetgroup": "min",
         "orientation": "v",
         "showlegend": true,
         "textposition": "auto",
         "x": [
          "book_categories",
          "book_authors",
          "library_name",
          "customer_education"
         ],
         "xaxis": "x",
         "y": [
          0.003966306336224079,
          0.0,
          0.00933994073420763,
          0.009970742277801037
         ],
         "yaxis": "y",
         "type": "bar"
        },
        {
         "alignmentgroup": "True",
         "hovertemplate": "variable=max<br>feature=%{x}<br>value=%{y}<extra></extra>",
         "legendgroup": "max",
         "marker": {
          "color": "#EF553B",
          "pattern": {
           "shape": ""
          }
         },
         "name": "max",
         "offsetgroup": "max",
         "orientation": "v",
         "showlegend": true,
         "textposition": "auto",
         "x": [
          "book_categories",
          "book_authors",
          "library_name",
          "customer_education"
         ],
         "xaxis": "x",
         "y": [
          0.1773322969675064,
          0.13952159881591797,
          0.03273797780275345,
          0.009970742277801037
         ],
         "yaxis": "y",
         "type": "bar"
        }
       ],
       "layout": {
        "template": {
         "data": {
          "histogram2dcontour": [
           {
            "type": "histogram2dcontour",
            "colorbar": {
             "outlinewidth": 0,
             "ticks": ""
            },
            "colorscale": [
             [
              0.0,
              "#0d0887"
             ],
             [
              0.1111111111111111,
              "#46039f"
             ],
             [
              0.2222222222222222,
              "#7201a8"
             ],
             [
              0.3333333333333333,
              "#9c179e"
             ],
             [
              0.4444444444444444,
              "#bd3786"
             ],
             [
              0.5555555555555556,
              "#d8576b"
             ],
             [
              0.6666666666666666,
              "#ed7953"
             ],
             [
              0.7777777777777778,
              "#fb9f3a"
             ],
             [
              0.8888888888888888,
              "#fdca26"
             ],
             [
              1.0,
              "#f0f921"
             ]
            ]
           }
          ],
          "choropleth": [
           {
            "type": "choropleth",
            "colorbar": {
             "outlinewidth": 0,
             "ticks": ""
            }
           }
          ],
          "histogram2d": [
           {
            "type": "histogram2d",
            "colorbar": {
             "outlinewidth": 0,
             "ticks": ""
            },
            "colorscale": [
             [
              0.0,
              "#0d0887"
             ],
             [
              0.1111111111111111,
              "#46039f"
             ],
             [
              0.2222222222222222,
              "#7201a8"
             ],
             [
              0.3333333333333333,
              "#9c179e"
             ],
             [
              0.4444444444444444,
              "#bd3786"
             ],
             [
              0.5555555555555556,
              "#d8576b"
             ],
             [
              0.6666666666666666,
              "#ed7953"
             ],
             [
              0.7777777777777778,
              "#fb9f3a"
             ],
             [
              0.8888888888888888,
              "#fdca26"
             ],
             [
              1.0,
              "#f0f921"
             ]
            ]
           }
          ],
          "heatmap": [
           {
            "type": "heatmap",
            "colorbar": {
             "outlinewidth": 0,
             "ticks": ""
            },
            "colorscale": [
             [
              0.0,
              "#0d0887"
             ],
             [
              0.1111111111111111,
              "#46039f"
             ],
             [
              0.2222222222222222,
              "#7201a8"
             ],
             [
              0.3333333333333333,
              "#9c179e"
             ],
             [
              0.4444444444444444,
              "#bd3786"
             ],
             [
              0.5555555555555556,
              "#d8576b"
             ],
             [
              0.6666666666666666,
              "#ed7953"
             ],
             [
              0.7777777777777778,
              "#fb9f3a"
             ],
             [
              0.8888888888888888,
              "#fdca26"
             ],
             [
              1.0,
              "#f0f921"
             ]
            ]
           }
          ],
          "heatmapgl": [
           {
            "type": "heatmapgl",
            "colorbar": {
             "outlinewidth": 0,
             "ticks": ""
            },
            "colorscale": [
             [
              0.0,
              "#0d0887"
             ],
             [
              0.1111111111111111,
              "#46039f"
             ],
             [
              0.2222222222222222,
              "#7201a8"
             ],
             [
              0.3333333333333333,
              "#9c179e"
             ],
             [
              0.4444444444444444,
              "#bd3786"
             ],
             [
              0.5555555555555556,
              "#d8576b"
             ],
             [
              0.6666666666666666,
              "#ed7953"
             ],
             [
              0.7777777777777778,
              "#fb9f3a"
             ],
             [
              0.8888888888888888,
              "#fdca26"
             ],
             [
              1.0,
              "#f0f921"
             ]
            ]
           }
          ],
          "contourcarpet": [
           {
            "type": "contourcarpet",
            "colorbar": {
             "outlinewidth": 0,
             "ticks": ""
            }
           }
          ],
          "contour": [
           {
            "type": "contour",
            "colorbar": {
             "outlinewidth": 0,
             "ticks": ""
            },
            "colorscale": [
             [
              0.0,
              "#0d0887"
             ],
             [
              0.1111111111111111,
              "#46039f"
             ],
             [
              0.2222222222222222,
              "#7201a8"
             ],
             [
              0.3333333333333333,
              "#9c179e"
             ],
             [
              0.4444444444444444,
              "#bd3786"
             ],
             [
              0.5555555555555556,
              "#d8576b"
             ],
             [
              0.6666666666666666,
              "#ed7953"
             ],
             [
              0.7777777777777778,
              "#fb9f3a"
             ],
             [
              0.8888888888888888,
              "#fdca26"
             ],
             [
              1.0,
              "#f0f921"
             ]
            ]
           }
          ],
          "surface": [
           {
            "type": "surface",
            "colorbar": {
             "outlinewidth": 0,
             "ticks": ""
            },
            "colorscale": [
             [
              0.0,
              "#0d0887"
             ],
             [
              0.1111111111111111,
              "#46039f"
             ],
             [
              0.2222222222222222,
              "#7201a8"
             ],
             [
              0.3333333333333333,
              "#9c179e"
             ],
             [
              0.4444444444444444,
              "#bd3786"
             ],
             [
              0.5555555555555556,
              "#d8576b"
             ],
             [
              0.6666666666666666,
              "#ed7953"
             ],
             [
              0.7777777777777778,
              "#fb9f3a"
             ],
             [
              0.8888888888888888,
              "#fdca26"
             ],
             [
              1.0,
              "#f0f921"
             ]
            ]
           }
          ],
          "mesh3d": [
           {
            "type": "mesh3d",
            "colorbar": {
             "outlinewidth": 0,
             "ticks": ""
            }
           }
          ],
          "scatter": [
           {
            "marker": {
             "line": {
              "color": "#283442"
             }
            },
            "type": "scatter"
           }
          ],
          "parcoords": [
           {
            "type": "parcoords",
            "line": {
             "colorbar": {
              "outlinewidth": 0,
              "ticks": ""
             }
            }
           }
          ],
          "scatterpolargl": [
           {
            "type": "scatterpolargl",
            "marker": {
             "colorbar": {
              "outlinewidth": 0,
              "ticks": ""
             }
            }
           }
          ],
          "bar": [
           {
            "error_x": {
             "color": "#f2f5fa"
            },
            "error_y": {
             "color": "#f2f5fa"
            },
            "marker": {
             "line": {
              "color": "rgb(17,17,17)",
              "width": 0.5
             },
             "pattern": {
              "fillmode": "overlay",
              "size": 10,
              "solidity": 0.2
             }
            },
            "type": "bar"
           }
          ],
          "scattergeo": [
           {
            "type": "scattergeo",
            "marker": {
             "colorbar": {
              "outlinewidth": 0,
              "ticks": ""
             }
            }
           }
          ],
          "scatterpolar": [
           {
            "type": "scatterpolar",
            "marker": {
             "colorbar": {
              "outlinewidth": 0,
              "ticks": ""
             }
            }
           }
          ],
          "histogram": [
           {
            "marker": {
             "pattern": {
              "fillmode": "overlay",
              "size": 10,
              "solidity": 0.2
             }
            },
            "type": "histogram"
           }
          ],
          "scattergl": [
           {
            "marker": {
             "line": {
              "color": "#283442"
             }
            },
            "type": "scattergl"
           }
          ],
          "scatter3d": [
           {
            "type": "scatter3d",
            "line": {
             "colorbar": {
              "outlinewidth": 0,
              "ticks": ""
             }
            },
            "marker": {
             "colorbar": {
              "outlinewidth": 0,
              "ticks": ""
             }
            }
           }
          ],
          "scattermapbox": [
           {
            "type": "scattermapbox",
            "marker": {
             "colorbar": {
              "outlinewidth": 0,
              "ticks": ""
             }
            }
           }
          ],
          "scatterternary": [
           {
            "type": "scatterternary",
            "marker": {
             "colorbar": {
              "outlinewidth": 0,
              "ticks": ""
             }
            }
           }
          ],
          "scattercarpet": [
           {
            "type": "scattercarpet",
            "marker": {
             "colorbar": {
              "outlinewidth": 0,
              "ticks": ""
             }
            }
           }
          ],
          "carpet": [
           {
            "aaxis": {
             "endlinecolor": "#A2B1C6",
             "gridcolor": "#506784",
             "linecolor": "#506784",
             "minorgridcolor": "#506784",
             "startlinecolor": "#A2B1C6"
            },
            "baxis": {
             "endlinecolor": "#A2B1C6",
             "gridcolor": "#506784",
             "linecolor": "#506784",
             "minorgridcolor": "#506784",
             "startlinecolor": "#A2B1C6"
            },
            "type": "carpet"
           }
          ],
          "table": [
           {
            "cells": {
             "fill": {
              "color": "#506784"
             },
             "line": {
              "color": "rgb(17,17,17)"
             }
            },
            "header": {
             "fill": {
              "color": "#2a3f5f"
             },
             "line": {
              "color": "rgb(17,17,17)"
             }
            },
            "type": "table"
           }
          ],
          "barpolar": [
           {
            "marker": {
             "line": {
              "color": "rgb(17,17,17)",
              "width": 0.5
             },
             "pattern": {
              "fillmode": "overlay",
              "size": 10,
              "solidity": 0.2
             }
            },
            "type": "barpolar"
           }
          ],
          "pie": [
           {
            "automargin": true,
            "type": "pie"
           }
          ]
         },
         "layout": {
          "autotypenumbers": "strict",
          "colorway": [
           "#636efa",
           "#EF553B",
           "#00cc96",
           "#ab63fa",
           "#FFA15A",
           "#19d3f3",
           "#FF6692",
           "#B6E880",
           "#FF97FF",
           "#FECB52"
          ],
          "font": {
           "color": "#f2f5fa"
          },
          "hovermode": "closest",
          "hoverlabel": {
           "align": "left"
          },
          "paper_bgcolor": "rgb(17,17,17)",
          "plot_bgcolor": "rgb(17,17,17)",
          "polar": {
           "bgcolor": "rgb(17,17,17)",
           "angularaxis": {
            "gridcolor": "#506784",
            "linecolor": "#506784",
            "ticks": ""
           },
           "radialaxis": {
            "gridcolor": "#506784",
            "linecolor": "#506784",
            "ticks": ""
           }
          },
          "ternary": {
           "bgcolor": "rgb(17,17,17)",
           "aaxis": {
            "gridcolor": "#506784",
            "linecolor": "#506784",
            "ticks": ""
           },
           "baxis": {
            "gridcolor": "#506784",
            "linecolor": "#506784",
            "ticks": ""
           },
           "caxis": {
            "gridcolor": "#506784",
            "linecolor": "#506784",
            "ticks": ""
           }
          },
          "coloraxis": {
           "colorbar": {
            "outlinewidth": 0,
            "ticks": ""
           }
          },
          "colorscale": {
           "sequential": [
            [
             0.0,
             "#0d0887"
            ],
            [
             0.1111111111111111,
             "#46039f"
            ],
            [
             0.2222222222222222,
             "#7201a8"
            ],
            [
             0.3333333333333333,
             "#9c179e"
            ],
            [
             0.4444444444444444,
             "#bd3786"
            ],
            [
             0.5555555555555556,
             "#d8576b"
            ],
            [
             0.6666666666666666,
             "#ed7953"
            ],
            [
             0.7777777777777778,
             "#fb9f3a"
            ],
            [
             0.8888888888888888,
             "#fdca26"
            ],
            [
             1.0,
             "#f0f921"
            ]
           ],
           "sequentialminus": [
            [
             0.0,
             "#0d0887"
            ],
            [
             0.1111111111111111,
             "#46039f"
            ],
            [
             0.2222222222222222,
             "#7201a8"
            ],
            [
             0.3333333333333333,
             "#9c179e"
            ],
            [
             0.4444444444444444,
             "#bd3786"
            ],
            [
             0.5555555555555556,
             "#d8576b"
            ],
            [
             0.6666666666666666,
             "#ed7953"
            ],
            [
             0.7777777777777778,
             "#fb9f3a"
            ],
            [
             0.8888888888888888,
             "#fdca26"
            ],
            [
             1.0,
             "#f0f921"
            ]
           ],
           "diverging": [
            [
             0,
             "#8e0152"
            ],
            [
             0.1,
             "#c51b7d"
            ],
            [
             0.2,
             "#de77ae"
            ],
            [
             0.3,
             "#f1b6da"
            ],
            [
             0.4,
             "#fde0ef"
            ],
            [
             0.5,
             "#f7f7f7"
            ],
            [
             0.6,
             "#e6f5d0"
            ],
            [
             0.7,
             "#b8e186"
            ],
            [
             0.8,
             "#7fbc41"
            ],
            [
             0.9,
             "#4d9221"
            ],
            [
             1,
             "#276419"
            ]
           ]
          },
          "xaxis": {
           "gridcolor": "#283442",
           "linecolor": "#506784",
           "ticks": "",
           "title": {
            "standoff": 15
           },
           "zerolinecolor": "#283442",
           "automargin": true,
           "zerolinewidth": 2
          },
          "yaxis": {
           "gridcolor": "#283442",
           "linecolor": "#506784",
           "ticks": "",
           "title": {
            "standoff": 15
           },
           "zerolinecolor": "#283442",
           "automargin": true,
           "zerolinewidth": 2
          },
          "scene": {
           "xaxis": {
            "backgroundcolor": "rgb(17,17,17)",
            "gridcolor": "#506784",
            "linecolor": "#506784",
            "showbackground": true,
            "ticks": "",
            "zerolinecolor": "#C8D4E3",
            "gridwidth": 2
           },
           "yaxis": {
            "backgroundcolor": "rgb(17,17,17)",
            "gridcolor": "#506784",
            "linecolor": "#506784",
            "showbackground": true,
            "ticks": "",
            "zerolinecolor": "#C8D4E3",
            "gridwidth": 2
           },
           "zaxis": {
            "backgroundcolor": "rgb(17,17,17)",
            "gridcolor": "#506784",
            "linecolor": "#506784",
            "showbackground": true,
            "ticks": "",
            "zerolinecolor": "#C8D4E3",
            "gridwidth": 2
           }
          },
          "shapedefaults": {
           "line": {
            "color": "#f2f5fa"
           }
          },
          "annotationdefaults": {
           "arrowcolor": "#f2f5fa",
           "arrowhead": 0,
           "arrowwidth": 1
          },
          "geo": {
           "bgcolor": "rgb(17,17,17)",
           "landcolor": "rgb(17,17,17)",
           "subunitcolor": "#506784",
           "showland": true,
           "showlakes": true,
           "lakecolor": "rgb(17,17,17)"
          },
          "title": {
           "x": 0.05
          },
          "updatemenudefaults": {
           "bgcolor": "#506784",
           "borderwidth": 0
          },
          "sliderdefaults": {
           "bgcolor": "#C8D4E3",
           "borderwidth": 1,
           "bordercolor": "rgb(17,17,17)",
           "tickwidth": 0
          },
          "mapbox": {
           "style": "dark"
          }
         }
        },
        "xaxis": {
         "anchor": "y",
         "domain": [
          0.0,
          1.0
         ],
         "title": {
          "text": "feature"
         }
        },
        "yaxis": {
         "anchor": "x",
         "domain": [
          0.0,
          1.0
         ],
         "title": {
          "text": "value"
         }
        },
        "legend": {
         "title": {
          "text": "variable"
         },
         "tracegroupgap": 0
        },
        "margin": {
         "t": 60
        },
        "barmode": "group"
       },
       "config": {
        "plotlyServerURL": "https://plot.ly"
       }
      },
      "text/html": [
       "<div>                            <div id=\"91b368c0-3bdd-49c4-89a0-fbfe2d839d15\" class=\"plotly-graph-div\" style=\"height:525px; width:100%;\"></div>            <script type=\"text/javascript\">                require([\"plotly\"], function(Plotly) {                    window.PLOTLYENV=window.PLOTLYENV || {};                                    if (document.getElementById(\"91b368c0-3bdd-49c4-89a0-fbfe2d839d15\")) {                    Plotly.newPlot(                        \"91b368c0-3bdd-49c4-89a0-fbfe2d839d15\",                        [{\"alignmentgroup\":\"True\",\"hovertemplate\":\"variable=min\\u003cbr\\u003efeature=%{x}\\u003cbr\\u003evalue=%{y}\\u003cextra\\u003e\\u003c\\u002fextra\\u003e\",\"legendgroup\":\"min\",\"marker\":{\"color\":\"#636efa\",\"pattern\":{\"shape\":\"\"}},\"name\":\"min\",\"offsetgroup\":\"min\",\"orientation\":\"v\",\"showlegend\":true,\"textposition\":\"auto\",\"x\":[\"book_categories\",\"book_authors\",\"library_name\",\"customer_education\"],\"xaxis\":\"x\",\"y\":[0.003966306336224079,0.0,0.00933994073420763,0.009970742277801037],\"yaxis\":\"y\",\"type\":\"bar\"},{\"alignmentgroup\":\"True\",\"hovertemplate\":\"variable=max\\u003cbr\\u003efeature=%{x}\\u003cbr\\u003evalue=%{y}\\u003cextra\\u003e\\u003c\\u002fextra\\u003e\",\"legendgroup\":\"max\",\"marker\":{\"color\":\"#EF553B\",\"pattern\":{\"shape\":\"\"}},\"name\":\"max\",\"offsetgroup\":\"max\",\"orientation\":\"v\",\"showlegend\":true,\"textposition\":\"auto\",\"x\":[\"book_categories\",\"book_authors\",\"library_name\",\"customer_education\"],\"xaxis\":\"x\",\"y\":[0.1773322969675064,0.13952159881591797,0.03273797780275345,0.009970742277801037],\"yaxis\":\"y\",\"type\":\"bar\"}],                        {\"template\":{\"data\":{\"histogram2dcontour\":[{\"type\":\"histogram2dcontour\",\"colorbar\":{\"outlinewidth\":0,\"ticks\":\"\"},\"colorscale\":[[0.0,\"#0d0887\"],[0.1111111111111111,\"#46039f\"],[0.2222222222222222,\"#7201a8\"],[0.3333333333333333,\"#9c179e\"],[0.4444444444444444,\"#bd3786\"],[0.5555555555555556,\"#d8576b\"],[0.6666666666666666,\"#ed7953\"],[0.7777777777777778,\"#fb9f3a\"],[0.8888888888888888,\"#fdca26\"],[1.0,\"#f0f921\"]]}],\"choropleth\":[{\"type\":\"choropleth\",\"colorbar\":{\"outlinewidth\":0,\"ticks\":\"\"}}],\"histogram2d\":[{\"type\":\"histogram2d\",\"colorbar\":{\"outlinewidth\":0,\"ticks\":\"\"},\"colorscale\":[[0.0,\"#0d0887\"],[0.1111111111111111,\"#46039f\"],[0.2222222222222222,\"#7201a8\"],[0.3333333333333333,\"#9c179e\"],[0.4444444444444444,\"#bd3786\"],[0.5555555555555556,\"#d8576b\"],[0.6666666666666666,\"#ed7953\"],[0.7777777777777778,\"#fb9f3a\"],[0.8888888888888888,\"#fdca26\"],[1.0,\"#f0f921\"]]}],\"heatmap\":[{\"type\":\"heatmap\",\"colorbar\":{\"outlinewidth\":0,\"ticks\":\"\"},\"colorscale\":[[0.0,\"#0d0887\"],[0.1111111111111111,\"#46039f\"],[0.2222222222222222,\"#7201a8\"],[0.3333333333333333,\"#9c179e\"],[0.4444444444444444,\"#bd3786\"],[0.5555555555555556,\"#d8576b\"],[0.6666666666666666,\"#ed7953\"],[0.7777777777777778,\"#fb9f3a\"],[0.8888888888888888,\"#fdca26\"],[1.0,\"#f0f921\"]]}],\"heatmapgl\":[{\"type\":\"heatmapgl\",\"colorbar\":{\"outlinewidth\":0,\"ticks\":\"\"},\"colorscale\":[[0.0,\"#0d0887\"],[0.1111111111111111,\"#46039f\"],[0.2222222222222222,\"#7201a8\"],[0.3333333333333333,\"#9c179e\"],[0.4444444444444444,\"#bd3786\"],[0.5555555555555556,\"#d8576b\"],[0.6666666666666666,\"#ed7953\"],[0.7777777777777778,\"#fb9f3a\"],[0.8888888888888888,\"#fdca26\"],[1.0,\"#f0f921\"]]}],\"contourcarpet\":[{\"type\":\"contourcarpet\",\"colorbar\":{\"outlinewidth\":0,\"ticks\":\"\"}}],\"contour\":[{\"type\":\"contour\",\"colorbar\":{\"outlinewidth\":0,\"ticks\":\"\"},\"colorscale\":[[0.0,\"#0d0887\"],[0.1111111111111111,\"#46039f\"],[0.2222222222222222,\"#7201a8\"],[0.3333333333333333,\"#9c179e\"],[0.4444444444444444,\"#bd3786\"],[0.5555555555555556,\"#d8576b\"],[0.6666666666666666,\"#ed7953\"],[0.7777777777777778,\"#fb9f3a\"],[0.8888888888888888,\"#fdca26\"],[1.0,\"#f0f921\"]]}],\"surface\":[{\"type\":\"surface\",\"colorbar\":{\"outlinewidth\":0,\"ticks\":\"\"},\"colorscale\":[[0.0,\"#0d0887\"],[0.1111111111111111,\"#46039f\"],[0.2222222222222222,\"#7201a8\"],[0.3333333333333333,\"#9c179e\"],[0.4444444444444444,\"#bd3786\"],[0.5555555555555556,\"#d8576b\"],[0.6666666666666666,\"#ed7953\"],[0.7777777777777778,\"#fb9f3a\"],[0.8888888888888888,\"#fdca26\"],[1.0,\"#f0f921\"]]}],\"mesh3d\":[{\"type\":\"mesh3d\",\"colorbar\":{\"outlinewidth\":0,\"ticks\":\"\"}}],\"scatter\":[{\"marker\":{\"line\":{\"color\":\"#283442\"}},\"type\":\"scatter\"}],\"parcoords\":[{\"type\":\"parcoords\",\"line\":{\"colorbar\":{\"outlinewidth\":0,\"ticks\":\"\"}}}],\"scatterpolargl\":[{\"type\":\"scatterpolargl\",\"marker\":{\"colorbar\":{\"outlinewidth\":0,\"ticks\":\"\"}}}],\"bar\":[{\"error_x\":{\"color\":\"#f2f5fa\"},\"error_y\":{\"color\":\"#f2f5fa\"},\"marker\":{\"line\":{\"color\":\"rgb(17,17,17)\",\"width\":0.5},\"pattern\":{\"fillmode\":\"overlay\",\"size\":10,\"solidity\":0.2}},\"type\":\"bar\"}],\"scattergeo\":[{\"type\":\"scattergeo\",\"marker\":{\"colorbar\":{\"outlinewidth\":0,\"ticks\":\"\"}}}],\"scatterpolar\":[{\"type\":\"scatterpolar\",\"marker\":{\"colorbar\":{\"outlinewidth\":0,\"ticks\":\"\"}}}],\"histogram\":[{\"marker\":{\"pattern\":{\"fillmode\":\"overlay\",\"size\":10,\"solidity\":0.2}},\"type\":\"histogram\"}],\"scattergl\":[{\"marker\":{\"line\":{\"color\":\"#283442\"}},\"type\":\"scattergl\"}],\"scatter3d\":[{\"type\":\"scatter3d\",\"line\":{\"colorbar\":{\"outlinewidth\":0,\"ticks\":\"\"}},\"marker\":{\"colorbar\":{\"outlinewidth\":0,\"ticks\":\"\"}}}],\"scattermapbox\":[{\"type\":\"scattermapbox\",\"marker\":{\"colorbar\":{\"outlinewidth\":0,\"ticks\":\"\"}}}],\"scatterternary\":[{\"type\":\"scatterternary\",\"marker\":{\"colorbar\":{\"outlinewidth\":0,\"ticks\":\"\"}}}],\"scattercarpet\":[{\"type\":\"scattercarpet\",\"marker\":{\"colorbar\":{\"outlinewidth\":0,\"ticks\":\"\"}}}],\"carpet\":[{\"aaxis\":{\"endlinecolor\":\"#A2B1C6\",\"gridcolor\":\"#506784\",\"linecolor\":\"#506784\",\"minorgridcolor\":\"#506784\",\"startlinecolor\":\"#A2B1C6\"},\"baxis\":{\"endlinecolor\":\"#A2B1C6\",\"gridcolor\":\"#506784\",\"linecolor\":\"#506784\",\"minorgridcolor\":\"#506784\",\"startlinecolor\":\"#A2B1C6\"},\"type\":\"carpet\"}],\"table\":[{\"cells\":{\"fill\":{\"color\":\"#506784\"},\"line\":{\"color\":\"rgb(17,17,17)\"}},\"header\":{\"fill\":{\"color\":\"#2a3f5f\"},\"line\":{\"color\":\"rgb(17,17,17)\"}},\"type\":\"table\"}],\"barpolar\":[{\"marker\":{\"line\":{\"color\":\"rgb(17,17,17)\",\"width\":0.5},\"pattern\":{\"fillmode\":\"overlay\",\"size\":10,\"solidity\":0.2}},\"type\":\"barpolar\"}],\"pie\":[{\"automargin\":true,\"type\":\"pie\"}]},\"layout\":{\"autotypenumbers\":\"strict\",\"colorway\":[\"#636efa\",\"#EF553B\",\"#00cc96\",\"#ab63fa\",\"#FFA15A\",\"#19d3f3\",\"#FF6692\",\"#B6E880\",\"#FF97FF\",\"#FECB52\"],\"font\":{\"color\":\"#f2f5fa\"},\"hovermode\":\"closest\",\"hoverlabel\":{\"align\":\"left\"},\"paper_bgcolor\":\"rgb(17,17,17)\",\"plot_bgcolor\":\"rgb(17,17,17)\",\"polar\":{\"bgcolor\":\"rgb(17,17,17)\",\"angularaxis\":{\"gridcolor\":\"#506784\",\"linecolor\":\"#506784\",\"ticks\":\"\"},\"radialaxis\":{\"gridcolor\":\"#506784\",\"linecolor\":\"#506784\",\"ticks\":\"\"}},\"ternary\":{\"bgcolor\":\"rgb(17,17,17)\",\"aaxis\":{\"gridcolor\":\"#506784\",\"linecolor\":\"#506784\",\"ticks\":\"\"},\"baxis\":{\"gridcolor\":\"#506784\",\"linecolor\":\"#506784\",\"ticks\":\"\"},\"caxis\":{\"gridcolor\":\"#506784\",\"linecolor\":\"#506784\",\"ticks\":\"\"}},\"coloraxis\":{\"colorbar\":{\"outlinewidth\":0,\"ticks\":\"\"}},\"colorscale\":{\"sequential\":[[0.0,\"#0d0887\"],[0.1111111111111111,\"#46039f\"],[0.2222222222222222,\"#7201a8\"],[0.3333333333333333,\"#9c179e\"],[0.4444444444444444,\"#bd3786\"],[0.5555555555555556,\"#d8576b\"],[0.6666666666666666,\"#ed7953\"],[0.7777777777777778,\"#fb9f3a\"],[0.8888888888888888,\"#fdca26\"],[1.0,\"#f0f921\"]],\"sequentialminus\":[[0.0,\"#0d0887\"],[0.1111111111111111,\"#46039f\"],[0.2222222222222222,\"#7201a8\"],[0.3333333333333333,\"#9c179e\"],[0.4444444444444444,\"#bd3786\"],[0.5555555555555556,\"#d8576b\"],[0.6666666666666666,\"#ed7953\"],[0.7777777777777778,\"#fb9f3a\"],[0.8888888888888888,\"#fdca26\"],[1.0,\"#f0f921\"]],\"diverging\":[[0,\"#8e0152\"],[0.1,\"#c51b7d\"],[0.2,\"#de77ae\"],[0.3,\"#f1b6da\"],[0.4,\"#fde0ef\"],[0.5,\"#f7f7f7\"],[0.6,\"#e6f5d0\"],[0.7,\"#b8e186\"],[0.8,\"#7fbc41\"],[0.9,\"#4d9221\"],[1,\"#276419\"]]},\"xaxis\":{\"gridcolor\":\"#283442\",\"linecolor\":\"#506784\",\"ticks\":\"\",\"title\":{\"standoff\":15},\"zerolinecolor\":\"#283442\",\"automargin\":true,\"zerolinewidth\":2},\"yaxis\":{\"gridcolor\":\"#283442\",\"linecolor\":\"#506784\",\"ticks\":\"\",\"title\":{\"standoff\":15},\"zerolinecolor\":\"#283442\",\"automargin\":true,\"zerolinewidth\":2},\"scene\":{\"xaxis\":{\"backgroundcolor\":\"rgb(17,17,17)\",\"gridcolor\":\"#506784\",\"linecolor\":\"#506784\",\"showbackground\":true,\"ticks\":\"\",\"zerolinecolor\":\"#C8D4E3\",\"gridwidth\":2},\"yaxis\":{\"backgroundcolor\":\"rgb(17,17,17)\",\"gridcolor\":\"#506784\",\"linecolor\":\"#506784\",\"showbackground\":true,\"ticks\":\"\",\"zerolinecolor\":\"#C8D4E3\",\"gridwidth\":2},\"zaxis\":{\"backgroundcolor\":\"rgb(17,17,17)\",\"gridcolor\":\"#506784\",\"linecolor\":\"#506784\",\"showbackground\":true,\"ticks\":\"\",\"zerolinecolor\":\"#C8D4E3\",\"gridwidth\":2}},\"shapedefaults\":{\"line\":{\"color\":\"#f2f5fa\"}},\"annotationdefaults\":{\"arrowcolor\":\"#f2f5fa\",\"arrowhead\":0,\"arrowwidth\":1},\"geo\":{\"bgcolor\":\"rgb(17,17,17)\",\"landcolor\":\"rgb(17,17,17)\",\"subunitcolor\":\"#506784\",\"showland\":true,\"showlakes\":true,\"lakecolor\":\"rgb(17,17,17)\"},\"title\":{\"x\":0.05},\"updatemenudefaults\":{\"bgcolor\":\"#506784\",\"borderwidth\":0},\"sliderdefaults\":{\"bgcolor\":\"#C8D4E3\",\"borderwidth\":1,\"bordercolor\":\"rgb(17,17,17)\",\"tickwidth\":0},\"mapbox\":{\"style\":\"dark\"}}},\"xaxis\":{\"anchor\":\"y\",\"domain\":[0.0,1.0],\"title\":{\"text\":\"feature\"}},\"yaxis\":{\"anchor\":\"x\",\"domain\":[0.0,1.0],\"title\":{\"text\":\"value\"}},\"legend\":{\"title\":{\"text\":\"variable\"},\"tracegroupgap\":0},\"margin\":{\"t\":60},\"barmode\":\"group\"},                        {\"responsive\": true}                    ).then(function(){\n",
       "                            \n",
       "var gd = document.getElementById('91b368c0-3bdd-49c4-89a0-fbfe2d839d15');\n",
       "var x = new MutationObserver(function (mutations, observer) {{\n",
       "        var display = window.getComputedStyle(gd).display;\n",
       "        if (!display || display === 'none') {{\n",
       "            console.log([gd, 'removed!']);\n",
       "            Plotly.purge(gd);\n",
       "            observer.disconnect();\n",
       "        }}\n",
       "}});\n",
       "\n",
       "// Listen for the removal of the full notebook cells\n",
       "var notebookContainer = gd.closest('#notebook-container');\n",
       "if (notebookContainer) {{\n",
       "    x.observe(notebookContainer, {childList: true});\n",
       "}}\n",
       "\n",
       "// Listen for the clearing of the current output cell\n",
       "var outputEl = gd.closest('.output');\n",
       "if (outputEl) {{\n",
       "    x.observe(outputEl, {childList: true});\n",
       "}}\n",
       "\n",
       "                        })                };                });            </script>        </div>"
      ]
     },
     "metadata": {},
     "output_type": "display_data"
    }
   ],
   "execution_count": 71
  },
  {
   "metadata": {},
   "cell_type": "markdown",
   "source": "#### Top 10 Most Important Features",
   "id": "40d09967dc1b32b6"
  },
  {
   "metadata": {
    "ExecuteTime": {
     "end_time": "2024-09-04T08:31:17.476456Z",
     "start_time": "2024-09-04T08:31:17.372347Z"
    }
   },
   "cell_type": "code",
   "source": "px.bar(df_winner_importance[:10], x='feature', y='importance')",
   "id": "14e1e7cef28eff8f",
   "outputs": [
    {
     "data": {
      "application/vnd.plotly.v1+json": {
       "data": [
        {
         "alignmentgroup": "True",
         "hovertemplate": "feature=%{x}<br>importance=%{y}<extra></extra>",
         "legendgroup": "",
         "marker": {
          "color": "#636efa",
          "pattern": {
           "shape": ""
          }
         },
         "name": "",
         "offsetgroup": "",
         "orientation": "v",
         "showlegend": false,
         "textposition": "auto",
         "x": [
          "book_categories - social science",
          "book_authors - eswar prasad",
          "book_categories - finance, public",
          "book_categories - water resources development",
          "book_categories - computers",
          "book_authors - s h h kazmi",
          "book_categories - advertising",
          "book_authors - william walton (m.a., of trinity college, cambridge.)",
          "book_authors - nigel calder",
          "library_name - multnomah county library"
         ],
         "xaxis": "x",
         "y": [
          0.1773322969675064,
          0.13952159881591797,
          0.12082308530807495,
          0.09559918195009232,
          0.09202580153942108,
          0.090519018471241,
          0.07731213420629501,
          0.03844941407442093,
          0.03547171875834465,
          0.03273797780275345
         ],
         "yaxis": "y",
         "type": "bar"
        }
       ],
       "layout": {
        "template": {
         "data": {
          "histogram2dcontour": [
           {
            "type": "histogram2dcontour",
            "colorbar": {
             "outlinewidth": 0,
             "ticks": ""
            },
            "colorscale": [
             [
              0.0,
              "#0d0887"
             ],
             [
              0.1111111111111111,
              "#46039f"
             ],
             [
              0.2222222222222222,
              "#7201a8"
             ],
             [
              0.3333333333333333,
              "#9c179e"
             ],
             [
              0.4444444444444444,
              "#bd3786"
             ],
             [
              0.5555555555555556,
              "#d8576b"
             ],
             [
              0.6666666666666666,
              "#ed7953"
             ],
             [
              0.7777777777777778,
              "#fb9f3a"
             ],
             [
              0.8888888888888888,
              "#fdca26"
             ],
             [
              1.0,
              "#f0f921"
             ]
            ]
           }
          ],
          "choropleth": [
           {
            "type": "choropleth",
            "colorbar": {
             "outlinewidth": 0,
             "ticks": ""
            }
           }
          ],
          "histogram2d": [
           {
            "type": "histogram2d",
            "colorbar": {
             "outlinewidth": 0,
             "ticks": ""
            },
            "colorscale": [
             [
              0.0,
              "#0d0887"
             ],
             [
              0.1111111111111111,
              "#46039f"
             ],
             [
              0.2222222222222222,
              "#7201a8"
             ],
             [
              0.3333333333333333,
              "#9c179e"
             ],
             [
              0.4444444444444444,
              "#bd3786"
             ],
             [
              0.5555555555555556,
              "#d8576b"
             ],
             [
              0.6666666666666666,
              "#ed7953"
             ],
             [
              0.7777777777777778,
              "#fb9f3a"
             ],
             [
              0.8888888888888888,
              "#fdca26"
             ],
             [
              1.0,
              "#f0f921"
             ]
            ]
           }
          ],
          "heatmap": [
           {
            "type": "heatmap",
            "colorbar": {
             "outlinewidth": 0,
             "ticks": ""
            },
            "colorscale": [
             [
              0.0,
              "#0d0887"
             ],
             [
              0.1111111111111111,
              "#46039f"
             ],
             [
              0.2222222222222222,
              "#7201a8"
             ],
             [
              0.3333333333333333,
              "#9c179e"
             ],
             [
              0.4444444444444444,
              "#bd3786"
             ],
             [
              0.5555555555555556,
              "#d8576b"
             ],
             [
              0.6666666666666666,
              "#ed7953"
             ],
             [
              0.7777777777777778,
              "#fb9f3a"
             ],
             [
              0.8888888888888888,
              "#fdca26"
             ],
             [
              1.0,
              "#f0f921"
             ]
            ]
           }
          ],
          "heatmapgl": [
           {
            "type": "heatmapgl",
            "colorbar": {
             "outlinewidth": 0,
             "ticks": ""
            },
            "colorscale": [
             [
              0.0,
              "#0d0887"
             ],
             [
              0.1111111111111111,
              "#46039f"
             ],
             [
              0.2222222222222222,
              "#7201a8"
             ],
             [
              0.3333333333333333,
              "#9c179e"
             ],
             [
              0.4444444444444444,
              "#bd3786"
             ],
             [
              0.5555555555555556,
              "#d8576b"
             ],
             [
              0.6666666666666666,
              "#ed7953"
             ],
             [
              0.7777777777777778,
              "#fb9f3a"
             ],
             [
              0.8888888888888888,
              "#fdca26"
             ],
             [
              1.0,
              "#f0f921"
             ]
            ]
           }
          ],
          "contourcarpet": [
           {
            "type": "contourcarpet",
            "colorbar": {
             "outlinewidth": 0,
             "ticks": ""
            }
           }
          ],
          "contour": [
           {
            "type": "contour",
            "colorbar": {
             "outlinewidth": 0,
             "ticks": ""
            },
            "colorscale": [
             [
              0.0,
              "#0d0887"
             ],
             [
              0.1111111111111111,
              "#46039f"
             ],
             [
              0.2222222222222222,
              "#7201a8"
             ],
             [
              0.3333333333333333,
              "#9c179e"
             ],
             [
              0.4444444444444444,
              "#bd3786"
             ],
             [
              0.5555555555555556,
              "#d8576b"
             ],
             [
              0.6666666666666666,
              "#ed7953"
             ],
             [
              0.7777777777777778,
              "#fb9f3a"
             ],
             [
              0.8888888888888888,
              "#fdca26"
             ],
             [
              1.0,
              "#f0f921"
             ]
            ]
           }
          ],
          "surface": [
           {
            "type": "surface",
            "colorbar": {
             "outlinewidth": 0,
             "ticks": ""
            },
            "colorscale": [
             [
              0.0,
              "#0d0887"
             ],
             [
              0.1111111111111111,
              "#46039f"
             ],
             [
              0.2222222222222222,
              "#7201a8"
             ],
             [
              0.3333333333333333,
              "#9c179e"
             ],
             [
              0.4444444444444444,
              "#bd3786"
             ],
             [
              0.5555555555555556,
              "#d8576b"
             ],
             [
              0.6666666666666666,
              "#ed7953"
             ],
             [
              0.7777777777777778,
              "#fb9f3a"
             ],
             [
              0.8888888888888888,
              "#fdca26"
             ],
             [
              1.0,
              "#f0f921"
             ]
            ]
           }
          ],
          "mesh3d": [
           {
            "type": "mesh3d",
            "colorbar": {
             "outlinewidth": 0,
             "ticks": ""
            }
           }
          ],
          "scatter": [
           {
            "marker": {
             "line": {
              "color": "#283442"
             }
            },
            "type": "scatter"
           }
          ],
          "parcoords": [
           {
            "type": "parcoords",
            "line": {
             "colorbar": {
              "outlinewidth": 0,
              "ticks": ""
             }
            }
           }
          ],
          "scatterpolargl": [
           {
            "type": "scatterpolargl",
            "marker": {
             "colorbar": {
              "outlinewidth": 0,
              "ticks": ""
             }
            }
           }
          ],
          "bar": [
           {
            "error_x": {
             "color": "#f2f5fa"
            },
            "error_y": {
             "color": "#f2f5fa"
            },
            "marker": {
             "line": {
              "color": "rgb(17,17,17)",
              "width": 0.5
             },
             "pattern": {
              "fillmode": "overlay",
              "size": 10,
              "solidity": 0.2
             }
            },
            "type": "bar"
           }
          ],
          "scattergeo": [
           {
            "type": "scattergeo",
            "marker": {
             "colorbar": {
              "outlinewidth": 0,
              "ticks": ""
             }
            }
           }
          ],
          "scatterpolar": [
           {
            "type": "scatterpolar",
            "marker": {
             "colorbar": {
              "outlinewidth": 0,
              "ticks": ""
             }
            }
           }
          ],
          "histogram": [
           {
            "marker": {
             "pattern": {
              "fillmode": "overlay",
              "size": 10,
              "solidity": 0.2
             }
            },
            "type": "histogram"
           }
          ],
          "scattergl": [
           {
            "marker": {
             "line": {
              "color": "#283442"
             }
            },
            "type": "scattergl"
           }
          ],
          "scatter3d": [
           {
            "type": "scatter3d",
            "line": {
             "colorbar": {
              "outlinewidth": 0,
              "ticks": ""
             }
            },
            "marker": {
             "colorbar": {
              "outlinewidth": 0,
              "ticks": ""
             }
            }
           }
          ],
          "scattermapbox": [
           {
            "type": "scattermapbox",
            "marker": {
             "colorbar": {
              "outlinewidth": 0,
              "ticks": ""
             }
            }
           }
          ],
          "scatterternary": [
           {
            "type": "scatterternary",
            "marker": {
             "colorbar": {
              "outlinewidth": 0,
              "ticks": ""
             }
            }
           }
          ],
          "scattercarpet": [
           {
            "type": "scattercarpet",
            "marker": {
             "colorbar": {
              "outlinewidth": 0,
              "ticks": ""
             }
            }
           }
          ],
          "carpet": [
           {
            "aaxis": {
             "endlinecolor": "#A2B1C6",
             "gridcolor": "#506784",
             "linecolor": "#506784",
             "minorgridcolor": "#506784",
             "startlinecolor": "#A2B1C6"
            },
            "baxis": {
             "endlinecolor": "#A2B1C6",
             "gridcolor": "#506784",
             "linecolor": "#506784",
             "minorgridcolor": "#506784",
             "startlinecolor": "#A2B1C6"
            },
            "type": "carpet"
           }
          ],
          "table": [
           {
            "cells": {
             "fill": {
              "color": "#506784"
             },
             "line": {
              "color": "rgb(17,17,17)"
             }
            },
            "header": {
             "fill": {
              "color": "#2a3f5f"
             },
             "line": {
              "color": "rgb(17,17,17)"
             }
            },
            "type": "table"
           }
          ],
          "barpolar": [
           {
            "marker": {
             "line": {
              "color": "rgb(17,17,17)",
              "width": 0.5
             },
             "pattern": {
              "fillmode": "overlay",
              "size": 10,
              "solidity": 0.2
             }
            },
            "type": "barpolar"
           }
          ],
          "pie": [
           {
            "automargin": true,
            "type": "pie"
           }
          ]
         },
         "layout": {
          "autotypenumbers": "strict",
          "colorway": [
           "#636efa",
           "#EF553B",
           "#00cc96",
           "#ab63fa",
           "#FFA15A",
           "#19d3f3",
           "#FF6692",
           "#B6E880",
           "#FF97FF",
           "#FECB52"
          ],
          "font": {
           "color": "#f2f5fa"
          },
          "hovermode": "closest",
          "hoverlabel": {
           "align": "left"
          },
          "paper_bgcolor": "rgb(17,17,17)",
          "plot_bgcolor": "rgb(17,17,17)",
          "polar": {
           "bgcolor": "rgb(17,17,17)",
           "angularaxis": {
            "gridcolor": "#506784",
            "linecolor": "#506784",
            "ticks": ""
           },
           "radialaxis": {
            "gridcolor": "#506784",
            "linecolor": "#506784",
            "ticks": ""
           }
          },
          "ternary": {
           "bgcolor": "rgb(17,17,17)",
           "aaxis": {
            "gridcolor": "#506784",
            "linecolor": "#506784",
            "ticks": ""
           },
           "baxis": {
            "gridcolor": "#506784",
            "linecolor": "#506784",
            "ticks": ""
           },
           "caxis": {
            "gridcolor": "#506784",
            "linecolor": "#506784",
            "ticks": ""
           }
          },
          "coloraxis": {
           "colorbar": {
            "outlinewidth": 0,
            "ticks": ""
           }
          },
          "colorscale": {
           "sequential": [
            [
             0.0,
             "#0d0887"
            ],
            [
             0.1111111111111111,
             "#46039f"
            ],
            [
             0.2222222222222222,
             "#7201a8"
            ],
            [
             0.3333333333333333,
             "#9c179e"
            ],
            [
             0.4444444444444444,
             "#bd3786"
            ],
            [
             0.5555555555555556,
             "#d8576b"
            ],
            [
             0.6666666666666666,
             "#ed7953"
            ],
            [
             0.7777777777777778,
             "#fb9f3a"
            ],
            [
             0.8888888888888888,
             "#fdca26"
            ],
            [
             1.0,
             "#f0f921"
            ]
           ],
           "sequentialminus": [
            [
             0.0,
             "#0d0887"
            ],
            [
             0.1111111111111111,
             "#46039f"
            ],
            [
             0.2222222222222222,
             "#7201a8"
            ],
            [
             0.3333333333333333,
             "#9c179e"
            ],
            [
             0.4444444444444444,
             "#bd3786"
            ],
            [
             0.5555555555555556,
             "#d8576b"
            ],
            [
             0.6666666666666666,
             "#ed7953"
            ],
            [
             0.7777777777777778,
             "#fb9f3a"
            ],
            [
             0.8888888888888888,
             "#fdca26"
            ],
            [
             1.0,
             "#f0f921"
            ]
           ],
           "diverging": [
            [
             0,
             "#8e0152"
            ],
            [
             0.1,
             "#c51b7d"
            ],
            [
             0.2,
             "#de77ae"
            ],
            [
             0.3,
             "#f1b6da"
            ],
            [
             0.4,
             "#fde0ef"
            ],
            [
             0.5,
             "#f7f7f7"
            ],
            [
             0.6,
             "#e6f5d0"
            ],
            [
             0.7,
             "#b8e186"
            ],
            [
             0.8,
             "#7fbc41"
            ],
            [
             0.9,
             "#4d9221"
            ],
            [
             1,
             "#276419"
            ]
           ]
          },
          "xaxis": {
           "gridcolor": "#283442",
           "linecolor": "#506784",
           "ticks": "",
           "title": {
            "standoff": 15
           },
           "zerolinecolor": "#283442",
           "automargin": true,
           "zerolinewidth": 2
          },
          "yaxis": {
           "gridcolor": "#283442",
           "linecolor": "#506784",
           "ticks": "",
           "title": {
            "standoff": 15
           },
           "zerolinecolor": "#283442",
           "automargin": true,
           "zerolinewidth": 2
          },
          "scene": {
           "xaxis": {
            "backgroundcolor": "rgb(17,17,17)",
            "gridcolor": "#506784",
            "linecolor": "#506784",
            "showbackground": true,
            "ticks": "",
            "zerolinecolor": "#C8D4E3",
            "gridwidth": 2
           },
           "yaxis": {
            "backgroundcolor": "rgb(17,17,17)",
            "gridcolor": "#506784",
            "linecolor": "#506784",
            "showbackground": true,
            "ticks": "",
            "zerolinecolor": "#C8D4E3",
            "gridwidth": 2
           },
           "zaxis": {
            "backgroundcolor": "rgb(17,17,17)",
            "gridcolor": "#506784",
            "linecolor": "#506784",
            "showbackground": true,
            "ticks": "",
            "zerolinecolor": "#C8D4E3",
            "gridwidth": 2
           }
          },
          "shapedefaults": {
           "line": {
            "color": "#f2f5fa"
           }
          },
          "annotationdefaults": {
           "arrowcolor": "#f2f5fa",
           "arrowhead": 0,
           "arrowwidth": 1
          },
          "geo": {
           "bgcolor": "rgb(17,17,17)",
           "landcolor": "rgb(17,17,17)",
           "subunitcolor": "#506784",
           "showland": true,
           "showlakes": true,
           "lakecolor": "rgb(17,17,17)"
          },
          "title": {
           "x": 0.05
          },
          "updatemenudefaults": {
           "bgcolor": "#506784",
           "borderwidth": 0
          },
          "sliderdefaults": {
           "bgcolor": "#C8D4E3",
           "borderwidth": 1,
           "bordercolor": "rgb(17,17,17)",
           "tickwidth": 0
          },
          "mapbox": {
           "style": "dark"
          }
         }
        },
        "xaxis": {
         "anchor": "y",
         "domain": [
          0.0,
          1.0
         ],
         "title": {
          "text": "feature"
         }
        },
        "yaxis": {
         "anchor": "x",
         "domain": [
          0.0,
          1.0
         ],
         "title": {
          "text": "importance"
         }
        },
        "legend": {
         "tracegroupgap": 0
        },
        "margin": {
         "t": 60
        },
        "barmode": "relative"
       },
       "config": {
        "plotlyServerURL": "https://plot.ly"
       }
      },
      "text/html": [
       "<div>                            <div id=\"3fa503e6-1778-4bcc-a7d0-090395d7f973\" class=\"plotly-graph-div\" style=\"height:525px; width:100%;\"></div>            <script type=\"text/javascript\">                require([\"plotly\"], function(Plotly) {                    window.PLOTLYENV=window.PLOTLYENV || {};                                    if (document.getElementById(\"3fa503e6-1778-4bcc-a7d0-090395d7f973\")) {                    Plotly.newPlot(                        \"3fa503e6-1778-4bcc-a7d0-090395d7f973\",                        [{\"alignmentgroup\":\"True\",\"hovertemplate\":\"feature=%{x}\\u003cbr\\u003eimportance=%{y}\\u003cextra\\u003e\\u003c\\u002fextra\\u003e\",\"legendgroup\":\"\",\"marker\":{\"color\":\"#636efa\",\"pattern\":{\"shape\":\"\"}},\"name\":\"\",\"offsetgroup\":\"\",\"orientation\":\"v\",\"showlegend\":false,\"textposition\":\"auto\",\"x\":[\"book_categories - social science\",\"book_authors - eswar prasad\",\"book_categories - finance, public\",\"book_categories - water resources development\",\"book_categories - computers\",\"book_authors - s h h kazmi\",\"book_categories - advertising\",\"book_authors - william walton (m.a., of trinity college, cambridge.)\",\"book_authors - nigel calder\",\"library_name - multnomah county library\"],\"xaxis\":\"x\",\"y\":[0.1773322969675064,0.13952159881591797,0.12082308530807495,0.09559918195009232,0.09202580153942108,0.090519018471241,0.07731213420629501,0.03844941407442093,0.03547171875834465,0.03273797780275345],\"yaxis\":\"y\",\"type\":\"bar\"}],                        {\"template\":{\"data\":{\"histogram2dcontour\":[{\"type\":\"histogram2dcontour\",\"colorbar\":{\"outlinewidth\":0,\"ticks\":\"\"},\"colorscale\":[[0.0,\"#0d0887\"],[0.1111111111111111,\"#46039f\"],[0.2222222222222222,\"#7201a8\"],[0.3333333333333333,\"#9c179e\"],[0.4444444444444444,\"#bd3786\"],[0.5555555555555556,\"#d8576b\"],[0.6666666666666666,\"#ed7953\"],[0.7777777777777778,\"#fb9f3a\"],[0.8888888888888888,\"#fdca26\"],[1.0,\"#f0f921\"]]}],\"choropleth\":[{\"type\":\"choropleth\",\"colorbar\":{\"outlinewidth\":0,\"ticks\":\"\"}}],\"histogram2d\":[{\"type\":\"histogram2d\",\"colorbar\":{\"outlinewidth\":0,\"ticks\":\"\"},\"colorscale\":[[0.0,\"#0d0887\"],[0.1111111111111111,\"#46039f\"],[0.2222222222222222,\"#7201a8\"],[0.3333333333333333,\"#9c179e\"],[0.4444444444444444,\"#bd3786\"],[0.5555555555555556,\"#d8576b\"],[0.6666666666666666,\"#ed7953\"],[0.7777777777777778,\"#fb9f3a\"],[0.8888888888888888,\"#fdca26\"],[1.0,\"#f0f921\"]]}],\"heatmap\":[{\"type\":\"heatmap\",\"colorbar\":{\"outlinewidth\":0,\"ticks\":\"\"},\"colorscale\":[[0.0,\"#0d0887\"],[0.1111111111111111,\"#46039f\"],[0.2222222222222222,\"#7201a8\"],[0.3333333333333333,\"#9c179e\"],[0.4444444444444444,\"#bd3786\"],[0.5555555555555556,\"#d8576b\"],[0.6666666666666666,\"#ed7953\"],[0.7777777777777778,\"#fb9f3a\"],[0.8888888888888888,\"#fdca26\"],[1.0,\"#f0f921\"]]}],\"heatmapgl\":[{\"type\":\"heatmapgl\",\"colorbar\":{\"outlinewidth\":0,\"ticks\":\"\"},\"colorscale\":[[0.0,\"#0d0887\"],[0.1111111111111111,\"#46039f\"],[0.2222222222222222,\"#7201a8\"],[0.3333333333333333,\"#9c179e\"],[0.4444444444444444,\"#bd3786\"],[0.5555555555555556,\"#d8576b\"],[0.6666666666666666,\"#ed7953\"],[0.7777777777777778,\"#fb9f3a\"],[0.8888888888888888,\"#fdca26\"],[1.0,\"#f0f921\"]]}],\"contourcarpet\":[{\"type\":\"contourcarpet\",\"colorbar\":{\"outlinewidth\":0,\"ticks\":\"\"}}],\"contour\":[{\"type\":\"contour\",\"colorbar\":{\"outlinewidth\":0,\"ticks\":\"\"},\"colorscale\":[[0.0,\"#0d0887\"],[0.1111111111111111,\"#46039f\"],[0.2222222222222222,\"#7201a8\"],[0.3333333333333333,\"#9c179e\"],[0.4444444444444444,\"#bd3786\"],[0.5555555555555556,\"#d8576b\"],[0.6666666666666666,\"#ed7953\"],[0.7777777777777778,\"#fb9f3a\"],[0.8888888888888888,\"#fdca26\"],[1.0,\"#f0f921\"]]}],\"surface\":[{\"type\":\"surface\",\"colorbar\":{\"outlinewidth\":0,\"ticks\":\"\"},\"colorscale\":[[0.0,\"#0d0887\"],[0.1111111111111111,\"#46039f\"],[0.2222222222222222,\"#7201a8\"],[0.3333333333333333,\"#9c179e\"],[0.4444444444444444,\"#bd3786\"],[0.5555555555555556,\"#d8576b\"],[0.6666666666666666,\"#ed7953\"],[0.7777777777777778,\"#fb9f3a\"],[0.8888888888888888,\"#fdca26\"],[1.0,\"#f0f921\"]]}],\"mesh3d\":[{\"type\":\"mesh3d\",\"colorbar\":{\"outlinewidth\":0,\"ticks\":\"\"}}],\"scatter\":[{\"marker\":{\"line\":{\"color\":\"#283442\"}},\"type\":\"scatter\"}],\"parcoords\":[{\"type\":\"parcoords\",\"line\":{\"colorbar\":{\"outlinewidth\":0,\"ticks\":\"\"}}}],\"scatterpolargl\":[{\"type\":\"scatterpolargl\",\"marker\":{\"colorbar\":{\"outlinewidth\":0,\"ticks\":\"\"}}}],\"bar\":[{\"error_x\":{\"color\":\"#f2f5fa\"},\"error_y\":{\"color\":\"#f2f5fa\"},\"marker\":{\"line\":{\"color\":\"rgb(17,17,17)\",\"width\":0.5},\"pattern\":{\"fillmode\":\"overlay\",\"size\":10,\"solidity\":0.2}},\"type\":\"bar\"}],\"scattergeo\":[{\"type\":\"scattergeo\",\"marker\":{\"colorbar\":{\"outlinewidth\":0,\"ticks\":\"\"}}}],\"scatterpolar\":[{\"type\":\"scatterpolar\",\"marker\":{\"colorbar\":{\"outlinewidth\":0,\"ticks\":\"\"}}}],\"histogram\":[{\"marker\":{\"pattern\":{\"fillmode\":\"overlay\",\"size\":10,\"solidity\":0.2}},\"type\":\"histogram\"}],\"scattergl\":[{\"marker\":{\"line\":{\"color\":\"#283442\"}},\"type\":\"scattergl\"}],\"scatter3d\":[{\"type\":\"scatter3d\",\"line\":{\"colorbar\":{\"outlinewidth\":0,\"ticks\":\"\"}},\"marker\":{\"colorbar\":{\"outlinewidth\":0,\"ticks\":\"\"}}}],\"scattermapbox\":[{\"type\":\"scattermapbox\",\"marker\":{\"colorbar\":{\"outlinewidth\":0,\"ticks\":\"\"}}}],\"scatterternary\":[{\"type\":\"scatterternary\",\"marker\":{\"colorbar\":{\"outlinewidth\":0,\"ticks\":\"\"}}}],\"scattercarpet\":[{\"type\":\"scattercarpet\",\"marker\":{\"colorbar\":{\"outlinewidth\":0,\"ticks\":\"\"}}}],\"carpet\":[{\"aaxis\":{\"endlinecolor\":\"#A2B1C6\",\"gridcolor\":\"#506784\",\"linecolor\":\"#506784\",\"minorgridcolor\":\"#506784\",\"startlinecolor\":\"#A2B1C6\"},\"baxis\":{\"endlinecolor\":\"#A2B1C6\",\"gridcolor\":\"#506784\",\"linecolor\":\"#506784\",\"minorgridcolor\":\"#506784\",\"startlinecolor\":\"#A2B1C6\"},\"type\":\"carpet\"}],\"table\":[{\"cells\":{\"fill\":{\"color\":\"#506784\"},\"line\":{\"color\":\"rgb(17,17,17)\"}},\"header\":{\"fill\":{\"color\":\"#2a3f5f\"},\"line\":{\"color\":\"rgb(17,17,17)\"}},\"type\":\"table\"}],\"barpolar\":[{\"marker\":{\"line\":{\"color\":\"rgb(17,17,17)\",\"width\":0.5},\"pattern\":{\"fillmode\":\"overlay\",\"size\":10,\"solidity\":0.2}},\"type\":\"barpolar\"}],\"pie\":[{\"automargin\":true,\"type\":\"pie\"}]},\"layout\":{\"autotypenumbers\":\"strict\",\"colorway\":[\"#636efa\",\"#EF553B\",\"#00cc96\",\"#ab63fa\",\"#FFA15A\",\"#19d3f3\",\"#FF6692\",\"#B6E880\",\"#FF97FF\",\"#FECB52\"],\"font\":{\"color\":\"#f2f5fa\"},\"hovermode\":\"closest\",\"hoverlabel\":{\"align\":\"left\"},\"paper_bgcolor\":\"rgb(17,17,17)\",\"plot_bgcolor\":\"rgb(17,17,17)\",\"polar\":{\"bgcolor\":\"rgb(17,17,17)\",\"angularaxis\":{\"gridcolor\":\"#506784\",\"linecolor\":\"#506784\",\"ticks\":\"\"},\"radialaxis\":{\"gridcolor\":\"#506784\",\"linecolor\":\"#506784\",\"ticks\":\"\"}},\"ternary\":{\"bgcolor\":\"rgb(17,17,17)\",\"aaxis\":{\"gridcolor\":\"#506784\",\"linecolor\":\"#506784\",\"ticks\":\"\"},\"baxis\":{\"gridcolor\":\"#506784\",\"linecolor\":\"#506784\",\"ticks\":\"\"},\"caxis\":{\"gridcolor\":\"#506784\",\"linecolor\":\"#506784\",\"ticks\":\"\"}},\"coloraxis\":{\"colorbar\":{\"outlinewidth\":0,\"ticks\":\"\"}},\"colorscale\":{\"sequential\":[[0.0,\"#0d0887\"],[0.1111111111111111,\"#46039f\"],[0.2222222222222222,\"#7201a8\"],[0.3333333333333333,\"#9c179e\"],[0.4444444444444444,\"#bd3786\"],[0.5555555555555556,\"#d8576b\"],[0.6666666666666666,\"#ed7953\"],[0.7777777777777778,\"#fb9f3a\"],[0.8888888888888888,\"#fdca26\"],[1.0,\"#f0f921\"]],\"sequentialminus\":[[0.0,\"#0d0887\"],[0.1111111111111111,\"#46039f\"],[0.2222222222222222,\"#7201a8\"],[0.3333333333333333,\"#9c179e\"],[0.4444444444444444,\"#bd3786\"],[0.5555555555555556,\"#d8576b\"],[0.6666666666666666,\"#ed7953\"],[0.7777777777777778,\"#fb9f3a\"],[0.8888888888888888,\"#fdca26\"],[1.0,\"#f0f921\"]],\"diverging\":[[0,\"#8e0152\"],[0.1,\"#c51b7d\"],[0.2,\"#de77ae\"],[0.3,\"#f1b6da\"],[0.4,\"#fde0ef\"],[0.5,\"#f7f7f7\"],[0.6,\"#e6f5d0\"],[0.7,\"#b8e186\"],[0.8,\"#7fbc41\"],[0.9,\"#4d9221\"],[1,\"#276419\"]]},\"xaxis\":{\"gridcolor\":\"#283442\",\"linecolor\":\"#506784\",\"ticks\":\"\",\"title\":{\"standoff\":15},\"zerolinecolor\":\"#283442\",\"automargin\":true,\"zerolinewidth\":2},\"yaxis\":{\"gridcolor\":\"#283442\",\"linecolor\":\"#506784\",\"ticks\":\"\",\"title\":{\"standoff\":15},\"zerolinecolor\":\"#283442\",\"automargin\":true,\"zerolinewidth\":2},\"scene\":{\"xaxis\":{\"backgroundcolor\":\"rgb(17,17,17)\",\"gridcolor\":\"#506784\",\"linecolor\":\"#506784\",\"showbackground\":true,\"ticks\":\"\",\"zerolinecolor\":\"#C8D4E3\",\"gridwidth\":2},\"yaxis\":{\"backgroundcolor\":\"rgb(17,17,17)\",\"gridcolor\":\"#506784\",\"linecolor\":\"#506784\",\"showbackground\":true,\"ticks\":\"\",\"zerolinecolor\":\"#C8D4E3\",\"gridwidth\":2},\"zaxis\":{\"backgroundcolor\":\"rgb(17,17,17)\",\"gridcolor\":\"#506784\",\"linecolor\":\"#506784\",\"showbackground\":true,\"ticks\":\"\",\"zerolinecolor\":\"#C8D4E3\",\"gridwidth\":2}},\"shapedefaults\":{\"line\":{\"color\":\"#f2f5fa\"}},\"annotationdefaults\":{\"arrowcolor\":\"#f2f5fa\",\"arrowhead\":0,\"arrowwidth\":1},\"geo\":{\"bgcolor\":\"rgb(17,17,17)\",\"landcolor\":\"rgb(17,17,17)\",\"subunitcolor\":\"#506784\",\"showland\":true,\"showlakes\":true,\"lakecolor\":\"rgb(17,17,17)\"},\"title\":{\"x\":0.05},\"updatemenudefaults\":{\"bgcolor\":\"#506784\",\"borderwidth\":0},\"sliderdefaults\":{\"bgcolor\":\"#C8D4E3\",\"borderwidth\":1,\"bordercolor\":\"rgb(17,17,17)\",\"tickwidth\":0},\"mapbox\":{\"style\":\"dark\"}}},\"xaxis\":{\"anchor\":\"y\",\"domain\":[0.0,1.0],\"title\":{\"text\":\"feature\"}},\"yaxis\":{\"anchor\":\"x\",\"domain\":[0.0,1.0],\"title\":{\"text\":\"importance\"}},\"legend\":{\"tracegroupgap\":0},\"margin\":{\"t\":60},\"barmode\":\"relative\"},                        {\"responsive\": true}                    ).then(function(){\n",
       "                            \n",
       "var gd = document.getElementById('3fa503e6-1778-4bcc-a7d0-090395d7f973');\n",
       "var x = new MutationObserver(function (mutations, observer) {{\n",
       "        var display = window.getComputedStyle(gd).display;\n",
       "        if (!display || display === 'none') {{\n",
       "            console.log([gd, 'removed!']);\n",
       "            Plotly.purge(gd);\n",
       "            observer.disconnect();\n",
       "        }}\n",
       "}});\n",
       "\n",
       "// Listen for the removal of the full notebook cells\n",
       "var notebookContainer = gd.closest('#notebook-container');\n",
       "if (notebookContainer) {{\n",
       "    x.observe(notebookContainer, {childList: true});\n",
       "}}\n",
       "\n",
       "// Listen for the clearing of the current output cell\n",
       "var outputEl = gd.closest('.output');\n",
       "if (outputEl) {{\n",
       "    x.observe(outputEl, {childList: true});\n",
       "}}\n",
       "\n",
       "                        })                };                });            </script>        </div>"
      ]
     },
     "metadata": {},
     "output_type": "display_data"
    }
   ],
   "execution_count": 72
  },
  {
   "metadata": {},
   "cell_type": "markdown",
   "source": [
    "## Final Result\n",
    "\n",
    "The final result obtained from the winner model - the likelihood that a book will be returned late, presented in the form of histogram. "
   ],
   "id": "d6c81e6b59ddb12b"
  },
  {
   "metadata": {
    "ExecuteTime": {
     "end_time": "2024-09-04T08:31:17.830633Z",
     "start_time": "2024-09-04T08:31:17.633790Z"
    }
   },
   "cell_type": "code",
   "source": [
    "p = winner.predict_proba(x_reduced)[:,1]\n",
    "px.histogram(pd.DataFrame({'Likelihood of a Late Return': p}))"
   ],
   "id": "f6ef051fdc749849",
   "outputs": [
    {
     "data": {
      "application/vnd.plotly.v1+json": {
       "data": [
        {
         "alignmentgroup": "True",
         "bingroup": "x",
         "hovertemplate": "variable=Likelihood of a Late Return<br>value=%{x}<br>count=%{y}<extra></extra>",
         "legendgroup": "Likelihood of a Late Return",
         "marker": {
          "color": "#636efa",
          "pattern": {
           "shape": ""
          }
         },
         "name": "Likelihood of a Late Return",
         "offsetgroup": "Likelihood of a Late Return",
         "orientation": "v",
         "showlegend": true,
         "x": [
          0.9949776530265808,
          0.9812691807746887,
          0.9944156408309937,
          0.9949935078620911,
          0.9949776530265808,
          0.9949776530265808,
          0.9949935078620911,
          0.9949776530265808,
          0.9949776530265808,
          0.9949776530265808,
          0.9949776530265808,
          0.9949776530265808,
          0.9949776530265808,
          0.9949776530265808,
          0.9812691807746887,
          0.9949776530265808,
          0.9949776530265808,
          0.9949776530265808,
          0.9912847280502319,
          0.9949776530265808,
          0.9949776530265808,
          0.9883856773376465,
          0.9949776530265808,
          0.9912847280502319,
          0.9949776530265808,
          0.9949776530265808,
          0.9899865984916687,
          0.9949776530265808,
          0.991950273513794,
          0.9949776530265808,
          0.9949776530265808,
          0.9949776530265808,
          0.4993610680103302,
          0.9877589344978333,
          0.9949776530265808,
          0.9877589344978333,
          0.9928017854690552,
          0.9877589344978333,
          0.6453540921211243,
          0.9949776530265808,
          0.9949776530265808,
          0.9949935078620911,
          0.9949776530265808,
          0.9949776530265808,
          0.9949776530265808,
          0.9912847280502319,
          0.38161787390708923,
          0.9928017854690552,
          0.9949776530265808,
          0.9949776530265808,
          0.991950273513794,
          0.9949776530265808,
          0.9167501926422119,
          0.9949776530265808,
          0.9899865984916687,
          0.9949776530265808,
          0.9877589344978333,
          0.9949776530265808,
          0.9839678406715393,
          0.9912847280502319,
          0.6453540921211243,
          0.997963547706604,
          0.9949776530265808,
          0.9949776530265808,
          0.9949935078620911,
          0.9949776530265808,
          0.9949776530265808,
          0.9912847280502319,
          0.4858924150466919,
          0.9949776530265808,
          0.9949776530265808,
          0.9949776530265808,
          0.9949776530265808,
          0.9949776530265808,
          0.9949776530265808,
          0.9949776530265808,
          0.9949776530265808,
          0.9949776530265808,
          0.9949776530265808,
          0.4858924150466919,
          0.9949776530265808,
          0.9949776530265808,
          0.9949776530265808,
          0.9949776530265808,
          0.9944156408309937,
          0.9812691807746887,
          0.988655686378479,
          0.9949776530265808,
          0.9912847280502319,
          0.9949776530265808,
          0.9949776530265808,
          0.9812691807746887,
          0.9949776530265808,
          0.9949776530265808,
          0.9812691807746887,
          0.9949776530265808,
          0.9949776530265808,
          0.9949776530265808,
          0.9812691807746887,
          0.4858924150466919,
          0.9949776530265808,
          0.9949776530265808,
          0.4858924150466919,
          0.9928017854690552,
          0.9949776530265808,
          0.9949776530265808,
          0.9949776530265808,
          0.9912847280502319,
          0.991950273513794,
          0.9912847280502319,
          0.9912847280502319,
          0.9912847280502319,
          0.9949776530265808,
          0.988655686378479,
          0.9949776530265808,
          0.9949776530265808,
          0.9949776530265808,
          0.9949776530265808,
          0.9949776530265808,
          0.9944156408309937,
          0.9949776530265808,
          0.5227369666099548,
          0.9812691807746887,
          0.9812691807746887,
          0.9949776530265808,
          0.9912847280502319,
          0.9949776530265808,
          0.9912847280502319,
          0.9912847280502319,
          0.9949776530265808,
          0.9949776530265808,
          0.9949776530265808,
          0.9949776530265808,
          0.9949776530265808,
          0.9949776530265808,
          0.4993610680103302,
          0.9949776530265808,
          0.9949776530265808,
          0.9949776530265808,
          0.9949776530265808,
          0.9949776530265808,
          0.9949776530265808,
          0.9949776530265808,
          0.9734426736831665,
          0.9912847280502319,
          0.9960852861404419,
          0.991950273513794,
          0.9949776530265808,
          0.9949776530265808,
          0.5227369666099548,
          0.9949776530265808,
          0.9949776530265808,
          0.9877589344978333,
          0.9812691807746887,
          0.9949776530265808,
          0.9949776530265808,
          0.9949935078620911,
          0.9949776530265808,
          0.9877589344978333,
          0.9949776530265808,
          0.9949776530265808,
          0.9949776530265808,
          0.9812691807746887,
          0.9949776530265808,
          0.9949776530265808,
          0.9949935078620911,
          0.9944156408309937,
          0.991950273513794,
          0.9949776530265808,
          0.9949776530265808,
          0.9877589344978333,
          0.9949776530265808,
          0.9899865984916687,
          0.9949776530265808,
          0.9912847280502319,
          0.9949776530265808,
          0.9949776530265808,
          0.38161787390708923,
          0.9949776530265808,
          0.9949776530265808,
          0.9928017854690552,
          0.9949776530265808,
          0.9949776530265808,
          0.9949776530265808,
          0.9949776530265808,
          0.9949776530265808,
          0.9949776530265808,
          0.9949776530265808,
          0.9949776530265808,
          0.9899865984916687,
          0.4993610680103302,
          0.991950273513794,
          0.9949776530265808,
          0.9949776530265808,
          0.9949776530265808,
          0.9949776530265808,
          0.9949776530265808,
          0.4993610680103302,
          0.991950273513794,
          0.9877589344978333,
          0.9812691807746887,
          0.9587629437446594,
          0.9949935078620911,
          0.4993610680103302,
          0.9949776530265808,
          0.9949776530265808,
          0.9949776530265808,
          0.9949776530265808,
          0.9949776530265808,
          0.991950273513794,
          0.9949776530265808,
          0.9949776530265808,
          0.9877589344978333,
          0.9877589344978333,
          0.9949776530265808,
          0.9949776530265808,
          0.9812691807746887,
          0.3053456246852875,
          0.9949776530265808,
          0.9949776530265808,
          0.991950273513794,
          0.9949776530265808,
          0.9949776530265808,
          0.9949776530265808,
          0.9928017854690552,
          0.9949776530265808,
          0.9949776530265808,
          0.9949776530265808,
          0.9877970814704895,
          0.9949776530265808,
          0.38161787390708923,
          0.9949776530265808,
          0.9949776530265808,
          0.9949776530265808,
          0.9928017854690552,
          0.9949935078620911,
          0.9812691807746887,
          0.9949776530265808,
          0.9949776530265808,
          0.9949776530265808,
          0.9928017854690552,
          0.9812691807746887,
          0.9949776530265808,
          0.9944156408309937,
          0.9949776530265808,
          0.9949776530265808,
          0.9400070905685425,
          0.991950273513794,
          0.9949776530265808,
          0.9812691807746887,
          0.9949776530265808,
          0.9949776530265808,
          0.9899865984916687,
          0.991950273513794,
          0.9949776530265808,
          0.991950273513794,
          0.4993610680103302,
          0.9949776530265808,
          0.9812691807746887,
          0.9949776530265808,
          0.9949776530265808,
          0.9949776530265808,
          0.9812691807746887,
          0.9949776530265808,
          0.9944156408309937,
          0.9912847280502319,
          0.991950273513794,
          0.40520337224006653,
          0.9928017854690552,
          0.9949776530265808,
          0.9949776530265808,
          0.9949776530265808,
          0.9949776530265808,
          0.9949776530265808,
          0.9864001274108887,
          0.991950273513794,
          0.9949776530265808,
          0.9949776530265808,
          0.991950273513794,
          0.9949776530265808,
          0.9949776530265808,
          0.9949776530265808,
          0.9949776530265808,
          0.9949776530265808,
          0.9949776530265808,
          0.9812691807746887,
          0.9877589344978333,
          0.9949776530265808,
          0.9949776530265808,
          0.9912847280502319,
          0.9949776530265808,
          0.997963547706604,
          0.9928017854690552,
          0.9949776530265808,
          0.9949776530265808,
          0.9949776530265808,
          0.9949776530265808,
          0.9757686853408813,
          0.9774979948997498,
          0.9949776530265808,
          0.9949776530265808,
          0.9949776530265808,
          0.9949776530265808,
          0.9928017854690552,
          0.9909676909446716,
          0.9757686853408813,
          0.6453540921211243,
          0.9912847280502319,
          0.6453540921211243,
          0.9949776530265808,
          0.9949776530265808,
          0.9949776530265808,
          0.9949776530265808,
          0.4993610680103302,
          0.9949776530265808,
          0.9455402493476868,
          0.9949776530265808,
          0.9928017854690552,
          0.9949776530265808,
          0.9949776530265808,
          0.9949776530265808,
          0.991950273513794,
          0.9949776530265808,
          0.9949776530265808,
          0.9949776530265808,
          0.9949776530265808,
          0.9949776530265808,
          0.9949776530265808,
          0.9949935078620911,
          0.9949776530265808,
          0.9949776530265808,
          0.9949776530265808,
          0.9949776530265808,
          0.9949776530265808,
          0.9949776530265808,
          0.9912847280502319,
          0.9812691807746887,
          0.9949776530265808,
          0.9949776530265808,
          0.991950273513794,
          0.9949776530265808,
          0.9949935078620911,
          0.9455402493476868,
          0.9949935078620911,
          0.9912847280502319,
          0.991950273513794,
          0.9949776530265808,
          0.9812691807746887,
          0.9928017854690552,
          0.9949776530265808,
          0.9912847280502319,
          0.9949776530265808,
          0.9949776530265808,
          0.9812691807746887,
          0.9928017854690552,
          0.9949776530265808,
          0.9949776530265808,
          0.9949776530265808,
          0.9812691807746887,
          0.9912847280502319,
          0.9944156408309937,
          0.9949776530265808,
          0.9734426736831665,
          0.9949776530265808,
          0.9949776530265808,
          0.9949776530265808,
          0.5227369666099548,
          0.9949776530265808,
          0.991950273513794,
          0.9812691807746887,
          0.9899865984916687,
          0.9912847280502319,
          0.9949776530265808,
          0.9949776530265808,
          0.9949776530265808,
          0.9944156408309937,
          0.9877589344978333,
          0.9812691807746887,
          0.9912847280502319,
          0.9949776530265808,
          0.9949935078620911,
          0.9949776530265808,
          0.9960852861404419,
          0.9949776530265808,
          0.991950273513794,
          0.9812691807746887,
          0.9949776530265808,
          0.9944156408309937,
          0.9949935078620911,
          0.9949776530265808,
          0.9928017854690552,
          0.9949776530265808,
          0.9912847280502319,
          0.9949776530265808,
          0.4326333701610565,
          0.9912847280502319,
          0.9949776530265808,
          0.9949776530265808,
          0.38161787390708923,
          0.9455402493476868,
          0.9949776530265808,
          0.9949776530265808,
          0.9928017854690552,
          0.9949776530265808,
          0.9944156408309937,
          0.9949776530265808,
          0.9949776530265808,
          0.9949776530265808,
          0.9877589344978333,
          0.9928017854690552,
          0.9949776530265808,
          0.9949935078620911,
          0.9912847280502319,
          0.9960852861404419,
          0.9949776530265808,
          0.9949776530265808,
          0.9912847280502319,
          0.9167501926422119,
          0.4858924150466919,
          0.9928017854690552,
          0.9949776530265808,
          0.9949776530265808,
          0.9949776530265808,
          0.9949776530265808,
          0.9949776530265808,
          0.9812691807746887,
          0.9949776530265808,
          0.9912847280502319,
          0.9949776530265808,
          0.9812691807746887,
          0.9949776530265808,
          0.9949935078620911,
          0.9949776530265808,
          0.9912847280502319,
          0.9455402493476868,
          0.9949776530265808,
          0.45405474305152893,
          0.9877589344978333,
          0.9949776530265808,
          0.9812691807746887,
          0.9949776530265808,
          0.9949776530265808,
          0.9949776530265808,
          0.9949776530265808,
          0.9912847280502319,
          0.9949776530265808,
          0.9928017854690552,
          0.9587629437446594,
          0.9949935078620911,
          0.9949776530265808,
          0.9899865984916687,
          0.9899865984916687,
          0.991950273513794,
          0.9949776530265808,
          0.9949776530265808,
          0.9812691807746887,
          0.9949776530265808,
          0.9949935078620911,
          0.9949776530265808,
          0.9877589344978333,
          0.9912847280502319,
          0.9949776530265808,
          0.9877589344978333,
          0.9877589344978333,
          0.9949776530265808,
          0.9949776530265808,
          0.9877589344978333,
          0.9912847280502319,
          0.9949935078620911,
          0.973313570022583,
          0.9949776530265808,
          0.9949776530265808,
          0.9949776530265808,
          0.9949776530265808,
          0.9949776530265808,
          0.9812691807746887,
          0.9949776530265808,
          0.9949776530265808,
          0.9877589344978333,
          0.9928017854690552,
          0.9949776530265808,
          0.9912847280502319,
          0.9949776530265808,
          0.9949776530265808,
          0.9912847280502319,
          0.6453540921211243,
          0.9949776530265808,
          0.9877589344978333,
          0.9949776530265808,
          0.9400070905685425,
          0.9949776530265808,
          0.9949776530265808,
          0.973313570022583,
          0.9949776530265808,
          0.9899865984916687,
          0.9949776530265808,
          0.9949776530265808,
          0.9949776530265808,
          0.9983575940132141,
          0.38161787390708923,
          0.9949776530265808,
          0.9949935078620911,
          0.9949776530265808,
          0.991950273513794,
          0.4858924150466919,
          0.9949776530265808,
          0.9949776530265808,
          0.9949776530265808,
          0.9877589344978333,
          0.9734426736831665,
          0.991950273513794,
          0.9949776530265808,
          0.9949776530265808,
          0.9949776530265808,
          0.9949776530265808,
          0.9949776530265808,
          0.9949776530265808,
          0.9949776530265808,
          0.9949935078620911,
          0.9949776530265808,
          0.9949935078620911,
          0.9949776530265808,
          0.5227369666099548,
          0.9949776530265808,
          0.9949776530265808,
          0.9949935078620911,
          0.9949776530265808,
          0.9949935078620911,
          0.9949776530265808,
          0.9949776530265808,
          0.9949776530265808,
          0.9949776530265808,
          0.9400070905685425,
          0.9949776530265808,
          0.9949776530265808,
          0.9949776530265808,
          0.9949776530265808,
          0.9912847280502319,
          0.9944156408309937,
          0.9812691807746887,
          0.9928017854690552,
          0.9949776530265808,
          0.9949776530265808,
          0.9928017854690552,
          0.9949776530265808,
          0.9949776530265808,
          0.9949776530265808,
          0.9912847280502319,
          0.9949776530265808,
          0.9949776530265808,
          0.9949776530265808,
          0.9949776530265808,
          0.9949776530265808,
          0.9949776530265808,
          0.9949776530265808,
          0.9990832805633545,
          0.9949776530265808,
          0.9949776530265808,
          0.9949935078620911,
          0.9949935078620911,
          0.991950273513794,
          0.9877589344978333,
          0.9949776530265808,
          0.9949776530265808,
          0.9949776530265808,
          0.9949776530265808,
          0.9949776530265808,
          0.9812691807746887,
          0.9949776530265808,
          0.9949776530265808,
          0.9919754862785339,
          0.9949776530265808,
          0.9949776530265808,
          0.9883856773376465,
          0.9949776530265808,
          0.9949776530265808,
          0.9455402493476868,
          0.9949776530265808,
          0.997963547706604,
          0.9949776530265808,
          0.9774979948997498,
          0.9877589344978333,
          0.9949776530265808,
          0.9949776530265808,
          0.9949776530265808,
          0.9949776530265808,
          0.9949776530265808,
          0.9877589344978333,
          0.9949776530265808,
          0.9949776530265808,
          0.9949776530265808,
          0.991950273513794,
          0.9912847280502319,
          0.9949776530265808,
          0.9877589344978333,
          0.9949776530265808,
          0.9949776530265808,
          0.9949776530265808,
          0.9949776530265808,
          0.9167501926422119,
          0.9949776530265808,
          0.9949776530265808,
          0.9912847280502319,
          0.9949776530265808,
          0.9949776530265808,
          0.9949776530265808,
          0.9912847280502319,
          0.9949776530265808,
          0.9949776530265808,
          0.9949776530265808,
          0.9928017854690552,
          0.9949776530265808,
          0.9949776530265808,
          0.9949776530265808,
          0.9949776530265808,
          0.9949776530265808,
          0.991950273513794,
          0.4993610680103302,
          0.9899865984916687,
          0.9949776530265808,
          0.9949776530265808,
          0.9877589344978333,
          0.9757686853408813,
          0.9949776530265808,
          0.991950273513794,
          0.9912847280502319,
          0.9877589344978333,
          0.9949776530265808,
          0.9949776530265808,
          0.9949776530265808,
          0.9781121611595154,
          0.9912847280502319,
          0.9949776530265808,
          0.9949776530265808,
          0.9944156408309937,
          0.991950273513794,
          0.9949935078620911,
          0.9949776530265808,
          0.7212249040603638,
          0.9949776530265808,
          0.9949776530265808,
          0.9912847280502319,
          0.9812691807746887,
          0.991950273513794,
          0.9949776530265808,
          0.991950273513794,
          0.9949776530265808,
          0.9949776530265808,
          0.9455402493476868,
          0.991950273513794,
          0.9167501926422119,
          0.4993610680103302,
          0.4993610680103302,
          0.9949776530265808,
          0.9949776530265808,
          0.9812691807746887,
          0.9949776530265808,
          0.9949776530265808,
          0.9949776530265808,
          0.9949776530265808,
          0.973313570022583,
          0.9949776530265808,
          0.9912847280502319,
          0.9949935078620911,
          0.9928017854690552,
          0.9944156408309937,
          0.9912847280502319,
          0.9949935078620911,
          0.9949776530265808,
          0.9949776530265808,
          0.9949935078620911,
          0.9949776530265808,
          0.9949776530265808,
          0.9949776530265808,
          0.9949776530265808,
          0.9877589344978333,
          0.4993610680103302,
          0.9949776530265808,
          0.9734426736831665,
          0.9812691807746887,
          0.991950273513794,
          0.9912847280502319,
          0.9949776530265808,
          0.9949776530265808,
          0.9949776530265808,
          0.9949776530265808,
          0.9949776530265808,
          0.9949776530265808,
          0.9912847280502319,
          0.9949776530265808,
          0.4993610680103302,
          0.9949776530265808,
          0.9812691807746887,
          0.9949776530265808,
          0.9949776530265808,
          0.9949935078620911,
          0.9949776530265808,
          0.9949776530265808,
          0.9949776530265808,
          0.9899865984916687,
          0.9949776530265808,
          0.9949935078620911,
          0.9774979948997498,
          0.4993610680103302,
          0.9949776530265808,
          0.9877589344978333,
          0.991950273513794,
          0.9949776530265808,
          0.9949776530265808,
          0.9944156408309937,
          0.9949776530265808,
          0.9949776530265808,
          0.9983575940132141,
          0.9949776530265808,
          0.9949776530265808,
          0.9949776530265808,
          0.9949776530265808,
          0.9928017854690552,
          0.9949776530265808,
          0.9734426736831665,
          0.9912847280502319,
          0.9877589344978333,
          0.9990832805633545,
          0.9912847280502319,
          0.9949776530265808,
          0.9877589344978333,
          0.9949776530265808,
          0.9812691807746887,
          0.9912847280502319,
          0.9928017854690552,
          0.9949776530265808,
          0.9949776530265808,
          0.9949776530265808,
          0.9919754862785339,
          0.9949776530265808,
          0.9734426736831665,
          0.4858924150466919,
          0.9949776530265808,
          0.9949776530265808,
          0.9949776530265808,
          0.9949776530265808,
          0.9949776530265808,
          0.9949776530265808,
          0.9949776530265808,
          0.9949776530265808,
          0.9812691807746887,
          0.4858924150466919,
          0.9949776530265808,
          0.9949776530265808,
          0.9949935078620911,
          0.9949776530265808,
          0.9949776530265808,
          0.9587629437446594,
          0.9949776530265808,
          0.9949776530265808,
          0.9912847280502319,
          0.9928017854690552,
          0.9949776530265808,
          0.9949776530265808,
          0.9949776530265808,
          0.9877589344978333,
          0.9949776530265808,
          0.9400070905685425,
          0.9949776530265808,
          0.4993610680103302,
          0.9899865984916687,
          0.991950273513794,
          0.9949776530265808,
          0.4858924150466919,
          0.9949776530265808,
          0.9949776530265808,
          0.9949776530265808,
          0.9949776530265808,
          0.9949776530265808,
          0.38161787390708923,
          0.9949776530265808,
          0.9949776530265808,
          0.9949776530265808,
          0.991950273513794,
          0.9949776530265808,
          0.9877589344978333,
          0.9734426736831665,
          0.9949776530265808,
          0.4858924150466919,
          0.9949776530265808,
          0.4993610680103302,
          0.9949776530265808,
          0.9949776530265808,
          0.9949776530265808,
          0.9877589344978333,
          0.9928017854690552,
          0.9949776530265808,
          0.9949776530265808,
          0.9949776530265808,
          0.9949776530265808,
          0.9949776530265808,
          0.9949776530265808,
          0.991950273513794,
          0.9949776530265808,
          0.991950273513794,
          0.991950273513794,
          0.6555362939834595,
          0.30849355459213257,
          0.9949776530265808,
          0.9949776530265808,
          0.9949776530265808,
          0.9949776530265808,
          0.9949776530265808,
          0.9949776530265808,
          0.9949776530265808,
          0.9949935078620911,
          0.9949776530265808,
          0.9949776530265808,
          0.9949776530265808,
          0.9949776530265808,
          0.9949776530265808,
          0.9949776530265808,
          0.9949776530265808,
          0.9949776530265808,
          0.9928017854690552,
          0.9949776530265808,
          0.9949776530265808,
          0.9949776530265808,
          0.9949776530265808,
          0.9949776530265808,
          0.4858924150466919,
          0.9949776530265808,
          0.9944156408309937,
          0.9949776530265808,
          0.9949776530265808,
          0.9949776530265808,
          0.9949776530265808,
          0.9912847280502319,
          0.991950273513794,
          0.9949776530265808,
          0.9949776530265808,
          0.9949776530265808,
          0.991950273513794,
          0.9944156408309937,
          0.9949776530265808,
          0.9949776530265808,
          0.9949776530265808,
          0.9949935078620911,
          0.9949776530265808,
          0.4993610680103302,
          0.9949776530265808,
          0.6453540921211243,
          0.9949935078620911,
          0.9877589344978333,
          0.9949776530265808,
          0.9912847280502319,
          0.9949776530265808,
          0.9912847280502319,
          0.9949776530265808,
          0.9949776530265808,
          0.4993610680103302,
          0.9949776530265808,
          0.9949776530265808,
          0.991950273513794,
          0.4993610680103302,
          0.9949776530265808,
          0.9949776530265808,
          0.991950273513794,
          0.9949935078620911,
          0.9949776530265808,
          0.9949776530265808,
          0.9949776530265808,
          0.4858924150466919,
          0.9812691807746887,
          0.9949776530265808,
          0.9928017854690552,
          0.9949776530265808,
          0.9912847280502319,
          0.9949776530265808,
          0.9949776530265808,
          0.9949776530265808,
          0.9928017854690552,
          0.9949776530265808,
          0.9877589344978333,
          0.9949776530265808,
          0.9949776530265808,
          0.9949776530265808,
          0.9949935078620911,
          0.9882832169532776,
          0.9899865984916687,
          0.9757686853408813,
          0.9949776530265808,
          0.9912847280502319,
          0.9949776530265808,
          0.5227369666099548,
          0.9949776530265808,
          0.9949776530265808,
          0.9949776530265808,
          0.9960852861404419,
          0.9949776530265808,
          0.9949776530265808,
          0.4993610680103302,
          0.9960852861404419,
          0.9949776530265808,
          0.9944156408309937,
          0.9949776530265808,
          0.9812691807746887,
          0.9949776530265808,
          0.9949776530265808,
          0.9949776530265808,
          0.9587629437446594,
          0.991950273513794,
          0.9587629437446594,
          0.5227369666099548,
          0.9949776530265808,
          0.9949776530265808,
          0.9928017854690552,
          0.991950273513794,
          0.9949776530265808,
          0.9949776530265808,
          0.9899865984916687,
          0.9877589344978333,
          0.9949776530265808,
          0.9949776530265808,
          0.9949776530265808,
          0.9949776530265808,
          0.9949776530265808,
          0.9812691807746887,
          0.9949776530265808,
          0.9949776530265808,
          0.9949776530265808,
          0.38161787390708923,
          0.9949776530265808,
          0.9949776530265808,
          0.9877589344978333,
          0.9949776530265808,
          0.9949776530265808,
          0.9949776530265808,
          0.9912847280502319,
          0.9949776530265808,
          0.973313570022583,
          0.9949776530265808,
          0.9400070905685425,
          0.9949776530265808,
          0.991950273513794,
          0.9949776530265808,
          0.9949776530265808,
          0.9949776530265808,
          0.9928017854690552,
          0.9949776530265808,
          0.9912847280502319,
          0.9949776530265808,
          0.9912847280502319,
          0.38161787390708923,
          0.9812691807746887,
          0.9812691807746887,
          0.38161787390708923,
          0.4993610680103302,
          0.9949776530265808,
          0.4993610680103302,
          0.38161787390708923,
          0.9949776530265808,
          0.9949776530265808,
          0.9949776530265808,
          0.9949935078620911,
          0.9949776530265808,
          0.9949776530265808,
          0.9949776530265808,
          0.4858924150466919,
          0.9949776530265808,
          0.991950273513794,
          0.9949776530265808,
          0.9912847280502319,
          0.9949776530265808,
          0.9912847280502319,
          0.9949776530265808,
          0.9877589344978333,
          0.9909676909446716,
          0.9949776530265808,
          0.4858924150466919,
          0.9949776530265808,
          0.9949776530265808,
          0.9949776530265808,
          0.9949776530265808,
          0.9949935078620911,
          0.9949776530265808,
          0.9949776530265808,
          0.9949776530265808,
          0.9949776530265808,
          0.9949776530265808,
          0.9812691807746887,
          0.9949935078620911,
          0.9949776530265808,
          0.991950273513794,
          0.9949776530265808,
          0.9949776530265808,
          0.9949776530265808,
          0.9949776530265808,
          0.9877589344978333,
          0.9949776530265808,
          0.997963547706604,
          0.9949935078620911,
          0.9949776530265808,
          0.9912847280502319,
          0.9912847280502319,
          0.991950273513794,
          0.9949776530265808,
          0.9949776530265808,
          0.9928017854690552,
          0.9990832805633545,
          0.9877228736877441,
          0.991950273513794,
          0.9928017854690552,
          0.9949776530265808,
          0.9949935078620911,
          0.9983575940132141,
          0.9949776530265808,
          0.9949776530265808,
          0.9928017854690552,
          0.9949776530265808,
          0.9949776530265808,
          0.9877589344978333,
          0.9812691807746887,
          0.9949776530265808,
          0.9949776530265808,
          0.9949776530265808,
          0.9877589344978333,
          0.9949776530265808,
          0.9812691807746887,
          0.9155139327049255,
          0.9949776530265808,
          0.991950273513794,
          0.9949776530265808,
          0.9949776530265808,
          0.9949776530265808,
          0.9877228736877441,
          0.9949776530265808,
          0.9949776530265808,
          0.9928017854690552,
          0.9949935078620911,
          0.9912847280502319,
          0.991950273513794,
          0.9812691807746887,
          0.9949776530265808,
          0.9949776530265808,
          0.9949776530265808,
          0.9155139327049255,
          0.9912847280502319,
          0.9812691807746887,
          0.9812691807746887,
          0.9949776530265808,
          0.9949776530265808,
          0.9949776530265808,
          0.30849355459213257,
          0.9949776530265808,
          0.4858924150466919,
          0.9949776530265808,
          0.9949776530265808,
          0.9877589344978333,
          0.9912847280502319,
          0.9949776530265808,
          0.9949776530265808,
          0.9949776530265808,
          0.9928017854690552,
          0.9949776530265808,
          0.9877589344978333,
          0.9949776530265808,
          0.9960852861404419,
          0.9949776530265808,
          0.9949776530265808,
          0.9928017854690552,
          0.9949776530265808,
          0.9949776530265808,
          0.9949776530265808,
          0.9949776530265808,
          0.9912847280502319,
          0.9912847280502319,
          0.9949776530265808,
          0.9949776530265808,
          0.9928017854690552,
          0.9949776530265808,
          0.9949776530265808,
          0.9949776530265808,
          0.9949935078620911,
          0.9949776530265808,
          0.9949776530265808,
          0.9949776530265808,
          0.9949776530265808,
          0.9912847280502319,
          0.9912847280502319,
          0.9949776530265808,
          0.9949776530265808,
          0.9949776530265808,
          0.9949776530265808,
          0.9949935078620911,
          0.9949776530265808,
          0.9909676909446716,
          0.9949776530265808,
          0.9949776530265808,
          0.9949776530265808,
          0.4993610680103302,
          0.9949776530265808,
          0.9949776530265808,
          0.9912847280502319,
          0.9949776530265808,
          0.9949776530265808,
          0.9949776530265808,
          0.5227369666099548,
          0.9912847280502319,
          0.9899865984916687,
          0.9949776530265808,
          0.9949776530265808,
          0.9864001274108887,
          0.9949776530265808,
          0.9400070905685425,
          0.9877970814704895,
          0.9877589344978333,
          0.9949776530265808,
          0.991950273513794,
          0.9949776530265808,
          0.9949776530265808,
          0.9949776530265808,
          0.9949776530265808,
          0.9949776530265808,
          0.9899865984916687,
          0.9912847280502319,
          0.9949776530265808,
          0.9949776530265808,
          0.9949776530265808,
          0.9949776530265808,
          0.9734426736831665,
          0.9949776530265808,
          0.991950273513794,
          0.9949776530265808,
          0.9734426736831665,
          0.9949776530265808,
          0.9949776530265808,
          0.9983575940132141,
          0.9928017854690552,
          0.9167501926422119,
          0.991950273513794,
          0.9949776530265808,
          0.4993610680103302,
          0.9949776530265808,
          0.9928017854690552,
          0.9928017854690552,
          0.9949776530265808,
          0.9949776530265808,
          0.9949776530265808,
          0.9912847280502319,
          0.9949776530265808,
          0.9949776530265808,
          0.9912847280502319,
          0.38161787390708923,
          0.9949776530265808,
          0.9812691807746887,
          0.9912847280502319,
          0.9912847280502319,
          0.9949935078620911,
          0.9928017854690552,
          0.9949776530265808,
          0.9949776530265808,
          0.6453540921211243,
          0.9949776530265808,
          0.9949776530265808,
          0.9949776530265808,
          0.9949776530265808,
          0.9899865984916687,
          0.9812691807746887,
          0.9812691807746887,
          0.9949776530265808,
          0.9944156408309937,
          0.9949776530265808,
          0.6453540921211243,
          0.9983575940132141,
          0.9949935078620911,
          0.9734426736831665,
          0.9877589344978333,
          0.9949776530265808,
          0.9949776530265808,
          0.9949776530265808,
          0.9949935078620911,
          0.9949935078620911,
          0.9949776530265808,
          0.9949776530265808,
          0.9949776530265808,
          0.9949776530265808,
          0.9949776530265808,
          0.9949935078620911,
          0.4590708017349243,
          0.9949935078620911,
          0.9949776530265808,
          0.9949776530265808,
          0.9949776530265808,
          0.9949776530265808,
          0.9949776530265808,
          0.9877589344978333,
          0.9949935078620911,
          0.9899865984916687,
          0.9949776530265808,
          0.9949776530265808,
          0.9949776530265808,
          0.4993610680103302,
          0.9949776530265808,
          0.9949776530265808,
          0.9949776530265808,
          0.991950273513794,
          0.9912847280502319,
          0.9949776530265808,
          0.4168139696121216,
          0.9949776530265808,
          0.9983575940132141,
          0.9949776530265808,
          0.9949776530265808,
          0.9928017854690552,
          0.9912847280502319,
          0.9949776530265808,
          0.9944156408309937,
          0.9949776530265808,
          0.9909676909446716,
          0.9928017854690552,
          0.9949776530265808,
          0.9877589344978333,
          0.9877589344978333,
          0.9949776530265808,
          0.9949776530265808,
          0.991950273513794,
          0.4993610680103302,
          0.9949776530265808,
          0.9949776530265808,
          0.9949776530265808,
          0.9912847280502319,
          0.9912847280502319,
          0.991950273513794,
          0.9949776530265808,
          0.991950273513794,
          0.9949776530265808,
          0.9949776530265808,
          0.4993610680103302,
          0.9949776530265808,
          0.9877589344978333,
          0.9949776530265808,
          0.991950273513794,
          0.9949776530265808,
          0.9949776530265808,
          0.9949776530265808,
          0.9949776530265808,
          0.9949776530265808,
          0.9949776530265808,
          0.9949776530265808,
          0.9949776530265808,
          0.9899865984916687,
          0.9928017854690552,
          0.9949776530265808,
          0.9949776530265808,
          0.9877589344978333,
          0.9949776530265808,
          0.991950273513794,
          0.9944156408309937,
          0.9949776530265808,
          0.9928017854690552,
          0.9949776530265808,
          0.9812691807746887,
          0.9812691807746887,
          0.9949776530265808,
          0.9949935078620911,
          0.4993610680103302,
          0.9949776530265808,
          0.9949776530265808,
          0.9949776530265808,
          0.9949776530265808,
          0.9949776530265808,
          0.9912847280502319,
          0.9912847280502319,
          0.9949776530265808,
          0.9949935078620911,
          0.9949776530265808,
          0.4858924150466919,
          0.991950273513794,
          0.9912847280502319,
          0.9912847280502319,
          0.9400070905685425,
          0.9949776530265808,
          0.9949776530265808,
          0.9949776530265808,
          0.9949776530265808,
          0.9949776530265808,
          0.9912847280502319,
          0.9949776530265808,
          0.9949776530265808,
          0.4858924150466919,
          0.9774979948997498,
          0.9912847280502319,
          0.9944156408309937,
          0.9949776530265808,
          0.9949776530265808,
          0.9949776530265808,
          0.9949776530265808,
          0.9949776530265808,
          0.9928017854690552,
          0.9949776530265808,
          0.973313570022583,
          0.9949776530265808,
          0.9912847280502319,
          0.9949776530265808,
          0.9949935078620911,
          0.9949776530265808,
          0.9949776530265808,
          0.9949776530265808,
          0.9912847280502319,
          0.9949776530265808,
          0.9877589344978333,
          0.9877589344978333,
          0.991950273513794,
          0.9949776530265808,
          0.9812691807746887,
          0.9949935078620911,
          0.9944156408309937,
          0.9949776530265808,
          0.9949776530265808,
          0.9949776530265808,
          0.9949776530265808,
          0.9949776530265808,
          0.9949776530265808,
          0.9949776530265808,
          0.9949776530265808,
          0.9949776530265808,
          0.9949776530265808,
          0.38161787390708923,
          0.9949776530265808,
          0.9912847280502319,
          0.4858924150466919,
          0.9949776530265808,
          0.9949776530265808,
          0.9734426736831665,
          0.9949935078620911,
          0.9928017854690552,
          0.6453540921211243,
          0.9949776530265808,
          0.9949776530265808,
          0.9949776530265808,
          0.9949935078620911,
          0.9949776530265808,
          0.991950273513794,
          0.9949776530265808,
          0.9167501926422119,
          0.991950273513794,
          0.9949776530265808,
          0.4168139696121216,
          0.9899865984916687,
          0.9949776530265808,
          0.9949776530265808,
          0.9928017854690552,
          0.9912847280502319,
          0.9949776530265808,
          0.9949776530265808,
          0.9944156408309937,
          0.9928017854690552,
          0.9949776530265808,
          0.9983575940132141,
          0.9949776530265808,
          0.9949776530265808,
          0.9949776530265808,
          0.9949935078620911,
          0.9812691807746887,
          0.9949776530265808,
          0.9949935078620911,
          0.9949776530265808,
          0.9949776530265808,
          0.9949776530265808,
          0.9949776530265808,
          0.9587629437446594,
          0.9949776530265808,
          0.9944156408309937,
          0.988655686378479,
          0.9812691807746887,
          0.9812691807746887,
          0.991950273513794,
          0.9949776530265808,
          0.9949776530265808,
          0.9949776530265808,
          0.9949776530265808,
          0.4993610680103302,
          0.9949776530265808,
          0.9949776530265808,
          0.9949776530265808,
          0.9949776530265808,
          0.4858924150466919,
          0.9899865984916687,
          0.9949776530265808,
          0.9949776530265808,
          0.9949776530265808,
          0.9949776530265808,
          0.9949776530265808,
          0.9949776530265808,
          0.9949776530265808,
          0.9812691807746887,
          0.9960852861404419,
          0.9949776530265808,
          0.9919754862785339,
          0.9949776530265808,
          0.9949776530265808,
          0.9912847280502319
         ],
         "xaxis": "x",
         "yaxis": "y",
         "type": "histogram"
        }
       ],
       "layout": {
        "template": {
         "data": {
          "histogram2dcontour": [
           {
            "type": "histogram2dcontour",
            "colorbar": {
             "outlinewidth": 0,
             "ticks": ""
            },
            "colorscale": [
             [
              0.0,
              "#0d0887"
             ],
             [
              0.1111111111111111,
              "#46039f"
             ],
             [
              0.2222222222222222,
              "#7201a8"
             ],
             [
              0.3333333333333333,
              "#9c179e"
             ],
             [
              0.4444444444444444,
              "#bd3786"
             ],
             [
              0.5555555555555556,
              "#d8576b"
             ],
             [
              0.6666666666666666,
              "#ed7953"
             ],
             [
              0.7777777777777778,
              "#fb9f3a"
             ],
             [
              0.8888888888888888,
              "#fdca26"
             ],
             [
              1.0,
              "#f0f921"
             ]
            ]
           }
          ],
          "choropleth": [
           {
            "type": "choropleth",
            "colorbar": {
             "outlinewidth": 0,
             "ticks": ""
            }
           }
          ],
          "histogram2d": [
           {
            "type": "histogram2d",
            "colorbar": {
             "outlinewidth": 0,
             "ticks": ""
            },
            "colorscale": [
             [
              0.0,
              "#0d0887"
             ],
             [
              0.1111111111111111,
              "#46039f"
             ],
             [
              0.2222222222222222,
              "#7201a8"
             ],
             [
              0.3333333333333333,
              "#9c179e"
             ],
             [
              0.4444444444444444,
              "#bd3786"
             ],
             [
              0.5555555555555556,
              "#d8576b"
             ],
             [
              0.6666666666666666,
              "#ed7953"
             ],
             [
              0.7777777777777778,
              "#fb9f3a"
             ],
             [
              0.8888888888888888,
              "#fdca26"
             ],
             [
              1.0,
              "#f0f921"
             ]
            ]
           }
          ],
          "heatmap": [
           {
            "type": "heatmap",
            "colorbar": {
             "outlinewidth": 0,
             "ticks": ""
            },
            "colorscale": [
             [
              0.0,
              "#0d0887"
             ],
             [
              0.1111111111111111,
              "#46039f"
             ],
             [
              0.2222222222222222,
              "#7201a8"
             ],
             [
              0.3333333333333333,
              "#9c179e"
             ],
             [
              0.4444444444444444,
              "#bd3786"
             ],
             [
              0.5555555555555556,
              "#d8576b"
             ],
             [
              0.6666666666666666,
              "#ed7953"
             ],
             [
              0.7777777777777778,
              "#fb9f3a"
             ],
             [
              0.8888888888888888,
              "#fdca26"
             ],
             [
              1.0,
              "#f0f921"
             ]
            ]
           }
          ],
          "heatmapgl": [
           {
            "type": "heatmapgl",
            "colorbar": {
             "outlinewidth": 0,
             "ticks": ""
            },
            "colorscale": [
             [
              0.0,
              "#0d0887"
             ],
             [
              0.1111111111111111,
              "#46039f"
             ],
             [
              0.2222222222222222,
              "#7201a8"
             ],
             [
              0.3333333333333333,
              "#9c179e"
             ],
             [
              0.4444444444444444,
              "#bd3786"
             ],
             [
              0.5555555555555556,
              "#d8576b"
             ],
             [
              0.6666666666666666,
              "#ed7953"
             ],
             [
              0.7777777777777778,
              "#fb9f3a"
             ],
             [
              0.8888888888888888,
              "#fdca26"
             ],
             [
              1.0,
              "#f0f921"
             ]
            ]
           }
          ],
          "contourcarpet": [
           {
            "type": "contourcarpet",
            "colorbar": {
             "outlinewidth": 0,
             "ticks": ""
            }
           }
          ],
          "contour": [
           {
            "type": "contour",
            "colorbar": {
             "outlinewidth": 0,
             "ticks": ""
            },
            "colorscale": [
             [
              0.0,
              "#0d0887"
             ],
             [
              0.1111111111111111,
              "#46039f"
             ],
             [
              0.2222222222222222,
              "#7201a8"
             ],
             [
              0.3333333333333333,
              "#9c179e"
             ],
             [
              0.4444444444444444,
              "#bd3786"
             ],
             [
              0.5555555555555556,
              "#d8576b"
             ],
             [
              0.6666666666666666,
              "#ed7953"
             ],
             [
              0.7777777777777778,
              "#fb9f3a"
             ],
             [
              0.8888888888888888,
              "#fdca26"
             ],
             [
              1.0,
              "#f0f921"
             ]
            ]
           }
          ],
          "surface": [
           {
            "type": "surface",
            "colorbar": {
             "outlinewidth": 0,
             "ticks": ""
            },
            "colorscale": [
             [
              0.0,
              "#0d0887"
             ],
             [
              0.1111111111111111,
              "#46039f"
             ],
             [
              0.2222222222222222,
              "#7201a8"
             ],
             [
              0.3333333333333333,
              "#9c179e"
             ],
             [
              0.4444444444444444,
              "#bd3786"
             ],
             [
              0.5555555555555556,
              "#d8576b"
             ],
             [
              0.6666666666666666,
              "#ed7953"
             ],
             [
              0.7777777777777778,
              "#fb9f3a"
             ],
             [
              0.8888888888888888,
              "#fdca26"
             ],
             [
              1.0,
              "#f0f921"
             ]
            ]
           }
          ],
          "mesh3d": [
           {
            "type": "mesh3d",
            "colorbar": {
             "outlinewidth": 0,
             "ticks": ""
            }
           }
          ],
          "scatter": [
           {
            "marker": {
             "line": {
              "color": "#283442"
             }
            },
            "type": "scatter"
           }
          ],
          "parcoords": [
           {
            "type": "parcoords",
            "line": {
             "colorbar": {
              "outlinewidth": 0,
              "ticks": ""
             }
            }
           }
          ],
          "scatterpolargl": [
           {
            "type": "scatterpolargl",
            "marker": {
             "colorbar": {
              "outlinewidth": 0,
              "ticks": ""
             }
            }
           }
          ],
          "bar": [
           {
            "error_x": {
             "color": "#f2f5fa"
            },
            "error_y": {
             "color": "#f2f5fa"
            },
            "marker": {
             "line": {
              "color": "rgb(17,17,17)",
              "width": 0.5
             },
             "pattern": {
              "fillmode": "overlay",
              "size": 10,
              "solidity": 0.2
             }
            },
            "type": "bar"
           }
          ],
          "scattergeo": [
           {
            "type": "scattergeo",
            "marker": {
             "colorbar": {
              "outlinewidth": 0,
              "ticks": ""
             }
            }
           }
          ],
          "scatterpolar": [
           {
            "type": "scatterpolar",
            "marker": {
             "colorbar": {
              "outlinewidth": 0,
              "ticks": ""
             }
            }
           }
          ],
          "histogram": [
           {
            "marker": {
             "pattern": {
              "fillmode": "overlay",
              "size": 10,
              "solidity": 0.2
             }
            },
            "type": "histogram"
           }
          ],
          "scattergl": [
           {
            "marker": {
             "line": {
              "color": "#283442"
             }
            },
            "type": "scattergl"
           }
          ],
          "scatter3d": [
           {
            "type": "scatter3d",
            "line": {
             "colorbar": {
              "outlinewidth": 0,
              "ticks": ""
             }
            },
            "marker": {
             "colorbar": {
              "outlinewidth": 0,
              "ticks": ""
             }
            }
           }
          ],
          "scattermapbox": [
           {
            "type": "scattermapbox",
            "marker": {
             "colorbar": {
              "outlinewidth": 0,
              "ticks": ""
             }
            }
           }
          ],
          "scatterternary": [
           {
            "type": "scatterternary",
            "marker": {
             "colorbar": {
              "outlinewidth": 0,
              "ticks": ""
             }
            }
           }
          ],
          "scattercarpet": [
           {
            "type": "scattercarpet",
            "marker": {
             "colorbar": {
              "outlinewidth": 0,
              "ticks": ""
             }
            }
           }
          ],
          "carpet": [
           {
            "aaxis": {
             "endlinecolor": "#A2B1C6",
             "gridcolor": "#506784",
             "linecolor": "#506784",
             "minorgridcolor": "#506784",
             "startlinecolor": "#A2B1C6"
            },
            "baxis": {
             "endlinecolor": "#A2B1C6",
             "gridcolor": "#506784",
             "linecolor": "#506784",
             "minorgridcolor": "#506784",
             "startlinecolor": "#A2B1C6"
            },
            "type": "carpet"
           }
          ],
          "table": [
           {
            "cells": {
             "fill": {
              "color": "#506784"
             },
             "line": {
              "color": "rgb(17,17,17)"
             }
            },
            "header": {
             "fill": {
              "color": "#2a3f5f"
             },
             "line": {
              "color": "rgb(17,17,17)"
             }
            },
            "type": "table"
           }
          ],
          "barpolar": [
           {
            "marker": {
             "line": {
              "color": "rgb(17,17,17)",
              "width": 0.5
             },
             "pattern": {
              "fillmode": "overlay",
              "size": 10,
              "solidity": 0.2
             }
            },
            "type": "barpolar"
           }
          ],
          "pie": [
           {
            "automargin": true,
            "type": "pie"
           }
          ]
         },
         "layout": {
          "autotypenumbers": "strict",
          "colorway": [
           "#636efa",
           "#EF553B",
           "#00cc96",
           "#ab63fa",
           "#FFA15A",
           "#19d3f3",
           "#FF6692",
           "#B6E880",
           "#FF97FF",
           "#FECB52"
          ],
          "font": {
           "color": "#f2f5fa"
          },
          "hovermode": "closest",
          "hoverlabel": {
           "align": "left"
          },
          "paper_bgcolor": "rgb(17,17,17)",
          "plot_bgcolor": "rgb(17,17,17)",
          "polar": {
           "bgcolor": "rgb(17,17,17)",
           "angularaxis": {
            "gridcolor": "#506784",
            "linecolor": "#506784",
            "ticks": ""
           },
           "radialaxis": {
            "gridcolor": "#506784",
            "linecolor": "#506784",
            "ticks": ""
           }
          },
          "ternary": {
           "bgcolor": "rgb(17,17,17)",
           "aaxis": {
            "gridcolor": "#506784",
            "linecolor": "#506784",
            "ticks": ""
           },
           "baxis": {
            "gridcolor": "#506784",
            "linecolor": "#506784",
            "ticks": ""
           },
           "caxis": {
            "gridcolor": "#506784",
            "linecolor": "#506784",
            "ticks": ""
           }
          },
          "coloraxis": {
           "colorbar": {
            "outlinewidth": 0,
            "ticks": ""
           }
          },
          "colorscale": {
           "sequential": [
            [
             0.0,
             "#0d0887"
            ],
            [
             0.1111111111111111,
             "#46039f"
            ],
            [
             0.2222222222222222,
             "#7201a8"
            ],
            [
             0.3333333333333333,
             "#9c179e"
            ],
            [
             0.4444444444444444,
             "#bd3786"
            ],
            [
             0.5555555555555556,
             "#d8576b"
            ],
            [
             0.6666666666666666,
             "#ed7953"
            ],
            [
             0.7777777777777778,
             "#fb9f3a"
            ],
            [
             0.8888888888888888,
             "#fdca26"
            ],
            [
             1.0,
             "#f0f921"
            ]
           ],
           "sequentialminus": [
            [
             0.0,
             "#0d0887"
            ],
            [
             0.1111111111111111,
             "#46039f"
            ],
            [
             0.2222222222222222,
             "#7201a8"
            ],
            [
             0.3333333333333333,
             "#9c179e"
            ],
            [
             0.4444444444444444,
             "#bd3786"
            ],
            [
             0.5555555555555556,
             "#d8576b"
            ],
            [
             0.6666666666666666,
             "#ed7953"
            ],
            [
             0.7777777777777778,
             "#fb9f3a"
            ],
            [
             0.8888888888888888,
             "#fdca26"
            ],
            [
             1.0,
             "#f0f921"
            ]
           ],
           "diverging": [
            [
             0,
             "#8e0152"
            ],
            [
             0.1,
             "#c51b7d"
            ],
            [
             0.2,
             "#de77ae"
            ],
            [
             0.3,
             "#f1b6da"
            ],
            [
             0.4,
             "#fde0ef"
            ],
            [
             0.5,
             "#f7f7f7"
            ],
            [
             0.6,
             "#e6f5d0"
            ],
            [
             0.7,
             "#b8e186"
            ],
            [
             0.8,
             "#7fbc41"
            ],
            [
             0.9,
             "#4d9221"
            ],
            [
             1,
             "#276419"
            ]
           ]
          },
          "xaxis": {
           "gridcolor": "#283442",
           "linecolor": "#506784",
           "ticks": "",
           "title": {
            "standoff": 15
           },
           "zerolinecolor": "#283442",
           "automargin": true,
           "zerolinewidth": 2
          },
          "yaxis": {
           "gridcolor": "#283442",
           "linecolor": "#506784",
           "ticks": "",
           "title": {
            "standoff": 15
           },
           "zerolinecolor": "#283442",
           "automargin": true,
           "zerolinewidth": 2
          },
          "scene": {
           "xaxis": {
            "backgroundcolor": "rgb(17,17,17)",
            "gridcolor": "#506784",
            "linecolor": "#506784",
            "showbackground": true,
            "ticks": "",
            "zerolinecolor": "#C8D4E3",
            "gridwidth": 2
           },
           "yaxis": {
            "backgroundcolor": "rgb(17,17,17)",
            "gridcolor": "#506784",
            "linecolor": "#506784",
            "showbackground": true,
            "ticks": "",
            "zerolinecolor": "#C8D4E3",
            "gridwidth": 2
           },
           "zaxis": {
            "backgroundcolor": "rgb(17,17,17)",
            "gridcolor": "#506784",
            "linecolor": "#506784",
            "showbackground": true,
            "ticks": "",
            "zerolinecolor": "#C8D4E3",
            "gridwidth": 2
           }
          },
          "shapedefaults": {
           "line": {
            "color": "#f2f5fa"
           }
          },
          "annotationdefaults": {
           "arrowcolor": "#f2f5fa",
           "arrowhead": 0,
           "arrowwidth": 1
          },
          "geo": {
           "bgcolor": "rgb(17,17,17)",
           "landcolor": "rgb(17,17,17)",
           "subunitcolor": "#506784",
           "showland": true,
           "showlakes": true,
           "lakecolor": "rgb(17,17,17)"
          },
          "title": {
           "x": 0.05
          },
          "updatemenudefaults": {
           "bgcolor": "#506784",
           "borderwidth": 0
          },
          "sliderdefaults": {
           "bgcolor": "#C8D4E3",
           "borderwidth": 1,
           "bordercolor": "rgb(17,17,17)",
           "tickwidth": 0
          },
          "mapbox": {
           "style": "dark"
          }
         }
        },
        "xaxis": {
         "anchor": "y",
         "domain": [
          0.0,
          1.0
         ],
         "title": {
          "text": "value"
         }
        },
        "yaxis": {
         "anchor": "x",
         "domain": [
          0.0,
          1.0
         ],
         "title": {
          "text": "count"
         }
        },
        "legend": {
         "title": {
          "text": "variable"
         },
         "tracegroupgap": 0
        },
        "margin": {
         "t": 60
        },
        "barmode": "relative"
       },
       "config": {
        "plotlyServerURL": "https://plot.ly"
       }
      },
      "text/html": [
       "<div>                            <div id=\"3e09d9c6-e134-4d6b-a76f-7c853bf31c6e\" class=\"plotly-graph-div\" style=\"height:525px; width:100%;\"></div>            <script type=\"text/javascript\">                require([\"plotly\"], function(Plotly) {                    window.PLOTLYENV=window.PLOTLYENV || {};                                    if (document.getElementById(\"3e09d9c6-e134-4d6b-a76f-7c853bf31c6e\")) {                    Plotly.newPlot(                        \"3e09d9c6-e134-4d6b-a76f-7c853bf31c6e\",                        [{\"alignmentgroup\":\"True\",\"bingroup\":\"x\",\"hovertemplate\":\"variable=Likelihood of a Late Return\\u003cbr\\u003evalue=%{x}\\u003cbr\\u003ecount=%{y}\\u003cextra\\u003e\\u003c\\u002fextra\\u003e\",\"legendgroup\":\"Likelihood of a Late Return\",\"marker\":{\"color\":\"#636efa\",\"pattern\":{\"shape\":\"\"}},\"name\":\"Likelihood of a Late Return\",\"offsetgroup\":\"Likelihood of a Late Return\",\"orientation\":\"v\",\"showlegend\":true,\"x\":[0.9949776530265808,0.9812691807746887,0.9944156408309937,0.9949935078620911,0.9949776530265808,0.9949776530265808,0.9949935078620911,0.9949776530265808,0.9949776530265808,0.9949776530265808,0.9949776530265808,0.9949776530265808,0.9949776530265808,0.9949776530265808,0.9812691807746887,0.9949776530265808,0.9949776530265808,0.9949776530265808,0.9912847280502319,0.9949776530265808,0.9949776530265808,0.9883856773376465,0.9949776530265808,0.9912847280502319,0.9949776530265808,0.9949776530265808,0.9899865984916687,0.9949776530265808,0.991950273513794,0.9949776530265808,0.9949776530265808,0.9949776530265808,0.4993610680103302,0.9877589344978333,0.9949776530265808,0.9877589344978333,0.9928017854690552,0.9877589344978333,0.6453540921211243,0.9949776530265808,0.9949776530265808,0.9949935078620911,0.9949776530265808,0.9949776530265808,0.9949776530265808,0.9912847280502319,0.38161787390708923,0.9928017854690552,0.9949776530265808,0.9949776530265808,0.991950273513794,0.9949776530265808,0.9167501926422119,0.9949776530265808,0.9899865984916687,0.9949776530265808,0.9877589344978333,0.9949776530265808,0.9839678406715393,0.9912847280502319,0.6453540921211243,0.997963547706604,0.9949776530265808,0.9949776530265808,0.9949935078620911,0.9949776530265808,0.9949776530265808,0.9912847280502319,0.4858924150466919,0.9949776530265808,0.9949776530265808,0.9949776530265808,0.9949776530265808,0.9949776530265808,0.9949776530265808,0.9949776530265808,0.9949776530265808,0.9949776530265808,0.9949776530265808,0.4858924150466919,0.9949776530265808,0.9949776530265808,0.9949776530265808,0.9949776530265808,0.9944156408309937,0.9812691807746887,0.988655686378479,0.9949776530265808,0.9912847280502319,0.9949776530265808,0.9949776530265808,0.9812691807746887,0.9949776530265808,0.9949776530265808,0.9812691807746887,0.9949776530265808,0.9949776530265808,0.9949776530265808,0.9812691807746887,0.4858924150466919,0.9949776530265808,0.9949776530265808,0.4858924150466919,0.9928017854690552,0.9949776530265808,0.9949776530265808,0.9949776530265808,0.9912847280502319,0.991950273513794,0.9912847280502319,0.9912847280502319,0.9912847280502319,0.9949776530265808,0.988655686378479,0.9949776530265808,0.9949776530265808,0.9949776530265808,0.9949776530265808,0.9949776530265808,0.9944156408309937,0.9949776530265808,0.5227369666099548,0.9812691807746887,0.9812691807746887,0.9949776530265808,0.9912847280502319,0.9949776530265808,0.9912847280502319,0.9912847280502319,0.9949776530265808,0.9949776530265808,0.9949776530265808,0.9949776530265808,0.9949776530265808,0.9949776530265808,0.4993610680103302,0.9949776530265808,0.9949776530265808,0.9949776530265808,0.9949776530265808,0.9949776530265808,0.9949776530265808,0.9949776530265808,0.9734426736831665,0.9912847280502319,0.9960852861404419,0.991950273513794,0.9949776530265808,0.9949776530265808,0.5227369666099548,0.9949776530265808,0.9949776530265808,0.9877589344978333,0.9812691807746887,0.9949776530265808,0.9949776530265808,0.9949935078620911,0.9949776530265808,0.9877589344978333,0.9949776530265808,0.9949776530265808,0.9949776530265808,0.9812691807746887,0.9949776530265808,0.9949776530265808,0.9949935078620911,0.9944156408309937,0.991950273513794,0.9949776530265808,0.9949776530265808,0.9877589344978333,0.9949776530265808,0.9899865984916687,0.9949776530265808,0.9912847280502319,0.9949776530265808,0.9949776530265808,0.38161787390708923,0.9949776530265808,0.9949776530265808,0.9928017854690552,0.9949776530265808,0.9949776530265808,0.9949776530265808,0.9949776530265808,0.9949776530265808,0.9949776530265808,0.9949776530265808,0.9949776530265808,0.9899865984916687,0.4993610680103302,0.991950273513794,0.9949776530265808,0.9949776530265808,0.9949776530265808,0.9949776530265808,0.9949776530265808,0.4993610680103302,0.991950273513794,0.9877589344978333,0.9812691807746887,0.9587629437446594,0.9949935078620911,0.4993610680103302,0.9949776530265808,0.9949776530265808,0.9949776530265808,0.9949776530265808,0.9949776530265808,0.991950273513794,0.9949776530265808,0.9949776530265808,0.9877589344978333,0.9877589344978333,0.9949776530265808,0.9949776530265808,0.9812691807746887,0.3053456246852875,0.9949776530265808,0.9949776530265808,0.991950273513794,0.9949776530265808,0.9949776530265808,0.9949776530265808,0.9928017854690552,0.9949776530265808,0.9949776530265808,0.9949776530265808,0.9877970814704895,0.9949776530265808,0.38161787390708923,0.9949776530265808,0.9949776530265808,0.9949776530265808,0.9928017854690552,0.9949935078620911,0.9812691807746887,0.9949776530265808,0.9949776530265808,0.9949776530265808,0.9928017854690552,0.9812691807746887,0.9949776530265808,0.9944156408309937,0.9949776530265808,0.9949776530265808,0.9400070905685425,0.991950273513794,0.9949776530265808,0.9812691807746887,0.9949776530265808,0.9949776530265808,0.9899865984916687,0.991950273513794,0.9949776530265808,0.991950273513794,0.4993610680103302,0.9949776530265808,0.9812691807746887,0.9949776530265808,0.9949776530265808,0.9949776530265808,0.9812691807746887,0.9949776530265808,0.9944156408309937,0.9912847280502319,0.991950273513794,0.40520337224006653,0.9928017854690552,0.9949776530265808,0.9949776530265808,0.9949776530265808,0.9949776530265808,0.9949776530265808,0.9864001274108887,0.991950273513794,0.9949776530265808,0.9949776530265808,0.991950273513794,0.9949776530265808,0.9949776530265808,0.9949776530265808,0.9949776530265808,0.9949776530265808,0.9949776530265808,0.9812691807746887,0.9877589344978333,0.9949776530265808,0.9949776530265808,0.9912847280502319,0.9949776530265808,0.997963547706604,0.9928017854690552,0.9949776530265808,0.9949776530265808,0.9949776530265808,0.9949776530265808,0.9757686853408813,0.9774979948997498,0.9949776530265808,0.9949776530265808,0.9949776530265808,0.9949776530265808,0.9928017854690552,0.9909676909446716,0.9757686853408813,0.6453540921211243,0.9912847280502319,0.6453540921211243,0.9949776530265808,0.9949776530265808,0.9949776530265808,0.9949776530265808,0.4993610680103302,0.9949776530265808,0.9455402493476868,0.9949776530265808,0.9928017854690552,0.9949776530265808,0.9949776530265808,0.9949776530265808,0.991950273513794,0.9949776530265808,0.9949776530265808,0.9949776530265808,0.9949776530265808,0.9949776530265808,0.9949776530265808,0.9949935078620911,0.9949776530265808,0.9949776530265808,0.9949776530265808,0.9949776530265808,0.9949776530265808,0.9949776530265808,0.9912847280502319,0.9812691807746887,0.9949776530265808,0.9949776530265808,0.991950273513794,0.9949776530265808,0.9949935078620911,0.9455402493476868,0.9949935078620911,0.9912847280502319,0.991950273513794,0.9949776530265808,0.9812691807746887,0.9928017854690552,0.9949776530265808,0.9912847280502319,0.9949776530265808,0.9949776530265808,0.9812691807746887,0.9928017854690552,0.9949776530265808,0.9949776530265808,0.9949776530265808,0.9812691807746887,0.9912847280502319,0.9944156408309937,0.9949776530265808,0.9734426736831665,0.9949776530265808,0.9949776530265808,0.9949776530265808,0.5227369666099548,0.9949776530265808,0.991950273513794,0.9812691807746887,0.9899865984916687,0.9912847280502319,0.9949776530265808,0.9949776530265808,0.9949776530265808,0.9944156408309937,0.9877589344978333,0.9812691807746887,0.9912847280502319,0.9949776530265808,0.9949935078620911,0.9949776530265808,0.9960852861404419,0.9949776530265808,0.991950273513794,0.9812691807746887,0.9949776530265808,0.9944156408309937,0.9949935078620911,0.9949776530265808,0.9928017854690552,0.9949776530265808,0.9912847280502319,0.9949776530265808,0.4326333701610565,0.9912847280502319,0.9949776530265808,0.9949776530265808,0.38161787390708923,0.9455402493476868,0.9949776530265808,0.9949776530265808,0.9928017854690552,0.9949776530265808,0.9944156408309937,0.9949776530265808,0.9949776530265808,0.9949776530265808,0.9877589344978333,0.9928017854690552,0.9949776530265808,0.9949935078620911,0.9912847280502319,0.9960852861404419,0.9949776530265808,0.9949776530265808,0.9912847280502319,0.9167501926422119,0.4858924150466919,0.9928017854690552,0.9949776530265808,0.9949776530265808,0.9949776530265808,0.9949776530265808,0.9949776530265808,0.9812691807746887,0.9949776530265808,0.9912847280502319,0.9949776530265808,0.9812691807746887,0.9949776530265808,0.9949935078620911,0.9949776530265808,0.9912847280502319,0.9455402493476868,0.9949776530265808,0.45405474305152893,0.9877589344978333,0.9949776530265808,0.9812691807746887,0.9949776530265808,0.9949776530265808,0.9949776530265808,0.9949776530265808,0.9912847280502319,0.9949776530265808,0.9928017854690552,0.9587629437446594,0.9949935078620911,0.9949776530265808,0.9899865984916687,0.9899865984916687,0.991950273513794,0.9949776530265808,0.9949776530265808,0.9812691807746887,0.9949776530265808,0.9949935078620911,0.9949776530265808,0.9877589344978333,0.9912847280502319,0.9949776530265808,0.9877589344978333,0.9877589344978333,0.9949776530265808,0.9949776530265808,0.9877589344978333,0.9912847280502319,0.9949935078620911,0.973313570022583,0.9949776530265808,0.9949776530265808,0.9949776530265808,0.9949776530265808,0.9949776530265808,0.9812691807746887,0.9949776530265808,0.9949776530265808,0.9877589344978333,0.9928017854690552,0.9949776530265808,0.9912847280502319,0.9949776530265808,0.9949776530265808,0.9912847280502319,0.6453540921211243,0.9949776530265808,0.9877589344978333,0.9949776530265808,0.9400070905685425,0.9949776530265808,0.9949776530265808,0.973313570022583,0.9949776530265808,0.9899865984916687,0.9949776530265808,0.9949776530265808,0.9949776530265808,0.9983575940132141,0.38161787390708923,0.9949776530265808,0.9949935078620911,0.9949776530265808,0.991950273513794,0.4858924150466919,0.9949776530265808,0.9949776530265808,0.9949776530265808,0.9877589344978333,0.9734426736831665,0.991950273513794,0.9949776530265808,0.9949776530265808,0.9949776530265808,0.9949776530265808,0.9949776530265808,0.9949776530265808,0.9949776530265808,0.9949935078620911,0.9949776530265808,0.9949935078620911,0.9949776530265808,0.5227369666099548,0.9949776530265808,0.9949776530265808,0.9949935078620911,0.9949776530265808,0.9949935078620911,0.9949776530265808,0.9949776530265808,0.9949776530265808,0.9949776530265808,0.9400070905685425,0.9949776530265808,0.9949776530265808,0.9949776530265808,0.9949776530265808,0.9912847280502319,0.9944156408309937,0.9812691807746887,0.9928017854690552,0.9949776530265808,0.9949776530265808,0.9928017854690552,0.9949776530265808,0.9949776530265808,0.9949776530265808,0.9912847280502319,0.9949776530265808,0.9949776530265808,0.9949776530265808,0.9949776530265808,0.9949776530265808,0.9949776530265808,0.9949776530265808,0.9990832805633545,0.9949776530265808,0.9949776530265808,0.9949935078620911,0.9949935078620911,0.991950273513794,0.9877589344978333,0.9949776530265808,0.9949776530265808,0.9949776530265808,0.9949776530265808,0.9949776530265808,0.9812691807746887,0.9949776530265808,0.9949776530265808,0.9919754862785339,0.9949776530265808,0.9949776530265808,0.9883856773376465,0.9949776530265808,0.9949776530265808,0.9455402493476868,0.9949776530265808,0.997963547706604,0.9949776530265808,0.9774979948997498,0.9877589344978333,0.9949776530265808,0.9949776530265808,0.9949776530265808,0.9949776530265808,0.9949776530265808,0.9877589344978333,0.9949776530265808,0.9949776530265808,0.9949776530265808,0.991950273513794,0.9912847280502319,0.9949776530265808,0.9877589344978333,0.9949776530265808,0.9949776530265808,0.9949776530265808,0.9949776530265808,0.9167501926422119,0.9949776530265808,0.9949776530265808,0.9912847280502319,0.9949776530265808,0.9949776530265808,0.9949776530265808,0.9912847280502319,0.9949776530265808,0.9949776530265808,0.9949776530265808,0.9928017854690552,0.9949776530265808,0.9949776530265808,0.9949776530265808,0.9949776530265808,0.9949776530265808,0.991950273513794,0.4993610680103302,0.9899865984916687,0.9949776530265808,0.9949776530265808,0.9877589344978333,0.9757686853408813,0.9949776530265808,0.991950273513794,0.9912847280502319,0.9877589344978333,0.9949776530265808,0.9949776530265808,0.9949776530265808,0.9781121611595154,0.9912847280502319,0.9949776530265808,0.9949776530265808,0.9944156408309937,0.991950273513794,0.9949935078620911,0.9949776530265808,0.7212249040603638,0.9949776530265808,0.9949776530265808,0.9912847280502319,0.9812691807746887,0.991950273513794,0.9949776530265808,0.991950273513794,0.9949776530265808,0.9949776530265808,0.9455402493476868,0.991950273513794,0.9167501926422119,0.4993610680103302,0.4993610680103302,0.9949776530265808,0.9949776530265808,0.9812691807746887,0.9949776530265808,0.9949776530265808,0.9949776530265808,0.9949776530265808,0.973313570022583,0.9949776530265808,0.9912847280502319,0.9949935078620911,0.9928017854690552,0.9944156408309937,0.9912847280502319,0.9949935078620911,0.9949776530265808,0.9949776530265808,0.9949935078620911,0.9949776530265808,0.9949776530265808,0.9949776530265808,0.9949776530265808,0.9877589344978333,0.4993610680103302,0.9949776530265808,0.9734426736831665,0.9812691807746887,0.991950273513794,0.9912847280502319,0.9949776530265808,0.9949776530265808,0.9949776530265808,0.9949776530265808,0.9949776530265808,0.9949776530265808,0.9912847280502319,0.9949776530265808,0.4993610680103302,0.9949776530265808,0.9812691807746887,0.9949776530265808,0.9949776530265808,0.9949935078620911,0.9949776530265808,0.9949776530265808,0.9949776530265808,0.9899865984916687,0.9949776530265808,0.9949935078620911,0.9774979948997498,0.4993610680103302,0.9949776530265808,0.9877589344978333,0.991950273513794,0.9949776530265808,0.9949776530265808,0.9944156408309937,0.9949776530265808,0.9949776530265808,0.9983575940132141,0.9949776530265808,0.9949776530265808,0.9949776530265808,0.9949776530265808,0.9928017854690552,0.9949776530265808,0.9734426736831665,0.9912847280502319,0.9877589344978333,0.9990832805633545,0.9912847280502319,0.9949776530265808,0.9877589344978333,0.9949776530265808,0.9812691807746887,0.9912847280502319,0.9928017854690552,0.9949776530265808,0.9949776530265808,0.9949776530265808,0.9919754862785339,0.9949776530265808,0.9734426736831665,0.4858924150466919,0.9949776530265808,0.9949776530265808,0.9949776530265808,0.9949776530265808,0.9949776530265808,0.9949776530265808,0.9949776530265808,0.9949776530265808,0.9812691807746887,0.4858924150466919,0.9949776530265808,0.9949776530265808,0.9949935078620911,0.9949776530265808,0.9949776530265808,0.9587629437446594,0.9949776530265808,0.9949776530265808,0.9912847280502319,0.9928017854690552,0.9949776530265808,0.9949776530265808,0.9949776530265808,0.9877589344978333,0.9949776530265808,0.9400070905685425,0.9949776530265808,0.4993610680103302,0.9899865984916687,0.991950273513794,0.9949776530265808,0.4858924150466919,0.9949776530265808,0.9949776530265808,0.9949776530265808,0.9949776530265808,0.9949776530265808,0.38161787390708923,0.9949776530265808,0.9949776530265808,0.9949776530265808,0.991950273513794,0.9949776530265808,0.9877589344978333,0.9734426736831665,0.9949776530265808,0.4858924150466919,0.9949776530265808,0.4993610680103302,0.9949776530265808,0.9949776530265808,0.9949776530265808,0.9877589344978333,0.9928017854690552,0.9949776530265808,0.9949776530265808,0.9949776530265808,0.9949776530265808,0.9949776530265808,0.9949776530265808,0.991950273513794,0.9949776530265808,0.991950273513794,0.991950273513794,0.6555362939834595,0.30849355459213257,0.9949776530265808,0.9949776530265808,0.9949776530265808,0.9949776530265808,0.9949776530265808,0.9949776530265808,0.9949776530265808,0.9949935078620911,0.9949776530265808,0.9949776530265808,0.9949776530265808,0.9949776530265808,0.9949776530265808,0.9949776530265808,0.9949776530265808,0.9949776530265808,0.9928017854690552,0.9949776530265808,0.9949776530265808,0.9949776530265808,0.9949776530265808,0.9949776530265808,0.4858924150466919,0.9949776530265808,0.9944156408309937,0.9949776530265808,0.9949776530265808,0.9949776530265808,0.9949776530265808,0.9912847280502319,0.991950273513794,0.9949776530265808,0.9949776530265808,0.9949776530265808,0.991950273513794,0.9944156408309937,0.9949776530265808,0.9949776530265808,0.9949776530265808,0.9949935078620911,0.9949776530265808,0.4993610680103302,0.9949776530265808,0.6453540921211243,0.9949935078620911,0.9877589344978333,0.9949776530265808,0.9912847280502319,0.9949776530265808,0.9912847280502319,0.9949776530265808,0.9949776530265808,0.4993610680103302,0.9949776530265808,0.9949776530265808,0.991950273513794,0.4993610680103302,0.9949776530265808,0.9949776530265808,0.991950273513794,0.9949935078620911,0.9949776530265808,0.9949776530265808,0.9949776530265808,0.4858924150466919,0.9812691807746887,0.9949776530265808,0.9928017854690552,0.9949776530265808,0.9912847280502319,0.9949776530265808,0.9949776530265808,0.9949776530265808,0.9928017854690552,0.9949776530265808,0.9877589344978333,0.9949776530265808,0.9949776530265808,0.9949776530265808,0.9949935078620911,0.9882832169532776,0.9899865984916687,0.9757686853408813,0.9949776530265808,0.9912847280502319,0.9949776530265808,0.5227369666099548,0.9949776530265808,0.9949776530265808,0.9949776530265808,0.9960852861404419,0.9949776530265808,0.9949776530265808,0.4993610680103302,0.9960852861404419,0.9949776530265808,0.9944156408309937,0.9949776530265808,0.9812691807746887,0.9949776530265808,0.9949776530265808,0.9949776530265808,0.9587629437446594,0.991950273513794,0.9587629437446594,0.5227369666099548,0.9949776530265808,0.9949776530265808,0.9928017854690552,0.991950273513794,0.9949776530265808,0.9949776530265808,0.9899865984916687,0.9877589344978333,0.9949776530265808,0.9949776530265808,0.9949776530265808,0.9949776530265808,0.9949776530265808,0.9812691807746887,0.9949776530265808,0.9949776530265808,0.9949776530265808,0.38161787390708923,0.9949776530265808,0.9949776530265808,0.9877589344978333,0.9949776530265808,0.9949776530265808,0.9949776530265808,0.9912847280502319,0.9949776530265808,0.973313570022583,0.9949776530265808,0.9400070905685425,0.9949776530265808,0.991950273513794,0.9949776530265808,0.9949776530265808,0.9949776530265808,0.9928017854690552,0.9949776530265808,0.9912847280502319,0.9949776530265808,0.9912847280502319,0.38161787390708923,0.9812691807746887,0.9812691807746887,0.38161787390708923,0.4993610680103302,0.9949776530265808,0.4993610680103302,0.38161787390708923,0.9949776530265808,0.9949776530265808,0.9949776530265808,0.9949935078620911,0.9949776530265808,0.9949776530265808,0.9949776530265808,0.4858924150466919,0.9949776530265808,0.991950273513794,0.9949776530265808,0.9912847280502319,0.9949776530265808,0.9912847280502319,0.9949776530265808,0.9877589344978333,0.9909676909446716,0.9949776530265808,0.4858924150466919,0.9949776530265808,0.9949776530265808,0.9949776530265808,0.9949776530265808,0.9949935078620911,0.9949776530265808,0.9949776530265808,0.9949776530265808,0.9949776530265808,0.9949776530265808,0.9812691807746887,0.9949935078620911,0.9949776530265808,0.991950273513794,0.9949776530265808,0.9949776530265808,0.9949776530265808,0.9949776530265808,0.9877589344978333,0.9949776530265808,0.997963547706604,0.9949935078620911,0.9949776530265808,0.9912847280502319,0.9912847280502319,0.991950273513794,0.9949776530265808,0.9949776530265808,0.9928017854690552,0.9990832805633545,0.9877228736877441,0.991950273513794,0.9928017854690552,0.9949776530265808,0.9949935078620911,0.9983575940132141,0.9949776530265808,0.9949776530265808,0.9928017854690552,0.9949776530265808,0.9949776530265808,0.9877589344978333,0.9812691807746887,0.9949776530265808,0.9949776530265808,0.9949776530265808,0.9877589344978333,0.9949776530265808,0.9812691807746887,0.9155139327049255,0.9949776530265808,0.991950273513794,0.9949776530265808,0.9949776530265808,0.9949776530265808,0.9877228736877441,0.9949776530265808,0.9949776530265808,0.9928017854690552,0.9949935078620911,0.9912847280502319,0.991950273513794,0.9812691807746887,0.9949776530265808,0.9949776530265808,0.9949776530265808,0.9155139327049255,0.9912847280502319,0.9812691807746887,0.9812691807746887,0.9949776530265808,0.9949776530265808,0.9949776530265808,0.30849355459213257,0.9949776530265808,0.4858924150466919,0.9949776530265808,0.9949776530265808,0.9877589344978333,0.9912847280502319,0.9949776530265808,0.9949776530265808,0.9949776530265808,0.9928017854690552,0.9949776530265808,0.9877589344978333,0.9949776530265808,0.9960852861404419,0.9949776530265808,0.9949776530265808,0.9928017854690552,0.9949776530265808,0.9949776530265808,0.9949776530265808,0.9949776530265808,0.9912847280502319,0.9912847280502319,0.9949776530265808,0.9949776530265808,0.9928017854690552,0.9949776530265808,0.9949776530265808,0.9949776530265808,0.9949935078620911,0.9949776530265808,0.9949776530265808,0.9949776530265808,0.9949776530265808,0.9912847280502319,0.9912847280502319,0.9949776530265808,0.9949776530265808,0.9949776530265808,0.9949776530265808,0.9949935078620911,0.9949776530265808,0.9909676909446716,0.9949776530265808,0.9949776530265808,0.9949776530265808,0.4993610680103302,0.9949776530265808,0.9949776530265808,0.9912847280502319,0.9949776530265808,0.9949776530265808,0.9949776530265808,0.5227369666099548,0.9912847280502319,0.9899865984916687,0.9949776530265808,0.9949776530265808,0.9864001274108887,0.9949776530265808,0.9400070905685425,0.9877970814704895,0.9877589344978333,0.9949776530265808,0.991950273513794,0.9949776530265808,0.9949776530265808,0.9949776530265808,0.9949776530265808,0.9949776530265808,0.9899865984916687,0.9912847280502319,0.9949776530265808,0.9949776530265808,0.9949776530265808,0.9949776530265808,0.9734426736831665,0.9949776530265808,0.991950273513794,0.9949776530265808,0.9734426736831665,0.9949776530265808,0.9949776530265808,0.9983575940132141,0.9928017854690552,0.9167501926422119,0.991950273513794,0.9949776530265808,0.4993610680103302,0.9949776530265808,0.9928017854690552,0.9928017854690552,0.9949776530265808,0.9949776530265808,0.9949776530265808,0.9912847280502319,0.9949776530265808,0.9949776530265808,0.9912847280502319,0.38161787390708923,0.9949776530265808,0.9812691807746887,0.9912847280502319,0.9912847280502319,0.9949935078620911,0.9928017854690552,0.9949776530265808,0.9949776530265808,0.6453540921211243,0.9949776530265808,0.9949776530265808,0.9949776530265808,0.9949776530265808,0.9899865984916687,0.9812691807746887,0.9812691807746887,0.9949776530265808,0.9944156408309937,0.9949776530265808,0.6453540921211243,0.9983575940132141,0.9949935078620911,0.9734426736831665,0.9877589344978333,0.9949776530265808,0.9949776530265808,0.9949776530265808,0.9949935078620911,0.9949935078620911,0.9949776530265808,0.9949776530265808,0.9949776530265808,0.9949776530265808,0.9949776530265808,0.9949935078620911,0.4590708017349243,0.9949935078620911,0.9949776530265808,0.9949776530265808,0.9949776530265808,0.9949776530265808,0.9949776530265808,0.9877589344978333,0.9949935078620911,0.9899865984916687,0.9949776530265808,0.9949776530265808,0.9949776530265808,0.4993610680103302,0.9949776530265808,0.9949776530265808,0.9949776530265808,0.991950273513794,0.9912847280502319,0.9949776530265808,0.4168139696121216,0.9949776530265808,0.9983575940132141,0.9949776530265808,0.9949776530265808,0.9928017854690552,0.9912847280502319,0.9949776530265808,0.9944156408309937,0.9949776530265808,0.9909676909446716,0.9928017854690552,0.9949776530265808,0.9877589344978333,0.9877589344978333,0.9949776530265808,0.9949776530265808,0.991950273513794,0.4993610680103302,0.9949776530265808,0.9949776530265808,0.9949776530265808,0.9912847280502319,0.9912847280502319,0.991950273513794,0.9949776530265808,0.991950273513794,0.9949776530265808,0.9949776530265808,0.4993610680103302,0.9949776530265808,0.9877589344978333,0.9949776530265808,0.991950273513794,0.9949776530265808,0.9949776530265808,0.9949776530265808,0.9949776530265808,0.9949776530265808,0.9949776530265808,0.9949776530265808,0.9949776530265808,0.9899865984916687,0.9928017854690552,0.9949776530265808,0.9949776530265808,0.9877589344978333,0.9949776530265808,0.991950273513794,0.9944156408309937,0.9949776530265808,0.9928017854690552,0.9949776530265808,0.9812691807746887,0.9812691807746887,0.9949776530265808,0.9949935078620911,0.4993610680103302,0.9949776530265808,0.9949776530265808,0.9949776530265808,0.9949776530265808,0.9949776530265808,0.9912847280502319,0.9912847280502319,0.9949776530265808,0.9949935078620911,0.9949776530265808,0.4858924150466919,0.991950273513794,0.9912847280502319,0.9912847280502319,0.9400070905685425,0.9949776530265808,0.9949776530265808,0.9949776530265808,0.9949776530265808,0.9949776530265808,0.9912847280502319,0.9949776530265808,0.9949776530265808,0.4858924150466919,0.9774979948997498,0.9912847280502319,0.9944156408309937,0.9949776530265808,0.9949776530265808,0.9949776530265808,0.9949776530265808,0.9949776530265808,0.9928017854690552,0.9949776530265808,0.973313570022583,0.9949776530265808,0.9912847280502319,0.9949776530265808,0.9949935078620911,0.9949776530265808,0.9949776530265808,0.9949776530265808,0.9912847280502319,0.9949776530265808,0.9877589344978333,0.9877589344978333,0.991950273513794,0.9949776530265808,0.9812691807746887,0.9949935078620911,0.9944156408309937,0.9949776530265808,0.9949776530265808,0.9949776530265808,0.9949776530265808,0.9949776530265808,0.9949776530265808,0.9949776530265808,0.9949776530265808,0.9949776530265808,0.9949776530265808,0.38161787390708923,0.9949776530265808,0.9912847280502319,0.4858924150466919,0.9949776530265808,0.9949776530265808,0.9734426736831665,0.9949935078620911,0.9928017854690552,0.6453540921211243,0.9949776530265808,0.9949776530265808,0.9949776530265808,0.9949935078620911,0.9949776530265808,0.991950273513794,0.9949776530265808,0.9167501926422119,0.991950273513794,0.9949776530265808,0.4168139696121216,0.9899865984916687,0.9949776530265808,0.9949776530265808,0.9928017854690552,0.9912847280502319,0.9949776530265808,0.9949776530265808,0.9944156408309937,0.9928017854690552,0.9949776530265808,0.9983575940132141,0.9949776530265808,0.9949776530265808,0.9949776530265808,0.9949935078620911,0.9812691807746887,0.9949776530265808,0.9949935078620911,0.9949776530265808,0.9949776530265808,0.9949776530265808,0.9949776530265808,0.9587629437446594,0.9949776530265808,0.9944156408309937,0.988655686378479,0.9812691807746887,0.9812691807746887,0.991950273513794,0.9949776530265808,0.9949776530265808,0.9949776530265808,0.9949776530265808,0.4993610680103302,0.9949776530265808,0.9949776530265808,0.9949776530265808,0.9949776530265808,0.4858924150466919,0.9899865984916687,0.9949776530265808,0.9949776530265808,0.9949776530265808,0.9949776530265808,0.9949776530265808,0.9949776530265808,0.9949776530265808,0.9812691807746887,0.9960852861404419,0.9949776530265808,0.9919754862785339,0.9949776530265808,0.9949776530265808,0.9912847280502319],\"xaxis\":\"x\",\"yaxis\":\"y\",\"type\":\"histogram\"}],                        {\"template\":{\"data\":{\"histogram2dcontour\":[{\"type\":\"histogram2dcontour\",\"colorbar\":{\"outlinewidth\":0,\"ticks\":\"\"},\"colorscale\":[[0.0,\"#0d0887\"],[0.1111111111111111,\"#46039f\"],[0.2222222222222222,\"#7201a8\"],[0.3333333333333333,\"#9c179e\"],[0.4444444444444444,\"#bd3786\"],[0.5555555555555556,\"#d8576b\"],[0.6666666666666666,\"#ed7953\"],[0.7777777777777778,\"#fb9f3a\"],[0.8888888888888888,\"#fdca26\"],[1.0,\"#f0f921\"]]}],\"choropleth\":[{\"type\":\"choropleth\",\"colorbar\":{\"outlinewidth\":0,\"ticks\":\"\"}}],\"histogram2d\":[{\"type\":\"histogram2d\",\"colorbar\":{\"outlinewidth\":0,\"ticks\":\"\"},\"colorscale\":[[0.0,\"#0d0887\"],[0.1111111111111111,\"#46039f\"],[0.2222222222222222,\"#7201a8\"],[0.3333333333333333,\"#9c179e\"],[0.4444444444444444,\"#bd3786\"],[0.5555555555555556,\"#d8576b\"],[0.6666666666666666,\"#ed7953\"],[0.7777777777777778,\"#fb9f3a\"],[0.8888888888888888,\"#fdca26\"],[1.0,\"#f0f921\"]]}],\"heatmap\":[{\"type\":\"heatmap\",\"colorbar\":{\"outlinewidth\":0,\"ticks\":\"\"},\"colorscale\":[[0.0,\"#0d0887\"],[0.1111111111111111,\"#46039f\"],[0.2222222222222222,\"#7201a8\"],[0.3333333333333333,\"#9c179e\"],[0.4444444444444444,\"#bd3786\"],[0.5555555555555556,\"#d8576b\"],[0.6666666666666666,\"#ed7953\"],[0.7777777777777778,\"#fb9f3a\"],[0.8888888888888888,\"#fdca26\"],[1.0,\"#f0f921\"]]}],\"heatmapgl\":[{\"type\":\"heatmapgl\",\"colorbar\":{\"outlinewidth\":0,\"ticks\":\"\"},\"colorscale\":[[0.0,\"#0d0887\"],[0.1111111111111111,\"#46039f\"],[0.2222222222222222,\"#7201a8\"],[0.3333333333333333,\"#9c179e\"],[0.4444444444444444,\"#bd3786\"],[0.5555555555555556,\"#d8576b\"],[0.6666666666666666,\"#ed7953\"],[0.7777777777777778,\"#fb9f3a\"],[0.8888888888888888,\"#fdca26\"],[1.0,\"#f0f921\"]]}],\"contourcarpet\":[{\"type\":\"contourcarpet\",\"colorbar\":{\"outlinewidth\":0,\"ticks\":\"\"}}],\"contour\":[{\"type\":\"contour\",\"colorbar\":{\"outlinewidth\":0,\"ticks\":\"\"},\"colorscale\":[[0.0,\"#0d0887\"],[0.1111111111111111,\"#46039f\"],[0.2222222222222222,\"#7201a8\"],[0.3333333333333333,\"#9c179e\"],[0.4444444444444444,\"#bd3786\"],[0.5555555555555556,\"#d8576b\"],[0.6666666666666666,\"#ed7953\"],[0.7777777777777778,\"#fb9f3a\"],[0.8888888888888888,\"#fdca26\"],[1.0,\"#f0f921\"]]}],\"surface\":[{\"type\":\"surface\",\"colorbar\":{\"outlinewidth\":0,\"ticks\":\"\"},\"colorscale\":[[0.0,\"#0d0887\"],[0.1111111111111111,\"#46039f\"],[0.2222222222222222,\"#7201a8\"],[0.3333333333333333,\"#9c179e\"],[0.4444444444444444,\"#bd3786\"],[0.5555555555555556,\"#d8576b\"],[0.6666666666666666,\"#ed7953\"],[0.7777777777777778,\"#fb9f3a\"],[0.8888888888888888,\"#fdca26\"],[1.0,\"#f0f921\"]]}],\"mesh3d\":[{\"type\":\"mesh3d\",\"colorbar\":{\"outlinewidth\":0,\"ticks\":\"\"}}],\"scatter\":[{\"marker\":{\"line\":{\"color\":\"#283442\"}},\"type\":\"scatter\"}],\"parcoords\":[{\"type\":\"parcoords\",\"line\":{\"colorbar\":{\"outlinewidth\":0,\"ticks\":\"\"}}}],\"scatterpolargl\":[{\"type\":\"scatterpolargl\",\"marker\":{\"colorbar\":{\"outlinewidth\":0,\"ticks\":\"\"}}}],\"bar\":[{\"error_x\":{\"color\":\"#f2f5fa\"},\"error_y\":{\"color\":\"#f2f5fa\"},\"marker\":{\"line\":{\"color\":\"rgb(17,17,17)\",\"width\":0.5},\"pattern\":{\"fillmode\":\"overlay\",\"size\":10,\"solidity\":0.2}},\"type\":\"bar\"}],\"scattergeo\":[{\"type\":\"scattergeo\",\"marker\":{\"colorbar\":{\"outlinewidth\":0,\"ticks\":\"\"}}}],\"scatterpolar\":[{\"type\":\"scatterpolar\",\"marker\":{\"colorbar\":{\"outlinewidth\":0,\"ticks\":\"\"}}}],\"histogram\":[{\"marker\":{\"pattern\":{\"fillmode\":\"overlay\",\"size\":10,\"solidity\":0.2}},\"type\":\"histogram\"}],\"scattergl\":[{\"marker\":{\"line\":{\"color\":\"#283442\"}},\"type\":\"scattergl\"}],\"scatter3d\":[{\"type\":\"scatter3d\",\"line\":{\"colorbar\":{\"outlinewidth\":0,\"ticks\":\"\"}},\"marker\":{\"colorbar\":{\"outlinewidth\":0,\"ticks\":\"\"}}}],\"scattermapbox\":[{\"type\":\"scattermapbox\",\"marker\":{\"colorbar\":{\"outlinewidth\":0,\"ticks\":\"\"}}}],\"scatterternary\":[{\"type\":\"scatterternary\",\"marker\":{\"colorbar\":{\"outlinewidth\":0,\"ticks\":\"\"}}}],\"scattercarpet\":[{\"type\":\"scattercarpet\",\"marker\":{\"colorbar\":{\"outlinewidth\":0,\"ticks\":\"\"}}}],\"carpet\":[{\"aaxis\":{\"endlinecolor\":\"#A2B1C6\",\"gridcolor\":\"#506784\",\"linecolor\":\"#506784\",\"minorgridcolor\":\"#506784\",\"startlinecolor\":\"#A2B1C6\"},\"baxis\":{\"endlinecolor\":\"#A2B1C6\",\"gridcolor\":\"#506784\",\"linecolor\":\"#506784\",\"minorgridcolor\":\"#506784\",\"startlinecolor\":\"#A2B1C6\"},\"type\":\"carpet\"}],\"table\":[{\"cells\":{\"fill\":{\"color\":\"#506784\"},\"line\":{\"color\":\"rgb(17,17,17)\"}},\"header\":{\"fill\":{\"color\":\"#2a3f5f\"},\"line\":{\"color\":\"rgb(17,17,17)\"}},\"type\":\"table\"}],\"barpolar\":[{\"marker\":{\"line\":{\"color\":\"rgb(17,17,17)\",\"width\":0.5},\"pattern\":{\"fillmode\":\"overlay\",\"size\":10,\"solidity\":0.2}},\"type\":\"barpolar\"}],\"pie\":[{\"automargin\":true,\"type\":\"pie\"}]},\"layout\":{\"autotypenumbers\":\"strict\",\"colorway\":[\"#636efa\",\"#EF553B\",\"#00cc96\",\"#ab63fa\",\"#FFA15A\",\"#19d3f3\",\"#FF6692\",\"#B6E880\",\"#FF97FF\",\"#FECB52\"],\"font\":{\"color\":\"#f2f5fa\"},\"hovermode\":\"closest\",\"hoverlabel\":{\"align\":\"left\"},\"paper_bgcolor\":\"rgb(17,17,17)\",\"plot_bgcolor\":\"rgb(17,17,17)\",\"polar\":{\"bgcolor\":\"rgb(17,17,17)\",\"angularaxis\":{\"gridcolor\":\"#506784\",\"linecolor\":\"#506784\",\"ticks\":\"\"},\"radialaxis\":{\"gridcolor\":\"#506784\",\"linecolor\":\"#506784\",\"ticks\":\"\"}},\"ternary\":{\"bgcolor\":\"rgb(17,17,17)\",\"aaxis\":{\"gridcolor\":\"#506784\",\"linecolor\":\"#506784\",\"ticks\":\"\"},\"baxis\":{\"gridcolor\":\"#506784\",\"linecolor\":\"#506784\",\"ticks\":\"\"},\"caxis\":{\"gridcolor\":\"#506784\",\"linecolor\":\"#506784\",\"ticks\":\"\"}},\"coloraxis\":{\"colorbar\":{\"outlinewidth\":0,\"ticks\":\"\"}},\"colorscale\":{\"sequential\":[[0.0,\"#0d0887\"],[0.1111111111111111,\"#46039f\"],[0.2222222222222222,\"#7201a8\"],[0.3333333333333333,\"#9c179e\"],[0.4444444444444444,\"#bd3786\"],[0.5555555555555556,\"#d8576b\"],[0.6666666666666666,\"#ed7953\"],[0.7777777777777778,\"#fb9f3a\"],[0.8888888888888888,\"#fdca26\"],[1.0,\"#f0f921\"]],\"sequentialminus\":[[0.0,\"#0d0887\"],[0.1111111111111111,\"#46039f\"],[0.2222222222222222,\"#7201a8\"],[0.3333333333333333,\"#9c179e\"],[0.4444444444444444,\"#bd3786\"],[0.5555555555555556,\"#d8576b\"],[0.6666666666666666,\"#ed7953\"],[0.7777777777777778,\"#fb9f3a\"],[0.8888888888888888,\"#fdca26\"],[1.0,\"#f0f921\"]],\"diverging\":[[0,\"#8e0152\"],[0.1,\"#c51b7d\"],[0.2,\"#de77ae\"],[0.3,\"#f1b6da\"],[0.4,\"#fde0ef\"],[0.5,\"#f7f7f7\"],[0.6,\"#e6f5d0\"],[0.7,\"#b8e186\"],[0.8,\"#7fbc41\"],[0.9,\"#4d9221\"],[1,\"#276419\"]]},\"xaxis\":{\"gridcolor\":\"#283442\",\"linecolor\":\"#506784\",\"ticks\":\"\",\"title\":{\"standoff\":15},\"zerolinecolor\":\"#283442\",\"automargin\":true,\"zerolinewidth\":2},\"yaxis\":{\"gridcolor\":\"#283442\",\"linecolor\":\"#506784\",\"ticks\":\"\",\"title\":{\"standoff\":15},\"zerolinecolor\":\"#283442\",\"automargin\":true,\"zerolinewidth\":2},\"scene\":{\"xaxis\":{\"backgroundcolor\":\"rgb(17,17,17)\",\"gridcolor\":\"#506784\",\"linecolor\":\"#506784\",\"showbackground\":true,\"ticks\":\"\",\"zerolinecolor\":\"#C8D4E3\",\"gridwidth\":2},\"yaxis\":{\"backgroundcolor\":\"rgb(17,17,17)\",\"gridcolor\":\"#506784\",\"linecolor\":\"#506784\",\"showbackground\":true,\"ticks\":\"\",\"zerolinecolor\":\"#C8D4E3\",\"gridwidth\":2},\"zaxis\":{\"backgroundcolor\":\"rgb(17,17,17)\",\"gridcolor\":\"#506784\",\"linecolor\":\"#506784\",\"showbackground\":true,\"ticks\":\"\",\"zerolinecolor\":\"#C8D4E3\",\"gridwidth\":2}},\"shapedefaults\":{\"line\":{\"color\":\"#f2f5fa\"}},\"annotationdefaults\":{\"arrowcolor\":\"#f2f5fa\",\"arrowhead\":0,\"arrowwidth\":1},\"geo\":{\"bgcolor\":\"rgb(17,17,17)\",\"landcolor\":\"rgb(17,17,17)\",\"subunitcolor\":\"#506784\",\"showland\":true,\"showlakes\":true,\"lakecolor\":\"rgb(17,17,17)\"},\"title\":{\"x\":0.05},\"updatemenudefaults\":{\"bgcolor\":\"#506784\",\"borderwidth\":0},\"sliderdefaults\":{\"bgcolor\":\"#C8D4E3\",\"borderwidth\":1,\"bordercolor\":\"rgb(17,17,17)\",\"tickwidth\":0},\"mapbox\":{\"style\":\"dark\"}}},\"xaxis\":{\"anchor\":\"y\",\"domain\":[0.0,1.0],\"title\":{\"text\":\"value\"}},\"yaxis\":{\"anchor\":\"x\",\"domain\":[0.0,1.0],\"title\":{\"text\":\"count\"}},\"legend\":{\"title\":{\"text\":\"variable\"},\"tracegroupgap\":0},\"margin\":{\"t\":60},\"barmode\":\"relative\"},                        {\"responsive\": true}                    ).then(function(){\n",
       "                            \n",
       "var gd = document.getElementById('3e09d9c6-e134-4d6b-a76f-7c853bf31c6e');\n",
       "var x = new MutationObserver(function (mutations, observer) {{\n",
       "        var display = window.getComputedStyle(gd).display;\n",
       "        if (!display || display === 'none') {{\n",
       "            console.log([gd, 'removed!']);\n",
       "            Plotly.purge(gd);\n",
       "            observer.disconnect();\n",
       "        }}\n",
       "}});\n",
       "\n",
       "// Listen for the removal of the full notebook cells\n",
       "var notebookContainer = gd.closest('#notebook-container');\n",
       "if (notebookContainer) {{\n",
       "    x.observe(notebookContainer, {childList: true});\n",
       "}}\n",
       "\n",
       "// Listen for the clearing of the current output cell\n",
       "var outputEl = gd.closest('.output');\n",
       "if (outputEl) {{\n",
       "    x.observe(outputEl, {childList: true});\n",
       "}}\n",
       "\n",
       "                        })                };                });            </script>        </div>"
      ]
     },
     "metadata": {},
     "output_type": "display_data"
    }
   ],
   "execution_count": 73
  },
  {
   "metadata": {},
   "cell_type": "markdown",
   "source": [
    "## Recommendations\n",
    "\n",
    "The following strategies could be implemented based on the prepared model:\n",
    "1. Proactively identifying checkouts with higher likelihood of a late return and informing the customer.\n",
    "2. Providing more frequent reminders to customers for checkouts with higher likelihood of late returns."
   ],
   "id": "8bd922d6802c5cc5"
  },
  {
   "metadata": {
    "ExecuteTime": {
     "end_time": "2024-09-04T08:31:18.133333Z",
     "start_time": "2024-09-04T08:31:18.124965Z"
    }
   },
   "cell_type": "code",
   "source": "",
   "id": "b9e89141e2886f2c",
   "outputs": [],
   "execution_count": null
  }
 ],
 "metadata": {
  "kernelspec": {
   "display_name": "Python 3",
   "language": "python",
   "name": "python3"
  },
  "language_info": {
   "codemirror_mode": {
    "name": "ipython",
    "version": 2
   },
   "file_extension": ".py",
   "mimetype": "text/x-python",
   "name": "python",
   "nbconvert_exporter": "python",
   "pygments_lexer": "ipython2",
   "version": "2.7.6"
  }
 },
 "nbformat": 4,
 "nbformat_minor": 5
}
